{
 "cells": [
  {
   "cell_type": "markdown",
   "metadata": {
    "collapsed": true
   },
   "source": [
    "#### 1. Basic - initial value, conversion between different types - upcast or downcast\n",
    "- 1.1 int, float, double, boolean\n",
    "- 1.2 char, string - slice, substring, index, trim, conversion between numeric value and string\n",
    "- 1.3 print and string format\n",
    "- 1.4 operators, enum\n",
    "- 1.5 math\n",
    "\n",
    "#### 2. for, while, do, if-else, continue, break - range, xrange\n",
    "\n",
    "#### 3. Data Structures:\n",
    "* initialize, length, assign value, add, delete, insert, visit, index, slice, compare (ref, empty), sort\n",
    "- 3.1 containers - list, map/dictionary, set, tuple, triple -- in or not in\n",
    "- 3.2 iterator - range, xrange, linespace\n",
    "\n",
    "#### 4. I/O and sys:\n",
    "- 4.1 File - I/O, append, buffer, lines, with block\n",
    "- 4.2 directory - list files, file names, delte/create file, exists, create new directory\n",
    "- 4.3 wilder chars, regular expression, zip, mapreduce\n",
    "\n",
    "#### 5. Object Oriented programming:\n",
    "- 5.1 function - lambda, arguments, return types, comments\n",
    "- 5.2 class - abstract class & interface/protocol, class attribute & instance attribute, toString, compare\n",
    "- 5.3 hashable, tostring, compare, iterable/iterator, try-exception-raise\n",
    "- 5.4 object serialization or deserialization\n",
    "- 5.5 module & packages & naming conventions\n",
    "- 5.6 import & requirements\n",
    "\n",
    "#### 6. Advanced:\n",
    "- 6.1 Mathematics\n",
    " - 6.1.1 matrix\n",
    " - 6.1.2 optimization\n",
    " - 6.1.3 statistics - random numbers generator, sampling, distribution\n",
    " - 6.1.4 numpy, pandas\n",
    "\n",
    "- 6.2 Machine Learning\n",
    " - 6.2.1 classification, clustering, recommendation, ranking\n",
    " - 6.2.2 reinforcement learning\n",
    " - 6.2.3 deep learning\n",
    " - 6.2.4 hyperparameter tuning - bayesian optimization\n",
    " - 6.2.5 scipy, sigopt\n",
    "\n",
    "- 6.3 Chart Plot\n",
    " - 6.3.1 scatter plot, histogram, lines - axis, legend, title, coloring, tick and grid\n",
    " - 6.3.2 matplotlib, pandas\n",
    "\n",
    "- 6.4 Jupyter Notebook\n",
    " - 6.4.1 Markdown Syntax\n",
    " - 6.4.2 Embeded Language: python, java, c/c++\n",
    " - 6.4.3 LaTex\n",
    " - 6.4.4 Magics"
   ]
  },
  {
   "cell_type": "markdown",
   "metadata": {},
   "source": [
    "** import packages **"
   ]
  },
  {
   "cell_type": "code",
   "execution_count": 100,
   "metadata": {
    "collapsed": true
   },
   "outputs": [],
   "source": [
    "import os\n",
    "import sys\n",
    "import pickle\n",
    "\n",
    "import pandas as pd\n",
    "import numpy as np\n",
    "import matplotlib.pyplot as plt\n",
    "\n",
    "import tensorflow as tf\n",
    "\n",
    "%matplotlib inline"
   ]
  },
  {
   "cell_type": "code",
   "execution_count": 29,
   "metadata": {},
   "outputs": [
    {
     "name": "stdout",
     "output_type": "stream",
     "text": [
      "01234\n"
     ]
    },
    {
     "data": {
      "text/plain": [
       "tuple"
      ]
     },
     "execution_count": 29,
     "metadata": {},
     "output_type": "execute_result"
    }
   ],
   "source": [
    "## string concat\n",
    "s = \"\"\n",
    "for i in range(5):\n",
    "    s += str(i) ## int -> string\n",
    "\n",
    "print(s) ## print will auto-append a new line char '\\n'\n",
    "\n",
    "## tuple\n",
    "a = s[0], s[-5], s[-2]\n",
    "type(a) ## gives the type of a variable"
   ]
  },
  {
   "cell_type": "code",
   "execution_count": 33,
   "metadata": {},
   "outputs": [
    {
     "data": {
      "text/plain": [
       "4"
      ]
     },
     "execution_count": 33,
     "metadata": {},
     "output_type": "execute_result"
    }
   ],
   "source": [
    "int(a[2]) + 1 ## string -> int"
   ]
  },
  {
   "cell_type": "markdown",
   "metadata": {},
   "source": [
    "*** How to create empty {list, tuple, dict, string}? ***"
   ]
  },
  {
   "cell_type": "code",
   "execution_count": 43,
   "metadata": {},
   "outputs": [
    {
     "name": "stdout",
     "output_type": "stream",
     "text": [
      "<class 'list'>\n",
      "<class 'tuple'>\n",
      "<class 'dict'>\n",
      "<class 'int'>\n",
      "<class 'float'>\n",
      "<class 'str'>\n",
      "<class 'bool'>\n"
     ]
    }
   ],
   "source": [
    "b = ([], (), {}, 0, 0.2, '', True)\n",
    "for i in range(len(b)):\n",
    "    print(type(b[i]))"
   ]
  },
  {
   "cell_type": "markdown",
   "metadata": {},
   "source": [
    "*** how to evaluate whether a list, tuple or dict, string is empty? ***"
   ]
  },
  {
   "cell_type": "code",
   "execution_count": 55,
   "metadata": {},
   "outputs": [
    {
     "name": "stdout",
     "output_type": "stream",
     "text": [
      "[] is empty.\n",
      "() is empty.\n",
      "{} is empty.\n",
      "0 is empty.\n",
      "0.2 is not empty.\n",
      " is empty.\n",
      "True is not empty.\n"
     ]
    }
   ],
   "source": [
    "for i in range(len(b)):\n",
    "    if not b[i]: ## special way to know whether it's empty\n",
    "        print(str(b[i]) + \" is empty.\")\n",
    "    else:\n",
    "        print(str(b[i]) + \" is not empty.\")"
   ]
  },
  {
   "cell_type": "markdown",
   "metadata": {},
   "source": [
    "** Useful numpy.linespace to generate a sequence with a fixed width **"
   ]
  },
  {
   "cell_type": "code",
   "execution_count": 5,
   "metadata": {},
   "outputs": [
    {
     "name": "stdout",
     "output_type": "stream",
     "text": [
      "10\n",
      "20\n",
      "30\n",
      "40\n",
      "50\n",
      "60\n",
      "70\n",
      "80\n",
      "90\n",
      "100\n"
     ]
    },
    {
     "data": {
      "text/plain": [
       "numpy.ndarray"
      ]
     },
     "execution_count": 5,
     "metadata": {},
     "output_type": "execute_result"
    }
   ],
   "source": [
    "# np.linspace(start, stop, num=50, endpoint=True, retstep=False, dtype=None)[source]\n",
    "x = np.linspace(10, 100, num=10, endpoint=True)\n",
    "for i in x:\n",
    "    print(int(i))\n",
    "type(x)"
   ]
  },
  {
   "cell_type": "markdown",
   "metadata": {},
   "source": [
    "** [Hashable in Python](http://stackoverflow.com/questions/14535730/what-do-you-mean-by-hashable-in-python) **\n",
    "> All of Python’s immutable built-in objects are hashable, while no mutable containers \n",
    "> (such as *lists* or *dictionaries*) are. Objects which are instances of user-defined \n",
    "> classes are hashable by default; they all compare unequal, and their hash value is their id()."
   ]
  },
  {
   "cell_type": "code",
   "execution_count": 12,
   "metadata": {},
   "outputs": [
    {
     "name": "stdout",
     "output_type": "stream",
     "text": [
      "False\n"
     ]
    }
   ],
   "source": [
    "s1 = \"it's great\"\n",
    "s2 = \"it's great\"  ## s2 = s1\n",
    "print(hash(s1) == hash(s2))"
   ]
  },
  {
   "cell_type": "code",
   "execution_count": 13,
   "metadata": {},
   "outputs": [
    {
     "data": {
      "text/plain": [
       "{'i': 433611154635708497, 'u': 3049833569042992159}"
      ]
     },
     "execution_count": 13,
     "metadata": {},
     "output_type": "execute_result"
    }
   ],
   "source": [
    "t = {'i':hash('i'), 'u':hash('u')}\n",
    "t"
   ]
  },
  {
   "cell_type": "code",
   "execution_count": 27,
   "metadata": {},
   "outputs": [
    {
     "name": "stdout",
     "output_type": "stream",
     "text": [
      "i 433611154635708497\n",
      "u 3049833569042992159\n"
     ]
    }
   ],
   "source": [
    "for k,v in t.items():\n",
    "    print(k, v)"
   ]
  },
  {
   "cell_type": "code",
   "execution_count": 40,
   "metadata": {},
   "outputs": [
    {
     "data": {
      "text/plain": [
       "[9, True]"
      ]
     },
     "execution_count": 40,
     "metadata": {},
     "output_type": "execute_result"
    }
   ],
   "source": [
    "l = [1, 9, '2', True]\n",
    "l[1:4:2]"
   ]
  },
  {
   "cell_type": "code",
   "execution_count": 46,
   "metadata": {},
   "outputs": [
    {
     "data": {
      "text/plain": [
       "[1, 9, '2', True]"
      ]
     },
     "execution_count": 46,
     "metadata": {},
     "output_type": "execute_result"
    }
   ],
   "source": [
    "l.reverse()\n",
    "l"
   ]
  },
  {
   "cell_type": "code",
   "execution_count": 48,
   "metadata": {},
   "outputs": [
    {
     "data": {
      "text/plain": [
       "[9, 2, 0]"
      ]
     },
     "execution_count": 48,
     "metadata": {},
     "output_type": "execute_result"
    }
   ],
   "source": [
    "b = [2, 9, 0]\n",
    "b.sort()\n",
    "b.reverse()\n",
    "b"
   ]
  },
  {
   "cell_type": "code",
   "execution_count": 57,
   "metadata": {},
   "outputs": [
    {
     "name": "stdout",
     "output_type": "stream",
     "text": [
      "True False -1 5 2 [\"it's\", 'great']\n"
     ]
    }
   ],
   "source": [
    "print('it' in s1, 'we' in s1, s1.find('he'), s1.rfind('g'), s1.count('t'), s1.split(' '))"
   ]
  },
  {
   "cell_type": "code",
   "execution_count": 60,
   "metadata": {},
   "outputs": [
    {
     "name": "stdout",
     "output_type": "stream",
     "text": [
      "before:  welcome to python\n",
      "after:welcome to python\n"
     ]
    }
   ],
   "source": [
    "s3 = \"  welcome to python\"\n",
    "## trim() function\n",
    "print(\"before:\" + s3)\n",
    "print(\"after:\" + s3.strip())"
   ]
  },
  {
   "cell_type": "code",
   "execution_count": 61,
   "metadata": {},
   "outputs": [
    {
     "name": "stdout",
     "output_type": "stream",
     "text": [
      "eggs and spam\n"
     ]
    }
   ],
   "source": [
    "print('{1} and {0}'.format('spam', 'eggs'))"
   ]
  },
  {
   "cell_type": "code",
   "execution_count": 63,
   "metadata": {},
   "outputs": [
    {
     "name": "stdout",
     "output_type": "stream",
     "text": [
      "10\n",
      "0,c0\n",
      "1,c1\n",
      "2,c2\n",
      "3,c3\n",
      "4,c4\n",
      "5,c5\n",
      "6,c6\n",
      "7,c7\n",
      "8,c8\n",
      "9,c9\n",
      "10,10,10\n",
      "1,7,9,4,2,1,0,6,5,8,3\n",
      "1,5,2,7,1,4,9,3,8,0,6\n",
      "1,5,2,7,8,6,0,3,4,9,1\n",
      "1,9,7,6,2,5,8,4,1,0,3\n",
      "1,3,8,4,2,6,5,9,7,0,1\n",
      "1,0,4,3,5,7,2,8,6,9,1\n",
      "1,9,7,5,0,2,4,1,6,8,3\n",
      "1,3,2,6,1,5,7,4,8,9,0\n",
      "1,7,0,3,9,6,4,2,1,5,8\n",
      "1,5,4,8,7,9,2,1,3,6,0\n"
     ]
    }
   ],
   "source": [
    "source = \"/Users/chjiang/GitHub/csc/soc-3-hardcase/m10n10-1.csv\"\n",
    "with open(source, 'r') as f:\n",
    "    for line in f:\n",
    "        print(line, end = \"\") ## without newline"
   ]
  },
  {
   "cell_type": "markdown",
   "metadata": {},
   "source": [
    "** Reading lines and skip some of them **"
   ]
  },
  {
   "cell_type": "code",
   "execution_count": 69,
   "metadata": {},
   "outputs": [
    {
     "name": "stdout",
     "output_type": "stream",
     "text": [
      "1,7,9,4,2,1,0,6,5,8,3\n",
      "1,5,2,7,1,4,9,3,8,0,6\n",
      "1,5,2,7,8,6,0,3,4,9,1\n",
      "1,9,7,6,2,5,8,4,1,0,3\n",
      "1,3,8,4,2,6,5,9,7,0,1\n",
      "1,0,4,3,5,7,2,8,6,9,1\n",
      "1,9,7,5,0,2,4,1,6,8,3\n",
      "1,3,2,6,1,5,7,4,8,9,0\n",
      "1,7,0,3,9,6,4,2,1,5,8\n",
      "1,5,4,8,7,9,2,1,3,6,0\n"
     ]
    }
   ],
   "source": [
    "with open(source, 'r') as f:\n",
    "    m = int(f.readline())\n",
    "    for _ in range(m + 1):\n",
    "        next(f)          ## skip lines, f is an iterator\n",
    "    for line in f:\n",
    "        print(line, end = \"\") ## without newline"
   ]
  },
  {
   "cell_type": "code",
   "execution_count": 83,
   "metadata": {},
   "outputs": [],
   "source": [
    "profile = {}\n",
    "with open(source, 'r') as f:\n",
    "    m = int(f.readline())\n",
    "    for _ in range(m + 1):\n",
    "        next(f)          ## skip lines, f is an iterator\n",
    "    for line in f:\n",
    "        fields = [int(c) for c in line.split(\",\")]\n",
    "        pref = tuple(fields[1:]) ## change list to tuple such that it's hashable\n",
    "        profile[pref] = fields[0] ## add item to dict"
   ]
  },
  {
   "cell_type": "code",
   "execution_count": 84,
   "metadata": {},
   "outputs": [
    {
     "data": {
      "text/plain": [
       "{(0, 4, 3, 5, 7, 2, 8, 6, 9, 1): 1,\n",
       " (3, 2, 6, 1, 5, 7, 4, 8, 9, 0): 1,\n",
       " (3, 8, 4, 2, 6, 5, 9, 7, 0, 1): 1,\n",
       " (5, 2, 7, 1, 4, 9, 3, 8, 0, 6): 1,\n",
       " (5, 2, 7, 8, 6, 0, 3, 4, 9, 1): 1,\n",
       " (5, 4, 8, 7, 9, 2, 1, 3, 6, 0): 1,\n",
       " (7, 0, 3, 9, 6, 4, 2, 1, 5, 8): 1,\n",
       " (7, 9, 4, 2, 1, 0, 6, 5, 8, 3): 1,\n",
       " (9, 7, 5, 0, 2, 4, 1, 6, 8, 3): 1,\n",
       " (9, 7, 6, 2, 5, 8, 4, 1, 0, 3): 1}"
      ]
     },
     "execution_count": 84,
     "metadata": {},
     "output_type": "execute_result"
    }
   ],
   "source": [
    "profile"
   ]
  },
  {
   "cell_type": "code",
   "execution_count": 85,
   "metadata": {},
   "outputs": [
    {
     "data": {
      "text/plain": [
       "((0, 4, 3, 5, 7, 2, 8, 6, 9, 1), 1)"
      ]
     },
     "execution_count": 85,
     "metadata": {},
     "output_type": "execute_result"
    }
   ],
   "source": [
    "next(iter(profile.items())) ## iteratively get access to all items"
   ]
  },
  {
   "cell_type": "code",
   "execution_count": 86,
   "metadata": {},
   "outputs": [
    {
     "data": {
      "text/plain": [
       "{(0, 4, 3, 5, 7, 2, 8, 6, 9, 1): 1,\n",
       " (3, 2, 6, 1, 5, 7, 4, 8, 9, 0): 1,\n",
       " (3, 8, 4, 2, 6, 5, 9, 7, 0, 1): 1,\n",
       " (5, 2, 7, 1, 4, 9, 3, 8, 0, 6): 1,\n",
       " (5, 2, 7, 8, 6, 0, 3, 4, 9, 1): 1,\n",
       " (5, 4, 8, 7, 9, 2, 1, 3, 6, 0): 1,\n",
       " (7, 0, 3, 9, 6, 4, 2, 1, 5, 8): 1,\n",
       " (7, 9, 4, 2, 1, 0, 6, 5, 8, 3): 1,\n",
       " (9, 7, 5, 0, 2, 4, 1, 6, 8, 3): 1,\n",
       " (9, 7, 6, 2, 5, 8, 4, 1, 0, 3): 1}"
      ]
     },
     "execution_count": 86,
     "metadata": {},
     "output_type": "execute_result"
    }
   ],
   "source": [
    "profile"
   ]
  },
  {
   "cell_type": "code",
   "execution_count": 98,
   "metadata": {},
   "outputs": [],
   "source": [
    "a, b, c = \"123\"; d, e, f = [2, 'w', True]"
   ]
  },
  {
   "cell_type": "code",
   "execution_count": 99,
   "metadata": {},
   "outputs": [
    {
     "data": {
      "text/plain": [
       "('3', 'w')"
      ]
     },
     "execution_count": 99,
     "metadata": {},
     "output_type": "execute_result"
    }
   ],
   "source": [
    "c, e"
   ]
  },
  {
   "cell_type": "code",
   "execution_count": 102,
   "metadata": {},
   "outputs": [
    {
     "name": "stdout",
     "output_type": "stream",
     "text": [
      "[2, 1, 9, 43]\n"
     ]
    }
   ],
   "source": [
    "ll = [2,1,9]\n",
    "ll.append(43)\n",
    "print(ll)"
   ]
  },
  {
   "cell_type": "markdown",
   "metadata": {},
   "source": [
    "1. list all files under given directory, get files' names using os.path\n",
    "```python\n",
    "import glob\n",
    "import os\n",
    "\n",
    "source = \"/Users/chjiang/GitHub/*\"\n",
    "for file in glob.glob(source):\n",
    "    print(os.path.basename(file)) ## glob.glob: absolute path of files -> os.path.basename: file name\n",
    "```\n",
    "\n",
    "2. directory of current python file, its name and its parent\n",
    "```python\n",
    "import os\n",
    "\n",
    "# file name\n",
    "print(os.path.basename(__file__))\n",
    "# absolute path\n",
    "path = os.path.abspath(__file__) \n",
    "print(path)\n",
    "# directory name of ABSOLUTE PATH\n",
    "print(os.path.dirname(path))\n",
    "```"
   ]
  },
  {
   "cell_type": "markdown",
   "metadata": {},
   "source": [
    "** write string to file, read lines from file, remove file **"
   ]
  },
  {
   "cell_type": "code",
   "execution_count": 112,
   "metadata": {},
   "outputs": [
    {
     "name": "stdout",
     "output_type": "stream",
     "text": [
      "hello\n",
      "what?\n"
     ]
    }
   ],
   "source": [
    "source = \"/Users/chjiang/GitHub/csc/temp.txt\"\n",
    "with open(source, \"w+\") as file:\n",
    "    file.write(\"hello\\n\")\n",
    "    file.write(\"what?\\n\")\n",
    "\n",
    "with open(source, \"r\") as file:\n",
    "    for line in file:\n",
    "        print(line, end = \"\")\n",
    "\n",
    "if os.path.exists(source):\n",
    "#    print(os.remove(source))\n",
    "    os.rename(source, source + \"-2\")"
   ]
  },
  {
   "cell_type": "code",
   "execution_count": 115,
   "metadata": {},
   "outputs": [
    {
     "data": {
      "text/plain": [
       "5"
      ]
     },
     "execution_count": 115,
     "metadata": {},
     "output_type": "execute_result"
    }
   ],
   "source": [
    "a = [1, 4, 9, 0, 9]\n",
    "len(a)"
   ]
  },
  {
   "cell_type": "markdown",
   "metadata": {},
   "source": [
    "** Tranform a list to a set **"
   ]
  },
  {
   "cell_type": "code",
   "execution_count": 118,
   "metadata": {},
   "outputs": [
    {
     "data": {
      "text/plain": [
       "{0, 1, 4, 9}"
      ]
     },
     "execution_count": 118,
     "metadata": {},
     "output_type": "execute_result"
    }
   ],
   "source": [
    "set(a) ## sorted set"
   ]
  },
  {
   "cell_type": "code",
   "execution_count": 123,
   "metadata": {},
   "outputs": [
    {
     "data": {
      "text/plain": [
       "True"
      ]
     },
     "execution_count": 123,
     "metadata": {},
     "output_type": "execute_result"
    }
   ],
   "source": [
    "len(a) == 5 and len(set(a)) == 4"
   ]
  },
  {
   "cell_type": "markdown",
   "metadata": {
    "collapsed": true
   },
   "source": [
    "*** Set operations ***"
   ]
  },
  {
   "cell_type": "code",
   "execution_count": 10,
   "metadata": {
    "collapsed": true
   },
   "outputs": [],
   "source": [
    "s1 = set(['a', 'c', 'd', 'b']) # list -> set\n",
    "s2 = set(('b', 'c', 'e', 'b')) # tuple -> set\n",
    "s3 = set(['b', 'c'])\n",
    "s4 = set(('b', 'c', 'e'))"
   ]
  },
  {
   "cell_type": "code",
   "execution_count": 12,
   "metadata": {},
   "outputs": [
    {
     "data": {
      "text/plain": [
       "({'a', 'b', 'c', 'd', 'e'},\n",
       " {'b', 'c'},\n",
       " {'a', 'd'},\n",
       " {'a', 'd', 'e'},\n",
       " True,\n",
       " True,\n",
       " False,\n",
       " True)"
      ]
     },
     "execution_count": 12,
     "metadata": {},
     "output_type": "execute_result"
    }
   ],
   "source": [
    "# union, intersection, difference, symmetric difference, subset, equal, true subset\n",
    "(s1 | s2, s1 & s2, s1 - s2, s1 ^ s2, s3 <= s1, s4 == s2, s4 < s2, s4 <= s2) "
   ]
  },
  {
   "cell_type": "code",
   "execution_count": 13,
   "metadata": {},
   "outputs": [
    {
     "name": "stdout",
     "output_type": "stream",
     "text": [
      "({'c', 'a', 'e', 'd', 'b'}, {'b', 'c'}, {'a', 'd'}, {'e', 'd', 'a'})\n",
      "(True, False, True)\n"
     ]
    }
   ],
   "source": [
    "# equivalent functions\n",
    "print((s1.union(s2), s1.intersection(s2), s1.difference(s2), s1.symmetric_difference(s2)))\n",
    "print((s3.issubset(s1), s4.isdisjoint(s2), s4.issubset(s2)))"
   ]
  },
  {
   "cell_type": "code",
   "execution_count": 15,
   "metadata": {},
   "outputs": [
    {
     "data": {
      "text/plain": [
       "(True, False)"
      ]
     },
     "execution_count": 15,
     "metadata": {},
     "output_type": "execute_result"
    }
   ],
   "source": [
    "## membership\n",
    "'a' in s1, 'ag' in s2"
   ]
  },
  {
   "cell_type": "markdown",
   "metadata": {},
   "source": [
    "*** Priority Queue ***"
   ]
  },
  {
   "cell_type": "code",
   "execution_count": 16,
   "metadata": {
    "collapsed": true
   },
   "outputs": [],
   "source": [
    "from queue import PriorityQueue"
   ]
  },
  {
   "cell_type": "code",
   "execution_count": 40,
   "metadata": {},
   "outputs": [
    {
     "name": "stdout",
     "output_type": "stream",
     "text": [
      "False True 2\n"
     ]
    }
   ],
   "source": [
    " # if maxsize=0, the priority queue will be infinity\n",
    "q1 = PriorityQueue(maxsize=2)\n",
    "q1.put((1, \"a\"))\n",
    "q1.put((0, \"b\"))\n",
    "print(q1.empty(), q1.full(), q1.maxsize)"
   ]
  },
  {
   "cell_type": "code",
   "execution_count": 57,
   "metadata": {},
   "outputs": [
    {
     "name": "stdout",
     "output_type": "stream",
     "text": [
      "False False 0\n"
     ]
    }
   ],
   "source": [
    "# add elements into quque\n",
    "q2 = PriorityQueue()\n",
    "q2.put((1, \"a\"))\n",
    "q2.put((0, \"b\"))\n",
    "q2.put((9, 'e'))\n",
    "q2.put((-1, 'e'))\n",
    "print(q2.empty(), q2.full(), q2.maxsize)"
   ]
  },
  {
   "cell_type": "code",
   "execution_count": 58,
   "metadata": {},
   "outputs": [
    {
     "name": "stdout",
     "output_type": "stream",
     "text": [
      "(-1, 'e')\n",
      "(0, 'b')\n",
      "(1, 'a')\n",
      "(9, 'e')\n"
     ]
    }
   ],
   "source": [
    "# gets acess to elements in queue, it also remove elements from queue\n",
    "while not q2.empty():\n",
    "    print(q2.get())"
   ]
  },
  {
   "cell_type": "code",
   "execution_count": 64,
   "metadata": {
    "collapsed": true
   },
   "outputs": [],
   "source": [
    "class State(object):\n",
    "    def __init__(self, val):\n",
    "        self.val = val\n",
    "    \n",
    "    def __lt__(self, other):\n",
    "        return self.val[0] < other.val[0]\n",
    "    \n",
    "    def __str__(self):\n",
    "        return self.val.__str__()"
   ]
  },
  {
   "cell_type": "code",
   "execution_count": 77,
   "metadata": {},
   "outputs": [
    {
     "name": "stdout",
     "output_type": "stream",
     "text": [
      "Before state3: [19, 100]\n",
      "peel:[0, 2, 4]\n",
      "After state3: [100, 100]\n",
      "peel:[100, 100]\n"
     ]
    }
   ],
   "source": [
    "val1 = [0, 2, 4]\n",
    "state1 = State(val1)\n",
    "val2 = [90, 110]\n",
    "state2 = State(val2)\n",
    "val3 = [19, 100]\n",
    "state3 = State(val3)\n",
    "\n",
    "print(\"Before state3: \" + str(state3))\n",
    "\n",
    "q = PriorityQueue()\n",
    "q.put(state1)\n",
    "q.put(state2)\n",
    "q.put(state3)\n",
    "\n",
    "print(\"peel:\" + str(q.get()))\n",
    "\n",
    "val3[0] = 100\n",
    "## the change affects the state, but does not changes the priority queue\n",
    "print(\"After state3: \" + str(state3))\n",
    "\n",
    "print(\"peel:\" + str(q.get()))"
   ]
  },
  {
   "cell_type": "code",
   "execution_count": 78,
   "metadata": {
    "collapsed": true
   },
   "outputs": [],
   "source": [
    "v = [0, 9, 0, 9, 2, 91, 2]"
   ]
  },
  {
   "cell_type": "code",
   "execution_count": 82,
   "metadata": {},
   "outputs": [
    {
     "data": {
      "text/plain": [
       "6"
      ]
     },
     "execution_count": 82,
     "metadata": {},
     "output_type": "execute_result"
    }
   ],
   "source": [
    "v.index(2, 5)"
   ]
  },
  {
   "cell_type": "markdown",
   "metadata": {},
   "source": [
    "*** Timing *** It's an example to compute the $\\pi$ value from a series approximation:\n",
    "$\\pi = \\sqrt{12} \\sum\\limits_{i=0}^\\infty \\frac{1}{(2 i + 1) 3^i}$"
   ]
  },
  {
   "cell_type": "code",
   "execution_count": 105,
   "metadata": {},
   "outputs": [
    {
     "name": "stdout",
     "output_type": "stream",
     "text": [
      "PI =  3.141592653589794\n",
      "Elapsed: 0.11220011999830604s\n"
     ]
    },
    {
     "data": {
      "image/png": "[encoded data removed]",
      "text/plain": [
       "<matplotlib.figure.Figure at 0x1075c66a0>"
      ]
     },
     "metadata": {},
     "output_type": "display_data"
    }
   ],
   "source": [
    "import time\n",
    "import math\n",
    "import numpy as np\n",
    "import matplotlib.pyplot as plt\n",
    "%matplotlib inline\n",
    "\n",
    "def compute_pi(max_i):\n",
    "    diff = []\n",
    "    value = 0.0\n",
    "    sgn = -1\n",
    "    fact = 1.0\n",
    "    for i in range(max_i):\n",
    "        sgn *= -1\n",
    "        value += sgn * fact / (2 * i + 1)\n",
    "        fact /= 3.0\n",
    "        diff.append(2 * math.sqrt(3) * value - math.pi)\n",
    "    plt.plot(np.array(range(max_i)), np.array(diff))\n",
    "    return 2 * math.sqrt(3) * value\n",
    "\n",
    "begin = time.perf_counter()\n",
    "max_i = 100\n",
    "pi = compute_pi(max_i)\n",
    "end = time.perf_counter()\n",
    "print(\"PI = \", str(pi))\n",
    "print(\"Elapsed: \" + str((end - begin)) + \"s\")"
   ]
  },
  {
   "cell_type": "markdown",
   "metadata": {},
   "source": [
    "*** argmin, argmax, get_rank ***"
   ]
  },
  {
   "cell_type": "code",
   "execution_count": 150,
   "metadata": {},
   "outputs": [],
   "source": [
    "def argmax(x):\n",
    "    \"\"\"\n",
    "    retrieval all positions with element = max value in x\n",
    "    :param x: list or tuple\n",
    "    :return: all positions with element = max element in x\n",
    "    \"\"\"\n",
    "    max_v = max(x)\n",
    "    ret = []\n",
    "    for i in range(len(x)):\n",
    "        if x[i] == max_v:\n",
    "            ret.append(i)\n",
    "    return ret\n",
    "\n",
    "def argmin(x):\n",
    "    \"\"\"\n",
    "    retrieval all positions with element = min value in x\n",
    "    :param x: list or tuple\n",
    "    :return: all positions with element = min element in x\n",
    "    \"\"\"\n",
    "    min_v = min(x)\n",
    "    ret = []\n",
    "    for i in range(len(x)):\n",
    "        if x[i] == min_v:\n",
    "            ret.append(i)\n",
    "    return ret\n",
    "\n",
    "def get_rank(x, ascend=True):\n",
    "    \"\"\"\n",
    "    ranking positions of elements in x in ascending or descending order\n",
    "    :param x: list or tuple\n",
    "    :param ascend: boolean\n",
    "    :return: ranking positions of elements in x\n",
    "    \"\"\"\n",
    "    inv = 1\n",
    "    if not ascend:\n",
    "        inv = -1\n",
    "\n",
    "    return sorted(range(len(x)), key=lambda i : inv * x[i])"
   ]
  },
  {
   "cell_type": "code",
   "execution_count": 151,
   "metadata": {},
   "outputs": [
    {
     "data": {
      "text/plain": [
       "[0, 4, 1, 5, 2, 3]"
      ]
     },
     "execution_count": 151,
     "metadata": {},
     "output_type": "execute_result"
    }
   ],
   "source": [
    "x = [1,2,4,4,1,3]\n",
    "get_rank(x)"
   ]
  },
  {
   "cell_type": "code",
   "execution_count": 152,
   "metadata": {},
   "outputs": [
    {
     "data": {
      "text/plain": [
       "[0, 4]"
      ]
     },
     "execution_count": 152,
     "metadata": {},
     "output_type": "execute_result"
    }
   ],
   "source": [
    "argmin(x)"
   ]
  },
  {
   "cell_type": "code",
   "execution_count": 153,
   "metadata": {},
   "outputs": [
    {
     "data": {
      "text/plain": [
       "[2, 3]"
      ]
     },
     "execution_count": 153,
     "metadata": {},
     "output_type": "execute_result"
    }
   ],
   "source": [
    "argmax(x)"
   ]
  },
  {
   "cell_type": "markdown",
   "metadata": {},
   "source": [
    "*** __init__ method is used when the class is called to initialize the instance, while the __call__ method is called when the instance is called ***"
   ]
  },
  {
   "cell_type": "code",
   "execution_count": 218,
   "metadata": {},
   "outputs": [],
   "source": [
    "class CLS(object):\n",
    "    def __init__(self, a, b):\n",
    "        self.a = a\n",
    "        self.b = b\n",
    "\n",
    "    def __call__(self, a, b):\n",
    "        self.a = a\n",
    "        self.b = b\n",
    "        print((a,b))"
   ]
  },
  {
   "cell_type": "code",
   "execution_count": 222,
   "metadata": {},
   "outputs": [
    {
     "name": "stdout",
     "output_type": "stream",
     "text": [
      "(6, 7)\n"
     ]
    }
   ],
   "source": [
    "cls = CLS(2, 1) # initialize a CLS instance\n",
    "cls(6, 7) # call instance with parameters"
   ]
  },
  {
   "cell_type": "markdown",
   "metadata": {},
   "source": [
    "*** difference between python2 and python3 in division operation between two integers ***\n",
    "```python\n",
    "a = 1\n",
    "b = 2\n",
    "\n",
    "a/b = 0   # python2\n",
    "a/b = 0.5 # python3\n",
    "```\n",
    "\n",
    "To avoid possible issue, just multiply the numerator (number above the line in a fraction) by 1.0, with no\n",
    "need to change the denominator (number below the line in a fraction), i.e.\n",
    "\n",
    "```python\n",
    "a * 1.0 / b = 0.5 # works for both python2 and python3\n",
    "```"
   ]
  },
  {
   "cell_type": "markdown",
   "metadata": {},
   "source": [
    "*** Different ways to remove an item from a list ***"
   ]
  },
  {
   "cell_type": "code",
   "execution_count": 168,
   "metadata": {
    "collapsed": true
   },
   "outputs": [],
   "source": [
    "lst = [8, 29, -1, 0, 89]"
   ]
  },
  {
   "cell_type": "code",
   "execution_count": 169,
   "metadata": {},
   "outputs": [
    {
     "name": "stdout",
     "output_type": "stream",
     "text": [
      "rmv 0:[8, 29, -1, 89]\n",
      "pop:[8, 29, -1]\n",
      "pop(1): [8, -1]\n",
      "del lst[0]: [-1]\n"
     ]
    }
   ],
   "source": [
    "lst.remove(0) # remove 0 from lst\n",
    "print(\"rmv 0:\" + str(lst))\n",
    "\n",
    "lst.pop() # remove from lst the last element\n",
    "print(\"pop:\" + str(lst))\n",
    "\n",
    "lst.pop(1) # remove from lst the element with the index\n",
    "print(\"pop(1): \" + str(lst))\n",
    "\n",
    "del lst[0] # remove from lst the first element\n",
    "print(\"del lst[0]: \" + str(lst))"
   ]
  },
  {
   "cell_type": "markdown",
   "metadata": {
    "collapsed": true
   },
   "source": [
    "** With ** block is used to close some stream to release the assigned resource, \n",
    "e.g. file stream when open a file, or Tensorflow Session, the stream will be \n",
    "closed automatically at the end of the **with** block.\n",
    "\n",
    "```python\n",
    "with open('stv.csv', 'w+') as file:\n",
    "    file.write('stv is a popular voting rule.')\n",
    "    \n",
    "import Tensorflow as tf\n",
    "\n",
    "x = tf.constant([[3., 3.]])\n",
    "y = tf.constant([[2.],[2.]])\n",
    "product = tf.matmul(x, y)\n",
    "\n",
    "with tf.Session() as sess:\n",
    "    result = sess.run([product])\n",
    "    print(result)\n",
    "```"
   ]
  },
  {
   "cell_type": "markdown",
   "metadata": {
    "collapsed": true
   },
   "source": [
    "*** Difference between list append and extend ***"
   ]
  },
  {
   "cell_type": "code",
   "execution_count": 191,
   "metadata": {},
   "outputs": [
    {
     "name": "stdout",
     "output_type": "stream",
     "text": [
      "[1, 2, 4, [5, 0]]\n",
      "[1, 2, 4, [5, 0], 8, 9]\n"
     ]
    }
   ],
   "source": [
    "a = [1, 2, 4]\n",
    "a.append([5, 0])\n",
    "print(a)\n",
    "\n",
    "a.extend([8, 9])\n",
    "print(a)"
   ]
  },
  {
   "cell_type": "markdown",
   "metadata": {},
   "source": [
    "*** Evaluate whether a key exists in dict using in ***"
   ]
  },
  {
   "cell_type": "code",
   "execution_count": 195,
   "metadata": {},
   "outputs": [
    {
     "data": {
      "text/plain": [
       "False"
      ]
     },
     "execution_count": 195,
     "metadata": {},
     "output_type": "execute_result"
    }
   ],
   "source": [
    "d = {(2, 4, 5) : 1, (2, 5) : 2}\n",
    "(2, 5, 3) in d"
   ]
  },
  {
   "cell_type": "markdown",
   "metadata": {},
   "source": [
    "*** Merging of two dict ***"
   ]
  },
  {
   "cell_type": "code",
   "execution_count": 198,
   "metadata": {},
   "outputs": [
    {
     "data": {
      "text/plain": [
       "{(1, 3): 2, (2, 4, 5): 1, (2, 5): 2}"
      ]
     },
     "execution_count": 198,
     "metadata": {},
     "output_type": "execute_result"
    }
   ],
   "source": [
    "e = {(1, 3) : 2}\n",
    "d.update(e)\n",
    "d"
   ]
  },
  {
   "cell_type": "code",
   "execution_count": 200,
   "metadata": {},
   "outputs": [
    {
     "data": {
      "text/plain": [
       "{(1, 3): 2, (2, 4, 5): 1, (2, 5): 2}"
      ]
     },
     "execution_count": 200,
     "metadata": {},
     "output_type": "execute_result"
    }
   ],
   "source": [
    "e = {(1, 2) : 4}\n",
    "d"
   ]
  },
  {
   "cell_type": "code",
   "execution_count": 211,
   "metadata": {},
   "outputs": [
    {
     "data": {
      "text/plain": [
       "False"
      ]
     },
     "execution_count": 211,
     "metadata": {},
     "output_type": "execute_result"
    }
   ],
   "source": [
    "a = {}\n",
    "'a' in a"
   ]
  },
  {
   "cell_type": "markdown",
   "metadata": {
    "collapsed": true
   },
   "source": [
    "***module import and __init__.py ***\n",
    "__init__.py file is trying to direct the Python importer to a module under a directory.\n",
    "If you want to include the module under certain directory, you have to give an __init__.py\n",
    "file, even the file is empty, otherwise, the module under the directory may fail to import."
   ]
  },
  {
   "cell_type": "code",
   "execution_count": 3,
   "metadata": {},
   "outputs": [],
   "source": [
    "source = \"/users/chjiang/github/csc/temp.txt\"\n",
    "with open(source, \"w+\") as output:\n",
    "    output.write(\"lhel\" + \"\\n\")\n",
    "    output.write(\"lskdf\" + \"\\n\")"
   ]
  },
  {
   "cell_type": "code",
   "execution_count": 4,
   "metadata": {},
   "outputs": [
    {
     "data": {
      "text/plain": [
       "{1, 2}"
      ]
     },
     "execution_count": 4,
     "metadata": {},
     "output_type": "execute_result"
    }
   ],
   "source": [
    "s = set()\n",
    "s.add(1)\n",
    "s.add(2)\n",
    "s"
   ]
  },
  {
   "cell_type": "code",
   "execution_count": 5,
   "metadata": {},
   "outputs": [
    {
     "data": {
      "text/plain": [
       "set"
      ]
     },
     "execution_count": 5,
     "metadata": {},
     "output_type": "execute_result"
    }
   ],
   "source": [
    "type(s)"
   ]
  },
  {
   "cell_type": "code",
   "execution_count": 6,
   "metadata": {},
   "outputs": [
    {
     "data": {
      "text/plain": [
       "[1, 2]"
      ]
     },
     "execution_count": 6,
     "metadata": {},
     "output_type": "execute_result"
    }
   ],
   "source": [
    "sorted(s)"
   ]
  },
  {
   "cell_type": "markdown",
   "metadata": {},
   "source": [
    "*** shell basic: kill background process nohup ***\n",
    "- search the PID of the last process executed\n",
    "    echo $!\n",
    "- kill the process using the pid\n",
    "    kill -9 pid"
   ]
  },
  {
   "cell_type": "markdown",
   "metadata": {},
   "source": [
    "*** serialization and deserialization using pickle ***\n",
    "- export/import serialized object to/from file\n",
    " - pickle.dump(obj, file)\n",
    " - pickle.load(file)\n",
    "- serialized/deserialized an object\n",
    " - bt = pickle.dumps(obj)\n",
    " - obj = pickle.loads(bt)\n",
    "- If a pickle file contains multiple appended object, we can load them repeatedly until there is a EOF error:\n",
    "\n",
    "```python\n",
    "import pickle\n",
    "objs = []\n",
    "while 1:\n",
    "    try:\n",
    "        objs.append(pickle.load(f))\n",
    "    except EOFError:\n",
    "        break\n",
    "```"
   ]
  },
  {
   "cell_type": "code",
   "execution_count": 7,
   "metadata": {
    "collapsed": true
   },
   "outputs": [],
   "source": [
    "import pickle"
   ]
  },
  {
   "cell_type": "code",
   "execution_count": 40,
   "metadata": {},
   "outputs": [],
   "source": [
    "file = \"/users/chjiang/github/csc/temp.pkl\"\n",
    "profile = {\"C\" : 100, \"D\" : 90}\n",
    "pickle.dump(profile, open(file, \"wb\")) # write in binary"
   ]
  },
  {
   "cell_type": "code",
   "execution_count": 37,
   "metadata": {},
   "outputs": [],
   "source": [
    "prof = pickle.load(open(file, \"rb\"))"
   ]
  },
  {
   "cell_type": "code",
   "execution_count": 13,
   "metadata": {},
   "outputs": [
    {
     "name": "stdout",
     "output_type": "stream",
     "text": [
      "{'a': 100, 'b': 90}\n"
     ]
    }
   ],
   "source": [
    "print(prof)"
   ]
  },
  {
   "cell_type": "code",
   "execution_count": 23,
   "metadata": {
    "collapsed": true
   },
   "outputs": [],
   "source": [
    "#*** record log using logging ***\n",
    "\n",
    "import logging\n",
    "\n",
    "# create logger with name `HoRseHouR`\n",
    "logger = logging.getLogger('HoRseHouR')\n",
    "logger.setLevel(logging.DEBUG)\n",
    "\n",
    "# create file handler which logs even debug messages\n",
    "file = \"/users/chjiang/github/csc/temp.log\"\n",
    "fh = logging.FileHandler(file)\n",
    "fh.setLevel(logging.DEBUG)\n",
    "\n",
    "# create formatter\n",
    "formatter = logging.Formatter('%(asctime)s - %(name)s - %(levelname)s - %(message)s')\n",
    "# add the formmatter to the handlers\n",
    "fh.setFormatter(formatter)\n",
    "# add the handlers to the logger\n",
    "logger.addHandler(fh)\n",
    "\n",
    "# add information to the logger\n",
    "logger.info(\"I am riding and running\")\n",
    "logger.info(\"Look man, he fell off the horse. How hilarious! ;-)\")"
   ]
  },
  {
   "cell_type": "code",
   "execution_count": null,
   "metadata": {
    "collapsed": true
   },
   "outputs": [],
   "source": [
    "# open file and write its name and all lines\n",
    "with open(file, \"r\") as output:\n",
    "    print(output.name)\n",
    "    print(output.readline())\n",
    "    print(output.readline())\n",
    "    print(output.readline())"
   ]
  },
  {
   "cell_type": "code",
   "execution_count": 41,
   "metadata": {},
   "outputs": [
    {
     "data": {
      "text/plain": [
       "True"
      ]
     },
     "execution_count": 41,
     "metadata": {},
     "output_type": "execute_result"
    }
   ],
   "source": [
    "# delete file\n",
    "import os\n",
    "file = \"/users/chjiang/github/csc/temp.pkl\"\n",
    "os.path.exists(file)\n",
    "# os.remove(file)"
   ]
  },
  {
   "cell_type": "code",
   "execution_count": 27,
   "metadata": {},
   "outputs": [
    {
     "data": {
      "text/plain": [
       "'temp.log'"
      ]
     },
     "execution_count": 27,
     "metadata": {},
     "output_type": "execute_result"
    }
   ],
   "source": [
    "# basename\n",
    "os.path.basename(file)"
   ]
  },
  {
   "cell_type": "code",
   "execution_count": 42,
   "metadata": {
    "collapsed": true
   },
   "outputs": [],
   "source": [
    "import random"
   ]
  },
  {
   "cell_type": "code",
   "execution_count": 65,
   "metadata": {},
   "outputs": [
    {
     "data": {
      "text/plain": [
       "[20, 4, 3, 1]"
      ]
     },
     "execution_count": 65,
     "metadata": {},
     "output_type": "execute_result"
    }
   ],
   "source": [
    "# random sample without replacement, shuffle\n",
    "import random\n",
    "a = [1, 3, 4, 20]\n",
    "random.sample(a, 2)\n",
    "random.shuffle(a)\n",
    "a"
   ]
  },
  {
   "cell_type": "code",
   "execution_count": 37,
   "metadata": {},
   "outputs": [
    {
     "data": {
      "text/plain": [
       "False"
      ]
     },
     "execution_count": 37,
     "metadata": {},
     "output_type": "execute_result"
    }
   ],
   "source": [
    "a = [1, 23, 4]\n",
    "b = [1, 3, 4]\n",
    "a == b"
   ]
  },
  {
   "cell_type": "code",
   "execution_count": 24,
   "metadata": {},
   "outputs": [],
   "source": [
    "c = np.array(a) + np.array(b)"
   ]
  },
  {
   "cell_type": "code",
   "execution_count": 26,
   "metadata": {},
   "outputs": [
    {
     "data": {
      "text/plain": [
       "[1.0, 13.0, 4.0]"
      ]
     },
     "execution_count": 26,
     "metadata": {},
     "output_type": "execute_result"
    }
   ],
   "source": [
    "[sum(x)/2 for x in zip(a,b)]"
   ]
  },
  {
   "cell_type": "code",
   "execution_count": 29,
   "metadata": {},
   "outputs": [
    {
     "data": {
      "text/plain": [
       "<zip at 0x1073181c8>"
      ]
     },
     "execution_count": 29,
     "metadata": {},
     "output_type": "execute_result"
    }
   ],
   "source": [
    "zip(a,b)"
   ]
  },
  {
   "cell_type": "code",
   "execution_count": 38,
   "metadata": {},
   "outputs": [],
   "source": [
    "a[1:3] = b"
   ]
  },
  {
   "cell_type": "code",
   "execution_count": 39,
   "metadata": {},
   "outputs": [
    {
     "data": {
      "text/plain": [
       "[1, 1, 3, 4]"
      ]
     },
     "execution_count": 39,
     "metadata": {},
     "output_type": "execute_result"
    }
   ],
   "source": [
    "a"
   ]
  },
  {
   "cell_type": "code",
   "execution_count": 43,
   "metadata": {},
   "outputs": [],
   "source": [
    "b = [5,6]\n",
    "a.extend([1,2,1,4])"
   ]
  },
  {
   "cell_type": "code",
   "execution_count": 44,
   "metadata": {},
   "outputs": [
    {
     "data": {
      "text/plain": [
       "4"
      ]
     },
     "execution_count": 44,
     "metadata": {},
     "output_type": "execute_result"
    }
   ],
   "source": [
    "sum([e == 1 for e in a])"
   ]
  },
  {
   "cell_type": "code",
   "execution_count": 47,
   "metadata": {
    "collapsed": true
   },
   "outputs": [],
   "source": [
    "def onehot(x, k=10):\n",
    "    \"\"\"\n",
    "    Encode input elements with a one-hot vector\n",
    "\n",
    "    :param x: nonnegative input elements\n",
    "    :param int k: length of the code\n",
    "    :return: onehot code of length k\n",
    "    :rtype: list\n",
    "    \"\"\"\n",
    "    code = [0] * k\n",
    "    for i in x:\n",
    "        code[i] = 1\n",
    "    return code\n"
   ]
  },
  {
   "cell_type": "code",
   "execution_count": 48,
   "metadata": {},
   "outputs": [
    {
     "data": {
      "text/plain": [
       "[1, 1, 0, 0, 1, 1, 0, 0, 0, 0]"
      ]
     },
     "execution_count": 48,
     "metadata": {},
     "output_type": "execute_result"
    }
   ],
   "source": [
    "x = [0, 1, 4, 5]\n",
    "onehot(x)"
   ]
  },
  {
   "cell_type": "code",
   "execution_count": 57,
   "metadata": {},
   "outputs": [
    {
     "data": {
      "text/plain": [
       "{1: 4}"
      ]
     },
     "execution_count": 57,
     "metadata": {},
     "output_type": "execute_result"
    }
   ],
   "source": [
    "a = {1:2, 1:4}\n",
    "a"
   ]
  },
  {
   "cell_type": "code",
   "execution_count": 114,
   "metadata": {},
   "outputs": [
    {
     "name": "stdout",
     "output_type": "stream",
     "text": [
      "[1] [0, 1, 4, 5]                   [0, 1, 4, 5] [0, 9]    \n",
      "[1] [0, 1, 4, 5, 2]                [0, 1, 4, 5] [1, 9]    \n"
     ]
    }
   ],
   "source": [
    "print(\"{0:>2} {1:<30} {2:<2} {3:<10}\".format(str([1]), str(x), str(x), str([0,9])))\n",
    "print(\"{0:>2} {1:<30} {2:<2} {3:<10}\".format(str([1]), str(x+[2]), str(x), str([1,9])))"
   ]
  },
  {
   "cell_type": "code",
   "execution_count": 123,
   "metadata": {},
   "outputs": [
    {
     "data": {
      "text/plain": [
       "True"
      ]
     },
     "execution_count": 123,
     "metadata": {},
     "output_type": "execute_result"
    }
   ],
   "source": [
    "import sys\n",
    "-sys.float_info.min < 0"
   ]
  },
  {
   "cell_type": "code",
   "execution_count": 129,
   "metadata": {},
   "outputs": [
    {
     "data": {
      "text/plain": [
       "True"
      ]
     },
     "execution_count": 129,
     "metadata": {},
     "output_type": "execute_result"
    }
   ],
   "source": [
    "# minimum float\n",
    "-float('inf') < -sys.float_info.max"
   ]
  },
  {
   "cell_type": "code",
   "execution_count": 118,
   "metadata": {
    "collapsed": true
   },
   "outputs": [],
   "source": [
    "a, b, c = 1, 2, 0"
   ]
  },
  {
   "cell_type": "code",
   "execution_count": 131,
   "metadata": {},
   "outputs": [
    {
     "data": {
      "text/plain": [
       "False"
      ]
     },
     "execution_count": 131,
     "metadata": {},
     "output_type": "execute_result"
    }
   ],
   "source": [
    "not 2"
   ]
  },
  {
   "cell_type": "markdown",
   "metadata": {},
   "source": [
    "Tricks:\n",
    "\n",
    "1. pycharm indention - TAB (right) & SHIFT + TAB (left)\n",
    "\n",
    "2. r\"\\n\" will recognize it as two characters: backslash and n\n",
    "```python\n",
    "print(r\"\\n\")\n",
    "```"
   ]
  },
  {
   "cell_type": "code",
   "execution_count": 133,
   "metadata": {},
   "outputs": [
    {
     "data": {
      "text/plain": [
       "0.22941573387056174"
      ]
     },
     "execution_count": 133,
     "metadata": {},
     "output_type": "execute_result"
    }
   ],
   "source": [
    "1.0/np.sqrt(19)"
   ]
  },
  {
   "cell_type": "markdown",
   "metadata": {},
   "source": [
    "*** Learning Django ***\n",
    "0. version\n",
    "\n",
    " 0.1. python\n",
    "\n",
    "    ```python\n",
    "    print(django.get_version())\n",
    "    ```\n",
    " 0.2 command line\n",
    "    ```bash\n",
    "    python3 -m django --version\n",
    "    ```\n",
    "\n",
    "1. structure: all applications must be created following some specific Django conventions. Django has many utilities to create related directories and files automatically, such that we can focus on the core code.\n",
    "\n",
    "    1.1 djsite: a project container\n",
    "        \n",
    "    1.2 manage.py: a command line utility to interact with djsite\n",
    "        \n",
    "    1.3 djsite/settings.py: configuration file\n",
    "        \n",
    "        -- set up a database\n",
    "        \n",
    "    1.4 djsite/urls.py: the URL declarations for djsite\n",
    "        \n",
    "    1.5 djsite/wsgi.py: defines an entry-point for WSGI-compatible web servers to serve djsite\n",
    "        \n",
    "    1.6 djapp/models.py: creates models for application\n",
    "        \n",
    "    1.7 djapp/views.py: \n",
    "   \n",
    "    1.8 djapp/urls.py: add a url in urls.py for each djapp and connect it to djsite/urls.py with an include clause\n",
    "    \n",
    "    1.9 djapp/admin.py: interface to register and manage models\n",
    "    \n",
    "    1.10 djapp/templates\n",
    "    \n",
    "    1.11 djapp/migrations: propagate changes made to the models (adding a field, deleting a model) into the database\n",
    "\n",
    "2. utilities\n",
    "\n",
    "    2.1 create a Django project\n",
    "    ```bash\n",
    "    django-admin startproject djsite\n",
    "    ```\n",
    "\n",
    "    2.2 start the `Development` server\n",
    "    ```bash\n",
    "    python3 manage.py runserver\n",
    "    ```\n",
    "    2.3 create a new application\n",
    "    ```bash\n",
    "    python3 manage.py startapp djapp\n",
    "    ```\n"
   ]
  },
  {
   "cell_type": "markdown",
   "metadata": {},
   "source": [
    "#### bash basics\n",
    "\n",
    "- change directory: *** cd dir *** and *** cd ~ *** to get access to root\n",
    "\n",
    "- show current dir: *** pwd *** print current working dir\n",
    "\n",
    "- list all files: *** ls -alh ***\n",
    "\n",
    "- create new file: *** echo \"hello\" >> 1.txt *** or *** vim 1.txt ***\n",
    "\n",
    "- create dir: *** mkdir dir ***\n",
    "\n",
    "- copy file: *** cp a.txt b.txt ***\n",
    "\n",
    "- copy dir: *** cp -R dir1 dir2 *** or *** cp -n a b *** without overwritten\n",
    " \n",
    "- count number of files or lines or words:\n",
    "\n",
    " - *** find dir -type f | wc -l *** words (or lines) count\n",
    " \n",
    " - *** ls -l | wc -l a.txt *** number of lines or words, or size of the file\n",
    "\n",
    "- remove files: *** rm file.txt ***\n",
    "\n",
    "- remove directory: *** rm -r folder ***\n",
    "\n",
    "- rename or move: *** mv -f ./f1 ~/home/f2 ***\n",
    "\n",
    " - when moving lots of files\n",
    "\n",
    "```bash\n",
    "find . -name \"*txt\" -exec mv {} /new/place \\;\n",
    "```\n",
    "- open file with app: *** open a.log -a ultraedit ***\n",
    "\n",
    "- zip and unzip\n",
    " \n",
    " - zip: *** zip -r data.zip data/ *** \n",
    " \n",
    " - update: *** zip -r data.zip data2/1.txt ***\n",
    " \n",
    " - unzip: *** unzip data.zip ***\n",
    "\n",
    "- grep: searching and matching a regular expression, e.g. *** grep core *.txt *** searching from all txt files \"core\"\n",
    "-- g/re/p (globally search a regular expression and print)\n",
    "- concateenata and print files\n",
    "\n",
    " - *** cat 1.txt *** all\n",
    " \n",
    " - *** tail -n 1.txt *** last n lines\n",
    " \n",
    " - *** head -n 1.txt *** first n lines\n",
    "\n",
    "- list all current processes: *** ps ***\n",
    " \n",
    " - e.g. *** ps aux | grep `z` *** searching the Zombie processes\n",
    " \n",
    " - e.g. *** ps -ef | grep java *** searching all processes with name `java`\n",
    "\n",
    "- kill processes\n",
    "\n",
    " -  *** kill pid *** (by pid)\n",
    " \n",
    " - *** pkill -9 -u `id -u username` *** (by username)\n",
    "\n",
    "- check CPU usage: *** top ***\n",
    "\n",
    "- head meta for bash: *** #!/bin/bash ***\n",
    "\n",
    "- download webpages or files: *** curl -O http://www.horsehour.com/ home.html ***\n",
    "\n",
    "- free disk and used disk: *** df -H, du -hs ***\n",
    "\n",
    "- pipe: *** | *** piping and redirection, *** >> *** concatentate or overwrite \n",
    " \n",
    " - e.g. *** du -hs * | sort *** total Disk Usage of the directory in a Human reabible Summary mode\n",
    " \n",
    " - e.g. *** head -5 1.txt >> 2.txt *** append the first 5 lines of `1.txt` to `2.txt`\n",
    " \n",
    " - e.g. *** tail -n +2 -q a.txt >> b.txt ***  append from 2nd line to the end of file `a.txt` to `b.txt`\n",
    " \n",
    " - e.g. *** cat 1.txt 2.txt > 3.txt *** merge files `1.txt` and `2.txt` and output to file `3.txt` \n",
    "\n",
    "- vpn, ssh and scp\n",
    "\n",
    " - vpn connection: *** connect vpn.net.rpi.edu ***\n",
    " \n",
    " - ssh login a remote server: *** ssh username@host ***\n",
    " \n",
    "  - e.g. *** ssh jiang@blog.cs.rpi.edu ***\n",
    " \n",
    " - copy from remote to local: *** scp username@host:/src/1.py local/ ***\n",
    " \n",
    " - copy from local to remote: *** scp local/*.java username@host:/src/ ***\n",
    " \n",
    "  - e.g. *** scp 1.pdf jiang@sr.cs.rpi.edu:/home/ ***\n",
    "\n",
    "- nohup: Close a terminal without killing a running process, or move running processes to background. If standard output is the terminal, it will be redirected to `nohup.out`.\n",
    "\n",
    " - e.g. *** nohup java -jar horse.jar & ***\n",
    " \n",
    " - e.g. *** nohup sh run.sh & ***\n",
    " \n",
    " - e.g. *** nohup python3 stv.py & ***\n",
    " \n",
    " - detect the process: *** echo $! ***\n",
    " \n",
    "\n",
    "------------------------- Activate Auto-complete on Terminal ----------------------------------------\n",
    "\n",
    "1. check the current shell supported ```shell echo $SHELL ```\n",
    "\n",
    "2. if the supported shell is ***/bin/sh *** the smart auto-complete may be locked up, change the shell\n",
    "\n",
    "3. check the existence of `.bashrc`\n",
    "\n",
    "```bash\n",
    "chsh -s /bin/bash username\n",
    "chsh usermod -s /bin/bash username\n",
    "```\n",
    "\n",
    "----------------------- compile source code and execute code ----------------------------------------\n",
    "\n",
    " - C/C++: *** gcc -Wall -Werror main.c *** (compile) *** ./a.out *** (run)\n",
    " \n",
    " - GDB: All program to be debugged in gdb must be compiled by gcc with the -g option.\n",
    " \n",
    " - MPI: *** mpicc mpi.c *** (compile) *** mpiexec -n 5 ./a.out *** (run)\n",
    " \n",
    " - Java: *** javac main.java *** (compile) *** java main *** (run) or *** java -jar main.jar *** (exe jar)\n",
    " \n",
    " - Python: *** python stv.py *** (python2), *** python3 stv.py *** (python3)\n",
    " \n",
    " - Latex: *** pdflatex report.tex ***\n",
    " \n",
    "----------------------- Git --------------------\n",
    "\n",
    "1. Steps to create a new repository\n",
    "\n",
    "- 1.1. Github manually create a new repo with name, e.g. `drl`\n",
    "\n",
    "- 1.2. *** git clone https://github.com/horseour/drl.git *** clone the github project to local\n",
    "\n",
    " - git add *\n",
    " \n",
    " - git commit -a\n",
    " \n",
    " - git push -u origin master\n",
    "\n",
    "\n",
    "2. Create, delete a branch, and navigate between branches\n",
    "\n",
    " - 2.1: *** git branch bname *** create a new branch\n",
    "\n",
    " - 2.2: *** git branch -a *** list all branches (including all remote ones)\n",
    "\n",
    " - 2.3: *** git branch -d/-D bname *** delete an obsolete branch in safe mode/forcefully\n",
    "\n",
    " - 2.4: *** git push origin :bname *** delete a branch on remote server\n",
    "\n",
    " - 2.5: *** git branch -m newname *** rename current branch\n",
    "\n",
    " - 2.6: *** git checkout bname (or master) *** switch current branch and update the working directory to match\n",
    "\n",
    "3. Merge branches to master\n",
    "\n",
    " - 3.1: *** git merge branch1 branch2 *** merge branch1 and branch2 into CURRENT branch\n",
    "        \n",
    " - 3.2: *** git pull origin rep1 rep2 *** pulls in changes from the remote `rep1` and `rep2` branches\n",
    " \n",
    "\n",
    "----------------------- PipPy --------------------\n",
    "\n",
    "PipPy is a package manager used to install and manage software package in python.\n",
    "\n",
    "- pip install pkgname\n",
    "\n",
    "- pip install -r requirements.txt\n",
    "\n",
    "- pip install pkgname --upgrade\n",
    "\n",
    "- pip install pkgname -U\n",
    "\n",
    "- pip install git+https://github.com/horsehour.git\n",
    "\n",
    "- pip uninstall pkgname\n",
    "\n",
    "----------------------- Project Building --------------------\n",
    "\n",
    "1. Ant - `build.xml` default filename of build used by Ant. When you run `ant` without parameter, it will use the file to figure out what to do.\n",
    "\n",
    "2. Maven - `pom.xml` is the default filename to describe a maven project so that when you run `mvn compile`, it will use the file to build the project.\n",
    "\n",
    "3. Eclipse can import a project based on an Ant build file or a pom file, and create the appropriate `.project` and `.classpth`.\n",
    "\n",
    "4. UltraEdit: a word file (`.uew`) is a plain text configuration file that UE uses to highlight keywords in source code files. It also supports other features like code folding, brace matching, function listing and more."
   ]
  },
  {
   "cell_type": "code",
   "execution_count": 90,
   "metadata": {
    "scrolled": true
   },
   "outputs": [
    {
     "data": {
      "text/plain": [
       "str"
      ]
     },
     "execution_count": 90,
     "metadata": {},
     "output_type": "execute_result"
    }
   ],
   "source": [
    "import datetime\n",
    "type(datetime.datetime.now().strftime(\"%H:%M:%S.%f\"))"
   ]
  },
  {
   "cell_type": "code",
   "execution_count": null,
   "metadata": {
    "collapsed": true
   },
   "outputs": [],
   "source": [
    "%%bash\n",
    "cd ~/GitHub/"
   ]
  },
  {
   "cell_type": "code",
   "execution_count": 234,
   "metadata": {
    "collapsed": true
   },
   "outputs": [],
   "source": [
    "name = \"jiang.chunheng\""
   ]
  },
  {
   "cell_type": "code",
   "execution_count": 235,
   "metadata": {},
   "outputs": [
    {
     "data": {
      "text/plain": [
       "'Jiang.Chunheng'"
      ]
     },
     "execution_count": 235,
     "metadata": {},
     "output_type": "execute_result"
    }
   ],
   "source": [
    "name.title()"
   ]
  },
  {
   "cell_type": "code",
   "execution_count": 283,
   "metadata": {},
   "outputs": [],
   "source": [
    "import pandas as pd\n",
    "import matplotlib.pyplot as plt\n",
    "\n",
    "import tensorflow as tf\n",
    "from keras import backend as K\n",
    "from keras.models import Model\n",
    "from keras.optimizers import Adam\n",
    "from keras.layers import Dense, Input\n",
    "\n",
    "class Classifier(object):\n",
    "    def __init__(self):\n",
    "        self.lrc = 1E-3\n",
    "\n",
    "        self.ni = 4\n",
    "        self.no = 3\n",
    "\n",
    "        self.sess = tf.Session()\n",
    "        K.set_session(self.sess)\n",
    "\n",
    "        self.model = self.build()\n",
    "        self.sess.run(tf.global_variables_initializer())\n",
    "\n",
    "    def build(self):\n",
    "        state = Input(shape=[self.ni])\n",
    "        num_hidden = 200\n",
    "        h = Dense(num_hidden, activation='relu', kernel_initializer='random_uniform')(state)\n",
    "        h = Dense(num_hidden, activation='relu', kernel_initializer='random_uniform')(h)\n",
    "        h = Dense(num_hidden, activation='relu', kernel_initializer='random_uniform')(h)\n",
    "        o = Dense(self.no, activation='softmax', kernel_initializer='random_uniform')(h)\n",
    "        model = Model(inputs=state, outputs=o)\n",
    "        from keras import losses\n",
    "        model.compile(loss=losses.categorical_crossentropy, optimizer=Adam(self.lrc))\n",
    "        return model\n",
    "\n",
    "    def train(self, file, niter):\n",
    "        header = \"sepal_length,sepal_width,petal_length,petal_width,species\".split(\",\")\n",
    "        df = pd.read_csv(file, sep=\",\", names=header)\n",
    "        species = df[\"species\"][1:]\n",
    "        # one hot encoding\n",
    "        y = pd.get_dummies(species)\n",
    "        x = df.drop(labels=\"species\", axis=1)[1:]\n",
    "        # Pandas.DataFrame could be used as Numpy.ndarray\n",
    "        outcomes = np.zeros([niter, 2])\n",
    "        for i in range(niter):\n",
    "            loss = self.model.train_on_batch(x, y)\n",
    "            outcomes[i] = [i, loss]\n",
    "        records = pd.DataFrame(data=outcomes, columns=[\"iter\", \"loss\"])\n",
    "        plt.plot(records[\"iter\"],records[\"loss\"])\n",
    "        plt.show()\n",
    "        return self.model"
   ]
  },
  {
   "cell_type": "code",
   "execution_count": 282,
   "metadata": {
    "scrolled": false
   },
   "outputs": [
    {
     "data": {
      "image/png": "[encoded data removed]",
      "text/plain": [
       "<matplotlib.figure.Figure at 0x11f52de48>"
      ]
     },
     "metadata": {},
     "output_type": "display_data"
    },
    {
     "data": {
      "text/plain": [
       "<keras.engine.training.Model at 0x11e3902e8>"
      ]
     },
     "execution_count": 282,
     "metadata": {},
     "output_type": "execute_result"
    }
   ],
   "source": [
    "url=\"https://raw.githubusercontent.com/uiuc-cse/data-fa14/gh-pages/data/iris.csv\"\n",
    "cls = Classifier()\n",
    "cls.train(url, 100)"
   ]
  },
  {
   "cell_type": "code",
   "execution_count": 29,
   "metadata": {},
   "outputs": [],
   "source": [
    "source = \"/users/chjiang/github/stv/m10.valpred.10000.csv\"\n",
    "df = pd.read_csv(source, sep=\"\\t\", header=None)\n",
    "nr, nc = df.shape\n",
    "rewards = df.iloc[:,-1]"
   ]
  },
  {
   "cell_type": "code",
   "execution_count": 30,
   "metadata": {},
   "outputs": [
    {
     "data": {
      "text/plain": [
       "0.5288562255537982"
      ]
     },
     "execution_count": 30,
     "metadata": {},
     "output_type": "execute_result"
    }
   ],
   "source": [
    "sum([1 for a in list(rewards == 0) if a])/rewards.shape[0]"
   ]
  },
  {
   "cell_type": "code",
   "execution_count": 415,
   "metadata": {},
   "outputs": [
    {
     "data": {
      "text/html": [
       "<div>\n",
       "<style>\n",
       "    .dataframe thead tr:only-child th {\n",
       "        text-align: right;\n",
       "    }\n",
       "\n",
       "    .dataframe thead th {\n",
       "        text-align: left;\n",
       "    }\n",
       "\n",
       "    .dataframe tbody tr th {\n",
       "        vertical-align: top;\n",
       "    }\n",
       "</style>\n",
       "<table border=\"1\" class=\"dataframe\">\n",
       "  <thead>\n",
       "    <tr style=\"text-align: right;\">\n",
       "      <th></th>\n",
       "      <th>176</th>\n",
       "      <th>177</th>\n",
       "      <th>178</th>\n",
       "      <th>179</th>\n",
       "      <th>180</th>\n",
       "      <th>181</th>\n",
       "      <th>182</th>\n",
       "      <th>183</th>\n",
       "      <th>184</th>\n",
       "      <th>185</th>\n",
       "    </tr>\n",
       "  </thead>\n",
       "  <tbody>\n",
       "    <tr>\n",
       "      <th>count</th>\n",
       "      <td>230472.00000</td>\n",
       "      <td>230472.000000</td>\n",
       "      <td>230472.000000</td>\n",
       "      <td>230472.000000</td>\n",
       "      <td>230472.000000</td>\n",
       "      <td>230472.000000</td>\n",
       "      <td>230472.000000</td>\n",
       "      <td>230472.000000</td>\n",
       "      <td>230472.000000</td>\n",
       "      <td>230472.000000</td>\n",
       "    </tr>\n",
       "    <tr>\n",
       "      <th>mean</th>\n",
       "      <td>0.14804</td>\n",
       "      <td>0.142330</td>\n",
       "      <td>0.145250</td>\n",
       "      <td>0.145358</td>\n",
       "      <td>0.142542</td>\n",
       "      <td>0.148860</td>\n",
       "      <td>0.142347</td>\n",
       "      <td>0.143293</td>\n",
       "      <td>0.152956</td>\n",
       "      <td>0.144833</td>\n",
       "    </tr>\n",
       "    <tr>\n",
       "      <th>std</th>\n",
       "      <td>0.35514</td>\n",
       "      <td>0.349389</td>\n",
       "      <td>0.352353</td>\n",
       "      <td>0.352462</td>\n",
       "      <td>0.349606</td>\n",
       "      <td>0.355951</td>\n",
       "      <td>0.349406</td>\n",
       "      <td>0.350372</td>\n",
       "      <td>0.359946</td>\n",
       "      <td>0.351933</td>\n",
       "    </tr>\n",
       "    <tr>\n",
       "      <th>min</th>\n",
       "      <td>0.00000</td>\n",
       "      <td>0.000000</td>\n",
       "      <td>0.000000</td>\n",
       "      <td>0.000000</td>\n",
       "      <td>0.000000</td>\n",
       "      <td>0.000000</td>\n",
       "      <td>0.000000</td>\n",
       "      <td>0.000000</td>\n",
       "      <td>0.000000</td>\n",
       "      <td>0.000000</td>\n",
       "    </tr>\n",
       "    <tr>\n",
       "      <th>25%</th>\n",
       "      <td>0.00000</td>\n",
       "      <td>0.000000</td>\n",
       "      <td>0.000000</td>\n",
       "      <td>0.000000</td>\n",
       "      <td>0.000000</td>\n",
       "      <td>0.000000</td>\n",
       "      <td>0.000000</td>\n",
       "      <td>0.000000</td>\n",
       "      <td>0.000000</td>\n",
       "      <td>0.000000</td>\n",
       "    </tr>\n",
       "    <tr>\n",
       "      <th>50%</th>\n",
       "      <td>0.00000</td>\n",
       "      <td>0.000000</td>\n",
       "      <td>0.000000</td>\n",
       "      <td>0.000000</td>\n",
       "      <td>0.000000</td>\n",
       "      <td>0.000000</td>\n",
       "      <td>0.000000</td>\n",
       "      <td>0.000000</td>\n",
       "      <td>0.000000</td>\n",
       "      <td>0.000000</td>\n",
       "    </tr>\n",
       "    <tr>\n",
       "      <th>75%</th>\n",
       "      <td>0.00000</td>\n",
       "      <td>0.000000</td>\n",
       "      <td>0.000000</td>\n",
       "      <td>0.000000</td>\n",
       "      <td>0.000000</td>\n",
       "      <td>0.000000</td>\n",
       "      <td>0.000000</td>\n",
       "      <td>0.000000</td>\n",
       "      <td>0.000000</td>\n",
       "      <td>0.000000</td>\n",
       "    </tr>\n",
       "    <tr>\n",
       "      <th>max</th>\n",
       "      <td>1.00000</td>\n",
       "      <td>1.000000</td>\n",
       "      <td>1.000000</td>\n",
       "      <td>1.000000</td>\n",
       "      <td>1.000000</td>\n",
       "      <td>1.000000</td>\n",
       "      <td>1.000000</td>\n",
       "      <td>1.000000</td>\n",
       "      <td>1.000000</td>\n",
       "      <td>1.000000</td>\n",
       "    </tr>\n",
       "  </tbody>\n",
       "</table>\n",
       "</div>"
      ],
      "text/plain": [
       "                176            177            178            179  \\\n",
       "count  230472.00000  230472.000000  230472.000000  230472.000000   \n",
       "mean        0.14804       0.142330       0.145250       0.145358   \n",
       "std         0.35514       0.349389       0.352353       0.352462   \n",
       "min         0.00000       0.000000       0.000000       0.000000   \n",
       "25%         0.00000       0.000000       0.000000       0.000000   \n",
       "50%         0.00000       0.000000       0.000000       0.000000   \n",
       "75%         0.00000       0.000000       0.000000       0.000000   \n",
       "max         1.00000       1.000000       1.000000       1.000000   \n",
       "\n",
       "                 180            181            182            183  \\\n",
       "count  230472.000000  230472.000000  230472.000000  230472.000000   \n",
       "mean        0.142542       0.148860       0.142347       0.143293   \n",
       "std         0.349606       0.355951       0.349406       0.350372   \n",
       "min         0.000000       0.000000       0.000000       0.000000   \n",
       "25%         0.000000       0.000000       0.000000       0.000000   \n",
       "50%         0.000000       0.000000       0.000000       0.000000   \n",
       "75%         0.000000       0.000000       0.000000       0.000000   \n",
       "max         1.000000       1.000000       1.000000       1.000000   \n",
       "\n",
       "                 184            185  \n",
       "count  230472.000000  230472.000000  \n",
       "mean        0.152956       0.144833  \n",
       "std         0.359946       0.351933  \n",
       "min         0.000000       0.000000  \n",
       "25%         0.000000       0.000000  \n",
       "50%         0.000000       0.000000  \n",
       "75%         0.000000       0.000000  \n",
       "max         1.000000       1.000000  "
      ]
     },
     "execution_count": 415,
     "metadata": {},
     "output_type": "execute_result"
    }
   ],
   "source": [
    "source = \"/users/chjiang/github/stv/m10.winpred.csv\"\n",
    "df = pd.read_csv(source, sep=\"\\t\", header=None)\n",
    "nr, nc = df.shape\n",
    "winners = df.iloc[:,-10:]"
   ]
  },
  {
   "cell_type": "code",
   "execution_count": 420,
   "metadata": {},
   "outputs": [
    {
     "name": "stdout",
     "output_type": "stream",
     "text": [
      "0.0    196353\n",
      "1.0     34119\n",
      "Name: 176, dtype: int64\n",
      "0.0    197669\n",
      "1.0     32803\n",
      "Name: 177, dtype: int64\n",
      "0.0    196996\n",
      "1.0     33476\n",
      "Name: 178, dtype: int64\n",
      "0.0    196971\n",
      "1.0     33501\n",
      "Name: 179, dtype: int64\n",
      "0.0    197620\n",
      "1.0     32852\n",
      "Name: 180, dtype: int64\n",
      "0.0    196164\n",
      "1.0     34308\n",
      "Name: 181, dtype: int64\n",
      "0.0    197665\n",
      "1.0     32807\n",
      "Name: 182, dtype: int64\n",
      "0.0    197447\n",
      "1.0     33025\n",
      "Name: 183, dtype: int64\n",
      "0.0    195220\n",
      "1.0     35252\n",
      "Name: 184, dtype: int64\n",
      "0.0    197092\n",
      "1.0     33380\n",
      "Name: 185, dtype: int64\n"
     ]
    }
   ],
   "source": [
    "for _ in range(10):\n",
    "    print(winners.iloc[:,_].value_counts())"
   ]
  },
  {
   "cell_type": "code",
   "execution_count": 429,
   "metadata": {
    "collapsed": true
   },
   "outputs": [],
   "source": [
    "source = \"/users/chjiang/github/stv/m10.blend.txt\"\n",
    "df = pd.read_csv(source, sep=\"\\t\", header=None)\n",
    "nr, nc = df.shape\n",
    "perf = df.iloc[:,-1]"
   ]
  },
  {
   "cell_type": "code",
   "execution_count": 433,
   "metadata": {},
   "outputs": [
    {
     "data": {
      "text/plain": [
       "-0.69079999999999997"
      ]
     },
     "execution_count": 433,
     "metadata": {},
     "output_type": "execute_result"
    }
   ],
   "source": [
    "perf.mean()"
   ]
  },
  {
   "cell_type": "code",
   "execution_count": 7,
   "metadata": {},
   "outputs": [
    {
     "name": "stdout",
     "output_type": "stream",
     "text": [
      "3M10N10-23.\n"
     ]
    }
   ],
   "source": [
    "dataset = \"soc-3-stv\"\n",
    "name = \"M10N10-23.csv\"\n",
    "name = name.strip(\"csv\")\n",
    "\n",
    "tag = str(dataset).strip(\"soc|stv|-\")\n",
    "print(tag + name)"
   ]
  },
  {
   "cell_type": "code",
   "execution_count": 34,
   "metadata": {
    "collapsed": true
   },
   "outputs": [],
   "source": [
    "source = \"/users/chjiang/github/stv/m10.blend.txt\"\n",
    "df = pd.read_csv(source, sep=\"\\t\", header=None)\n",
    "nr, nc = df.shape\n",
    "perf = df.iloc[:,-1]"
   ]
  },
  {
   "cell_type": "code",
   "execution_count": 35,
   "metadata": {},
   "outputs": [
    {
     "data": {
      "text/plain": [
       "4.7270000000000003"
      ]
     },
     "execution_count": 35,
     "metadata": {},
     "output_type": "execute_result"
    }
   ],
   "source": [
    "perf.mean()"
   ]
  },
  {
   "cell_type": "code",
   "execution_count": 40,
   "metadata": {},
   "outputs": [],
   "source": [
    "source = \"/users/chjiang/github/stv/m10.blend.soc-3.txt\"\n",
    "df = pd.read_csv(source, sep=\"\\t\", header=None)\n",
    "nr, nc = df.shape\n",
    "perf = df.iloc[:,-1]"
   ]
  },
  {
   "cell_type": "code",
   "execution_count": 46,
   "metadata": {},
   "outputs": [
    {
     "data": {
      "text/plain": [
       "1.1205555555555555"
      ]
     },
     "execution_count": 46,
     "metadata": {},
     "output_type": "execute_result"
    }
   ],
   "source": [
    "sum(perf)/9000"
   ]
  },
  {
   "cell_type": "code",
   "execution_count": 57,
   "metadata": {},
   "outputs": [],
   "source": [
    "file1 = \"/users/chjiang/github/stv/M20N20-7000.sampling.txt\"\n",
    "sampling = pd.read_csv(file1, names=[\"name\", \"winners\", \"freq\"], sep=\"\\t\")\n",
    "import ast\n",
    "a = sampling[\"freq\"]"
   ]
  },
  {
   "cell_type": "code",
   "execution_count": 80,
   "metadata": {
    "collapsed": true
   },
   "outputs": [],
   "source": [
    "source = \"/users/chjiang/github/stv/m20.blend.txt\"\n",
    "df = pd.read_csv(source, sep=\"\\t\", header=None)\n",
    "nr, nc = df.shape\n",
    "perf = df.iloc[:2000,-1]"
   ]
  },
  {
   "cell_type": "code",
   "execution_count": 81,
   "metadata": {},
   "outputs": [
    {
     "data": {
      "text/plain": [
       "25759"
      ]
     },
     "execution_count": 81,
     "metadata": {},
     "output_type": "execute_result"
    }
   ],
   "source": [
    "sum(perf) # 20% for top 2000, 45% for top 1000 training profiles"
   ]
  },
  {
   "cell_type": "code",
   "execution_count": 106,
   "metadata": {},
   "outputs": [
    {
     "data": {
      "image/png": "[encoded data removed]",
      "text/plain": [
       "<matplotlib.figure.Figure at 0x111bdd2e8>"
      ]
     },
     "metadata": {},
     "output_type": "display_data"
    }
   ],
   "source": [
    "source = \"/users/chjiang/github/stv/training.loss.txt\"\n",
    "df = pd.read_csv(source, sep=\"\\t\", header=None)\n",
    "nr, nc = df.shape\n",
    "df = df.reset_index().dropna()\n",
    "plt.plot(df.index, df[1])\n",
    "plt.plot(df.index, df[2])\n",
    "plt.show()"
   ]
  },
  {
   "cell_type": "code",
   "execution_count": 219,
   "metadata": {},
   "outputs": [],
   "source": [
    "source = \"/users/chjiang/github/stv/m20n20.100k.winpred.rf.txt\"\n",
    "preds = pd.read_csv(source, sep=\"\\t\", header=None)"
   ]
  },
  {
   "cell_type": "code",
   "execution_count": 234,
   "metadata": {
    "collapsed": true
   },
   "outputs": [],
   "source": [
    "source = \"/users/chjiang/github/stv/m20n20.100k.winpred.csv\"\n",
    "truth = pd.read_csv(source, sep=\"\\t\", header=None)"
   ]
  },
  {
   "cell_type": "code",
   "execution_count": 261,
   "metadata": {},
   "outputs": [],
   "source": [
    "names = {k:v for (k, v) in zip(range(652, 672), range(0, 20))}\n",
    "probs = truth.iloc[:,-20:].rename(columns=names)"
   ]
  },
  {
   "cell_type": "code",
   "execution_count": 271,
   "metadata": {},
   "outputs": [],
   "source": [
    "deviation = (probs - preds)/0.5"
   ]
  },
  {
   "cell_type": "code",
   "execution_count": 274,
   "metadata": {},
   "outputs": [],
   "source": [
    "mean_dev = np.mean(deviation)\n",
    "std_dev = np.std(deviation)"
   ]
  },
  {
   "cell_type": "code",
   "execution_count": 276,
   "metadata": {},
   "outputs": [
    {
     "data": {
      "text/plain": [
       "<matplotlib.axes._subplots.AxesSubplot at 0x11412fd30>"
      ]
     },
     "execution_count": 276,
     "metadata": {},
     "output_type": "execute_result"
    },
    {
     "data": {
      "image/png": "[encoded data removed]",
      "text/plain": [
       "<matplotlib.figure.Figure at 0x1122bb048>"
      ]
     },
     "metadata": {},
     "output_type": "display_data"
    }
   ],
   "source": [
    "mean_dev.plot()"
   ]
  },
  {
   "cell_type": "code",
   "execution_count": 277,
   "metadata": {},
   "outputs": [
    {
     "data": {
      "text/plain": [
       "<matplotlib.axes._subplots.AxesSubplot at 0x11441cc18>"
      ]
     },
     "execution_count": 277,
     "metadata": {},
     "output_type": "execute_result"
    },
    {
     "data": {
      "image/png": "[encoded data removed]",
      "text/plain": [
       "<matplotlib.figure.Figure at 0x111eb7128>"
      ]
     },
     "metadata": {},
     "output_type": "display_data"
    }
   ],
   "source": [
    "std_dev.plot()"
   ]
  },
  {
   "cell_type": "code",
   "execution_count": 300,
   "metadata": {
    "collapsed": true
   },
   "outputs": [],
   "source": [
    "bin_probs = np.sign(probs)"
   ]
  },
  {
   "cell_type": "code",
   "execution_count": 308,
   "metadata": {},
   "outputs": [],
   "source": [
    "# the cumulative probability of these co-winners in prediction, the higher the better\n",
    "cumul_prob = (bin_probs * preds).sum(axis=1)"
   ]
  },
  {
   "cell_type": "code",
   "execution_count": 309,
   "metadata": {},
   "outputs": [
    {
     "data": {
      "text/plain": [
       "count    100000.000000\n",
       "mean          0.561829\n",
       "std           0.135322\n",
       "min           0.016577\n",
       "25%           0.480353\n",
       "50%           0.575760\n",
       "75%           0.656859\n",
       "max           0.957082\n",
       "dtype: float64"
      ]
     },
     "execution_count": 309,
     "metadata": {},
     "output_type": "execute_result"
    }
   ],
   "source": [
    "cumul_prob.describe()"
   ]
  },
  {
   "cell_type": "code",
   "execution_count": 11,
   "metadata": {
    "collapsed": true
   },
   "outputs": [],
   "source": [
    "from cachetools import LRUCache\n",
    "import sys"
   ]
  },
  {
   "cell_type": "code",
   "execution_count": 85,
   "metadata": {},
   "outputs": [
    {
     "data": {
      "text/plain": [
       "56"
      ]
     },
     "execution_count": 85,
     "metadata": {},
     "output_type": "execute_result"
    }
   ],
   "source": [
    "cache = LRUCache(maxsize=10000000000000000000)\n",
    "a = (1, 2, 8)\n",
    "b = (1, 2, 8, 9)\n",
    "c = tuple(range(19))\n",
    "cache[a] = 1\n",
    "cache[b] = 2\n",
    "cache[c] = 3\n",
    "sys.getsizeof(cache)"
   ]
  },
  {
   "cell_type": "code",
   "execution_count": 79,
   "metadata": {},
   "outputs": [
    {
     "data": {
      "text/plain": [
       "288"
      ]
     },
     "execution_count": 79,
     "metadata": {},
     "output_type": "execute_result"
    }
   ],
   "source": [
    "d = {}\n",
    "d[a] = 1\n",
    "d[b] = 2\n",
    "d[c] = 3\n",
    "d['wwewfwfwf'] = 5\n",
    "sys.getsizeof(d)"
   ]
  },
  {
   "cell_type": "code",
   "execution_count": 10,
   "metadata": {
    "collapsed": true
   },
   "outputs": [],
   "source": [
    "from sklearn.model_selection import KFold\n",
    "\n",
    "source = '/Users/chjiang/GitHub/stv/m20n20.100k.winpred.csv'\n",
    "kcv = 5"
   ]
  },
  {
   "cell_type": "code",
   "execution_count": 44,
   "metadata": {
    "collapsed": true
   },
   "outputs": [],
   "source": [
    "data = pd.read_table(source, header=None)"
   ]
  },
  {
   "cell_type": "code",
   "execution_count": 17,
   "metadata": {},
   "outputs": [],
   "source": [
    "kf = KFold(n_splits=kcv)"
   ]
  },
  {
   "cell_type": "code",
   "execution_count": 22,
   "metadata": {
    "scrolled": true
   },
   "outputs": [
    {
     "name": "stdout",
     "output_type": "stream",
     "text": [
      "[1 2 3 4] [0]\n",
      "(5, 4)\n",
      "[0 2 3 4] [1]\n",
      "(5, 4)\n",
      "[0 1 3 4] [2]\n",
      "(5, 4)\n",
      "[0 1 2 4] [3]\n",
      "(5, 4)\n",
      "[0 1 2 3] [4]\n",
      "(5, 4)\n"
     ]
    }
   ],
   "source": [
    "for train_index, test_index in kf.split(data):\n",
    "    print(train_index, test_index)\n",
    "    print(data[train_index].shape)"
   ]
  },
  {
   "cell_type": "code",
   "execution_count": 4,
   "metadata": {
    "collapsed": true
   },
   "outputs": [],
   "source": [
    "import sys\n",
    "\n",
    "def get_size(obj, seen=None):\n",
    "    \"\"\"Recursively finds size of objects\"\"\"\n",
    "    size = sys.getsizeof(obj)\n",
    "    if seen is None:\n",
    "        seen = set()\n",
    "    obj_id = id(obj)\n",
    "    if obj_id in seen:\n",
    "        return 0\n",
    "    # Important mark as seen *before* entering recursion to gracefully handle\n",
    "    # self-referential objects\n",
    "    seen.add(obj_id)\n",
    "    if isinstance(obj, dict):\n",
    "        size += sum([get_size(v, seen) for v in obj.values()])\n",
    "        size += sum([get_size(k, seen) for k in obj.keys()])\n",
    "    elif hasattr(obj, '__dict__'):\n",
    "        size += get_size(obj.__dict__, seen)\n",
    "    elif hasattr(obj, '__iter__') and not isinstance(obj, (str, bytes, bytearray)):\n",
    "        size += sum([get_size(i, seen) for i in obj])\n",
    "    return size"
   ]
  },
  {
   "cell_type": "code",
   "execution_count": 56,
   "metadata": {
    "collapsed": true
   },
   "outputs": [],
   "source": [
    "waiting = [0, 1000, None, set([1]), dict(), list()]"
   ]
  },
  {
   "cell_type": "code",
   "execution_count": 57,
   "metadata": {},
   "outputs": [
    {
     "name": "stdout",
     "output_type": "stream",
     "text": [
      "24 24\n",
      "28 28\n",
      "16 16\n",
      "224 252\n",
      "288 288\n",
      "64 64\n"
     ]
    }
   ],
   "source": [
    "for w in waiting:\n",
    "    print(sys.getsizeof(w), get_size(w))"
   ]
  },
  {
   "cell_type": "code",
   "execution_count": 70,
   "metadata": {
    "collapsed": true
   },
   "outputs": [],
   "source": [
    "from cachetools import LRUCache"
   ]
  },
  {
   "cell_type": "code",
   "execution_count": 73,
   "metadata": {
    "collapsed": true
   },
   "outputs": [],
   "source": [
    "cache = LRUCache(10000)"
   ]
  },
  {
   "cell_type": "code",
   "execution_count": 74,
   "metadata": {},
   "outputs": [
    {
     "name": "stdout",
     "output_type": "stream",
     "text": [
      "1523\n"
     ]
    }
   ],
   "source": [
    "print(get_size(cache))"
   ]
  },
  {
   "cell_type": "code",
   "execution_count": 75,
   "metadata": {
    "collapsed": true
   },
   "outputs": [],
   "source": [
    "cache[1] = None"
   ]
  },
  {
   "cell_type": "code",
   "execution_count": 76,
   "metadata": {},
   "outputs": [
    {
     "name": "stdout",
     "output_type": "stream",
     "text": [
      "1575\n"
     ]
    }
   ],
   "source": [
    "print(get_size(cache))"
   ]
  },
  {
   "cell_type": "code",
   "execution_count": 84,
   "metadata": {},
   "outputs": [
    {
     "data": {
      "text/plain": [
       "(172, 28, 48, 64)"
      ]
     },
     "execution_count": 84,
     "metadata": {},
     "output_type": "execute_result"
    }
   ],
   "source": [
    "get_size([1,2,6]), get_size(1), get_size(tuple([])), get_size([])"
   ]
  },
  {
   "cell_type": "code",
   "execution_count": 90,
   "metadata": {},
   "outputs": [
    {
     "data": {
      "text/plain": [
       "84"
      ]
     },
     "execution_count": 90,
     "metadata": {},
     "output_type": "execute_result"
    }
   ],
   "source": [
    "get_size(tuple([1]))"
   ]
  },
  {
   "cell_type": "code",
   "execution_count": 98,
   "metadata": {},
   "outputs": [
    {
     "data": {
      "text/plain": [
       "308"
      ]
     },
     "execution_count": 98,
     "metadata": {},
     "output_type": "execute_result"
    }
   ],
   "source": [
    "get_size(set(tuple([3, 17, 24])))"
   ]
  },
  {
   "cell_type": "code",
   "execution_count": 157,
   "metadata": {
    "collapsed": true
   },
   "outputs": [],
   "source": [
    "cache_file = '/Users/chjiang/GitHub/stv/nohup.out1'\n",
    "set_file = '/Users/chjiang/GitHub/stv/nohup.out3'"
   ]
  },
  {
   "cell_type": "code",
   "execution_count": 110,
   "metadata": {
    "collapsed": true
   },
   "outputs": [],
   "source": [
    "cache_stat = pd.read_table(cache_file, header=None, usecols=[0, 2])"
   ]
  },
  {
   "cell_type": "code",
   "execution_count": 156,
   "metadata": {},
   "outputs": [
    {
     "data": {
      "text/plain": [
       "<matplotlib.axes._subplots.AxesSubplot at 0x103ffa780>"
      ]
     },
     "execution_count": 156,
     "metadata": {},
     "output_type": "execute_result"
    },
    {
     "data": {
      "image/png": "[encoded data removed]",
      "text/plain": [
       "<matplotlib.figure.Figure at 0x10fdb43c8>"
      ]
     },
     "metadata": {},
     "output_type": "display_data"
    }
   ],
   "source": [
    "cache_stat.plot()"
   ]
  },
  {
   "cell_type": "code",
   "execution_count": 169,
   "metadata": {},
   "outputs": [
    {
     "data": {
      "text/plain": [
       "<matplotlib.axes._subplots.AxesSubplot at 0x111c73278>"
      ]
     },
     "execution_count": 169,
     "metadata": {},
     "output_type": "execute_result"
    },
    {
     "data": {
      "image/png": "[encoded data removed]",
      "text/plain": [
       "<matplotlib.figure.Figure at 0x10f9302e8>"
      ]
     },
     "metadata": {},
     "output_type": "display_data"
    }
   ],
   "source": [
    "set_stat = pd.read_table(set_file, header=None, usecols=[0, 1], nrows=7) # , nrows=5000\n",
    "set_stat.plot()"
   ]
  },
  {
   "cell_type": "code",
   "execution_count": 238,
   "metadata": {
    "collapsed": true
   },
   "outputs": [],
   "source": [
    "source = '/Users/chjiang/GitHub/stv/m20n20.scoring.txt'\n",
    "df = pd.read_csv(source, sep='\\t', header=None)"
   ]
  },
  {
   "cell_type": "code",
   "execution_count": 239,
   "metadata": {},
   "outputs": [],
   "source": [
    "time = (df[3].mean(), df[4].mean(), df[5].mean(), df[6].mean())"
   ]
  },
  {
   "cell_type": "code",
   "execution_count": 242,
   "metadata": {},
   "outputs": [
    {
     "data": {
      "text/plain": [
       "(0.13429871315961711, 0.20244195426490719)"
      ]
     },
     "execution_count": 242,
     "metadata": {},
     "output_type": "execute_result"
    }
   ],
   "source": [
    "(time[0] - time[1])/time[0], (time[2] - time[3])/time[2]"
   ]
  },
  {
   "cell_type": "code",
   "execution_count": 243,
   "metadata": {},
   "outputs": [
    {
     "data": {
      "text/plain": [
       "0.7826430307835156"
      ]
     },
     "execution_count": 243,
     "metadata": {},
     "output_type": "execute_result"
    }
   ],
   "source": [
    "time[2]/time[0]"
   ]
  },
  {
   "cell_type": "code",
   "execution_count": 250,
   "metadata": {
    "scrolled": true
   },
   "outputs": [],
   "source": [
    "#M40N40-100023.csv\n",
    "#trace: [31, 61, 62, 140, 152, 505, 506, 533, 2041, 2558, 3052, 3670, 76268, 111457, 111476, 126504, 143529, 143599, 144398, 346329, 346330, 394865, 467806, 521943, 583382, 796209, 3184346]\n",
    "#winners: [0, 5, 6, 8, 9, 10, 11, 12, 13, 14, 16, 18, 19, 20, 21, 22, 23, 25, 26, 28, 29, 30, 32, 33, 34, 36, 38]\n",
    "#elapsed: 1359.723209142685"
   ]
  },
  {
   "cell_type": "code",
   "execution_count": 338,
   "metadata": {
    "collapsed": true
   },
   "outputs": [],
   "source": [
    "from keras import backend as K\n",
    "from keras import losses"
   ]
  },
  {
   "cell_type": "code",
   "execution_count": 346,
   "metadata": {},
   "outputs": [
    {
     "data": {
      "text/plain": [
       "[1.3862944, 0.46209815, 1.3862944]"
      ]
     },
     "execution_count": 346,
     "metadata": {},
     "output_type": "execute_result"
    }
   ],
   "source": [
    "y = tf.constant([1, 1, 0], dtype=tf.float32)\n",
    "yhat = tf.constant([0.5, 0.5, 0], dtype=tf.float32)\n",
    "sess = tf.Session()\n",
    "K.set_session(sess)\n",
    "cce = losses.categorical_crossentropy(y, yhat)\n",
    "bce = losses.binary_crossentropy(y, yhat)\n",
    "kl = losses.kullback_leibler_divergence(y, yhat)\n",
    "sess.run([cce, bce, kl])"
   ]
  },
  {
   "cell_type": "code",
   "execution_count": 361,
   "metadata": {
    "collapsed": true
   },
   "outputs": [],
   "source": [
    "file = '/users/chjiang/github/stv/m40n40.5k.rf.params'\n",
    "df = pd.read_csv(file, sep='\\t')"
   ]
  },
  {
   "cell_type": "code",
   "execution_count": 362,
   "metadata": {},
   "outputs": [
    {
     "data": {
      "image/png": "[encoded data removed]",
      "text/plain": [
       "<matplotlib.figure.Figure at 0x11d2a6320>"
      ]
     },
     "metadata": {},
     "output_type": "display_data"
    }
   ],
   "source": [
    "parameters = ['max_features', 'n_estimators', 'max_depth']\n",
    "cols = len(parameters)\n",
    "\n",
    "f, axes = plt.subplots(nrows=1, ncols=cols, figsize=(15, 5))\n",
    "cmap = plt.get_cmap('jet')\n",
    "for i, param in enumerate(parameters):\n",
    "    if 'activation' in param:\n",
    "        xs = np.array(range(df.shape[0]))\n",
    "        plt.xticks(xs, df[param])\n",
    "    else:\n",
    "        xs = df[param]\n",
    "    ys = df['loss']\n",
    "\n",
    "    axes[i].scatter(xs, ys, s=20, linewidth=0.01, alpha=0.75, c=cmap(float(i) / len(parameters)))\n",
    "    axes[i].set_title(param)\n",
    "plt.show()"
   ]
  },
  {
   "cell_type": "code",
   "execution_count": 405,
   "metadata": {
    "collapsed": true
   },
   "outputs": [],
   "source": [
    "file = '/users/chjiang/github/stv/m20n20.100k.localprior.txt'\n",
    "df = pd.read_csv(file, sep='\\t', header=None)"
   ]
  },
  {
   "cell_type": "code",
   "execution_count": 406,
   "metadata": {},
   "outputs": [
    {
     "data": {
      "text/plain": [
       "821905"
      ]
     },
     "execution_count": 406,
     "metadata": {},
     "output_type": "execute_result"
    }
   ],
   "source": [
    "df[3].sum()"
   ]
  },
  {
   "cell_type": "code",
   "execution_count": 394,
   "metadata": {},
   "outputs": [
    {
     "data": {
      "image/png": "[encoded data removed]",
      "text/plain": [
       "<matplotlib.figure.Figure at 0x11fc9b978>"
      ]
     },
     "metadata": {},
     "output_type": "display_data"
    }
   ],
   "source": [
    "file = '/users/chjiang/github/stv/m40n40.5k.nn.params'\n",
    "df = pd.read_csv(file, sep='\\t')\n",
    "parameters = ['dropout1', 'dropout2', 'dense', 'activation']\n",
    "cols = len(parameters)\n",
    "\n",
    "f, axes = plt.subplots(nrows=1, ncols=cols, figsize=(15, 5))\n",
    "cmap = plt.get_cmap('jet')\n",
    "for i, param in enumerate(parameters):\n",
    "    if 'activation' in param:\n",
    "        xs = np.array(range(df.shape[0]))\n",
    "        plt.xticks(xs, df[param])\n",
    "    else:\n",
    "        xs = df[param]\n",
    "    ys = df['loss']\n",
    "\n",
    "    axes[i].scatter(xs, ys, s=20, linewidth=0.01, alpha=0.75, c=cmap(float(i) / len(parameters)))\n",
    "    axes[i].set_title(param)\n",
    "plt.show()"
   ]
  },
  {
   "cell_type": "code",
   "execution_count": 4,
   "metadata": {
    "collapsed": true
   },
   "outputs": [],
   "source": [
    "from bs4 import BeautifulSoup"
   ]
  },
  {
   "cell_type": "code",
   "execution_count": 8,
   "metadata": {},
   "outputs": [],
   "source": [
    "contents = ''\n",
    "with open('/Users/chjiang/GitHub/horsehour.github.io/_posts/2017-08-22-search-rank-content.html', 'rb') as istream:\n",
    "    contents = istream.read()\n",
    "\n",
    "soup = BeautifulSoup(contents, 'html.parser')"
   ]
  },
  {
   "cell_type": "code",
   "execution_count": 13,
   "metadata": {},
   "outputs": [
    {
     "name": "stdout",
     "output_type": "stream",
     "text": [
      "<a class=\"l\" data-dest-detail='[21,\"XYZ\",72,551.12,null]' href=\"#pf15\">第一部分 信息检索与排名</a>\n",
      "<a class=\"l\" data-dest-detail='[25,\"XYZ\",72,740.93,null]' href=\"#pf19\">向量空间模型</a>\n",
      "<a class=\"l\" data-dest-detail='[26,\"XYZ\",72,616.48,null]' href=\"#pf1a\">余弦相似度</a>\n",
      "<a class=\"l\" data-dest-detail='[26,\"XYZ\",72,445.11,null]' href=\"#pf1a\">TF-IDF赋权法</a>\n",
      "<a class=\"l\" data-dest-detail='[27,\"XYZ\",72,519.79,null]' href=\"#pf1b\">IDF与信息量</a>\n",
      "<a class=\"l\" data-dest-detail='[29,\"XYZ\",72,740.93,null]' href=\"#pf1d\">概率信息检索模型</a>\n",
      "<a class=\"l\" data-dest-detail='[29,\"XYZ\",72,369.52,null]' href=\"#pf1d\">概率排序原理</a>\n",
      "<a class=\"l\" data-dest-detail='[29,\"XYZ\",72,275.07,null]' href=\"#pf1d\">BM25</a>\n",
      "<a class=\"l\" data-dest-detail='[30,\"XYZ\",72,610.53,null]' href=\"#pf1e\">BM25F</a>\n",
      "<a class=\"l\" data-dest-detail='[33,\"XYZ\",72,740.93,null]' href=\"#pf21\">语言模型</a>\n",
      "<a class=\"l\" data-dest-detail='[33,\"XYZ\",72,505.66,null]' href=\"#pf21\">检索邻近度</a>\n",
      "<a class=\"l\" data-dest-detail='[35,\"XYZ\",72,740.93,null]' href=\"#pf23\">Lucene &amp; Nutch评分</a>\n",
      "<a class=\"l\" data-dest-detail='[35,\"XYZ\",72,352.99,null]' href=\"#pf23\">Lucene评分模型</a>\n",
      "<a class=\"l\" data-dest-detail='[36,\"XYZ\",72,546.69,null]' href=\"#pf24\">Lucene相似度与向量空间模型</a>\n",
      "<a class=\"l\" data-dest-detail='[36,\"XYZ\",72,78.17,null]' href=\"#pf24\">公理检索函数</a>\n",
      "<a class=\"l\" data-dest-detail='[37,\"XYZ\",72,565.76,null]' href=\"#pf25\">LinkRank</a>\n",
      "<a class=\"l\" data-dest-detail='[39,\"XYZ\",72,740.93,null]' href=\"#pf27\">基于图的排名模型</a>\n",
      "<a class=\"l\" data-dest-detail='[39,\"XYZ\",72,599.39,null]' href=\"#pf27\">在线页面权重计算模型</a>\n",
      "<a class=\"l\" data-dest-detail='[40,\"XYZ\",72,534,null]' href=\"#pf28\">PageRank</a>\n",
      "<a class=\"l\" data-dest-detail='[41,\"XYZ\",72,139.18,null]' href=\"#pf29\">Panda, Caffeine and Hilltop</a>\n",
      "<a class=\"l\" data-dest-detail='[41,\"XYZ\",72,90.07,null]' href=\"#pf29\">个性化PageRank</a>\n",
      "<a class=\"l\" data-dest-detail='[42,\"XYZ\",72,681.28,null]' href=\"#pf2a\">Leontief &amp; PageRank</a>\n",
      "<a class=\"l\" data-dest-detail='[42,\"XYZ\",72,598.21,null]' href=\"#pf2a\">Baidu Link Rank</a>\n",
      "<a class=\"l\" data-dest-detail='[42,\"XYZ\",72,552.53,null]' href=\"#pf2a\">主题敏感的PageRank</a>\n",
      "<a class=\"l\" data-dest-detail='[42,\"XYZ\",72,130.61,null]' href=\"#pf2a\">SimRank</a>\n",
      "<a class=\"l\" data-dest-detail='[44,\"XYZ\",72,535.81,null]' href=\"#pf2c\">CheiRank</a>\n",
      "<a class=\"l\" data-dest-detail='[44,\"XYZ\",72,475.24,null]' href=\"#pf2c\">HITS</a>\n",
      "<a class=\"l\" data-dest-detail='[45,\"XYZ\",72,395.98,null]' href=\"#pf2d\">HITS v.s. PageRank</a>\n",
      "<a class=\"l\" data-dest-detail='[46,\"XYZ\",72,534.96,null]' href=\"#pf2e\">SALSA</a>\n",
      "<a class=\"l\" data-dest-detail='[46,\"XYZ\",72,374.19,null]' href=\"#pf2e\">TrustRank</a>\n",
      "<a class=\"l\" data-dest-detail='[46,\"XYZ\",72,134.64,null]' href=\"#pf2e\">DistanceRank</a>\n",
      "<a class=\"l\" data-dest-detail='[47,\"XYZ\",72,703.53,null]' href=\"#pf2f\">Yandex MatrixNet</a>\n",
      "<a class=\"l\" data-dest-detail='[47,\"XYZ\",72,666.13,null]' href=\"#pf2f\">Facebook EdgeRank</a>\n",
      "<a class=\"l\" data-dest-detail='[47,\"XYZ\",72,628.72,null]' href=\"#pf2f\">Quora PeopleRank</a>\n",
      "<a class=\"l\" data-dest-detail='[49,\"XYZ\",72,740.93,null]' href=\"#pf31\">图像搜索与排名算法</a>\n",
      "<a class=\"l\" data-dest-detail='[49,\"XYZ\",72,598.94,null]' href=\"#pf31\">感知哈希算法</a>\n",
      "<a class=\"l\" data-dest-detail='[50,\"XYZ\",72,692.1,null]' href=\"#pf32\">颜色分布法</a>\n",
      "<a class=\"l\" data-dest-detail='[50,\"XYZ\",72,106.16,null]' href=\"#pf32\">大津阈值法</a>\n",
      "<a class=\"l\" data-dest-detail='[51,\"XYZ\",72,309.57,null]' href=\"#pf33\">VisualRank</a>\n",
      "<a class=\"l\" data-dest-detail='[53,\"XYZ\",72,740.93,null]' href=\"#pf35\">基于评分的排名模型</a>\n",
      "<a class=\"l\" data-dest-detail='[53,\"XYZ\",72,599.39,null]' href=\"#pf35\">牛顿冷却定律</a>\n",
      "<a class=\"l\" data-dest-detail='[53,\"XYZ\",72,275.63,null]' href=\"#pf35\">HNRating</a>\n",
      "<a class=\"l\" data-dest-detail='[54,\"XYZ\",72,613.01,null]' href=\"#pf36\">Reddit热度评分</a>\n",
      "<a class=\"l\" data-dest-detail='[54,\"XYZ\",72,256.36,null]' href=\"#pf36\">Reddit最佳评分</a>\n",
      "<a class=\"l\" data-dest-detail='[55,\"XYZ\",72,379.13,null]' href=\"#pf37\">Stack Overflow评分</a>\n",
      "<a class=\"l\" data-dest-detail='[55,\"XYZ\",72,223.83,null]' href=\"#pf37\">IDMb榜首250评分系统</a>\n",
      "<a class=\"l\" data-dest-detail='[57,\"XYZ\",72,740.93,null]' href=\"#pf39\">搜索引擎</a>\n",
      "<a class=\"l\" data-dest-detail='[61,\"XYZ\",72,551.12,null]' href=\"#pf3d\">第二部分 排名理论</a>\n",
      "<a class=\"l\" data-dest-detail='[63,\"XYZ\",72,740.93,null]' href=\"#pf3f\">社会选择理论</a>\n",
      "<a class=\"l\" data-dest-detail='[64,\"XYZ\",72,710.96,null]' href=\"#pf40\">符号定义</a>\n",
      "<a class=\"l\" data-dest-detail='[66,\"XYZ\",72,625.54,null]' href=\"#pf42\">位置评分法</a>\n",
      "<a class=\"l\" data-dest-detail='[66,\"XYZ\",72,483.19,null]' href=\"#pf42\">多数投票法</a>\n",
      "<a class=\"l\" data-dest-detail='[66,\"XYZ\",72,318.95,null]' href=\"#pf42\">波达计数</a>\n",
      "<a class=\"l\" data-dest-detail='[66,\"XYZ\",72,88.8,null]' href=\"#pf42\">记分投票法</a>\n",
      "<a class=\"l\" data-dest-detail='[67,\"XYZ\",72,549.68,null]' href=\"#pf43\">孔多塞方法</a>\n",
      "<a class=\"l\" data-dest-detail='[70,\"XYZ\",72,148.85,null]' href=\"#pf46\">位置筛选法</a>\n",
      "<a class=\"l\" data-dest-detail='[70,\"XYZ\",72,90.07,null]' href=\"#pf46\">单记可让渡投票制</a>\n",
      "<a class=\"l\" data-dest-detail='[71,\"XYZ\",72,269.76,null]' href=\"#pf47\">概率模型法</a>\n",
      "<a class=\"l\" data-dest-detail='[71,\"XYZ\",72,209.89,null]' href=\"#pf47\">马洛斯模型</a>\n",
      "<a class=\"l\" data-dest-detail='[72,\"XYZ\",72,709.44,null]' href=\"#pf48\">瑟斯顿模型与TrueSkill排名</a>\n",
      "<a class=\"l\" data-dest-detail='[72,\"XYZ\",72,666.08,null]' href=\"#pf48\">布雷德利─特里─卢斯模型</a>\n",
      "<a class=\"l\" data-dest-detail='[72,\"XYZ\",72,640.39,null]' href=\"#pf48\">普拉基特─卢斯模型</a>\n",
      "<a class=\"l\" data-dest-detail='[74,\"XYZ\",72,453.91,null]' href=\"#pf4a\">Elo排序系统</a>\n",
      "<a class=\"l\" data-dest-detail='[74,\"XYZ\",72,418.64,null]' href=\"#pf4a\">Colley方法</a>\n",
      "<a class=\"l\" data-dest-detail='[74,\"XYZ\",72,392.96,null]' href=\"#pf4a\">Massey方法</a>\n",
      "<a class=\"l\" data-dest-detail='[74,\"XYZ\",72,296.18,null]' href=\"#pf4a\">投票系统准则</a>\n",
      "<a class=\"l\" data-dest-detail='[75,\"XYZ\",72,523.84,null]' href=\"#pf4b\">阿罗不可能定理</a>\n",
      "<a class=\"l\" data-dest-detail='[78,\"XYZ\",72,591.03,null]' href=\"#pf4e\">吉伯德－萨特思韦特定理</a>\n",
      "<a class=\"l\" data-dest-detail='[79,\"XYZ\",72,597.37,null]' href=\"#pf4f\">梅定理</a>\n",
      "<a class=\"l\" data-dest-detail='[79,\"XYZ\",72,387.51,null]' href=\"#pf4f\">排名聚合</a>\n",
      "<a class=\"l\" data-dest-detail='[80,\"XYZ\",72,184.42,null]' href=\"#pf50\">序对投票准则</a>\n",
      "<a class=\"l\" data-dest-detail='[85,\"XYZ\",72,740.93,null]' href=\"#pf55\">排名收敛</a>\n",
      "<a class=\"l\" data-dest-detail='[89,\"XYZ\",72,551.18,null]' href=\"#pf59\">第三部分 数据挖掘与机器学习</a>\n",
      "<a class=\"l\" data-dest-detail='[93,\"XYZ\",72,740.93,null]' href=\"#pf5d\">回归分析</a>\n",
      "<a class=\"l\" data-dest-detail='[94,\"XYZ\",72,690.67,null]' href=\"#pf5e\">线性回归</a>\n",
      "<a class=\"l\" data-dest-detail='[95,\"XYZ\",72,403.95,null]' href=\"#pf5f\">岭回归</a>\n",
      "<a class=\"l\" data-dest-detail='[95,\"XYZ\",72,88.97,null]' href=\"#pf5f\">Lasso</a>\n",
      "<a class=\"l\" data-dest-detail='[96,\"XYZ\",72,224.66,null]' href=\"#pf60\">最小角回归</a>\n",
      "<a class=\"l\" data-dest-detail='[96,\"XYZ\",72,164.87,null]' href=\"#pf60\">前向逐步回归</a>\n",
      "<a class=\"l\" data-dest-detail='[96,\"XYZ\",72,127.47,null]' href=\"#pf60\">有序回归</a>\n",
      "<a class=\"l\" data-dest-detail='[96,\"XYZ\",72,90.07,null]' href=\"#pf60\">保序回归</a>\n",
      "<a class=\"l\" data-dest-detail='[99,\"XYZ\",72,740.93,null]' href=\"#pf63\">分类</a>\n",
      "<a class=\"l\" data-dest-detail='[99,\"XYZ\",72,128.39,null]' href=\"#pf63\">KNN算法</a>\n",
      "<a class=\"l\" data-dest-detail='[100,\"XYZ\",72,502.6,null]' href=\"#pf64\">贝叶斯分类</a>\n",
      "<a class=\"l\" data-dest-detail='[101,\"XYZ\",72,198.78,null]' href=\"#pf65\">标签传递算法</a>\n",
      "<a class=\"l\" data-dest-detail='[102,\"XYZ\",72,538.91,null]' href=\"#pf66\">逻辑回归</a>\n",
      "<a class=\"l\" data-dest-detail='[104,\"XYZ\",72,531.34,null]' href=\"#pf68\">线性判别分析</a>\n",
      "<a class=\"l\" data-dest-detail='[104,\"XYZ\",72,416.52,null]' href=\"#pf68\">线性判别分析与二次判别分析</a>\n",
      "<a class=\"l\" data-dest-detail='[105,\"XYZ\",72,577.01,null]' href=\"#pf69\">费希尔判别分析</a>\n",
      "<a class=\"l\" data-dest-detail='[106,\"XYZ\",72,494.88,null]' href=\"#pf6a\">纠错输出编码</a>\n",
      "<a class=\"l\" data-dest-detail='[106,\"XYZ\",72,402.51,null]' href=\"#pf6a\">感知器算法</a>\n",
      "<a class=\"l\" data-dest-detail='[108,\"XYZ\",72,502.32,null]' href=\"#pf6c\">大间隔分类器</a>\n",
      "<a class=\"l\" data-dest-detail='[111,\"XYZ\",72,740.93,null]' href=\"#pf6f\">支持向量机</a>\n",
      "<a class=\"l\" data-dest-detail='[111,\"XYZ\",72,409.08,null]' href=\"#pf6f\">统计学习理论</a>\n",
      "<a class=\"l\" data-dest-detail='[111,\"XYZ\",72,143.45,null]' href=\"#pf6f\">VC维</a>\n",
      "<a class=\"l\" data-dest-detail='[113,\"XYZ\",72,293.59,null]' href=\"#pf71\">期望风险与经验风险</a>\n",
      "<a class=\"l\" data-dest-detail='[114,\"XYZ\",72,459.39,null]' href=\"#pf72\">泛化界</a>\n",
      "<a class=\"l\" data-dest-detail='[114,\"XYZ\",72,88.97,null]' href=\"#pf72\">结构风险最小化</a>\n",
      "<a class=\"l\" data-dest-detail='[115,\"XYZ\",72,420.76,null]' href=\"#pf73\">支持向量机分类器</a>\n",
      "<a class=\"l\" data-dest-detail='[117,\"XYZ\",72,528.98,null]' href=\"#pf75\">核方法</a>\n",
      "<a class=\"l\" data-dest-detail='[121,\"XYZ\",72,605.03,null]' href=\"#pf79\">块算法</a>\n",
      "<a class=\"l\" data-dest-detail='[121,\"XYZ\",72,402.86,null]' href=\"#pf79\">Osuna分解算法</a>\n",
      "<a class=\"l\" data-dest-detail='[123,\"XYZ\",72,432.51,null]' href=\"#pf7b\">序列最小优化算法</a>\n",
      "<a class=\"l\" data-dest-detail='[123,\"XYZ\",72,88.97,null]' href=\"#pf7b\">解析方法：优化拉格朗日乘子对</a>\n",
      "<a class=\"l\" data-dest-detail='[125,\"XYZ\",72,340.37,null]' href=\"#pf7d\">启发式方法：选取拉格朗日乘子对</a>\n",
      "<a class=\"l\" data-dest-detail='[126,\"XYZ\",72,78.95,null]' href=\"#pf7e\">确定截距</a>\n",
      "<a class=\"l\" data-dest-detail='[127,\"XYZ\",72,396.26,null]' href=\"#pf7f\">算法加速</a>\n",
      "<a class=\"l\" data-dest-detail='[127,\"XYZ\",72,198.5,null]' href=\"#pf7f\">终止条件</a>\n",
      "<a class=\"l\" data-dest-detail='[127,\"XYZ\",72,83.34,null]' href=\"#pf7f\">SVMLight</a>\n",
      "<a class=\"l\" data-dest-detail='[128,\"XYZ\",72,577.22,null]' href=\"#pf80\">LibSVM</a>\n",
      "<a class=\"l\" data-dest-detail='[128,\"XYZ\",72,425.43,null]' href=\"#pf80\">Pegasos</a>\n",
      "<a class=\"l\" data-dest-detail='[130,\"XYZ\",72,638.64,null]' href=\"#pf82\">邻近支持向量机</a>\n",
      "<a class=\"l\" data-dest-detail='[133,\"XYZ\",72,740.93,null]' href=\"#pf85\">人工神经网络</a>\n",
      "<a class=\"l\" data-dest-detail='[134,\"XYZ\",72,728.01,null]' href=\"#pf86\">神经网络简史</a>\n",
      "<a class=\"l\" data-dest-detail='[135,\"XYZ\",72,652.39,null]' href=\"#pf87\">深度学习</a>\n",
      "<a class=\"l\" data-dest-detail='[136,\"XYZ\",72,228.65,null]' href=\"#pf88\">自动编码器</a>\n",
      "<a class=\"l\" data-dest-detail='[136,\"XYZ\",72,88.49,null]' href=\"#pf88\">稀疏编码方法</a>\n",
      "<a class=\"l\" data-dest-detail='[137,\"XYZ\",72,488.33,null]' href=\"#pf89\">玻尔兹曼机</a>\n",
      "<a class=\"l\" data-dest-detail='[139,\"XYZ\",72,652.39,null]' href=\"#pf8b\">信念网络</a>\n",
      "<a class=\"l\" data-dest-detail='[139,\"XYZ\",72,525.45,null]' href=\"#pf8b\">卷积神经网络</a>\n",
      "<a class=\"l\" data-dest-detail='[141,\"XYZ\",72,740.93,null]' href=\"#pf8d\">极限学习机</a>\n",
      "<a class=\"l\" data-dest-detail='[143,\"XYZ\",72,740.93,null]' href=\"#pf8f\">决策树</a>\n",
      "<a class=\"l\" data-dest-detail='[144,\"XYZ\",72,295.77,null]' href=\"#pf90\">决策树桩</a>\n",
      "<a class=\"l\" data-dest-detail='[144,\"XYZ\",72,204.02,null]' href=\"#pf90\">剪枝</a>\n",
      "<a class=\"l\" data-dest-detail='[145,\"XYZ\",72,263.52,null]' href=\"#pf91\">缺值</a>\n",
      "<a class=\"l\" data-dest-detail='[145,\"XYZ\",72,114.02,null]' href=\"#pf91\">树的集成模型</a>\n",
      "<a class=\"l\" data-dest-detail='[146,\"XYZ\",72,681.05,null]' href=\"#pf92\">ID3和C4.5</a>\n",
      "<a class=\"l\" data-dest-detail='[147,\"XYZ\",72,198.34,null]' href=\"#pf93\">分类与回归树</a>\n",
      "<a class=\"l\" data-dest-detail='[148,\"XYZ\",72,406.73,null]' href=\"#pf94\">随机森林</a>\n",
      "<a class=\"l\" data-dest-detail='[149,\"XYZ\",72,692.1,null]' href=\"#pf95\">梯度提升算法</a>\n",
      "<a class=\"l\" data-dest-detail='[150,\"XYZ\",72,90.07,null]' href=\"#pf96\">损失函数</a>\n",
      "<a class=\"l\" data-dest-detail='[155,\"XYZ\",72,356.34,null]' href=\"#pf9b\">梯度提升决策树</a>\n",
      "<a class=\"l\" data-dest-detail='[156,\"XYZ\",72,287.92,null]' href=\"#pf9c\">缩减</a>\n",
      "<a class=\"l\" data-dest-detail='[156,\"XYZ\",72,89.09,null]' href=\"#pf9c\">随机梯度提升</a>\n",
      "<a class=\"l\" data-dest-detail='[157,\"XYZ\",72,83.64,null]' href=\"#pf9d\">排名问题</a>\n",
      "<a class=\"l\" data-dest-detail='[159,\"XYZ\",72,740.93,null]' href=\"#pf9f\">聚类分析</a>\n",
      "<a class=\"l\" data-dest-detail='[159,\"XYZ\",72,373.29,null]' href=\"#pf9f\">K-Means和K-Medoids</a>\n",
      "<a class=\"l\" data-dest-detail='[159,\"XYZ\",72,258.43,null]' href=\"#pf9f\">谱聚类</a>\n",
      "<a class=\"l\" data-dest-detail='[160,\"XYZ\",72,360.78,null]' href=\"#pfa0\">谱分析</a>\n",
      "<a class=\"l\" data-dest-detail='[161,\"XYZ\",72,418.78,null]' href=\"#pfa1\">谱图分割</a>\n",
      "<a class=\"l\" data-dest-detail='[161,\"XYZ\",72,85.09,null]' href=\"#pfa1\">密度峰值聚类</a>\n",
      "<a class=\"l\" data-dest-detail='[165,\"XYZ\",72,740.93,null]' href=\"#pfa5\">统计模型</a>\n",
      "<a class=\"l\" data-dest-detail='[165,\"XYZ\",72,599.31,null]' href=\"#pfa5\">EM算法</a>\n",
      "<a class=\"l\" data-dest-detail='[166,\"XYZ\",72,591.55,null]' href=\"#pfa6\">高斯混合模型</a>\n",
      "<a class=\"l\" data-dest-detail='[169,\"XYZ\",72,431.38,null]' href=\"#pfa9\">概率隐语义分析</a>\n",
      "<a class=\"l\" data-dest-detail='[169,\"XYZ\",72,371.76,null]' href=\"#pfa9\">隐含狄利克雷分布</a>\n",
      "<a class=\"l\" data-dest-detail='[169,\"XYZ\",72,334.36,null]' href=\"#pfa9\">最大熵模型</a>\n",
      "<a class=\"l\" data-dest-detail='[169,\"XYZ\",72,228.34,null]' href=\"#pfa9\">最大熵原理</a>\n",
      "<a class=\"l\" data-dest-detail='[171,\"XYZ\",72,669.49,null]' href=\"#pfab\">最大熵模型</a>\n",
      "<a class=\"l\" data-dest-detail='[173,\"XYZ\",72,609.98,null]' href=\"#pfad\">参数优化 - IIS算法</a>\n",
      "<a class=\"l\" data-dest-detail='[174,\"XYZ\",72,461.77,null]' href=\"#pfae\">模型参数最大似然估计</a>\n",
      "<a class=\"l\" data-dest-detail='[174,\"XYZ\",72,201.09,null]' href=\"#pfae\">规则化模型</a>\n",
      "<a class=\"l\" data-dest-detail='[175,\"XYZ\",72,729.78,null]' href=\"#pfaf\">隐马尔科夫模型</a>\n",
      "<a class=\"l\" data-dest-detail='[176,\"XYZ\",72,502.33,null]' href=\"#pfb0\">评估问题：Forward-Backward算法</a>\n",
      "<a class=\"l\" data-dest-detail='[178,\"XYZ\",72,309.8,null]' href=\"#pfb2\">解码问题：Viterbi算法</a>\n",
      "<a class=\"l\" data-dest-detail='[178,\"XYZ\",72,255.61,null]' href=\"#pfb2\">学习问题：Baum-Welch算法</a>\n",
      "<a class=\"l\" data-dest-detail='[178,\"XYZ\",72,226.73,null]' href=\"#pfb2\">最大熵马尔科夫模型</a>\n",
      "<a class=\"l\" data-dest-detail='[178,\"XYZ\",72,113.47,null]' href=\"#pfb2\">条件随机场</a>\n",
      "<a class=\"l\" data-dest-detail='[181,\"XYZ\",72,740.93,null]' href=\"#pfb5\">集成学习</a>\n",
      "<a class=\"l\" data-dest-detail='[182,\"XYZ\",72,297.3,null]' href=\"#pfb6\">多样性</a>\n",
      "<a class=\"l\" data-dest-detail='[183,\"XYZ\",72,284.05,null]' href=\"#pfb7\">集成误差</a>\n",
      "<a class=\"l\" data-dest-detail='[184,\"XYZ\",72,109.37,null]' href=\"#pfb8\">提升算法</a>\n",
      "<a class=\"l\" data-dest-detail='[185,\"XYZ\",72,275.86,null]' href=\"#pfb9\">AdaBoost</a>\n",
      "<a class=\"l\" data-dest-detail='[185,\"XYZ\",72,179.5,null]' href=\"#pfb9\">LPBoost</a>\n",
      "<a class=\"l\" data-dest-detail='[185,\"XYZ\",72,135.5,null]' href=\"#pfb9\">大间隔模型：提升算法</a>\n",
      "<a class=\"l\" data-dest-detail='[186,\"XYZ\",72,248.41,null]' href=\"#pfba\">提升算法的缺陷</a>\n",
      "<a class=\"l\" data-dest-detail='[187,\"XYZ\",72,729.08,null]' href=\"#pfbb\">Bagging</a>\n",
      "<a class=\"l\" data-dest-detail='[187,\"XYZ\",72,265.81,null]' href=\"#pfbb\">Stacking</a>\n",
      "<a class=\"l\" data-dest-detail='[187,\"XYZ\",72,197.25,null]' href=\"#pfbb\">随机子空间法</a>\n",
      "<a class=\"l\" data-dest-detail='[188,\"XYZ\",72,452.17,null]' href=\"#pfbc\">加性树丛模型</a>\n",
      "<a class=\"l\" data-dest-detail='[188,\"XYZ\",72,312.34,null]' href=\"#pfbc\">维数约减</a>\n",
      "<a class=\"l\" data-dest-detail='[189,\"XYZ\",72,673.11,null]' href=\"#pfbd\">奇异值分解</a>\n",
      "<a class=\"l\" data-dest-detail='[191,\"XYZ\",72,285.59,null]' href=\"#pfbf\">主成分分析</a>\n",
      "<a class=\"l\" data-dest-detail='[192,\"XYZ\",72,227.66,null]' href=\"#pfc0\">局部线性嵌入</a>\n",
      "<a class=\"l\" data-dest-detail='[192,\"XYZ\",72,155.51,null]' href=\"#pfc0\">拉普拉斯特征映射</a>\n",
      "<a class=\"l\" data-dest-detail='[192,\"XYZ\",72,87.11,null]' href=\"#pfc0\">自组织映射网络</a>\n",
      "<a class=\"l\" data-dest-detail='[193,\"XYZ\",72,644.11,null]' href=\"#pfc1\">自适应交叉近似算法</a>\n",
      "<a class=\"l\" data-dest-detail='[193,\"XYZ\",72,284.89,null]' href=\"#pfc1\">特征选择</a>\n",
      "<a class=\"l\" data-dest-detail='[194,\"XYZ\",72,465.21,null]' href=\"#pfc2\">Relief</a>\n",
      "<a class=\"l\" data-dest-detail='[194,\"XYZ\",72,368.08,null]' href=\"#pfc2\">贪婪搜索算法</a>\n",
      "<a class=\"l\" data-dest-detail='[196,\"XYZ\",72,431.01,null]' href=\"#pfc4\">FS-BFS</a>\n",
      "<a class=\"l\" data-dest-detail='[197,\"XYZ\",72,740.93,null]' href=\"#pfc5\">推荐系统</a>\n",
      "<a class=\"l\" data-dest-detail='[197,\"XYZ\",72,296.17,null]' href=\"#pfc5\">协同过滤</a>\n",
      "<a class=\"l\" data-dest-detail='[199,\"XYZ\",72,336.09,null]' href=\"#pfc7\">基于用户的协同过滤算法</a>\n",
      "<a class=\"l\" data-dest-detail='[200,\"XYZ\",72,681.31,null]' href=\"#pfc8\">基于物品的协同过滤算法</a>\n",
      "<a class=\"l\" data-dest-detail='[200,\"XYZ\",72,540.81,null]' href=\"#pfc8\">Slope One</a>\n",
      "<a class=\"l\" data-dest-detail='[201,\"XYZ\",72,98,null]' href=\"#pfc9\">Baseline</a>\n",
      "<a class=\"l\" data-dest-detail='[202,\"XYZ\",72,110.84,null]' href=\"#pfca\">矩阵分解模型</a>\n",
      "<a class=\"l\" data-dest-detail='[204,\"XYZ\",72,280.83,null]' href=\"#pfcc\">信誉系统</a>\n",
      "<a class=\"l\" data-dest-detail='[205,\"XYZ\",72,389.51,null]' href=\"#pfcd\">基于排序学习的推荐算法</a>\n",
      "<a class=\"l\" data-dest-detail='[206,\"XYZ\",72,559.85,null]' href=\"#pfce\">基于信用的预测</a>\n",
      "<a class=\"l\" data-dest-detail='[206,\"XYZ\",72,106.16,null]' href=\"#pfce\">基于图的推荐算法</a>\n",
      "<a class=\"l\" data-dest-detail='[207,\"XYZ\",72,539.6,null]' href=\"#pfcf\">公开数据集：评分预测与推荐</a>\n",
      "<a class=\"l\" data-dest-detail='[207,\"XYZ\",72,481.07,null]' href=\"#pfcf\">MovieLens</a>\n",
      "<a class=\"l\" data-dest-detail='[207,\"XYZ\",72,326.59,null]' href=\"#pfcf\">Netflix</a>\n",
      "<a class=\"l\" data-dest-detail='[207,\"XYZ\",72,134.53,null]' href=\"#pfcf\">百度电影推荐算法创新大赛</a>\n",
      "<a class=\"l\" data-dest-detail='[209,\"XYZ\",72,740.93,null]' href=\"#pfd1\">信息抽取</a>\n",
      "<a class=\"l\" data-dest-detail='[209,\"XYZ\",72,599.31,null]' href=\"#pfd1\">VIPS</a>\n",
      "<a class=\"l\" data-dest-detail='[209,\"XYZ\",72,486.79,null]' href=\"#pfd1\">手写字识别</a>\n",
      "<a class=\"l\" data-dest-detail='[209,\"XYZ\",72,427.36,null]' href=\"#pfd1\">OCR</a>\n",
      "<a class=\"l\" data-dest-detail='[211,\"XYZ\",72,740.93,null]' href=\"#pfd3\">机器学习基础知识</a>\n",
      "<a class=\"l\" data-dest-detail='[211,\"XYZ\",72,599.18,null]' href=\"#pfd3\">泛化能力</a>\n",
      "<a class=\"l\" data-dest-detail='[211,\"XYZ\",72,334.2,null]' href=\"#pfd3\">交叉验证</a>\n",
      "<a class=\"l\" data-dest-detail='[211,\"XYZ\",72,205.96,null]' href=\"#pfd3\">Hold-Out方法</a>\n",
      "<a class=\"l\" data-dest-detail='[211,\"XYZ\",72,88.97,null]' href=\"#pfd3\">K折交叉验证</a>\n",
      "<a class=\"l\" data-dest-detail='[212,\"XYZ\",72,372.04,null]' href=\"#pfd4\">留一交叉验证</a>\n",
      "<a class=\"l\" data-dest-detail='[212,\"XYZ\",72,172.73,null]' href=\"#pfd4\">奥卡姆剃刀</a>\n",
      "<a class=\"l\" data-dest-detail='[213,\"XYZ\",72,691.27,null]' href=\"#pfd5\">没有免费午餐定理</a>\n",
      "<a class=\"l\" data-dest-detail='[213,\"XYZ\",72,626.19,null]' href=\"#pfd5\">经验法则</a>\n",
      "<a class=\"l\" data-dest-detail='[213,\"XYZ\",72,587.12,null]' href=\"#pfd5\">贪婪算法</a>\n",
      "<a class=\"l\" data-dest-detail='[213,\"XYZ\",72,548.04,null]' href=\"#pfd5\">在线机器学习</a>\n",
      "<a class=\"l\" data-dest-detail='[213,\"XYZ\",72,243.23,null]' href=\"#pfd5\">超参数优选</a>\n",
      "<a class=\"l\" data-dest-detail='[215,\"XYZ\",72,560.46,null]' href=\"#pfd7\">P/NP问题</a>\n",
      "<a class=\"l\" data-dest-detail='[216,\"XYZ\",72,710.96,null]' href=\"#pfd8\">收敛速度与复杂度</a>\n",
      "<a class=\"l\" data-dest-detail='[216,\"XYZ\",72,330.99,null]' href=\"#pfd8\">适定问题与非适定问题</a>\n",
      "<a class=\"l\" data-dest-detail='[216,\"XYZ\",72,89.01,null]' href=\"#pfd8\">欠定系统与超定系统</a>\n",
      "<a class=\"l\" data-dest-detail='[219,\"XYZ\",72,740.93,null]' href=\"#pfdb\">排序学习</a>\n",
      "<a class=\"l\" data-dest-detail='[220,\"XYZ\",72,615.45,null]' href=\"#pfdc\">背景介绍</a>\n",
      "<a class=\"l\" data-dest-detail='[221,\"XYZ\",72,559.77,null]' href=\"#pfdd\">研究团队</a>\n",
      "<a class=\"l\" data-dest-detail='[222,\"XYZ\",72,633.76,null]' href=\"#pfde\">PRank</a>\n",
      "<a class=\"l\" data-dest-detail='[222,\"XYZ\",72,406.07,null]' href=\"#pfde\">RankSVM</a>\n",
      "<a class=\"l\" data-dest-detail='[223,\"XYZ\",72,246.17,null]' href=\"#pfdf\">IR-SVM</a>\n",
      "<a class=\"l\" data-dest-detail='[223,\"XYZ\",72,165.71,null]' href=\"#pfdf\">SVM-MAP</a>\n",
      "<a class=\"l\" data-dest-detail='[223,\"XYZ\",72,87.11,null]' href=\"#pfdf\">RankNet</a>\n",
      "<a class=\"l\" data-dest-detail='[224,\"XYZ\",72,632.29,null]' href=\"#pfe0\">交叉熵损失函数</a>\n",
      "<a class=\"l\" data-dest-detail='[225,\"XYZ\",72,315.81,null]' href=\"#pfe1\">训练</a>\n",
      "<a class=\"l\" data-dest-detail='[227,\"XYZ\",72,653.41,null]' href=\"#pfe3\">批量更新</a>\n",
      "<a class=\"l\" data-dest-detail='[228,\"XYZ\",72,461.7,null]' href=\"#pfe4\">LambdaRank</a>\n",
      "<a class=\"l\" data-dest-detail='[228,\"XYZ\",72,246.38,null]' href=\"#pfe4\">LambdaMART</a>\n",
      "<a class=\"l\" data-dest-detail='[228,\"XYZ\",72,88.97,null]' href=\"#pfe4\">GBRank</a>\n",
      "<a class=\"l\" data-dest-detail='[229,\"XYZ\",72,670.75,null]' href=\"#pfe5\">GBlend</a>\n",
      "<a class=\"l\" data-dest-detail='[229,\"XYZ\",72,598.21,null]' href=\"#pfe5\">QBRank</a>\n",
      "<a class=\"l\" data-dest-detail='[229,\"XYZ\",72,507.84,null]' href=\"#pfe5\">ListNet</a>\n",
      "<a class=\"l\" data-dest-detail='[230,\"XYZ\",72,552.51,null]' href=\"#pfe6\">ListMLE</a>\n",
      "<a class=\"l\" data-dest-detail='[230,\"XYZ\",72,308.97,null]' href=\"#pfe6\">FRank</a>\n",
      "<a class=\"l\" data-dest-detail='[230,\"XYZ\",72,245.71,null]' href=\"#pfe6\">BoltzRank</a>\n",
      "<a class=\"l\" data-dest-detail='[230,\"XYZ\",72,166.41,null]' href=\"#pfe6\">SortNet</a>\n",
      "<a class=\"l\" data-dest-detail='[230,\"XYZ\",72,87.11,null]' href=\"#pfe6\">RankBoost</a>\n",
      "<a class=\"l\" data-dest-detail='[231,\"XYZ\",72,153.38,null]' href=\"#pfe7\">排名误差</a>\n",
      "<a class=\"l\" data-dest-detail='[232,\"XYZ\",72,296.25,null]' href=\"#pfe8\">弱学习器选择和赋权</a>\n",
      "<a class=\"l\" data-dest-detail='[234,\"XYZ\",72,535.3,null]' href=\"#pfea\">弱学习器的构造</a>\n",
      "<a class=\"l\" data-dest-detail='[235,\"XYZ\",72,334.2,null]' href=\"#pfeb\">二分反馈</a>\n",
      "<a class=\"l\" data-dest-detail='[237,\"XYZ\",72,449.15,null]' href=\"#pfed\">泛化误差</a>\n",
      "<a class=\"l\" data-dest-detail='[239,\"XYZ\",72,82.24,null]' href=\"#pfef\">SSRankBoost</a>\n",
      "<a class=\"l\" data-dest-detail='[240,\"XYZ\",72,673.74,null]' href=\"#pff0\">AdaRank</a>\n",
      "<a class=\"l\" data-dest-detail='[243,\"XYZ\",72,265.75,null]' href=\"#pff3\">AdaRank算法的缺陷</a>\n",
      "<a class=\"l\" data-dest-detail='[243,\"XYZ\",72,87.58,null]' href=\"#pff3\">改进的AdaRank算法</a>\n",
      "<a class=\"l\" data-dest-detail='[244,\"XYZ\",72,468.86,null]' href=\"#pff4\">NDCGBoost</a>\n",
      "<a class=\"l\" data-dest-detail='[244,\"XYZ\",72,388.17,null]' href=\"#pff4\">MPBoost</a>\n",
      "<a class=\"l\" data-dest-detail='[244,\"XYZ\",72,307.48,null]' href=\"#pff4\">Ranking Refinement</a>\n",
      "<a class=\"l\" data-dest-detail='[244,\"XYZ\",72,226.79,null]' href=\"#pff4\">RankCosine</a>\n",
      "<a class=\"l\" data-dest-detail='[244,\"XYZ\",72,109.98,null]' href=\"#pff4\">余弦损失函数</a>\n",
      "<a class=\"l\" data-dest-detail='[245,\"XYZ\",72,487.37,null]' href=\"#pff5\">基排名函数的赋权</a>\n",
      "<a class=\"l\" data-dest-detail='[246,\"XYZ\",72,503.74,null]' href=\"#pff6\">PermuRank</a>\n",
      "<a class=\"l\" data-dest-detail='[246,\"XYZ\",72,430.94,null]' href=\"#pff6\">IntervalRank</a>\n",
      "<a class=\"l\" data-dest-detail='[247,\"XYZ\",72,192.11,null]' href=\"#pff7\">CRR</a>\n",
      "<a class=\"l\" data-dest-detail='[248,\"XYZ\",72,308.26,null]' href=\"#pff8\">SoftRank</a>\n",
      "<a class=\"l\" data-dest-detail='[248,\"XYZ\",72,233.3,null]' href=\"#pff8\">BayesRank</a>\n",
      "<a class=\"l\" data-dest-detail='[248,\"XYZ\",72,160.2,null]' href=\"#pff8\">RankRLS</a>\n",
      "<a class=\"l\" data-dest-detail='[248,\"XYZ\",72,87.11,null]' href=\"#pff8\">RankGP</a>\n",
      "<a class=\"l\" data-dest-detail='[249,\"XYZ\",72,362.61,null]' href=\"#pff9\">SLR</a>\n",
      "<a class=\"l\" data-dest-detail='[249,\"XYZ\",72,275.63,null]' href=\"#pff9\">McRank</a>\n",
      "<a class=\"l\" data-dest-detail='[249,\"XYZ\",72,114.94,null]' href=\"#pff9\">系数排序学习</a>\n",
      "<a class=\"l\" data-dest-detail='[251,\"XYZ\",72,653.18,null]' href=\"#pffb\">联级排序模型</a>\n",
      "<a class=\"l\" data-dest-detail='[256,\"XYZ\",72,668.68,null]' href=\"#pf100\">排序逻辑回归模型</a>\n",
      "<a class=\"l\" data-dest-detail='[259,\"XYZ\",72,625.73,null]' href=\"#pf103\">序对协调排名方法</a>\n",
      "<a class=\"l\" data-dest-detail='[262,\"XYZ\",72,187.7,null]' href=\"#pf106\">公开数据集：排序学习</a>\n",
      "<a class=\"l\" data-dest-detail='[262,\"XYZ\",72,87.11,null]' href=\"#pf106\">LETOR</a>\n",
      "<a class=\"l\" data-dest-detail='[263,\"XYZ\",72,243.8,null]' href=\"#pf107\">Microsoft Learning to Rank</a>\n",
      "<a class=\"l\" data-dest-detail='[263,\"XYZ\",72,138.23,null]' href=\"#pf107\">Yahoo! Learning to Rank Challenge</a>\n",
      "<a class=\"l\" data-dest-detail='[264,\"XYZ\",72,643.41,null]' href=\"#pf108\">Yandex Internet Mathematics</a>\n",
      "<a class=\"l\" data-dest-detail='[264,\"XYZ\",72,526.82,null]' href=\"#pf108\">排序学习算法汇总表</a>\n",
      "<a class=\"l\" data-dest-detail='[267,\"XYZ\",72,740.93,null]' href=\"#pf10b\">度量指标</a>\n",
      "<a class=\"l\" data-dest-detail='[267,\"XYZ\",72,503.65,null]' href=\"#pf10b\">度量空间与测度论</a>\n",
      "<a class=\"l\" data-dest-detail='[267,\"XYZ\",72,439.23,null]' href=\"#pf10b\">范数</a>\n",
      "<a class=\"l\" data-dest-detail='[267,\"XYZ\",72,400.91,null]' href=\"#pf10b\">Hölder范数</a>\n",
      "<a class=\"l\" data-dest-detail='[268,\"XYZ\",72,637.33,null]' href=\"#pf10c\">曼哈顿范数</a>\n",
      "<a class=\"l\" data-dest-detail='[268,\"XYZ\",72,449.04,null]' href=\"#pf10c\">欧式范数</a>\n",
      "<a class=\"l\" data-dest-detail='[268,\"XYZ\",72,246.49,null]' href=\"#pf10c\">切比雪夫范数</a>\n",
      "<a class=\"l\" data-dest-detail='[268,\"XYZ\",72,83.84,null]' href=\"#pf10c\">L最大范数</a>\n",
      "<a class=\"l\" data-dest-detail='[269,\"XYZ\",72,473.93,null]' href=\"#pf10d\">距离和相似性度量</a>\n",
      "<a class=\"l\" data-dest-detail='[269,\"XYZ\",72,364.78,null]' href=\"#pf10d\">闵可夫斯基距离</a>\n",
      "<a class=\"l\" data-dest-detail='[270,\"XYZ\",72,304.55,null]' href=\"#pf10e\">Cayley距离</a>\n",
      "<a class=\"l\" data-dest-detail='[270,\"XYZ\",72,185.51,null]' href=\"#pf10e\">Ulam距离</a>\n",
      "<a class=\"l\" data-dest-detail='[270,\"XYZ\",72,89.01,null]' href=\"#pf10e\">汉明距离</a>\n",
      "<a class=\"l\" data-dest-detail='[271,\"XYZ\",72,378.52,null]' href=\"#pf10f\">余弦相似度</a>\n",
      "<a class=\"l\" data-dest-detail='[271,\"XYZ\",72,226.69,null]' href=\"#pf10f\">杰卡德系数</a>\n",
      "<a class=\"l\" data-dest-detail='[271,\"XYZ\",72,89.01,null]' href=\"#pf10f\">核相似度</a>\n",
      "<a class=\"l\" data-dest-detail='[272,\"XYZ\",72,634.71,null]' href=\"#pf110\">皮尔逊相关系数</a>\n",
      "<a class=\"l\" data-dest-detail='[272,\"XYZ\",72,307.44,null]' href=\"#pf110\">等级相关系数</a>\n",
      "<a class=\"l\" data-dest-detail='[276,\"XYZ\",72,592.28,null]' href=\"#pf114\">对数似然比</a>\n",
      "<a class=\"l\" data-dest-detail='[276,\"XYZ\",72,198.67,null]' href=\"#pf114\">局部敏感哈希</a>\n",
      "<a class=\"l\" data-dest-detail='[276,\"XYZ\",72,88.97,null]' href=\"#pf114\">SimHash</a>\n",
      "<a class=\"l\" data-dest-detail='[277,\"XYZ\",72,714.71,null]' href=\"#pf115\">MinHash</a>\n",
      "<a class=\"l\" data-dest-detail='[277,\"XYZ\",72,687.9,null]' href=\"#pf115\">推荐系统评价指标</a>\n",
      "<a class=\"l\" data-dest-detail='[277,\"XYZ\",72,519.65,null]' href=\"#pf115\">均方根误差</a>\n",
      "<a class=\"l\" data-dest-detail='[277,\"XYZ\",72,353.43,null]' href=\"#pf115\">平均绝对误差</a>\n",
      "<a class=\"l\" data-dest-detail='[277,\"XYZ\",72,230.29,null]' href=\"#pf115\">多样性</a>\n",
      "<a class=\"l\" data-dest-detail='[278,\"XYZ\",72,618.98,null]' href=\"#pf116\">A/B测试</a>\n",
      "<a class=\"l\" data-dest-detail='[278,\"XYZ\",72,439.59,null]' href=\"#pf116\">排名性能评价指标</a>\n",
      "<a class=\"l\" data-dest-detail='[278,\"XYZ\",72,342.8,null]' href=\"#pf116\">查准率</a>\n",
      "<a class=\"l\" data-dest-detail='[278,\"XYZ\",72,87.44,null]' href=\"#pf116\">召回率</a>\n",
      "<a class=\"l\" data-dest-detail='[280,\"XYZ\",72,107.23,null]' href=\"#pf118\">平均精度均值</a>\n",
      "<a class=\"l\" data-dest-detail='[281,\"XYZ\",72,561.41,null]' href=\"#pf119\">折损累积增益</a>\n",
      "<a class=\"l\" data-dest-detail='[282,\"XYZ\",72,479.76,null]' href=\"#pf11a\">倒数排名均值</a>\n",
      "<a class=\"l\" data-dest-detail='[282,\"XYZ\",72,284.88,null]' href=\"#pf11a\">倒数排名期望</a>\n",
      "<a class=\"l\" data-dest-detail='[283,\"XYZ\",72,676.75,null]' href=\"#pf11b\">pFound</a>\n",
      "<a class=\"l\" data-dest-detail='[283,\"XYZ\",72,473.53,null]' href=\"#pf11b\">胜者全拿</a>\n",
      "<a class=\"l\" data-dest-detail='[283,\"XYZ\",72,393.82,null]' href=\"#pf11b\">信息度量</a>\n",
      "<a class=\"l\" data-dest-detail='[283,\"XYZ\",72,206.49,null]' href=\"#pf11b\">熵</a>\n",
      "<a class=\"l\" data-dest-detail='[285,\"XYZ\",72,686.03,null]' href=\"#pf11d\">联合熵</a>\n",
      "<a class=\"l\" data-dest-detail='[285,\"XYZ\",72,509.1,null]' href=\"#pf11d\">交叉熵</a>\n",
      "<a class=\"l\" data-dest-detail='[285,\"XYZ\",72,347.26,null]' href=\"#pf11d\">条件熵</a>\n",
      "<a class=\"l\" data-dest-detail='[285,\"XYZ\",72,87.44,null]' href=\"#pf11d\">KL散度</a>\n",
      "<a class=\"l\" data-dest-detail='[286,\"XYZ\",72,88.97,null]' href=\"#pf11e\">互信息</a>\n",
      "<a class=\"l\" data-dest-detail='[287,\"XYZ\",72,106.02,null]' href=\"#pf11f\">詹森",
      "香农散度</a>\n",
      "<a class=\"l\" data-dest-detail='[291,\"XYZ\",72,551.18,null]' href=\"#pf123\">第四部分 数学基础</a>\n",
      "<a class=\"l\" data-dest-detail='[293,\"XYZ\",72,740.93,null]' href=\"#pf125\">矩阵论</a>\n",
      "<a class=\"l\" data-dest-detail='[293,\"XYZ\",72,296.22,null]' href=\"#pf125\">特征系统</a>\n",
      "<a class=\"l\" data-dest-detail='[293,\"XYZ\",72,242.45,null]' href=\"#pf125\">特征值与特征向量</a>\n",
      "<a class=\"l\" data-dest-detail='[294,\"XYZ\",72,197.2,null]' href=\"#pf126\">二次型</a>\n",
      "<a class=\"l\" data-dest-detail='[295,\"XYZ\",72,434.69,null]' href=\"#pf127\">严格对角占优矩阵</a>\n",
      "<a class=\"l\" data-dest-detail='[295,\"XYZ\",72,286.51,null]' href=\"#pf127\">随机矩阵</a>\n",
      "<a class=\"l\" data-dest-detail='[296,\"XYZ\",72,658.98,null]' href=\"#pf128\">特征系统的解</a>\n",
      "<a class=\"l\" data-dest-detail='[296,\"XYZ\",72,84.42,null]' href=\"#pf128\">矩阵微分</a>\n",
      "<a class=\"l\" data-dest-detail='[297,\"XYZ\",72,669.53,null]' href=\"#pf129\">函数y=Ax的偏导</a>\n",
      "<a class=\"l\" data-dest-detail='[297,\"XYZ\",72,90.07,null]' href=\"#pf129\">函数c = yT A x的偏导</a>\n",
      "<a class=\"l\" data-dest-detail='[299,\"XYZ\",72,79.56,null]' href=\"#pf12b\">矩阵迹的偏导</a>\n",
      "<a class=\"l\" data-dest-detail='[300,\"XYZ\",72,415.51,null]' href=\"#pf12c\">行列式的偏导</a>\n",
      "<a class=\"l\" data-dest-detail='[300,\"XYZ\",72,233.03,null]' href=\"#pf12c\">逆矩阵的偏导</a>\n",
      "<a class=\"l\" data-dest-detail='[303,\"XYZ\",72,740.93,null]' href=\"#pf12f\">优化理论</a>\n",
      "<a class=\"l\" data-dest-detail='[303,\"XYZ\",72,352.8,null]' href=\"#pf12f\">线性规划</a>\n",
      "<a class=\"l\" data-dest-detail='[304,\"XYZ\",72,501.16,null]' href=\"#pf130\">基本概念</a>\n",
      "<a class=\"l\" data-dest-detail='[305,\"XYZ\",72,709.1,null]' href=\"#pf131\">标准型</a>\n",
      "<a class=\"l\" data-dest-detail='[305,\"XYZ\",72,520.28,null]' href=\"#pf131\">对偶问题</a>\n",
      "<a class=\"l\" data-dest-detail='[307,\"XYZ\",72,302.88,null]' href=\"#pf133\">基</a>\n",
      "<a class=\"l\" data-dest-detail='[308,\"XYZ\",72,506.49,null]' href=\"#pf134\">拉格朗日乘子与影子价格</a>\n",
      "<a class=\"l\" data-dest-detail='[310,\"XYZ\",72,370.69,null]' href=\"#pf136\">单纯形法</a>\n",
      "<a class=\"l\" data-dest-detail='[311,\"XYZ\",72,88.88,null]' href=\"#pf137\">内点法</a>\n",
      "<a class=\"l\" data-dest-detail='[312,\"XYZ\",72,295.56,null]' href=\"#pf138\">非线性规划</a>\n",
      "<a class=\"l\" data-dest-detail='[313,\"XYZ\",72,464.25,null]' href=\"#pf139\">基本概念</a>\n",
      "<a class=\"l\" data-dest-detail='[314,\"XYZ\",72,286.47,null]' href=\"#pf13a\">拉格朗日乘子法</a>\n",
      "<a class=\"l\" data-dest-detail='[318,\"XYZ\",72,585.56,null]' href=\"#pf13e\">对偶问题与KKT条件</a>\n",
      "<a class=\"l\" data-dest-detail='[321,\"XYZ\",72,368.23,null]' href=\"#pf141\">梯度下降法</a>\n",
      "<a class=\"l\" data-dest-detail='[323,\"XYZ\",72,560.62,null]' href=\"#pf143\">共轭梯度下降法</a>\n",
      "<a class=\"l\" data-dest-detail='[323,\"XYZ\",72,185.79,null]' href=\"#pf143\">坐标下降法</a>\n",
      "<a class=\"l\" data-dest-detail='[324,\"XYZ\",72,230.64,null]' href=\"#pf144\">次梯度法</a>\n",
      "<a class=\"l\" data-dest-detail='[324,\"XYZ\",72,109.24,null]' href=\"#pf144\">牛顿法</a>\n",
      "<a class=\"l\" data-dest-detail='[325,\"XYZ\",72,107.24,null]' href=\"#pf145\">拟牛顿法</a>\n",
      "<a class=\"l\" data-dest-detail='[327,\"XYZ\",72,370.12,null]' href=\"#pf147\">DFP变尺度法</a>\n",
      "<a class=\"l\" data-dest-detail='[327,\"XYZ\",72,261.69,null]' href=\"#pf147\">BFGS</a>\n",
      "<a class=\"l\" data-dest-detail='[327,\"XYZ\",72,88.8,null]' href=\"#pf147\">分枝定界法</a>\n",
      "<a class=\"l\" data-dest-detail='[329,\"XYZ\",72,500.76,null]' href=\"#pf149\">割平面法</a>\n",
      "<a class=\"l\" data-dest-detail='[329,\"XYZ\",72,422.25,null]' href=\"#pf149\">随机搜索算法</a>\n",
      "<a class=\"l\" data-dest-detail='[330,\"XYZ\",72,653.79,null]' href=\"#pf14a\">模拟退火算法</a>\n",
      "<a class=\"l\" data-dest-detail='[332,\"XYZ\",72,596.68,null]' href=\"#pf14c\">遗传算法</a>\n",
      "<a class=\"l\" data-dest-detail='[332,\"XYZ\",72,546.83,null]' href=\"#pf14c\">网格搜索算法</a>\n",
      "<a class=\"l\" data-dest-detail='[332,\"XYZ\",72,378.64,null]' href=\"#pf14c\">网格游走算法</a>\n",
      "<a class=\"l\" data-dest-detail='[333,\"XYZ\",72,615.08,null]' href=\"#pf14d\">坐标轮换法</a>\n",
      "<a class=\"l\" data-dest-detail='[333,\"XYZ\",72,272.55,null]' href=\"#pf14d\">共轭方向法</a>\n",
      "<a class=\"l\" data-dest-detail='[335,\"XYZ\",72,692.14,null]' href=\"#pf14f\">Nelder-Mead法</a>\n",
      "<a class=\"l\" data-dest-detail='[336,\"XYZ\",72,397.45,null]' href=\"#pf150\">Levenberg-Marquardt算法</a>\n",
      "<a class=\"l\" data-dest-detail='[337,\"XYZ\",72,264.62,null]' href=\"#pf151\">信赖域方法</a>\n",
      "<a class=\"l\" data-dest-detail='[337,\"XYZ\",72,214.68,null]' href=\"#pf151\">罚函数法</a>\n",
      "<a class=\"l\" data-dest-detail='[337,\"XYZ\",72,88.97,null]' href=\"#pf151\">障碍函数</a>\n",
      "<a class=\"l\" data-dest-detail='[338,\"XYZ\",72,266.23,null]' href=\"#pf152\">范数逼近</a>\n",
      "<a class=\"l\" data-dest-detail='[341,\"XYZ\",72,740.93,null]' href=\"#pf155\">统计学</a>\n",
      "<a class=\"l\" data-dest-detail='[341,\"XYZ\",72,372.13,null]' href=\"#pf155\">概率论基础</a>\n",
      "<a class=\"l\" data-dest-detail='[346,\"XYZ\",72,468.71,null]' href=\"#pf15a\">随机变量的数字特征</a>\n",
      "<a class=\"l\" data-dest-detail='[351,\"XYZ\",72,460.89,null]' href=\"#pf15f\">概率分布</a>\n",
      "<a class=\"l\" data-dest-detail='[358,\"XYZ\",72,602.05,null]' href=\"#pf166\">概率不等式</a>\n",
      "<a class=\"l\" data-dest-detail='[358,\"XYZ\",72,550.43,null]' href=\"#pf166\">集中不等式</a>\n",
      "<a class=\"l\" data-dest-detail='[364,\"XYZ\",72,612.27,null]' href=\"#pf16c\">大数定律</a>\n",
      "<a class=\"l\" data-dest-detail='[366,\"XYZ\",72,303.48,null]' href=\"#pf16e\">中心极限定理</a>\n",
      "<a class=\"l\" data-dest-detail='[368,\"XYZ\",72,463.92,null]' href=\"#pf170\">统计与抽样分布</a>\n",
      "<a class=\"l\" data-dest-detail='[371,\"XYZ\",72,299.55,null]' href=\"#pf173\">随机模型与抽样方法</a>\n",
      "<a class=\"l\" data-dest-detail='[371,\"XYZ\",72,158.24,null]' href=\"#pf173\">蒙特卡洛方法</a>\n",
      "<a class=\"l\" data-dest-detail='[374,\"XYZ\",72,142.56,null]' href=\"#pf176\">马尔科夫链蒙特卡罗法</a>\n",
      "<a class=\"l\" data-dest-detail='[375,\"XYZ\",72,584.3,null]' href=\"#pf177\">参数估计</a>\n",
      "<a class=\"l\" data-dest-detail='[375,\"XYZ\",72,397.17,null]' href=\"#pf177\">最大似然估计</a>\n",
      "<a class=\"l\" data-dest-detail='[376,\"XYZ\",72,252.18,null]' href=\"#pf178\">贝叶斯估计</a>\n",
      "<a class=\"l\" data-dest-detail='[379,\"XYZ\",72,560,null]' href=\"#pf17b\">区间估计</a>\n",
      "<a class=\"l\" data-dest-detail='[379,\"XYZ\",72,175.07,null]' href=\"#pf17b\">假设检验</a>\n",
      "<a class=\"l\" data-dest-detail='[380,\"XYZ\",72,239.37,null]' href=\"#pf17c\">参数假设检验</a>\n",
      "<a class=\"l\" data-dest-detail='[382,\"XYZ\",72,400.57,null]' href=\"#pf17e\">非参数假设检验</a>\n",
      "<a class=\"l\" data-dest-detail='[383,\"XYZ\",72,292.23,null]' href=\"#pf17f\">显著性检验</a>\n",
      "<a class=\"l\" data-dest-detail='[384,\"XYZ\",72,107.87,null]' href=\"#pf180\">Wilcoxon-Mann-Whitney检验</a>\n",
      "<a class=\"l\" data-dest-detail='[385,\"XYZ\",72,328.77,null]' href=\"#pf181\">一般加法模型</a>\n",
      "<a class=\"l\" data-dest-detail='[385,\"XYZ\",72,270.6,null]' href=\"#pf181\">Copula函数</a>\n",
      "<a class=\"l\" data-dest-detail='[389,\"XYZ\",72,551.15,null]' href=\"#pf185\">第五部分 决策分析</a>\n",
      "<a class=\"l\" data-dest-detail='[393,\"XYZ\",72,740.93,null]' href=\"#pf189\">数据包络分析</a>\n",
      "<a class=\"l\" data-dest-detail='[393,\"XYZ\",72,541.03,null]' href=\"#pf189\">引言</a>\n",
      "<a class=\"l\" data-dest-detail='[395,\"XYZ\",72,118.95,null]' href=\"#pf18b\">两阶段方法</a>\n",
      "<a class=\"l\" data-dest-detail='[397,\"XYZ\",72,221.66,null]' href=\"#pf18d\">DEA变体模型</a>\n",
      "<a class=\"l\" data-dest-detail='[399,\"XYZ\",72,221.07,null]' href=\"#pf18f\">一般性DEA模型</a>\n",
      "<a class=\"l\" data-dest-detail='[400,\"XYZ\",72,374.64,null]' href=\"#pf190\">退化的DEA模型</a>\n",
      "<a class=\"l\" data-dest-detail='[403,\"XYZ\",72,690.67,null]' href=\"#pf193\">逆数据包络分析模型</a>\n",
      "<a class=\"l\" data-dest-detail='[404,\"XYZ\",72,720.09,null]' href=\"#pf194\">计算问题</a>\n",
      "<a class=\"l\" data-dest-detail='[405,\"XYZ\",72,317.09,null]' href=\"#pf195\">数据包络分析与数据挖掘</a>\n",
      "<a class=\"l\" data-dest-detail='[407,\"XYZ\",72,467.98,null]' href=\"#pf197\">基于数据包络分析的排名模型</a>\n",
      "<a class=\"l\" data-dest-detail='[408,\"XYZ\",72,692.14,null]' href=\"#pf198\">交叉评价方法</a>\n",
      "<a class=\"l\" data-dest-detail='[409,\"XYZ\",72,615.05,null]' href=\"#pf199\">超效率排名模型</a>\n",
      "<a class=\"l\" data-dest-detail='[409,\"XYZ\",72,242.42,null]' href=\"#pf199\">公共权值向量集</a>\n",
      "<a class=\"l\" data-dest-detail='[410,\"XYZ\",72,652.43,null]' href=\"#pf19a\">DR/DEA方法</a>\n",
      "<a class=\"l\" data-dest-detail='[410,\"XYZ\",72,113.2,null]' href=\"#pf19a\">基于切比雪夫距离的排名方法</a>\n",
      "<a class=\"l\" data-dest-detail='[412,\"XYZ\",72,507.54,null]' href=\"#pf19c\">PCA排名</a>\n",
      "<a class=\"l\" data-dest-detail='[413,\"XYZ\",72,740.93,null]' href=\"#pf19d\">AHP</a>\n",
      "<a class=\"l\" data-dest-detail='[414,\"XYZ\",72,740.93,null]' href=\"#pf19e\">基本步骤</a>\n",
      "<a class=\"l\" data-dest-detail='[414,\"XYZ\",72,424.91,null]' href=\"#pf19e\">构造判断矩阵</a>\n",
      "<a class=\"l\" data-dest-detail='[415,\"XYZ\",72,519.69,null]' href=\"#pf19f\">一致性检验</a>\n",
      "<a class=\"l\" data-dest-detail='[416,\"XYZ\",72,543.13,null]' href=\"#pf1a0\">组合权重和组合一致性检验</a>\n",
      "<a class=\"l\" data-dest-detail='[417,\"XYZ\",72,508.59,null]' href=\"#pf1a1\">判断矩阵主特征值</a>\n",
      "<a class=\"l\" data-dest-detail='[418,\"XYZ\",72,327.24,null]' href=\"#pf1a2\">方根法</a>\n",
      "<a class=\"l\" data-dest-detail='[419,\"XYZ\",72,665.17,null]' href=\"#pf1a3\">和积法</a>\n",
      "<a class=\"l\" data-dest-detail='[419,\"XYZ\",72,315.54,null]' href=\"#pf1a3\">AHP与排名</a>\n",
      "<a class=\"l\" data-dest-detail='[419,\"XYZ\",72,264.7,null]' href=\"#pf1a3\">排名聚合</a>\n",
      "<a class=\"l\" data-dest-detail='[420,\"XYZ\",72,586.98,null]' href=\"#pf1a4\">因子排名</a>\n",
      "<a class=\"l\" data-dest-detail='[421,\"XYZ\",72,603.61,null]' href=\"#pf1a5\">AHP与成对比较</a>\n",
      "<a class=\"l\" data-dest-detail='[421,\"XYZ\",72,395.76,null]' href=\"#pf1a5\">排序逆转</a>\n",
      "<a class=\"l\" data-dest-detail='[423,\"XYZ\",72,740.93,null]' href=\"#pf1a7\">ELECTRE</a>\n",
      "<a class=\"l\" data-dest-detail='[423,\"XYZ\",72,322.23,null]' href=\"#pf1a7\">偏好模型</a>\n",
      "<a class=\"l\" data-dest-detail='[424,\"XYZ\",72,345.61,null]' href=\"#pf1a8\">基本步骤</a>\n",
      "<a class=\"l\" data-dest-detail='[424,\"XYZ\",72,217.06,null]' href=\"#pf1a8\">确定阈值</a>\n",
      "<a class=\"l\" data-dest-detail='[425,\"XYZ\",72,689.62,null]' href=\"#pf1a9\">计算一致优先度、非一致优先度</a>\n",
      "<a class=\"l\" data-dest-detail='[425,\"XYZ\",72,271.43,null]' href=\"#pf1a9\">计算可信度</a>\n",
      "<a class=\"l\" data-dest-detail='[425,\"XYZ\",72,89.01,null]' href=\"#pf1a9\">排名</a>\n",
      "<a class=\"l\" data-dest-detail='[427,\"XYZ\",72,740.93,null]' href=\"#pf1ab\">PROMETHEE</a>\n",
      "<a class=\"l\" data-dest-detail='[431,\"XYZ\",72,740.93,null]' href=\"#pf1af\">TOPSIS</a>\n",
      "<a class=\"l\" data-dest-detail='[433,\"XYZ\",72,740.93,null]' href=\"#pf1b1\">偏好模型</a>\n",
      "<a class=\"l\" data-dest-detail='[433,\"XYZ\",72,599.39,null]' href=\"#pf1b1\">WPM: Weighted Product Model</a>\n",
      "<a class=\"l\" data-dest-detail='[433,\"XYZ\",72,556.2,null]' href=\"#pf1b1\">WSM: Weighted Sum Model</a>\n",
      "<a class=\"l\" data-dest-detail='[433,\"XYZ\",72,518.8,null]' href=\"#pf1b1\">SAR: Simple Additive Ranking</a>\n",
      "<a class=\"l\" data-dest-detail='[433,\"XYZ\",72,481.39,null]' href=\"#pf1b1\">SIR: Superiority and Inferiority Ranking</a>\n",
      "<a class=\"l\" data-dest-detail='[21,\"XYZ\",72,551.12,null]' href=\"#pf15\"><div class=\"d m1\" style=\"border-style:none;position:absolute;left:123.854321px;bottom:999.805402px;width:144.060000px;height:11.153000px;background-color:rgba(255,255,255,0.000001);\"></div></a>\n",
      "<a class=\"l\" data-dest-detail='[25,\"XYZ\",72,740.93,null]' href=\"#pf19\"><div class=\"d m1\" style=\"border-style:none;position:absolute;left:123.854321px;bottom:948.939121px;width:102.906000px;height:9.797000px;background-color:rgba(255,255,255,0.000001);\"></div></a>\n",
      "<a class=\"l\" data-dest-detail='[26,\"XYZ\",72,616.48,null]' href=\"#pf1a\"><div class=\"d m1\" style=\"border-style:none;position:absolute;left:150.949173px;bottom:916.231259px;width:76.654000px;height:9.671000px;background-color:rgba(255,255,255,0.000001);\"></div></a>\n",
      "<a class=\"l\" data-dest-detail='[26,\"XYZ\",72,445.11,null]' href=\"#pf1a\"><div class=\"d m1\" style=\"border-style:none;position:absolute;left:150.949173px;bottom:883.306652px;width:88.930000px;height:9.713000px;background-color:rgba(255,255,255,0.000001);\"></div></a>\n",
      "<a class=\"l\" data-dest-detail='[27,\"XYZ\",72,519.79,null]' href=\"#pf1b\"><div class=\"d m1\" style=\"border-style:none;position:absolute;left:150.949173px;bottom:848.087300px;width:83.658000px;height:11.089000px;background-color:rgba(255,255,255,0.000001);\"></div></a>\n",
      "<a class=\"l\" data-dest-detail='[29,\"XYZ\",72,740.93,null]' href=\"#pf1d\"><div class=\"d m1\" style=\"border-style:none;position:absolute;left:123.854321px;bottom:799.170004px;width:123.907000px;height:9.839000px;background-color:rgba(255,255,255,0.000001);\"></div></a>\n",
      "<a class=\"l\" data-dest-detail='[29,\"XYZ\",72,369.52,null]' href=\"#pf1d\"><div class=\"d m1\" style=\"border-style:none;position:absolute;left:150.949173px;bottom:766.462142px;width:87.155000px;height:9.713000px;background-color:rgba(255,255,255,0.000001);\"></div></a>\n",
      "<a class=\"l\" data-dest-detail='[29,\"XYZ\",72,275.07,null]' href=\"#pf1d\"><div class=\"d m1\" style=\"border-style:none;position:absolute;left:150.949173px;bottom:731.244510px;width:51.001000px;height:9.581000px;background-color:rgba(255,255,255,0.000001);\"></div></a>\n",
      "<a class=\"l\" data-dest-detail='[30,\"XYZ\",72,610.53,null]' href=\"#pf1e\"><div class=\"d m1\" style=\"border-style:none;position:absolute;left:150.949173px;bottom:698.390431px;width:56.840000px;height:9.582000px;background-color:rgba(255,255,255,0.000001);\"></div></a>\n",
      "<a class=\"l\" data-dest-detail='[33,\"XYZ\",72,740.93,null]' href=\"#pf21\"><div class=\"d m1\" style=\"border-style:none;position:absolute;left:123.854321px;bottom:649.547104px;width:81.905000px;height:9.797000px;background-color:rgba(255,255,255,0.000001);\"></div></a>\n",
      "<a class=\"l\" data-dest-detail='[33,\"XYZ\",72,505.66,null]' href=\"#pf21\"><div class=\"d m1\" style=\"border-style:none;position:absolute;left:150.949173px;bottom:614.400000px;width:76.654000px;height:11.089000px;background-color:rgba(255,255,255,0.000001);\"></div></a>\n",
      "<a class=\"l\" data-dest-detail='[35,\"XYZ\",72,740.93,null]' href=\"#pf23\"><div class=\"d m1\" style=\"border-style:none;position:absolute;left:123.854321px;bottom:565.556672px;width:139.910000px;height:9.797000px;background-color:rgba(255,255,255,0.000001);\"></div></a>\n",
      "<a class=\"l\" data-dest-detail='[35,\"XYZ\",72,352.99,null]' href=\"#pf23\"><div class=\"d m1\" style=\"border-style:none;position:absolute;left:150.949173px;bottom:530.409569px;width:99.735000px;height:11.089000px;background-color:rgba(255,255,255,0.000001);\"></div></a>\n",
      "<a class=\"l\" data-dest-detail='[36,\"XYZ\",72,546.69,null]' href=\"#pf24\"><div class=\"d m1\" style=\"border-style:none;position:absolute;left:150.949173px;bottom:497.557210px;width:162.738000px;height:11.089000px;background-color:rgba(255,255,255,0.000001);\"></div></a>\n",
      "<a class=\"l\" data-dest-detail='[36,\"XYZ\",72,78.17,null]' href=\"#pf24\"><div class=\"d m1\" style=\"border-style:none;position:absolute;left:150.949173px;bottom:464.704851px;width:87.155000px;height:11.088000px;background-color:rgba(255,255,255,0.000001);\"></div></a>\n",
      "<a class=\"l\" data-dest-detail='[37,\"XYZ\",72,565.76,null]' href=\"#pf25\"><div class=\"d m1\" style=\"border-style:none;position:absolute;left:150.949173px;bottom:431.852493px;width:69.787000px;height:9.949000px;background-color:rgba(255,255,255,0.000001);\"></div></a>\n",
      "<a class=\"l\" data-dest-detail='[39,\"XYZ\",72,740.93,null]' href=\"#pf27\"><div class=\"d m1\" style=\"border-style:none;position:absolute;left:123.854321px;bottom:383.007445px;width:123.907000px;height:9.797000px;background-color:rgba(255,255,255,0.000001);\"></div></a>\n",
      "<a class=\"l\" data-dest-detail='[39,\"XYZ\",72,599.39,null]' href=\"#pf27\"><div class=\"d m1\" style=\"border-style:none;position:absolute;left:150.949173px;bottom:347.860341px;width:129.158000px;height:11.089000px;background-color:rgba(255,255,255,0.000001);\"></div></a>\n",
      "<a class=\"l\" data-dest-detail='[40,\"XYZ\",72,534,null]' href=\"#pf28\"><div class=\"d m1\" style=\"border-style:none;position:absolute;left:150.949173px;bottom:314.104878px;width:70.827000px;height:10.475000px;background-color:rgba(255,255,255,0.000001);\"></div></a>\n",
      "<a class=\"l\" data-dest-detail='[41,\"XYZ\",72,139.18,null]' href=\"#pf29\"><div class=\"d m1\" style=\"border-style:none;position:absolute;left:192.493697px;bottom:281.252520px;width:164.639000px;height:10.475000px;background-color:rgba(255,255,255,0.000001);\"></div></a>\n",
      "<a class=\"l\" data-dest-detail='[41,\"XYZ\",72,90.07,null]' href=\"#pf29\"><div class=\"d m1\" style=\"border-style:none;position:absolute;left:192.493697px;bottom:248.400161px;width:111.779000px;height:11.614000px;background-color:rgba(255,255,255,0.000001);\"></div></a>\n",
      "<a class=\"l\" data-dest-detail='[42,\"XYZ\",72,681.28,null]' href=\"#pf2a\"><div class=\"d m1\" style=\"border-style:none;position:absolute;left:192.493697px;bottom:215.547803px;width:132.854000px;height:10.474000px;background-color:rgba(255,255,255,0.000001);\"></div></a>\n",
      "<a class=\"l\" data-dest-detail='[42,\"XYZ\",72,598.21,null]' href=\"#pf2a\"><div class=\"d m1\" style=\"border-style:none;position:absolute;left:192.493697px;bottom:183.598549px;width:112.819000px;height:9.949000px;background-color:rgba(255,255,255,0.000001);\"></div></a>\n",
      "<a class=\"l\" data-dest-detail='[42,\"XYZ\",72,552.53,null]' href=\"#pf2a\"><div class=\"d m1\" style=\"border-style:none;position:absolute;left:150.949173px;bottom:149.843086px;width:123.330000px;height:11.613000px;background-color:rgba(255,255,255,0.000001);\"></div></a>\n",
      "<a class=\"l\" data-dest-detail='[42,\"XYZ\",72,130.61,null]' href=\"#pf2a\"><div class=\"d m1\" style=\"border-style:none;position:absolute;left:150.949173px;bottom:1253.219944px;width:66.206000px;height:9.949000px;background-color:rgba(255,255,255,0.000001);\"></div></a>\n",
      "<a class=\"l\" data-dest-detail='[44,\"XYZ\",72,535.81,null]' href=\"#pf2c\"><div class=\"d m1\" style=\"border-style:none;position:absolute;left:150.949173px;bottom:1220.281575px;width:70.007000px;height:9.949000px;background-color:rgba(255,255,255,0.000001);\"></div></a>\n",
      "<a class=\"l\" data-dest-detail='[44,\"XYZ\",72,475.24,null]' href=\"#pf2c\"><div class=\"d m1\" style=\"border-style:none;position:absolute;left:150.949173px;bottom:1187.341486px;width:48.376000px;height:9.949000px;background-color:rgba(255,255,255,0.000001);\"></div></a>\n",
      "<a class=\"l\" data-dest-detail='[45,\"XYZ\",72,395.98,null]' href=\"#pf2d\"><div class=\"d m1\" style=\"border-style:none;position:absolute;left:192.493697px;bottom:1153.500013px;width:125.819000px;height:10.474000px;background-color:rgba(255,255,255,0.000001);\"></div></a>\n",
      "<a class=\"l\" data-dest-detail='[46,\"XYZ\",72,534.96,null]' href=\"#pf2e\"><div class=\"d m1\" style=\"border-style:none;position:absolute;left:150.949173px;bottom:1121.463029px;width:57.932000px;height:9.949000px;background-color:rgba(255,255,255,0.000001);\"></div></a>\n",
      "<a class=\"l\" data-dest-detail='[46,\"XYZ\",72,374.19,null]' href=\"#pf2e\"><div class=\"d m1\" style=\"border-style:none;position:absolute;left:150.949173px;bottom:1088.522940px;width:72.213000px;height:9.950000px;background-color:rgba(255,255,255,0.000001);\"></div></a>\n",
      "<a class=\"l\" data-dest-detail='[46,\"XYZ\",72,134.64,null]' href=\"#pf2e\"><div class=\"d m1\" style=\"border-style:none;position:absolute;left:150.949173px;bottom:1055.584572px;width:88.478000px;height:9.949000px;background-color:rgba(255,255,255,0.000001);\"></div></a>\n",
      "<a class=\"l\" data-dest-detail='[47,\"XYZ\",72,703.53,null]' href=\"#pf2f\"><div class=\"d m1\" style=\"border-style:none;position:absolute;left:150.949173px;bottom:1022.644483px;width:109.878000px;height:9.950000px;background-color:rgba(255,255,255,0.000001);\"></div></a>\n",
      "<a class=\"l\" data-dest-detail='[47,\"XYZ\",72,666.13,null]' href=\"#pf2f\"><div class=\"d m1\" style=\"border-style:none;position:absolute;left:150.949173px;bottom:988.803010px;width:119.014000px;height:10.474000px;background-color:rgba(255,255,255,0.000001);\"></div></a>\n",
      "<a class=\"l\" data-dest-detail='[47,\"XYZ\",72,628.72,null]' href=\"#pf2f\"><div class=\"d m1\" style=\"border-style:none;position:absolute;left:150.949173px;bottom:955.862922px;width:112.640000px;height:10.475000px;background-color:rgba(255,255,255,0.000001);\"></div></a>\n",
      "<a class=\"l\" data-dest-detail='[49,\"XYZ\",72,740.93,null]' href=\"#pf31\"><div class=\"d m1\" style=\"border-style:none;position:absolute;left:123.854321px;bottom:907.705954px;width:134.408000px;height:9.839000px;background-color:rgba(255,255,255,0.000001);\"></div></a>\n",
      "<a class=\"l\" data-dest-detail='[49,\"XYZ\",72,598.94,null]' href=\"#pf31\"><div class=\"d m1\" style=\"border-style:none;position:absolute;left:150.949173px;bottom:874.910362px;width:87.155000px;height:9.713000px;background-color:rgba(255,255,255,0.000001);\"></div></a>\n",
      "<a class=\"l\" data-dest-detail='[50,\"XYZ\",72,692.1,null]' href=\"#pf32\"><div class=\"d m1\" style=\"border-style:none;position:absolute;left:150.949173px;bottom:841.899745px;width:76.654000px;height:9.797000px;background-color:rgba(255,255,255,0.000001);\"></div></a>\n",
      "<a class=\"l\" data-dest-detail='[50,\"XYZ\",72,106.16,null]' href=\"#pf32\"><div class=\"d m1\" style=\"border-style:none;position:absolute;left:150.949173px;bottom:806.666631px;width:76.654000px;height:11.088000px;background-color:rgba(255,255,255,0.000001);\"></div></a>\n",
      "<a class=\"l\" data-dest-detail='[51,\"XYZ\",72,309.57,null]' href=\"#pf33\"><div class=\"d m1\" style=\"border-style:none;position:absolute;left:150.949173px;bottom:773.726542px;width:77.515000px;height:9.949000px;background-color:rgba(255,255,255,0.000001);\"></div></a>\n",
      "<a class=\"l\" data-dest-detail='[53,\"XYZ\",72,740.93,null]' href=\"#pf35\"><div class=\"d m1\" style=\"border-style:none;position:absolute;left:123.854321px;bottom:724.738718px;width:134.408000px;height:9.797000px;background-color:rgba(255,255,255,0.000001);\"></div></a>\n",
      "<a class=\"l\" data-dest-detail='[53,\"XYZ\",72,599.39,null]' href=\"#pf35\"><div class=\"d m1\" style=\"border-style:none;position:absolute;left:150.949173px;bottom:689.505604px;width:87.155000px;height:11.088000px;background-color:rgba(255,255,255,0.000001);\"></div></a>\n",
      "<a class=\"l\" data-dest-detail='[53,\"XYZ\",72,275.63,null]' href=\"#pf35\"><div class=\"d m1\" style=\"border-style:none;position:absolute;left:150.949173px;bottom:655.662411px;width:72.307000px;height:10.107000px;background-color:rgba(255,255,255,0.000001);\"></div></a>\n",
      "<a class=\"l\" data-dest-detail='[54,\"XYZ\",72,613.01,null]' href=\"#pf36\"><div class=\"d m1\" style=\"border-style:none;position:absolute;left:150.949173px;bottom:623.625427px;width:97.509000px;height:11.089000px;background-color:rgba(255,255,255,0.000001);\"></div></a>\n",
      "<a class=\"l\" data-dest-detail='[54,\"XYZ\",72,256.36,null]' href=\"#pf36\"><div class=\"d m1\" style=\"border-style:none;position:absolute;left:150.949173px;bottom:590.687058px;width:97.509000px;height:11.005000px;background-color:rgba(255,255,255,0.000001);\"></div></a>\n",
      "<a class=\"l\" data-dest-detail='[55,\"XYZ\",72,379.13,null]' href=\"#pf37\"><div class=\"d m1\" style=\"border-style:none;position:absolute;left:150.949173px;bottom:557.746969px;width:116.410000px;height:10.921000px;background-color:rgba(255,255,255,0.000001);\"></div></a>\n",
      "<a class=\"l\" data-dest-detail='[55,\"XYZ\",72,223.83,null]' href=\"#pf37\"><div class=\"d m1\" style=\"border-style:none;position:absolute;left:150.949173px;bottom:524.808601px;width:130.313000px;height:11.047000px;background-color:rgba(255,255,255,0.000001);\"></div></a>\n",
      "<a class=\"l\" data-dest-detail='[57,\"XYZ\",72,740.93,null]' href=\"#pf39\"><div class=\"d m1\" style=\"border-style:none;position:absolute;left:123.854321px;bottom:475.819057px;width:81.905000px;height:9.797000px;background-color:rgba(255,255,255,0.000001);\"></div></a>\n",
      "<a class=\"l\" data-dest-detail='[61,\"XYZ\",72,551.12,null]' href=\"#pf3d\"><div class=\"d m1\" style=\"border-style:none;position:absolute;left:123.854321px;bottom:401.687085px;width:108.045000px;height:11.152000px;background-color:rgba(255,255,255,0.000001);\"></div></a>\n",
      "<a class=\"l\" data-dest-detail='[63,\"XYZ\",72,740.93,null]' href=\"#pf3f\"><div class=\"d m1\" style=\"border-style:none;position:absolute;left:123.854321px;bottom:350.674587px;width:102.906000px;height:9.798000px;background-color:rgba(255,255,255,0.000001);\"></div></a>\n",
      "<a class=\"l\" data-dest-detail='[64,\"XYZ\",72,710.96,null]' href=\"#pf40\"><div class=\"d m1\" style=\"border-style:none;position:absolute;left:150.949173px;bottom:315.441473px;width:66.154000px;height:11.047000px;background-color:rgba(255,255,255,0.000001);\"></div></a>\n",
      "<a class=\"l\" data-dest-detail='[66,\"XYZ\",72,625.54,null]' href=\"#pf42\"><div class=\"d m1\" style=\"border-style:none;position:absolute;left:150.949173px;bottom:282.503104px;width:76.654000px;height:11.088000px;background-color:rgba(255,255,255,0.000001);\"></div></a>\n",
      "<a class=\"l\" data-dest-detail='[66,\"XYZ\",72,483.19,null]' href=\"#pf42\"><div class=\"d m1\" style=\"border-style:none;position:absolute;left:192.493697px;bottom:249.563016px;width:86.105000px;height:11.089000px;background-color:rgba(255,255,255,0.000001);\"></div></a>\n",
      "<a class=\"l\" data-dest-detail='[66,\"XYZ\",72,318.95,null]' href=\"#pf42\"><div class=\"d m1\" style=\"border-style:none;position:absolute;left:192.493697px;bottom:216.624647px;width:75.605000px;height:11.046000px;background-color:rgba(255,255,255,0.000001);\"></div></a>\n",
      "<a class=\"l\" data-dest-detail='[66,\"XYZ\",72,88.8,null]' href=\"#pf42\"><div class=\"d m1\" style=\"border-style:none;position:absolute;left:192.493697px;bottom:183.684559px;width:86.105000px;height:11.089000px;background-color:rgba(255,255,255,0.000001);\"></div></a>\n",
      "<a class=\"l\" data-dest-detail='[67,\"XYZ\",72,549.68,null]' href=\"#pf43\"><div class=\"d m1\" style=\"border-style:none;position:absolute;left:192.493697px;bottom:150.746190px;width:86.105000px;height:11.088000px;background-color:rgba(255,255,255,0.000001);\"></div></a>\n",
      "<a class=\"l\" data-dest-detail='[70,\"XYZ\",72,148.85,null]' href=\"#pf46\"><div class=\"d m1\" style=\"border-style:none;position:absolute;left:150.949173px;bottom:1253.219944px;width:76.654000px;height:11.089000px;background-color:rgba(255,255,255,0.000001);\"></div></a>\n",
      "<a class=\"l\" data-dest-detail='[70,\"XYZ\",72,90.07,null]' href=\"#pf46\"><div class=\"d m1\" style=\"border-style:none;position:absolute;left:192.493697px;bottom:1219.719070px;width:117.607000px;height:11.089000px;background-color:rgba(255,255,255,0.000001);\"></div></a>\n",
      "<a class=\"l\" data-dest-detail='[71,\"XYZ\",72,269.76,null]' href=\"#pf47\"><div class=\"d m1\" style=\"border-style:none;position:absolute;left:150.949173px;bottom:1186.218196px;width:76.654000px;height:11.089000px;background-color:rgba(255,255,255,0.000001);\"></div></a>\n",
      "<a class=\"l\" data-dest-detail='[71,\"XYZ\",72,209.89,null]' href=\"#pf47\"><div class=\"d m1\" style=\"border-style:none;position:absolute;left:192.493697px;bottom:1152.717323px;width:86.105000px;height:11.089000px;background-color:rgba(255,255,255,0.000001);\"></div></a>\n",
      "<a class=\"l\" data-dest-detail='[72,\"XYZ\",72,709.44,null]' href=\"#pf48\"><div class=\"d m1\" style=\"border-style:none;position:absolute;left:192.493697px;bottom:1119.216449px;width:159.127000px;height:11.089000px;background-color:rgba(255,255,255,0.000001);\"></div></a>\n",
      "<a class=\"l\" data-dest-detail='[72,\"XYZ\",72,666.08,null]' href=\"#pf48\"><div class=\"d m1\" style=\"border-style:none;position:absolute;left:192.493697px;bottom:1085.715576px;width:159.610000px;height:11.089000px;background-color:rgba(255,255,255,0.000001);\"></div></a>\n",
      "<a class=\"l\" data-dest-detail='[72,\"XYZ\",72,640.39,null]' href=\"#pf48\"><div class=\"d m1\" style=\"border-style:none;position:absolute;left:192.493697px;bottom:1052.214702px;width:128.108000px;height:11.089000px;background-color:rgba(255,255,255,0.000001);\"></div></a>\n",
      "<a class=\"l\" data-dest-detail='[74,\"XYZ\",72,453.91,null]' href=\"#pf4a\"><div class=\"d m1\" style=\"border-style:none;position:absolute;left:192.493697px;bottom:1018.713829px;width:90.810000px;height:11.047000px;background-color:rgba(255,255,255,0.000001);\"></div></a>\n",
      "<a class=\"l\" data-dest-detail='[74,\"XYZ\",72,418.64,null]' href=\"#pf4a\"><div class=\"d m1\" style=\"border-style:none;position:absolute;left:192.493697px;bottom:984.309851px;width:84.604000px;height:11.614000px;background-color:rgba(255,255,255,0.000001);\"></div></a>\n",
      "<a class=\"l\" data-dest-detail='[74,\"XYZ\",72,392.96,null]' href=\"#pf4a\"><div class=\"d m1\" style=\"border-style:none;position:absolute;left:192.493697px;bottom:950.808977px;width:89.403000px;height:11.614000px;background-color:rgba(255,255,255,0.000001);\"></div></a>\n",
      "<a class=\"l\" data-dest-detail='[74,\"XYZ\",72,296.18,null]' href=\"#pf4a\"><div class=\"d m1\" style=\"border-style:none;position:absolute;left:150.949173px;bottom:918.211208px;width:87.155000px;height:11.047000px;background-color:rgba(255,255,255,0.000001);\"></div></a>\n",
      "<a class=\"l\" data-dest-detail='[75,\"XYZ\",72,523.84,null]' href=\"#pf4b\"><div class=\"d m1\" style=\"border-style:none;position:absolute;left:150.949173px;bottom:884.712055px;width:97.656000px;height:11.046000px;background-color:rgba(255,255,255,0.000001);\"></div></a>\n",
      "<a class=\"l\" data-dest-detail='[78,\"XYZ\",72,591.03,null]' href=\"#pf4e\"><div class=\"d m1\" style=\"border-style:none;position:absolute;left:150.949173px;bottom:851.211181px;width:139.658000px;height:11.088000px;background-color:rgba(255,255,255,0.000001);\"></div></a>\n",
      "<a class=\"l\" data-dest-detail='[79,\"XYZ\",72,597.37,null]' href=\"#pf4f\"><div class=\"d m1\" style=\"border-style:none;position:absolute;left:150.949173px;bottom:817.710308px;width:55.653000px;height:11.088000px;background-color:rgba(255,255,255,0.000001);\"></div></a>\n",
      "<a class=\"l\" data-dest-detail='[79,\"XYZ\",72,387.51,null]' href=\"#pf4f\"><div class=\"d m1\" style=\"border-style:none;position:absolute;left:150.949173px;bottom:784.209434px;width:66.154000px;height:11.046000px;background-color:rgba(255,255,255,0.000001);\"></div></a>\n",
      "<a class=\"l\" data-dest-detail='[80,\"XYZ\",72,184.42,null]' href=\"#pf50\"><div class=\"d m1\" style=\"border-style:none;position:absolute;left:192.493697px;bottom:750.708561px;width:96.606000px;height:11.046000px;background-color:rgba(255,255,255,0.000001);\"></div></a>\n",
      "<a class=\"l\" data-dest-detail='[85,\"XYZ\",72,740.93,null]' href=\"#pf55\"><div class=\"d m1\" style=\"border-style:none;position:absolute;left:123.854321px;bottom:700.783228px;width:81.905000px;height:9.797000px;background-color:rgba(255,255,255,0.000001);\"></div></a>\n",
      "<a class=\"l\" data-dest-detail='[89,\"XYZ\",72,551.18,null]' href=\"#pf59\"><div class=\"d m1\" style=\"border-style:none;position:absolute;left:123.854321px;bottom:625.631179px;width:168.070000px;height:11.249000px;background-color:rgba(255,255,255,0.000001);\"></div></a>\n",
      "<a class=\"l\" data-dest-detail='[93,\"XYZ\",72,740.93,null]' href=\"#pf5d\"><div class=\"d m1\" style=\"border-style:none;position:absolute;left:123.854321px;bottom:573.767182px;width:92.405000px;height:9.797000px;background-color:rgba(255,255,255,0.000001);\"></div></a>\n",
      "<a class=\"l\" data-dest-detail='[94,\"XYZ\",72,690.67,null]' href=\"#pf5e\"><div class=\"d m1\" style=\"border-style:none;position:absolute;left:150.949173px;bottom:540.338557px;width:66.154000px;height:9.671000px;background-color:rgba(255,255,255,0.000001);\"></div></a>\n",
      "<a class=\"l\" data-dest-detail='[95,\"XYZ\",72,403.95,null]' href=\"#pf5f\"><div class=\"d m1\" style=\"border-style:none;position:absolute;left:150.949173px;bottom:506.837683px;width:55.653000px;height:9.713000px;background-color:rgba(255,255,255,0.000001);\"></div></a>\n",
      "<a class=\"l\" data-dest-detail='[95,\"XYZ\",72,88.97,null]' href=\"#pf5f\"><div class=\"d m1\" style=\"border-style:none;position:absolute;left:150.949173px;bottom:470.971536px;width:50.455000px;height:9.581000px;background-color:rgba(255,255,255,0.000001);\"></div></a>\n",
      "<a class=\"l\" data-dest-detail='[96,\"XYZ\",72,224.66,null]' href=\"#pf60\"><div class=\"d m1\" style=\"border-style:none;position:absolute;left:150.949173px;bottom:437.470663px;width:76.654000px;height:11.046000px;background-color:rgba(255,255,255,0.000001);\"></div></a>\n",
      "<a class=\"l\" data-dest-detail='[96,\"XYZ\",72,164.87,null]' href=\"#pf60\"><div class=\"d m1\" style=\"border-style:none;position:absolute;left:150.949173px;bottom:403.969789px;width:87.155000px;height:11.088000px;background-color:rgba(255,255,255,0.000001);\"></div></a>\n",
      "<a class=\"l\" data-dest-detail='[96,\"XYZ\",72,127.47,null]' href=\"#pf60\"><div class=\"d m1\" style=\"border-style:none;position:absolute;left:150.949173px;bottom:372.834189px;width:66.154000px;height:9.671000px;background-color:rgba(255,255,255,0.000001);\"></div></a>\n",
      "<a class=\"l\" data-dest-detail='[96,\"XYZ\",72,90.07,null]' href=\"#pf60\"><div class=\"d m1\" style=\"border-style:none;position:absolute;left:150.949173px;bottom:336.968042px;width:66.154000px;height:11.088000px;background-color:rgba(255,255,255,0.000001);\"></div></a>\n",
      "<a class=\"l\" data-dest-detail='[99,\"XYZ\",72,740.93,null]' href=\"#pf63\"><div class=\"d m1\" style=\"border-style:none;position:absolute;left:123.854321px;bottom:286.970461px;width:71.404000px;height:9.839000px;background-color:rgba(255,255,255,0.000001);\"></div></a>\n",
      "<a class=\"l\" data-dest-detail='[99,\"XYZ\",72,128.39,null]' href=\"#pf63\"><div class=\"d m1\" style=\"border-style:none;position:absolute;left:150.949173px;bottom:253.614084px;width:70.228000px;height:9.713000px;background-color:rgba(255,255,255,0.000001);\"></div></a>\n",
      "<a class=\"l\" data-dest-detail='[100,\"XYZ\",72,502.6,null]' href=\"#pf64\"><div class=\"d m1\" style=\"border-style:none;position:absolute;left:150.949173px;bottom:220.077086px;width:76.654000px;height:9.650000px;background-color:rgba(255,255,255,0.000001);\"></div></a>\n",
      "<a class=\"l\" data-dest-detail='[101,\"XYZ\",72,198.78,null]' href=\"#pf65\"><div class=\"d m1\" style=\"border-style:none;position:absolute;left:150.949173px;bottom:184.247064px;width:87.155000px;height:11.088000px;background-color:rgba(255,255,255,0.000001);\"></div></a>\n",
      "<a class=\"l\" data-dest-detail='[102,\"XYZ\",72,538.91,null]' href=\"#pf66\"><div class=\"d m1\" style=\"border-style:none;position:absolute;left:150.949173px;bottom:150.746190px;width:66.154000px;height:11.046000px;background-color:rgba(255,255,255,0.000001);\"></div></a>\n",
      "<a class=\"l\" data-dest-detail='[104,\"XYZ\",72,531.34,null]' href=\"#pf68\"><div class=\"d m1\" style=\"border-style:none;position:absolute;left:150.949173px;bottom:1253.219944px;width:87.155000px;height:11.047000px;background-color:rgba(255,255,255,0.000001);\"></div></a>\n",
      "<a class=\"l\" data-dest-detail='[104,\"XYZ\",72,416.52,null]' href=\"#pf68\"><div class=\"d m1\" style=\"border-style:none;position:absolute;left:192.493697px;bottom:1219.928934px;width:170.110000px;height:11.047000px;background-color:rgba(255,255,255,0.000001);\"></div></a>\n",
      "<a class=\"l\" data-dest-detail='[105,\"XYZ\",72,577.01,null]' href=\"#pf69\"><div class=\"d m1\" style=\"border-style:none;position:absolute;left:192.493697px;bottom:1186.637925px;width:107.107000px;height:11.088000px;background-color:rgba(255,255,255,0.000001);\"></div></a>\n",
      "<a class=\"l\" data-dest-detail='[106,\"XYZ\",72,494.88,null]' href=\"#pf6a\"><div class=\"d m1\" style=\"border-style:none;position:absolute;left:150.949173px;bottom:1155.712189px;width:87.155000px;height:9.713000px;background-color:rgba(255,255,255,0.000001);\"></div></a>\n",
      "<a class=\"l\" data-dest-detail='[106,\"XYZ\",72,402.51,null]' href=\"#pf6a\"><div class=\"d m1\" style=\"border-style:none;position:absolute;left:150.949173px;bottom:1120.055906px;width:76.654000px;height:11.088000px;background-color:rgba(255,255,255,0.000001);\"></div></a>\n",
      "<a class=\"l\" data-dest-detail='[108,\"XYZ\",72,502.32,null]' href=\"#pf6c\"><div class=\"d m1\" style=\"border-style:none;position:absolute;left:150.949173px;bottom:1089.094046px;width:87.155000px;height:9.692000px;background-color:rgba(255,255,255,0.000001);\"></div></a>\n",
      "<a class=\"l\" data-dest-detail='[111,\"XYZ\",72,740.93,null]' href=\"#pf6f\"><div class=\"d m1\" style=\"border-style:none;position:absolute;left:123.854321px;bottom:1037.188765px;width:102.906000px;height:9.797000px;background-color:rgba(255,255,255,0.000001);\"></div></a>\n",
      "<a class=\"l\" data-dest-detail='[111,\"XYZ\",72,409.08,null]' href=\"#pf6f\"><div class=\"d m1\" style=\"border-style:none;position:absolute;left:150.949173px;bottom:1001.603010px;width:87.155000px;height:11.005000px;background-color:rgba(255,255,255,0.000001);\"></div></a>\n",
      "<a class=\"l\" data-dest-detail='[111,\"XYZ\",72,143.45,null]' href=\"#pf6f\"><div class=\"d m1\" style=\"border-style:none;position:absolute;left:150.949173px;bottom:968.312001px;width:49.678000px;height:11.047000px;background-color:rgba(255,255,255,0.000001);\"></div></a>\n",
      "<a class=\"l\" data-dest-detail='[113,\"XYZ\",72,293.59,null]' href=\"#pf71\"><div class=\"d m1\" style=\"border-style:none;position:absolute;left:150.949173px;bottom:935.020992px;width:118.657000px;height:11.005000px;background-color:rgba(255,255,255,0.000001);\"></div></a>\n",
      "<a class=\"l\" data-dest-detail='[114,\"XYZ\",72,459.39,null]' href=\"#pf72\"><div class=\"d m1\" style=\"border-style:none;position:absolute;left:150.949173px;bottom:901.729983px;width:55.653000px;height:10.963000px;background-color:rgba(255,255,255,0.000001);\"></div></a>\n",
      "<a class=\"l\" data-dest-detail='[114,\"XYZ\",72,88.97,null]' href=\"#pf72\"><div class=\"d m1\" style=\"border-style:none;position:absolute;left:150.949173px;bottom:868.438973px;width:97.656000px;height:11.047000px;background-color:rgba(255,255,255,0.000001);\"></div></a>\n",
      "<a class=\"l\" data-dest-detail='[115,\"XYZ\",72,420.76,null]' href=\"#pf73\"><div class=\"d m1\" style=\"border-style:none;position:absolute;left:150.949173px;bottom:835.147964px;width:108.156000px;height:11.088000px;background-color:rgba(255,255,255,0.000001);\"></div></a>\n",
      "<a class=\"l\" data-dest-detail='[117,\"XYZ\",72,528.98,null]' href=\"#pf75\"><div class=\"d m1\" style=\"border-style:none;position:absolute;left:150.949173px;bottom:801.856955px;width:55.653000px;height:11.088000px;background-color:rgba(255,255,255,0.000001);\"></div></a>\n",
      "<a class=\"l\" data-dest-detail='[121,\"XYZ\",72,605.03,null]' href=\"#pf79\"><div class=\"d m1\" style=\"border-style:none;position:absolute;left:150.949173px;bottom:768.565945px;width:55.653000px;height:11.088000px;background-color:rgba(255,255,255,0.000001);\"></div></a>\n",
      "<a class=\"l\" data-dest-detail='[121,\"XYZ\",72,402.86,null]' href=\"#pf79\"><div class=\"d m1\" style=\"border-style:none;position:absolute;left:150.949173px;bottom:735.274936px;width:96.553000px;height:11.088000px;background-color:rgba(255,255,255,0.000001);\"></div></a>\n",
      "<a class=\"l\" data-dest-detail='[123,\"XYZ\",72,432.51,null]' href=\"#pf7b\"><div class=\"d m1\" style=\"border-style:none;position:absolute;left:150.949173px;bottom:701.982207px;width:112.881000px;height:11.089000px;background-color:rgba(255,255,255,0.000001);\"></div></a>\n",
      "<a class=\"l\" data-dest-detail='[123,\"XYZ\",72,88.97,null]' href=\"#pf7b\"><div class=\"d m1\" style=\"border-style:none;position:absolute;left:192.493697px;bottom:668.691197px;width:183.761000px;height:11.089000px;background-color:rgba(255,255,255,0.000001);\"></div></a>\n",
      "<a class=\"l\" data-dest-detail='[125,\"XYZ\",72,340.37,null]' href=\"#pf7d\"><div class=\"d m1\" style=\"border-style:none;position:absolute;left:192.493697px;bottom:635.400188px;width:194.262000px;height:11.089000px;background-color:rgba(255,255,255,0.000001);\"></div></a>\n",
      "<a class=\"l\" data-dest-detail='[126,\"XYZ\",72,78.95,null]' href=\"#pf7e\"><div class=\"d m1\" style=\"border-style:none;position:absolute;left:192.493697px;bottom:602.109179px;width:78.755000px;height:11.047000px;background-color:rgba(255,255,255,0.000001);\"></div></a>\n",
      "<a class=\"l\" data-dest-detail='[127,\"XYZ\",72,396.26,null]' href=\"#pf7f\"><div class=\"d m1\" style=\"border-style:none;position:absolute;left:192.493697px;bottom:568.818170px;width:78.755000px;height:11.089000px;background-color:rgba(255,255,255,0.000001);\"></div></a>\n",
      "<a class=\"l\" data-dest-detail='[127,\"XYZ\",72,198.5,null]' href=\"#pf7f\"><div class=\"d m1\" style=\"border-style:none;position:absolute;left:192.493697px;bottom:535.527160px;width:78.755000px;height:11.131000px;background-color:rgba(255,255,255,0.000001);\"></div></a>\n",
      "<a class=\"l\" data-dest-detail='[127,\"XYZ\",72,83.34,null]' href=\"#pf7f\"><div class=\"d m1\" style=\"border-style:none;position:absolute;left:150.949173px;bottom:501.333047px;width:76.749000px;height:10.474000px;background-color:rgba(255,255,255,0.000001);\"></div></a>\n",
      "<a class=\"l\" data-dest-detail='[128,\"XYZ\",72,577.22,null]' href=\"#pf80\"><div class=\"d m1\" style=\"border-style:none;position:absolute;left:150.949173px;bottom:468.945142px;width:67.183000px;height:9.949000px;background-color:rgba(255,255,255,0.000001);\"></div></a>\n",
      "<a class=\"l\" data-dest-detail='[128,\"XYZ\",72,425.43,null]' href=\"#pf80\"><div class=\"d m1\" style=\"border-style:none;position:absolute;left:150.949173px;bottom:434.751028px;width:65.975000px;height:10.106000px;background-color:rgba(255,255,255,0.000001);\"></div></a>\n",
      "<a class=\"l\" data-dest-detail='[130,\"XYZ\",72,638.64,null]' href=\"#pf82\"><div class=\"d m1\" style=\"border-style:none;position:absolute;left:150.949173px;bottom:402.361403px;width:102.381000px;height:11.089000px;background-color:rgba(255,255,255,0.000001);\"></div></a>\n",
      "<a class=\"l\" data-dest-detail='[133,\"XYZ\",72,740.93,null]' href=\"#pf85\"><div class=\"d m1\" style=\"border-style:none;position:absolute;left:123.854321px;bottom:352.714743px;width:113.407000px;height:9.839000px;background-color:rgba(255,255,255,0.000001);\"></div></a>\n",
      "<a class=\"l\" data-dest-detail='[134,\"XYZ\",72,728.01,null]' href=\"#pf86\"><div class=\"d m1\" style=\"border-style:none;position:absolute;left:150.949173px;bottom:317.201236px;width:87.155000px;height:11.089000px;background-color:rgba(255,255,255,0.000001);\"></div></a>\n",
      "<a class=\"l\" data-dest-detail='[135,\"XYZ\",72,652.39,null]' href=\"#pf87\"><div class=\"d m1\" style=\"border-style:none;position:absolute;left:150.949173px;bottom:283.910227px;width:66.154000px;height:11.089000px;background-color:rgba(255,255,255,0.000001);\"></div></a>\n",
      "<a class=\"l\" data-dest-detail='[136,\"XYZ\",72,228.65,null]' href=\"#pf88\"><div class=\"d m1\" style=\"border-style:none;position:absolute;left:192.493697px;bottom:250.619218px;width:86.105000px;height:11.047000px;background-color:rgba(255,255,255,0.000001);\"></div></a>\n",
      "<a class=\"l\" data-dest-detail='[136,\"XYZ\",72,88.49,null]' href=\"#pf88\"><div class=\"d m1\" style=\"border-style:none;position:absolute;left:192.493697px;bottom:217.328209px;width:96.606000px;height:11.089000px;background-color:rgba(255,255,255,0.000001);\"></div></a>\n",
      "<a class=\"l\" data-dest-detail='[137,\"XYZ\",72,488.33,null]' href=\"#pf89\"><div class=\"d m1\" style=\"border-style:none;position:absolute;left:192.493697px;bottom:184.037199px;width:86.105000px;height:11.088000px;background-color:rgba(255,255,255,0.000001);\"></div></a>\n",
      "<a class=\"l\" data-dest-detail='[139,\"XYZ\",72,652.39,null]' href=\"#pf8b\"><div class=\"d m1\" style=\"border-style:none;position:absolute;left:150.949173px;bottom:150.746190px;width:66.154000px;height:11.046000px;background-color:rgba(255,255,255,0.000001);\"></div></a>\n",
      "<a class=\"l\" data-dest-detail='[139,\"XYZ\",72,525.45,null]' href=\"#pf8b\"><div class=\"d m1\" style=\"border-style:none;position:absolute;left:150.949173px;bottom:1253.219944px;width:87.155000px;height:11.089000px;background-color:rgba(255,255,255,0.000001);\"></div></a>\n",
      "<a class=\"l\" data-dest-detail='[141,\"XYZ\",72,740.93,null]' href=\"#pf8d\"><div class=\"d m1\" style=\"border-style:none;position:absolute;left:123.854321px;bottom:1203.764225px;width:102.906000px;height:9.839000px;background-color:rgba(255,255,255,0.000001);\"></div></a>\n",
      "<a class=\"l\" data-dest-detail='[143,\"XYZ\",72,740.93,null]' href=\"#pf8f\"><div class=\"d m1\" style=\"border-style:none;position:absolute;left:123.854321px;bottom:1152.158258px;width:81.905000px;height:9.797000px;background-color:rgba(255,255,255,0.000001);\"></div></a>\n",
      "<a class=\"l\" data-dest-detail='[144,\"XYZ\",72,295.77,null]' href=\"#pf90\"><div class=\"d m1\" style=\"border-style:none;position:absolute;left:192.493697px;bottom:1119.054751px;width:75.605000px;height:9.671000px;background-color:rgba(255,255,255,0.000001);\"></div></a>\n",
      "<a class=\"l\" data-dest-detail='[144,\"XYZ\",72,204.02,null]' href=\"#pf90\"><div class=\"d m1\" style=\"border-style:none;position:absolute;left:192.493697px;bottom:1085.877275px;width:54.604000px;height:9.671000px;background-color:rgba(255,255,255,0.000001);\"></div></a>\n",
      "<a class=\"l\" data-dest-detail='[145,\"XYZ\",72,263.52,null]' href=\"#pf91\"><div class=\"d m1\" style=\"border-style:none;position:absolute;left:192.493697px;bottom:1050.334525px;width:54.604000px;height:11.005000px;background-color:rgba(255,255,255,0.000001);\"></div></a>\n",
      "<a class=\"l\" data-dest-detail='[145,\"XYZ\",72,114.02,null]' href=\"#pf91\"><div class=\"d m1\" style=\"border-style:none;position:absolute;left:192.493697px;bottom:1017.158769px;width:96.606000px;height:11.089000px;background-color:rgba(255,255,255,0.000001);\"></div></a>\n",
      "<a class=\"l\" data-dest-detail='[146,\"XYZ\",72,681.05,null]' href=\"#pf92\"><div class=\"d m1\" style=\"border-style:none;position:absolute;left:150.949173px;bottom:983.983013px;width:72.139000px;height:10.794000px;background-color:rgba(255,255,255,0.000001);\"></div></a>\n",
      "<a class=\"l\" data-dest-detail='[147,\"XYZ\",72,198.34,null]' href=\"#pf93\"><div class=\"d m1\" style=\"border-style:none;position:absolute;left:150.949173px;bottom:953.136406px;width:87.155000px;height:9.650000px;background-color:rgba(255,255,255,0.000001);\"></div></a>\n",
      "<a class=\"l\" data-dest-detail='[148,\"XYZ\",72,406.73,null]' href=\"#pf94\"><div class=\"d m1\" style=\"border-style:none;position:absolute;left:150.949173px;bottom:917.629781px;width:66.154000px;height:11.088000px;background-color:rgba(255,255,255,0.000001);\"></div></a>\n",
      "<a class=\"l\" data-dest-detail='[149,\"XYZ\",72,692.1,null]' href=\"#pf95\"><div class=\"d m1\" style=\"border-style:none;position:absolute;left:150.949173px;bottom:884.452305px;width:87.155000px;height:11.089000px;background-color:rgba(255,255,255,0.000001);\"></div></a>\n",
      "<a class=\"l\" data-dest-detail='[150,\"XYZ\",72,90.07,null]' href=\"#pf96\"><div class=\"d m1\" style=\"border-style:none;position:absolute;left:192.493697px;bottom:851.276549px;width:75.605000px;height:11.047000px;background-color:rgba(255,255,255,0.000001);\"></div></a>\n",
      "<a class=\"l\" data-dest-detail='[155,\"XYZ\",72,356.34,null]' href=\"#pf9b\"><div class=\"d m1\" style=\"border-style:none;position:absolute;left:192.493697px;bottom:818.100793px;width:107.107000px;height:11.088000px;background-color:rgba(255,255,255,0.000001);\"></div></a>\n",
      "<a class=\"l\" data-dest-detail='[156,\"XYZ\",72,287.92,null]' href=\"#pf9c\"><div class=\"d m1\" style=\"border-style:none;position:absolute;left:192.493697px;bottom:784.923317px;width:54.604000px;height:11.089000px;background-color:rgba(255,255,255,0.000001);\"></div></a>\n",
      "<a class=\"l\" data-dest-detail='[156,\"XYZ\",72,89.09,null]' href=\"#pf9c\"><div class=\"d m1\" style=\"border-style:none;position:absolute;left:192.493697px;bottom:751.747561px;width:96.606000px;height:11.089000px;background-color:rgba(255,255,255,0.000001);\"></div></a>\n",
      "<a class=\"l\" data-dest-detail='[157,\"XYZ\",72,83.64,null]' href=\"#pf9d\"><div class=\"d m1\" style=\"border-style:none;position:absolute;left:192.493697px;bottom:718.571805px;width:75.605000px;height:11.046000px;background-color:rgba(255,255,255,0.000001);\"></div></a>\n",
      "<a class=\"l\" data-dest-detail='[159,\"XYZ\",72,740.93,null]' href=\"#pf9f\"><div class=\"d m1\" style=\"border-style:none;position:absolute;left:123.854321px;bottom:669.114366px;width:92.405000px;height:9.839000px;background-color:rgba(255,255,255,0.000001);\"></div></a>\n",
      "<a class=\"l\" data-dest-detail='[159,\"XYZ\",72,373.29,null]' href=\"#pf9f\"><div class=\"d m1\" style=\"border-style:none;position:absolute;left:150.949173px;bottom:633.716113px;width:128.706000px;height:10.795000px;background-color:rgba(255,255,255,0.000001);\"></div></a>\n",
      "<a class=\"l\" data-dest-detail='[159,\"XYZ\",72,258.43,null]' href=\"#pf9f\"><div class=\"d m1\" style=\"border-style:none;position:absolute;left:150.949173px;bottom:600.540357px;width:55.653000px;height:11.131000px;background-color:rgba(255,255,255,0.000001);\"></div></a>\n",
      "<a class=\"l\" data-dest-detail='[160,\"XYZ\",72,360.78,null]' href=\"#pfa0\"><div class=\"d m1\" style=\"border-style:none;position:absolute;left:192.493697px;bottom:567.364602px;width:65.104000px;height:11.130000px;background-color:rgba(255,255,255,0.000001);\"></div></a>\n",
      "<a class=\"l\" data-dest-detail='[161,\"XYZ\",72,418.78,null]' href=\"#pfa1\"><div class=\"d m1\" style=\"border-style:none;position:absolute;left:192.493697px;bottom:534.187125px;width:75.605000px;height:11.131000px;background-color:rgba(255,255,255,0.000001);\"></div></a>\n",
      "<a class=\"l\" data-dest-detail='[161,\"XYZ\",72,85.09,null]' href=\"#pfa1\"><div class=\"d m1\" style=\"border-style:none;position:absolute;left:150.949173px;bottom:501.011369px;width:87.155000px;height:11.089000px;background-color:rgba(255,255,255,0.000001);\"></div></a>\n",
      "<a class=\"l\" data-dest-detail='[165,\"XYZ\",72,740.93,null]' href=\"#pfa5\"><div class=\"d m1\" style=\"border-style:none;position:absolute;left:123.854321px;bottom:451.555651px;width:92.405000px;height:9.839000px;background-color:rgba(255,255,255,0.000001);\"></div></a>\n",
      "<a class=\"l\" data-dest-detail='[165,\"XYZ\",72,599.31,null]' href=\"#pfa5\"><div class=\"d m1\" style=\"border-style:none;position:absolute;left:150.949173px;bottom:418.522672px;width:61.502000px;height:9.713000px;background-color:rgba(255,255,255,0.000001);\"></div></a>\n",
      "<a class=\"l\" data-dest-detail='[166,\"XYZ\",72,591.55,null]' href=\"#pfa6\"><div class=\"d m1\" style=\"border-style:none;position:absolute;left:192.493697px;bottom:385.346916px;width:96.606000px;height:9.713000px;background-color:rgba(255,255,255,0.000001);\"></div></a>\n",
      "<a class=\"l\" data-dest-detail='[169,\"XYZ\",72,431.38,null]' href=\"#pfa9\"><div class=\"d m1\" style=\"border-style:none;position:absolute;left:150.949173px;bottom:352.171160px;width:97.656000px;height:9.713000px;background-color:rgba(255,255,255,0.000001);\"></div></a>\n",
      "<a class=\"l\" data-dest-detail='[169,\"XYZ\",72,371.76,null]' href=\"#pfa9\"><div class=\"d m1\" style=\"border-style:none;position:absolute;left:150.949173px;bottom:316.628410px;width:108.156000px;height:11.088000px;background-color:rgba(255,255,255,0.000001);\"></div></a>\n",
      "<a class=\"l\" data-dest-detail='[169,\"XYZ\",72,334.36,null]' href=\"#pfa9\"><div class=\"d m1\" style=\"border-style:none;position:absolute;left:150.949173px;bottom:283.450934px;width:76.654000px;height:11.089000px;background-color:rgba(255,255,255,0.000001);\"></div></a>\n",
      "<a class=\"l\" data-dest-detail='[169,\"XYZ\",72,228.34,null]' href=\"#pfa9\"><div class=\"d m1\" style=\"border-style:none;position:absolute;left:192.493697px;bottom:250.275178px;width:86.105000px;height:11.046000px;background-color:rgba(255,255,255,0.000001);\"></div></a>\n",
      "<a class=\"l\" data-dest-detail='[171,\"XYZ\",72,669.49,null]' href=\"#pfab\"><div class=\"d m1\" style=\"border-style:none;position:absolute;left:192.493697px;bottom:217.097702px;width:86.105000px;height:11.089000px;background-color:rgba(255,255,255,0.000001);\"></div></a>\n",
      "<a class=\"l\" data-dest-detail='[173,\"XYZ\",72,609.98,null]' href=\"#pfad\"><div class=\"d m1\" style=\"border-style:none;position:absolute;left:192.493697px;bottom:183.921946px;width:115.749000px;height:11.089000px;background-color:rgba(255,255,255,0.000001);\"></div></a>\n",
      "<a class=\"l\" data-dest-detail='[174,\"XYZ\",72,461.77,null]' href=\"#pfae\"><div class=\"d m1\" style=\"border-style:none;position:absolute;left:192.493697px;bottom:150.746190px;width:138.608000px;height:11.088000px;background-color:rgba(255,255,255,0.000001);\"></div></a>\n",
      "<a class=\"l\" data-dest-detail='[174,\"XYZ\",72,201.09,null]' href=\"#pfae\"><div class=\"d m1\" style=\"border-style:none;position:absolute;left:192.493697px;bottom:1253.219944px;width:86.105000px;height:11.089000px;background-color:rgba(255,255,255,0.000001);\"></div></a>\n",
      "<a class=\"l\" data-dest-detail='[175,\"XYZ\",72,729.78,null]' href=\"#pfaf\"><div class=\"d m1\" style=\"border-style:none;position:absolute;left:150.949173px;bottom:1219.928934px;width:97.656000px;height:11.089000px;background-color:rgba(255,255,255,0.000001);\"></div></a>\n",
      "<a class=\"l\" data-dest-detail='[176,\"XYZ\",72,502.33,null]' href=\"#pfb0\"><div class=\"d m1\" style=\"border-style:none;position:absolute;left:192.493697px;bottom:1186.637925px;width:196.855000px;height:11.088000px;background-color:rgba(255,255,255,0.000001);\"></div></a>\n",
      "<a class=\"l\" data-dest-detail='[178,\"XYZ\",72,309.8,null]' href=\"#pfb2\"><div class=\"d m1\" style=\"border-style:none;position:absolute;left:192.493697px;bottom:1153.346916px;width:138.629000px;height:11.088000px;background-color:rgba(255,255,255,0.000001);\"></div></a>\n",
      "<a class=\"l\" data-dest-detail='[178,\"XYZ\",72,255.61,null]' href=\"#pfb2\"><div class=\"d m1\" style=\"border-style:none;position:absolute;left:192.493697px;bottom:1120.055906px;width:166.267000px;height:11.088000px;background-color:rgba(255,255,255,0.000001);\"></div></a>\n",
      "<a class=\"l\" data-dest-detail='[178,\"XYZ\",72,226.73,null]' href=\"#pfb2\"><div class=\"d m1\" style=\"border-style:none;position:absolute;left:150.949173px;bottom:1089.057922px;width:118.657000px;height:9.755000px;background-color:rgba(255,255,255,0.000001);\"></div></a>\n",
      "<a class=\"l\" data-dest-detail='[178,\"XYZ\",72,113.47,null]' href=\"#pfb2\"><div class=\"d m1\" style=\"border-style:none;position:absolute;left:150.949173px;bottom:1053.472168px;width:76.654000px;height:11.131000px;background-color:rgba(255,255,255,0.000001);\"></div></a>\n",
      "<a class=\"l\" data-dest-detail='[181,\"XYZ\",72,740.93,null]' href=\"#pfb5\"><div class=\"d m1\" style=\"border-style:none;position:absolute;left:123.854321px;bottom:1003.825507px;width:92.405000px;height:9.839000px;background-color:rgba(255,255,255,0.000001);\"></div></a>\n",
      "<a class=\"l\" data-dest-detail='[182,\"XYZ\",72,297.3,null]' href=\"#pfb6\"><div class=\"d m1\" style=\"border-style:none;position:absolute;left:150.949173px;bottom:968.312001px;width:55.653000px;height:11.047000px;background-color:rgba(255,255,255,0.000001);\"></div></a>\n",
      "<a class=\"l\" data-dest-detail='[183,\"XYZ\",72,284.05,null]' href=\"#pfb7\"><div class=\"d m1\" style=\"border-style:none;position:absolute;left:150.949173px;bottom:935.020992px;width:66.154000px;height:11.089000px;background-color:rgba(255,255,255,0.000001);\"></div></a>\n",
      "<a class=\"l\" data-dest-detail='[184,\"XYZ\",72,109.37,null]' href=\"#pfb8\"><div class=\"d m1\" style=\"border-style:none;position:absolute;left:150.949173px;bottom:901.729983px;width:66.154000px;height:11.089000px;background-color:rgba(255,255,255,0.000001);\"></div></a>\n",
      "<a class=\"l\" data-dest-detail='[185,\"XYZ\",72,275.86,null]' href=\"#pfb9\"><div class=\"d m1\" style=\"border-style:none;position:absolute;left:192.493697px;bottom:868.438973px;width:79.196000px;height:9.949000px;background-color:rgba(255,255,255,0.000001);\"></div></a>\n",
      "<a class=\"l\" data-dest-detail='[185,\"XYZ\",72,179.5,null]' href=\"#pfb9\"><div class=\"d m1\" style=\"border-style:none;position:absolute;left:192.493697px;bottom:835.147964px;width:72.118000px;height:9.582000px;background-color:rgba(255,255,255,0.000001);\"></div></a>\n",
      "<a class=\"l\" data-dest-detail='[185,\"XYZ\",72,135.5,null]' href=\"#pfb9\"><div class=\"d m1\" style=\"border-style:none;position:absolute;left:192.493697px;bottom:801.856955px;width:138.608000px;height:11.088000px;background-color:rgba(255,255,255,0.000001);\"></div></a>\n",
      "<a class=\"l\" data-dest-detail='[186,\"XYZ\",72,248.41,null]' href=\"#pfba\"><div class=\"d m1\" style=\"border-style:none;position:absolute;left:192.493697px;bottom:768.565945px;width:107.107000px;height:11.088000px;background-color:rgba(255,255,255,0.000001);\"></div></a>\n",
      "<a class=\"l\" data-dest-detail='[187,\"XYZ\",72,729.08,null]' href=\"#pfbb\"><div class=\"d m1\" style=\"border-style:none;position:absolute;left:150.949173px;bottom:734.371832px;width:62.500000px;height:10.106000px;background-color:rgba(255,255,255,0.000001);\"></div></a>\n",
      "<a class=\"l\" data-dest-detail='[187,\"XYZ\",72,265.81,null]' href=\"#pfbb\"><div class=\"d m1\" style=\"border-style:none;position:absolute;left:150.949173px;bottom:701.079102px;width:63.844000px;height:10.475000px;background-color:rgba(255,255,255,0.000001);\"></div></a>\n",
      "<a class=\"l\" data-dest-detail='[187,\"XYZ\",72,197.25,null]' href=\"#pfbb\"><div class=\"d m1\" style=\"border-style:none;position:absolute;left:150.949173px;bottom:668.691197px;width:87.155000px;height:11.089000px;background-color:rgba(255,255,255,0.000001);\"></div></a>\n",
      "<a class=\"l\" data-dest-detail='[188,\"XYZ\",72,452.17,null]' href=\"#pfbc\"><div class=\"d m1\" style=\"border-style:none;position:absolute;left:150.949173px;bottom:635.400188px;width:87.155000px;height:11.089000px;background-color:rgba(255,255,255,0.000001);\"></div></a>\n",
      "<a class=\"l\" data-dest-detail='[188,\"XYZ\",72,312.34,null]' href=\"#pfbc\"><div class=\"d m1\" style=\"border-style:none;position:absolute;left:150.949173px;bottom:602.109179px;width:66.154000px;height:11.047000px;background-color:rgba(255,255,255,0.000001);\"></div></a>\n",
      "<a class=\"l\" data-dest-detail='[189,\"XYZ\",72,673.11,null]' href=\"#pfbd\"><div class=\"d m1\" style=\"border-style:none;position:absolute;left:192.493697px;bottom:568.818170px;width:86.105000px;height:11.005000px;background-color:rgba(255,255,255,0.000001);\"></div></a>\n",
      "<a class=\"l\" data-dest-detail='[191,\"XYZ\",72,285.59,null]' href=\"#pfbf\"><div class=\"d m1\" style=\"border-style:none;position:absolute;left:192.493697px;bottom:535.527160px;width:86.105000px;height:11.047000px;background-color:rgba(255,255,255,0.000001);\"></div></a>\n",
      "<a class=\"l\" data-dest-detail='[192,\"XYZ\",72,227.66,null]' href=\"#pfc0\"><div class=\"d m1\" style=\"border-style:none;position:absolute;left:192.493697px;bottom:502.236151px;width:96.606000px;height:11.046000px;background-color:rgba(255,255,255,0.000001);\"></div></a>\n",
      "<a class=\"l\" data-dest-detail='[192,\"XYZ\",72,155.51,null]' href=\"#pfc0\"><div class=\"d m1\" style=\"border-style:none;position:absolute;left:192.493697px;bottom:468.945142px;width:117.607000px;height:11.088000px;background-color:rgba(255,255,255,0.000001);\"></div></a>\n",
      "<a class=\"l\" data-dest-detail='[192,\"XYZ\",72,87.11,null]' href=\"#pfc0\"><div class=\"d m1\" style=\"border-style:none;position:absolute;left:192.493697px;bottom:435.654133px;width:107.107000px;height:11.088000px;background-color:rgba(255,255,255,0.000001);\"></div></a>\n",
      "<a class=\"l\" data-dest-detail='[193,\"XYZ\",72,644.11,null]' href=\"#pfc1\"><div class=\"d m1\" style=\"border-style:none;position:absolute;left:192.493697px;bottom:402.361403px;width:128.108000px;height:11.089000px;background-color:rgba(255,255,255,0.000001);\"></div></a>\n",
      "<a class=\"l\" data-dest-detail='[193,\"XYZ\",72,284.89,null]' href=\"#pfc1\"><div class=\"d m1\" style=\"border-style:none;position:absolute;left:150.949173px;bottom:369.070394px;width:66.154000px;height:11.089000px;background-color:rgba(255,255,255,0.000001);\"></div></a>\n",
      "<a class=\"l\" data-dest-detail='[194,\"XYZ\",72,465.21,null]' href=\"#pfc2\"><div class=\"d m1\" style=\"border-style:none;position:absolute;left:192.493697px;bottom:335.779384px;width:60.284000px;height:9.950000px;background-color:rgba(255,255,255,0.000001);\"></div></a>\n",
      "<a class=\"l\" data-dest-detail='[194,\"XYZ\",72,368.08,null]' href=\"#pfc2\"><div class=\"d m1\" style=\"border-style:none;position:absolute;left:192.493697px;bottom:302.488375px;width:96.606000px;height:11.131000px;background-color:rgba(255,255,255,0.000001);\"></div></a>\n",
      "<a class=\"l\" data-dest-detail='[196,\"XYZ\",72,431.01,null]' href=\"#pfc4\"><div class=\"d m1\" style=\"border-style:none;position:absolute;left:192.493697px;bottom:269.197366px;width:66.217000px;height:9.949000px;background-color:rgba(255,255,255,0.000001);\"></div></a>\n",
      "<a class=\"l\" data-dest-detail='[197,\"XYZ\",72,740.93,null]' href=\"#pfc5\"><div class=\"d m1\" style=\"border-style:none;position:absolute;left:123.854321px;bottom:219.550706px;width:92.405000px;height:9.839000px;background-color:rgba(255,255,255,0.000001);\"></div></a>\n",
      "<a class=\"l\" data-dest-detail='[197,\"XYZ\",72,296.17,null]' href=\"#pfc5\"><div class=\"d m1\" style=\"border-style:none;position:absolute;left:150.949173px;bottom:186.474721px;width:66.154000px;height:9.629000px;background-color:rgba(255,255,255,0.000001);\"></div></a>\n",
      "<a class=\"l\" data-dest-detail='[199,\"XYZ\",72,336.09,null]' href=\"#pfc7\"><div class=\"d m1\" style=\"border-style:none;position:absolute;left:192.493697px;bottom:153.111464px;width:149.109000px;height:9.713000px;background-color:rgba(255,255,255,0.000001);\"></div></a>\n",
      "<a class=\"l\" data-dest-detail='[200,\"XYZ\",72,681.31,null]' href=\"#pfc8\"><div class=\"d m1\" style=\"border-style:none;position:absolute;left:192.493697px;bottom:1255.586937px;width:149.109000px;height:9.713000px;background-color:rgba(255,255,255,0.000001);\"></div></a>\n",
      "<a class=\"l\" data-dest-detail='[200,\"XYZ\",72,540.81,null]' href=\"#pfc8\"><div class=\"d m1\" style=\"border-style:none;position:absolute;left:150.949173px;bottom:1217.995431px;width:72.244000px;height:10.475000px;background-color:rgba(255,255,255,0.000001);\"></div></a>\n",
      "<a class=\"l\" data-dest-detail='[201,\"XYZ\",72,98,null]' href=\"#pfc9\"><div class=\"d m1\" style=\"border-style:none;position:absolute;left:150.949173px;bottom:1184.578847px;width:62.552000px;height:9.949000px;background-color:rgba(255,255,255,0.000001);\"></div></a>\n",
      "<a class=\"l\" data-dest-detail='[202,\"XYZ\",72,110.84,null]' href=\"#pfca\"><div class=\"d m1\" style=\"border-style:none;position:absolute;left:150.949173px;bottom:1150.257439px;width:87.155000px;height:11.089000px;background-color:rgba(255,255,255,0.000001);\"></div></a>\n",
      "<a class=\"l\" data-dest-detail='[204,\"XYZ\",72,280.83,null]' href=\"#pfcc\"><div class=\"d m1\" style=\"border-style:none;position:absolute;left:150.949173px;bottom:1115.936030px;width:66.154000px;height:11.047000px;background-color:rgba(255,255,255,0.000001);\"></div></a>\n",
      "<a class=\"l\" data-dest-detail='[205,\"XYZ\",72,389.51,null]' href=\"#pfcd\"><div class=\"d m1\" style=\"border-style:none;position:absolute;left:150.949173px;bottom:1083.909367px;width:139.658000px;height:9.755000px;background-color:rgba(255,255,255,0.000001);\"></div></a>\n",
      "<a class=\"l\" data-dest-detail='[206,\"XYZ\",72,559.85,null]' href=\"#pfce\"><div class=\"d m1\" style=\"border-style:none;position:absolute;left:150.949173px;bottom:1047.294933px;width:97.656000px;height:11.005000px;background-color:rgba(255,255,255,0.000001);\"></div></a>\n",
      "<a class=\"l\" data-dest-detail='[206,\"XYZ\",72,106.16,null]' href=\"#pfce\"><div class=\"d m1\" style=\"border-style:none;position:absolute;left:150.949173px;bottom:1015.268270px;width:108.156000px;height:9.755000px;background-color:rgba(255,255,255,0.000001);\"></div></a>\n",
      "<a class=\"l\" data-dest-detail='[207,\"XYZ\",72,539.6,null]' href=\"#pfcf\"><div class=\"d m1\" style=\"border-style:none;position:absolute;left:150.949173px;bottom:978.653837px;width:160.659000px;height:11.088000px;background-color:rgba(255,255,255,0.000001);\"></div></a>\n",
      "<a class=\"l\" data-dest-detail='[207,\"XYZ\",72,481.07,null]' href=\"#pfcf\"><div class=\"d m1\" style=\"border-style:none;position:absolute;left:192.493697px;bottom:944.332428px;width:85.013000px;height:9.582000px;background-color:rgba(255,255,255,0.000001);\"></div></a>\n",
      "<a class=\"l\" data-dest-detail='[207,\"XYZ\",72,326.59,null]' href=\"#pfcf\"><div class=\"d m1\" style=\"border-style:none;position:absolute;left:192.493697px;bottom:910.012740px;width:65.640000px;height:9.949000px;background-color:rgba(255,255,255,0.000001);\"></div></a>\n",
      "<a class=\"l\" data-dest-detail='[207,\"XYZ\",72,134.53,null]' href=\"#pfcf\"><div class=\"d m1\" style=\"border-style:none;position:absolute;left:192.493697px;bottom:875.691332px;width:159.610000px;height:11.088000px;background-color:rgba(255,255,255,0.000001);\"></div></a>\n",
      "<a class=\"l\" data-dest-detail='[209,\"XYZ\",72,740.93,null]' href=\"#pfd1\"><div class=\"d m1\" style=\"border-style:none;position:absolute;left:123.854321px;bottom:824.327913px;width:102.906000px;height:9.839000px;background-color:rgba(255,255,255,0.000001);\"></div></a>\n",
      "<a class=\"l\" data-dest-detail='[209,\"XYZ\",72,599.31,null]' href=\"#pfd1\"><div class=\"d m1\" style=\"border-style:none;position:absolute;left:150.949173px;bottom:791.857439px;width:47.127000px;height:7.582000px;background-color:rgba(255,255,255,0.000001);\"></div></a>\n",
      "<a class=\"l\" data-dest-detail='[209,\"XYZ\",72,486.79,null]' href=\"#pfd1\"><div class=\"d m1\" style=\"border-style:none;position:absolute;left:150.949173px;bottom:755.829593px;width:76.654000px;height:9.714000px;background-color:rgba(255,255,255,0.000001);\"></div></a>\n",
      "<a class=\"l\" data-dest-detail='[209,\"XYZ\",72,427.36,null]' href=\"#pfd1\"><div class=\"d m1\" style=\"border-style:none;position:absolute;left:150.949173px;bottom:719.142911px;width:46.864000px;height:9.950000px;background-color:rgba(255,255,255,0.000001);\"></div></a>\n",
      "<a class=\"l\" data-dest-detail='[211,\"XYZ\",72,740.93,null]' href=\"#pfd3\"><div class=\"d m1\" style=\"border-style:none;position:absolute;left:123.854321px;bottom:667.779492px;width:144.909000px;height:9.839000px;background-color:rgba(255,255,255,0.000001);\"></div></a>\n",
      "<a class=\"l\" data-dest-detail='[211,\"XYZ\",72,599.18,null]' href=\"#pfd3\"><div class=\"d m1\" style=\"border-style:none;position:absolute;left:150.949173px;bottom:633.568176px;width:66.154000px;height:9.734000px;background-color:rgba(255,255,255,0.000001);\"></div></a>\n",
      "<a class=\"l\" data-dest-detail='[211,\"XYZ\",72,334.2,null]' href=\"#pfd3\"><div class=\"d m1\" style=\"border-style:none;position:absolute;left:150.949173px;bottom:599.427389px;width:66.154000px;height:9.587000px;background-color:rgba(255,255,255,0.000001);\"></div></a>\n",
      "<a class=\"l\" data-dest-detail='[211,\"XYZ\",72,205.96,null]' href=\"#pfd3\"><div class=\"d m1\" style=\"border-style:none;position:absolute;left:192.493697px;bottom:565.105980px;width:100.050000px;height:9.629000px;background-color:rgba(255,255,255,0.000001);\"></div></a>\n",
      "<a class=\"l\" data-dest-detail='[211,\"XYZ\",72,88.97,null]' href=\"#pfd3\"><div class=\"d m1\" style=\"border-style:none;position:absolute;left:192.493697px;bottom:530.714044px;width:93.729000px;height:9.629000px;background-color:rgba(255,255,255,0.000001);\"></div></a>\n",
      "<a class=\"l\" data-dest-detail='[212,\"XYZ\",72,372.04,null]' href=\"#pfd4\"><div class=\"d m1\" style=\"border-style:none;position:absolute;left:192.493697px;bottom:493.953393px;width:96.606000px;height:11.047000px;background-color:rgba(255,255,255,0.000001);\"></div></a>\n",
      "<a class=\"l\" data-dest-detail='[212,\"XYZ\",72,172.73,null]' href=\"#pfd4\"><div class=\"d m1\" style=\"border-style:none;position:absolute;left:150.949173px;bottom:459.633705px;width:76.654000px;height:11.088000px;background-color:rgba(255,255,255,0.000001);\"></div></a>\n",
      "<a class=\"l\" data-dest-detail='[213,\"XYZ\",72,691.27,null]' href=\"#pfd5\"><div class=\"d m1\" style=\"border-style:none;position:absolute;left:150.949173px;bottom:425.312297px;width:108.156000px;height:11.089000px;background-color:rgba(255,255,255,0.000001);\"></div></a>\n",
      "<a class=\"l\" data-dest-detail='[213,\"XYZ\",72,626.19,null]' href=\"#pfd5\"><div class=\"d m1\" style=\"border-style:none;position:absolute;left:150.949173px;bottom:390.990888px;width:66.154000px;height:11.089000px;background-color:rgba(255,255,255,0.000001);\"></div></a>\n",
      "<a class=\"l\" data-dest-detail='[213,\"XYZ\",72,587.12,null]' href=\"#pfd5\"><div class=\"d m1\" style=\"border-style:none;position:absolute;left:150.949173px;bottom:358.747480px;width:66.154000px;height:9.923000px;background-color:rgba(255,255,255,0.000001);\"></div></a>\n",
      "<a class=\"l\" data-dest-detail='[213,\"XYZ\",72,548.04,null]' href=\"#pfd5\"><div class=\"d m1\" style=\"border-style:none;position:absolute;left:150.949173px;bottom:322.349792px;width:87.155000px;height:11.089000px;background-color:rgba(255,255,255,0.000001);\"></div></a>\n",
      "<a class=\"l\" data-dest-detail='[213,\"XYZ\",72,243.23,null]' href=\"#pfd5\"><div class=\"d m1\" style=\"border-style:none;position:absolute;left:150.949173px;bottom:290.395377px;width:76.654000px;height:9.671000px;background-color:rgba(255,255,255,0.000001);\"></div></a>\n",
      "<a class=\"l\" data-dest-detail='[215,\"XYZ\",72,560.46,null]' href=\"#pfd7\"><div class=\"d m1\" style=\"border-style:none;position:absolute;left:150.949173px;bottom:253.708695px;width:72.927000px;height:10.920000px;background-color:rgba(255,255,255,0.000001);\"></div></a>\n",
      "<a class=\"l\" data-dest-detail='[216,\"XYZ\",72,710.96,null]' href=\"#pfd8\"><div class=\"d m1\" style=\"border-style:none;position:absolute;left:150.949173px;bottom:221.754280px;width:112.881000px;height:9.713000px;background-color:rgba(255,255,255,0.000001);\"></div></a>\n",
      "<a class=\"l\" data-dest-detail='[216,\"XYZ\",72,330.99,null]' href=\"#pfd8\"><div class=\"d m1\" style=\"border-style:none;position:absolute;left:150.949173px;bottom:187.505120px;width:133.883000px;height:9.545000px;background-color:rgba(255,255,255,0.000001);\"></div></a>\n",
      "<a class=\"l\" data-dest-detail='[216,\"XYZ\",72,89.01,null]' href=\"#pfd8\"><div class=\"d m1\" style=\"border-style:none;position:absolute;left:150.949173px;bottom:153.183712px;width:123.382000px;height:9.629000px;background-color:rgba(255,255,255,0.000001);\"></div></a>\n",
      "<a class=\"l\" data-dest-detail='[219,\"XYZ\",72,740.93,null]' href=\"#pfdb\"><div class=\"d m1\" style=\"border-style:none;position:absolute;left:123.854321px;bottom:1255.442441px;width:102.906000px;height:9.839000px;background-color:rgba(255,255,255,0.000001);\"></div></a>\n",
      "<a class=\"l\" data-dest-detail='[220,\"XYZ\",72,615.45,null]' href=\"#pfdc\"><div class=\"d m1\" style=\"border-style:none;position:absolute;left:150.949173px;bottom:1219.811961px;width:66.154000px;height:11.131000px;background-color:rgba(255,255,255,0.000001);\"></div></a>\n",
      "<a class=\"l\" data-dest-detail='[221,\"XYZ\",72,559.77,null]' href=\"#pfdd\"><div class=\"d m1\" style=\"border-style:none;position:absolute;left:150.949173px;bottom:1186.403978px;width:66.154000px;height:11.004000px;background-color:rgba(255,255,255,0.000001);\"></div></a>\n",
      "<a class=\"l\" data-dest-detail='[222,\"XYZ\",72,633.76,null]' href=\"#pfde\"><div class=\"d m1\" style=\"border-style:none;position:absolute;left:150.949173px;bottom:1152.994275px;width:54.708000px;height:9.950000px;background-color:rgba(255,255,255,0.000001);\"></div></a>\n",
      "<a class=\"l\" data-dest-detail='[222,\"XYZ\",72,406.07,null]' href=\"#pfde\"><div class=\"d m1\" style=\"border-style:none;position:absolute;left:150.949173px;bottom:1119.586292px;width:71.394000px;height:9.950000px;background-color:rgba(255,255,255,0.000001);\"></div></a>\n",
      "<a class=\"l\" data-dest-detail='[223,\"XYZ\",72,246.17,null]' href=\"#pfdf\"><div class=\"d m1\" style=\"border-style:none;position:absolute;left:150.949173px;bottom:1086.178309px;width:61.229000px;height:9.949000px;background-color:rgba(255,255,255,0.000001);\"></div></a>\n",
      "<a class=\"l\" data-dest-detail='[223,\"XYZ\",72,165.71,null]' href=\"#pfdf\"><div class=\"d m1\" style=\"border-style:none;position:absolute;left:150.949173px;bottom:1052.770327px;width:75.121000px;height:9.949000px;background-color:rgba(255,255,255,0.000001);\"></div></a>\n",
      "<a class=\"l\" data-dest-detail='[223,\"XYZ\",72,87.11,null]' href=\"#pfdf\"><div class=\"d m1\" style=\"border-style:none;position:absolute;left:150.949173px;bottom:1019.362344px;width:65.545000px;height:9.949000px;background-color:rgba(255,255,255,0.000001);\"></div></a>\n",
      "<a class=\"l\" data-dest-detail='[224,\"XYZ\",72,632.29,null]' href=\"#pfe0\"><div class=\"d m1\" style=\"border-style:none;position:absolute;left:192.493697px;bottom:985.954361px;width:107.107000px;height:11.046000px;background-color:rgba(255,255,255,0.000001);\"></div></a>\n",
      "<a class=\"l\" data-dest-detail='[225,\"XYZ\",72,315.81,null]' href=\"#pfe1\"><div class=\"d m1\" style=\"border-style:none;position:absolute;left:192.493697px;bottom:952.544658px;width:54.604000px;height:11.047000px;background-color:rgba(255,255,255,0.000001);\"></div></a>\n",
      "<a class=\"l\" data-dest-detail='[227,\"XYZ\",72,653.41,null]' href=\"#pfe3\"><div class=\"d m1\" style=\"border-style:none;position:absolute;left:192.493697px;bottom:919.136675px;width:75.605000px;height:11.047000px;background-color:rgba(255,255,255,0.000001);\"></div></a>\n",
      "<a class=\"l\" data-dest-detail='[228,\"XYZ\",72,461.7,null]' href=\"#pfe4\"><div class=\"d m1\" style=\"border-style:none;position:absolute;left:150.949173px;bottom:885.728692px;width:86.777000px;height:9.949000px;background-color:rgba(255,255,255,0.000001);\"></div></a>\n",
      "<a class=\"l\" data-dest-detail='[228,\"XYZ\",72,246.38,null]' href=\"#pfe4\"><div class=\"d m1\" style=\"border-style:none;position:absolute;left:150.949173px;bottom:852.320710px;width:93.728000px;height:9.949000px;background-color:rgba(255,255,255,0.000001);\"></div></a>\n",
      "<a class=\"l\" data-dest-detail='[228,\"XYZ\",72,88.97,null]' href=\"#pfe4\"><div class=\"d m1\" style=\"border-style:none;position:absolute;left:150.949173px;bottom:818.912727px;width:67.519000px;height:9.949000px;background-color:rgba(255,255,255,0.000001);\"></div></a>\n",
      "<a class=\"l\" data-dest-detail='[229,\"XYZ\",72,670.75,null]' href=\"#pfe5\"><div class=\"d m1\" style=\"border-style:none;position:absolute;left:150.949173px;bottom:785.503024px;width:63.917000px;height:9.950000px;background-color:rgba(255,255,255,0.000001);\"></div></a>\n",
      "<a class=\"l\" data-dest-detail='[229,\"XYZ\",72,598.21,null]' href=\"#pfe5\"><div class=\"d m1\" style=\"border-style:none;position:absolute;left:150.949173px;bottom:752.095041px;width:67.760000px;height:9.949000px;background-color:rgba(255,255,255,0.000001);\"></div></a>\n",
      "<a class=\"l\" data-dest-detail='[229,\"XYZ\",72,507.84,null]' href=\"#pfe5\"><div class=\"d m1\" style=\"border-style:none;position:absolute;left:150.949173px;bottom:718.687058px;width:63.402000px;height:9.582000px;background-color:rgba(255,255,255,0.000001);\"></div></a>\n",
      "<a class=\"l\" data-dest-detail='[230,\"XYZ\",72,552.51,null]' href=\"#pfe6\"><div class=\"d m1\" style=\"border-style:none;position:absolute;left:150.949173px;bottom:685.279075px;width:68.989000px;height:9.582000px;background-color:rgba(255,255,255,0.000001);\"></div></a>\n",
      "<a class=\"l\" data-dest-detail='[230,\"XYZ\",72,308.97,null]' href=\"#pfe6\"><div class=\"d m1\" style=\"border-style:none;position:absolute;left:150.949173px;bottom:651.871093px;width:58.929000px;height:9.949000px;background-color:rgba(255,255,255,0.000001);\"></div></a>\n",
      "<a class=\"l\" data-dest-detail='[230,\"XYZ\",72,245.71,null]' href=\"#pfe6\"><div class=\"d m1\" style=\"border-style:none;position:absolute;left:150.949173px;bottom:618.461390px;width:76.969000px;height:9.950000px;background-color:rgba(255,255,255,0.000001);\"></div></a>\n",
      "<a class=\"l\" data-dest-detail='[230,\"XYZ\",72,166.41,null]' href=\"#pfe6\"><div class=\"d m1\" style=\"border-style:none;position:absolute;left:150.949173px;bottom:585.053407px;width:65.083000px;height:9.950000px;background-color:rgba(255,255,255,0.000001);\"></div></a>\n",
      "<a class=\"l\" data-dest-detail='[230,\"XYZ\",72,87.11,null]' href=\"#pfe6\"><div class=\"d m1\" style=\"border-style:none;position:absolute;left:150.949173px;bottom:551.645424px;width:78.849000px;height:9.949000px;background-color:rgba(255,255,255,0.000001);\"></div></a>\n",
      "<a class=\"l\" data-dest-detail='[231,\"XYZ\",72,153.38,null]' href=\"#pfe7\"><div class=\"d m1\" style=\"border-style:none;position:absolute;left:192.493697px;bottom:518.237441px;width:78.755000px;height:11.046000px;background-color:rgba(255,255,255,0.000001);\"></div></a>\n",
      "<a class=\"l\" data-dest-detail='[232,\"XYZ\",72,296.25,null]' href=\"#pfe8\"><div class=\"d m1\" style=\"border-style:none;position:absolute;left:192.493697px;bottom:484.829458px;width:131.258000px;height:11.004000px;background-color:rgba(255,255,255,0.000001);\"></div></a>\n",
      "<a class=\"l\" data-dest-detail='[234,\"XYZ\",72,535.3,null]' href=\"#pfea\"><div class=\"d m1\" style=\"border-style:none;position:absolute;left:192.493697px;bottom:451.419755px;width:110.257000px;height:11.047000px;background-color:rgba(255,255,255,0.000001);\"></div></a>\n",
      "<a class=\"l\" data-dest-detail='[235,\"XYZ\",72,334.2,null]' href=\"#pfeb\"><div class=\"d m1\" style=\"border-style:none;position:absolute;left:192.493697px;bottom:418.011773px;width:78.755000px;height:11.047000px;background-color:rgba(255,255,255,0.000001);\"></div></a>\n",
      "<a class=\"l\" data-dest-detail='[237,\"XYZ\",72,449.15,null]' href=\"#pfed\"><div class=\"d m1\" style=\"border-style:none;position:absolute;left:192.493697px;bottom:384.603790px;width:78.755000px;height:11.047000px;background-color:rgba(255,255,255,0.000001);\"></div></a>\n",
      "<a class=\"l\" data-dest-detail='[239,\"XYZ\",72,82.24,null]' href=\"#pfef\"><div class=\"d m1\" style=\"border-style:none;position:absolute;left:150.949173px;bottom:351.195807px;width:89.875000px;height:9.949000px;background-color:rgba(255,255,255,0.000001);\"></div></a>\n",
      "<a class=\"l\" data-dest-detail='[240,\"XYZ\",72,673.74,null]' href=\"#pff0\"><div class=\"d m1\" style=\"border-style:none;position:absolute;left:150.949173px;bottom:317.787824px;width:72.927000px;height:9.949000px;background-color:rgba(255,255,255,0.000001);\"></div></a>\n",
      "<a class=\"l\" data-dest-detail='[243,\"XYZ\",72,265.75,null]' href=\"#pff3\"><div class=\"d m1\" style=\"border-style:none;position:absolute;left:192.493697px;bottom:284.379841px;width:133.306000px;height:11.088000px;background-color:rgba(255,255,255,0.000001);\"></div></a>\n",
      "<a class=\"l\" data-dest-detail='[243,\"XYZ\",72,87.58,null]' href=\"#pff3\"><div class=\"d m1\" style=\"border-style:none;position:absolute;left:192.493697px;bottom:250.970138px;width:133.306000px;height:11.089000px;background-color:rgba(255,255,255,0.000001);\"></div></a>\n",
      "<a class=\"l\" data-dest-detail='[244,\"XYZ\",72,468.86,null]' href=\"#pff4\"><div class=\"d m1\" style=\"border-style:none;position:absolute;left:150.949173px;bottom:217.562156px;width:86.945000px;height:9.949000px;background-color:rgba(255,255,255,0.000001);\"></div></a>\n",
      "<a class=\"l\" data-dest-detail='[244,\"XYZ\",72,388.17,null]' href=\"#pff4\"><div class=\"d m1\" style=\"border-style:none;position:absolute;left:150.949173px;bottom:184.154173px;width:70.910000px;height:9.582000px;background-color:rgba(255,255,255,0.000001);\"></div></a>\n",
      "<a class=\"l\" data-dest-detail='[244,\"XYZ\",72,307.48,null]' href=\"#pff4\"><div class=\"d m1\" style=\"border-style:none;position:absolute;left:150.949173px;bottom:149.843086px;width:124.527000px;height:10.474000px;background-color:rgba(255,255,255,0.000001);\"></div></a>\n",
      "<a class=\"l\" data-dest-detail='[244,\"XYZ\",72,226.79,null]' href=\"#pff4\"><div class=\"d m1\" style=\"border-style:none;position:absolute;left:150.949173px;bottom:1253.219944px;width:84.918000px;height:9.949000px;background-color:rgba(255,255,255,0.000001);\"></div></a>\n",
      "<a class=\"l\" data-dest-detail='[244,\"XYZ\",72,109.98,null]' href=\"#pff4\"><div class=\"d m1\" style=\"border-style:none;position:absolute;left:192.493697px;bottom:1220.365865px;width:99.756000px;height:11.089000px;background-color:rgba(255,255,255,0.000001);\"></div></a>\n",
      "<a class=\"l\" data-dest-detail='[245,\"XYZ\",72,487.37,null]' href=\"#pff5\"><div class=\"d m1\" style=\"border-style:none;position:absolute;left:192.493697px;bottom:1187.511786px;width:120.757000px;height:11.047000px;background-color:rgba(255,255,255,0.000001);\"></div></a>\n",
      "<a class=\"l\" data-dest-detail='[246,\"XYZ\",72,503.74,null]' href=\"#pff6\"><div class=\"d m1\" style=\"border-style:none;position:absolute;left:150.949173px;bottom:1154.657707px;width:84.393000px;height:9.949000px;background-color:rgba(255,255,255,0.000001);\"></div></a>\n",
      "<a class=\"l\" data-dest-detail='[246,\"XYZ\",72,430.94,null]' href=\"#pff6\"><div class=\"d m1\" style=\"border-style:none;position:absolute;left:150.949173px;bottom:1121.803629px;width:89.434000px;height:9.949000px;background-color:rgba(255,255,255,0.000001);\"></div></a>\n",
      "<a class=\"l\" data-dest-detail='[247,\"XYZ\",72,192.11,null]' href=\"#pff7\"><div class=\"d m1\" style=\"border-style:none;position:absolute;left:150.949173px;bottom:1088.949550px;width:50.350000px;height:9.949000px;background-color:rgba(255,255,255,0.000001);\"></div></a>\n",
      "<a class=\"l\" data-dest-detail='[248,\"XYZ\",72,308.26,null]' href=\"#pff8\"><div class=\"d m1\" style=\"border-style:none;position:absolute;left:150.949173px;bottom:1056.095471px;width:71.467000px;height:9.949000px;background-color:rgba(255,255,255,0.000001);\"></div></a>\n",
      "<a class=\"l\" data-dest-detail='[248,\"XYZ\",72,233.3,null]' href=\"#pff8\"><div class=\"d m1\" style=\"border-style:none;position:absolute;left:150.949173px;bottom:1022.338288px;width:79.300000px;height:10.474000px;background-color:rgba(255,255,255,0.000001);\"></div></a>\n",
      "<a class=\"l\" data-dest-detail='[248,\"XYZ\",72,160.2,null]' href=\"#pff8\"><div class=\"d m1\" style=\"border-style:none;position:absolute;left:150.949173px;bottom:990.387314px;width:72.034000px;height:9.949000px;background-color:rgba(255,255,255,0.000001);\"></div></a>\n",
      "<a class=\"l\" data-dest-detail='[248,\"XYZ\",72,87.11,null]' href=\"#pff8\"><div class=\"d m1\" style=\"border-style:none;position:absolute;left:150.949173px;bottom:957.533235px;width:67.445000px;height:9.949000px;background-color:rgba(255,255,255,0.000001);\"></div></a>\n",
      "<a class=\"l\" data-dest-detail='[249,\"XYZ\",72,362.61,null]' href=\"#pff9\"><div class=\"d m1\" style=\"border-style:none;position:absolute;left:150.949173px;bottom:924.679156px;width:47.820000px;height:9.949000px;background-color:rgba(255,255,255,0.000001);\"></div></a>\n",
      "<a class=\"l\" data-dest-detail='[249,\"XYZ\",72,275.63,null]' href=\"#pff9\"><div class=\"d m1\" style=\"border-style:none;position:absolute;left:150.949173px;bottom:891.823357px;width:67.687000px;height:9.950000px;background-color:rgba(255,255,255,0.000001);\"></div></a>\n",
      "<a class=\"l\" data-dest-detail='[249,\"XYZ\",72,114.94,null]' href=\"#pff9\"><div class=\"d m1\" style=\"border-style:none;position:absolute;left:150.949173px;bottom:858.969278px;width:91.880000px;height:11.047000px;background-color:rgba(255,255,255,0.000001);\"></div></a>\n",
      "<a class=\"l\" data-dest-detail='[251,\"XYZ\",72,653.18,null]' href=\"#pffb\"><div class=\"d m1\" style=\"border-style:none;position:absolute;left:150.949173px;bottom:826.115200px;width:91.880000px;height:11.089000px;background-color:rgba(255,255,255,0.000001);\"></div></a>\n",
      "<a class=\"l\" data-dest-detail='[256,\"XYZ\",72,668.68,null]' href=\"#pf100\"><div class=\"d m1\" style=\"border-style:none;position:absolute;left:150.949173px;bottom:793.261121px;width:112.881000px;height:11.089000px;background-color:rgba(255,255,255,0.000001);\"></div></a>\n",
      "<a class=\"l\" data-dest-detail='[259,\"XYZ\",72,625.73,null]' href=\"#pf103\"><div class=\"d m1\" style=\"border-style:none;position:absolute;left:150.949173px;bottom:760.407042px;width:112.881000px;height:11.089000px;background-color:rgba(255,255,255,0.000001);\"></div></a>\n",
      "<a class=\"l\" data-dest-detail='[262,\"XYZ\",72,187.7,null]' href=\"#pf106\"><div class=\"d m1\" style=\"border-style:none;position:absolute;left:150.949173px;bottom:727.552963px;width:133.883000px;height:11.089000px;background-color:rgba(255,255,255,0.000001);\"></div></a>\n",
      "<a class=\"l\" data-dest-detail='[262,\"XYZ\",72,87.11,null]' href=\"#pf106\"><div class=\"d m1\" style=\"border-style:none;position:absolute;left:192.493697px;bottom:694.698885px;width:71.100000px;height:9.949000px;background-color:rgba(255,255,255,0.000001);\"></div></a>\n",
      "<a class=\"l\" data-dest-detail='[263,\"XYZ\",72,243.8,null]' href=\"#pf107\"><div class=\"d m1\" style=\"border-style:none;position:absolute;left:192.493697px;bottom:660.941701px;width:165.973000px;height:10.474000px;background-color:rgba(255,255,255,0.000001);\"></div></a>\n",
      "<a class=\"l\" data-dest-detail='[263,\"XYZ\",72,138.23,null]' href=\"#pf107\"><div class=\"d m1\" style=\"border-style:none;position:absolute;left:192.493697px;bottom:628.087623px;width:203.933000px;height:10.474000px;background-color:rgba(255,255,255,0.000001);\"></div></a>\n",
      "<a class=\"l\" data-dest-detail='[264,\"XYZ\",72,643.41,null]' href=\"#pf108\"><div class=\"d m1\" style=\"border-style:none;position:absolute;left:192.493697px;bottom:596.136648px;width:173.985000px;height:9.949000px;background-color:rgba(255,255,255,0.000001);\"></div></a>\n",
      "<a class=\"l\" data-dest-detail='[264,\"XYZ\",72,526.82,null]' href=\"#pf108\"><div class=\"d m1\" style=\"border-style:none;position:absolute;left:150.949173px;bottom:563.282570px;width:123.382000px;height:11.089000px;background-color:rgba(255,255,255,0.000001);\"></div></a>\n",
      "<a class=\"l\" data-dest-detail='[267,\"XYZ\",72,740.93,null]' href=\"#pf10b\"><div class=\"d m1\" style=\"border-style:none;position:absolute;left:123.854321px;bottom:514.435802px;width:102.906000px;height:9.797000px;background-color:rgba(255,255,255,0.000001);\"></div></a>\n",
      "<a class=\"l\" data-dest-detail='[267,\"XYZ\",72,503.65,null]' href=\"#pf10b\"><div class=\"d m1\" style=\"border-style:none;position:absolute;left:150.949173px;bottom:479.286978px;width:108.156000px;height:11.089000px;background-color:rgba(255,255,255,0.000001);\"></div></a>\n",
      "<a class=\"l\" data-dest-detail='[267,\"XYZ\",72,439.23,null]' href=\"#pf10b\"><div class=\"d m1\" style=\"border-style:none;position:absolute;left:150.949173px;bottom:446.432899px;width:45.153000px;height:11.047000px;background-color:rgba(255,255,255,0.000001);\"></div></a>\n",
      "<a class=\"l\" data-dest-detail='[267,\"XYZ\",72,400.91,null]' href=\"#pf10b\"><div class=\"d m1\" style=\"border-style:none;position:absolute;left:192.493697px;bottom:413.578820px;width:87.722000px;height:11.047000px;background-color:rgba(255,255,255,0.000001);\"></div></a>\n",
      "<a class=\"l\" data-dest-detail='[268,\"XYZ\",72,637.33,null]' href=\"#pf10c\"><div class=\"d m1\" style=\"border-style:none;position:absolute;left:192.493697px;bottom:380.724741px;width:86.105000px;height:11.047000px;background-color:rgba(255,255,255,0.000001);\"></div></a>\n",
      "<a class=\"l\" data-dest-detail='[268,\"XYZ\",72,449.04,null]' href=\"#pf10c\"><div class=\"d m1\" style=\"border-style:none;position:absolute;left:192.493697px;bottom:347.870663px;width:75.605000px;height:11.047000px;background-color:rgba(255,255,255,0.000001);\"></div></a>\n",
      "<a class=\"l\" data-dest-detail='[268,\"XYZ\",72,246.49,null]' href=\"#pf10c\"><div class=\"d m1\" style=\"border-style:none;position:absolute;left:192.493697px;bottom:315.016584px;width:96.606000px;height:11.047000px;background-color:rgba(255,255,255,0.000001);\"></div></a>\n",
      "<a class=\"l\" data-dest-detail='[268,\"XYZ\",72,83.84,null]' href=\"#pf10c\"><div class=\"d m1\" style=\"border-style:none;position:absolute;left:192.493697px;bottom:282.162505px;width:82.021000px;height:11.047000px;background-color:rgba(255,255,255,0.000001);\"></div></a>\n",
      "<a class=\"l\" data-dest-detail='[269,\"XYZ\",72,473.93,null]' href=\"#pf10d\"><div class=\"d m1\" style=\"border-style:none;position:absolute;left:150.949173px;bottom:249.308426px;width:108.156000px;height:11.089000px;background-color:rgba(255,255,255,0.000001);\"></div></a>\n",
      "<a class=\"l\" data-dest-detail='[269,\"XYZ\",72,364.78,null]' href=\"#pf10d\"><div class=\"d m1\" style=\"border-style:none;position:absolute;left:192.493697px;bottom:216.454348px;width:107.107000px;height:11.088000px;background-color:rgba(255,255,255,0.000001);\"></div></a>\n",
      "<a class=\"l\" data-dest-detail='[270,\"XYZ\",72,304.55,null]' href=\"#pf10e\"><div class=\"d m1\" style=\"border-style:none;position:absolute;left:192.493697px;bottom:182.697164px;width:86.494000px;height:11.613000px;background-color:rgba(255,255,255,0.000001);\"></div></a>\n",
      "<a class=\"l\" data-dest-detail='[270,\"XYZ\",72,185.51,null]' href=\"#pf10e\"><div class=\"d m1\" style=\"border-style:none;position:absolute;left:192.493697px;bottom:150.746190px;width:80.351000px;height:11.088000px;background-color:rgba(255,255,255,0.000001);\"></div></a>\n",
      "<a class=\"l\" data-dest-detail='[270,\"XYZ\",72,89.01,null]' href=\"#pf10e\"><div class=\"d m1\" style=\"border-style:none;position:absolute;left:192.493697px;bottom:1253.219944px;width:75.605000px;height:11.089000px;background-color:rgba(255,255,255,0.000001);\"></div></a>\n",
      "<a class=\"l\" data-dest-detail='[271,\"XYZ\",72,378.52,null]' href=\"#pf10f\"><div class=\"d m1\" style=\"border-style:none;position:absolute;left:192.493697px;bottom:1217.656552px;width:86.105000px;height:11.089000px;background-color:rgba(255,255,255,0.000001);\"></div></a>\n",
      "<a class=\"l\" data-dest-detail='[271,\"XYZ\",72,226.69,null]' href=\"#pf10f\"><div class=\"d m1\" style=\"border-style:none;position:absolute;left:192.493697px;bottom:1182.093160px;width:86.105000px;height:11.046000px;background-color:rgba(255,255,255,0.000001);\"></div></a>\n",
      "<a class=\"l\" data-dest-detail='[271,\"XYZ\",72,89.01,null]' href=\"#pf10f\"><div class=\"d m1\" style=\"border-style:none;position:absolute;left:192.493697px;bottom:1146.529768px;width:75.605000px;height:11.088000px;background-color:rgba(255,255,255,0.000001);\"></div></a>\n",
      "<a class=\"l\" data-dest-detail='[272,\"XYZ\",72,634.71,null]' href=\"#pf110\"><div class=\"d m1\" style=\"border-style:none;position:absolute;left:192.493697px;bottom:1110.964655px;width:107.107000px;height:11.089000px;background-color:rgba(255,255,255,0.000001);\"></div></a>\n",
      "<a class=\"l\" data-dest-detail='[272,\"XYZ\",72,307.44,null]' href=\"#pf110\"><div class=\"d m1\" style=\"border-style:none;position:absolute;left:192.493697px;bottom:1075.401263px;width:96.606000px;height:11.089000px;background-color:rgba(255,255,255,0.000001);\"></div></a>\n",
      "<a class=\"l\" data-dest-detail='[276,\"XYZ\",72,592.28,null]' href=\"#pf114\"><div class=\"d m1\" style=\"border-style:none;position:absolute;left:192.493697px;bottom:1039.837871px;width:89.256000px;height:11.047000px;background-color:rgba(255,255,255,0.000001);\"></div></a>\n",
      "<a class=\"l\" data-dest-detail='[276,\"XYZ\",72,198.67,null]' href=\"#pf114\"><div class=\"d m1\" style=\"border-style:none;position:absolute;left:150.949173px;bottom:1004.274479px;width:87.155000px;height:11.089000px;background-color:rgba(255,255,255,0.000001);\"></div></a>\n",
      "<a class=\"l\" data-dest-detail='[276,\"XYZ\",72,88.97,null]' href=\"#pf114\"><div class=\"d m1\" style=\"border-style:none;position:absolute;left:192.493697px;bottom:968.711087px;width:75.993000px;height:9.949000px;background-color:rgba(255,255,255,0.000001);\"></div></a>\n",
      "<a class=\"l\" data-dest-detail='[277,\"XYZ\",72,714.71,null]' href=\"#pf115\"><div class=\"d m1\" style=\"border-style:none;position:absolute;left:192.493697px;bottom:933.147695px;width:77.253000px;height:9.949000px;background-color:rgba(255,255,255,0.000001);\"></div></a>\n",
      "<a class=\"l\" data-dest-detail='[277,\"XYZ\",72,687.9,null]' href=\"#pf115\"><div class=\"d m1\" style=\"border-style:none;position:absolute;left:150.949173px;bottom:897.582583px;width:108.156000px;height:11.089000px;background-color:rgba(255,255,255,0.000001);\"></div></a>\n",
      "<a class=\"l\" data-dest-detail='[277,\"XYZ\",72,519.65,null]' href=\"#pf115\"><div class=\"d m1\" style=\"border-style:none;position:absolute;left:192.493697px;bottom:862.019191px;width:86.105000px;height:11.047000px;background-color:rgba(255,255,255,0.000001);\"></div></a>\n",
      "<a class=\"l\" data-dest-detail='[277,\"XYZ\",72,353.43,null]' href=\"#pf115\"><div class=\"d m1\" style=\"border-style:none;position:absolute;left:192.493697px;bottom:826.455799px;width:96.606000px;height:11.047000px;background-color:rgba(255,255,255,0.000001);\"></div></a>\n",
      "<a class=\"l\" data-dest-detail='[277,\"XYZ\",72,230.29,null]' href=\"#pf115\"><div class=\"d m1\" style=\"border-style:none;position:absolute;left:192.493697px;bottom:790.892407px;width:65.104000px;height:11.046000px;background-color:rgba(255,255,255,0.000001);\"></div></a>\n",
      "<a class=\"l\" data-dest-detail='[278,\"XYZ\",72,618.98,null]' href=\"#pf116\"><div class=\"d m1\" style=\"border-style:none;position:absolute;left:192.493697px;bottom:755.329015px;width:75.552000px;height:10.920000px;background-color:rgba(255,255,255,0.000001);\"></div></a>\n",
      "<a class=\"l\" data-dest-detail='[278,\"XYZ\",72,439.59,null]' href=\"#pf116\"><div class=\"d m1\" style=\"border-style:none;position:absolute;left:150.949173px;bottom:719.763903px;width:108.156000px;height:11.089000px;background-color:rgba(255,255,255,0.000001);\"></div></a>\n",
      "<a class=\"l\" data-dest-detail='[278,\"XYZ\",72,342.8,null]' href=\"#pf116\"><div class=\"d m1\" style=\"border-style:none;position:absolute;left:192.493697px;bottom:684.200511px;width:65.104000px;height:11.047000px;background-color:rgba(255,255,255,0.000001);\"></div></a>\n",
      "<a class=\"l\" data-dest-detail='[278,\"XYZ\",72,87.44,null]' href=\"#pf116\"><div class=\"d m1\" style=\"border-style:none;position:absolute;left:192.493697px;bottom:648.637119px;width:65.104000px;height:11.047000px;background-color:rgba(255,255,255,0.000001);\"></div></a>\n",
      "<a class=\"l\" data-dest-detail='[280,\"XYZ\",72,107.23,null]' href=\"#pf118\"><div class=\"d m1\" style=\"border-style:none;position:absolute;left:192.493697px;bottom:613.073727px;width:96.606000px;height:11.089000px;background-color:rgba(255,255,255,0.000001);\"></div></a>\n",
      "<a class=\"l\" data-dest-detail='[281,\"XYZ\",72,561.41,null]' href=\"#pf119\"><div class=\"d m1\" style=\"border-style:none;position:absolute;left:192.493697px;bottom:577.510335px;width:96.606000px;height:11.004000px;background-color:rgba(255,255,255,0.000001);\"></div></a>\n",
      "<a class=\"l\" data-dest-detail='[282,\"XYZ\",72,479.76,null]' href=\"#pf11a\"><div class=\"d m1\" style=\"border-style:none;position:absolute;left:192.493697px;bottom:541.946943px;width:96.606000px;height:11.088000px;background-color:rgba(255,255,255,0.000001);\"></div></a>\n",
      "<a class=\"l\" data-dest-detail='[282,\"XYZ\",72,284.88,null]' href=\"#pf11a\"><div class=\"d m1\" style=\"border-style:none;position:absolute;left:192.493697px;bottom:506.381830px;width:96.606000px;height:11.089000px;background-color:rgba(255,255,255,0.000001);\"></div></a>\n",
      "<a class=\"l\" data-dest-detail='[283,\"XYZ\",72,676.75,null]' href=\"#pf11b\"><div class=\"d m1\" style=\"border-style:none;position:absolute;left:192.493697px;bottom:469.915334px;width:70.344000px;height:10.475000px;background-color:rgba(255,255,255,0.000001);\"></div></a>\n",
      "<a class=\"l\" data-dest-detail='[283,\"XYZ\",72,473.53,null]' href=\"#pf11b\"><div class=\"d m1\" style=\"border-style:none;position:absolute;left:192.493697px;bottom:435.255046px;width:75.605000px;height:11.131000px;background-color:rgba(255,255,255,0.000001);\"></div></a>\n",
      "<a class=\"l\" data-dest-detail='[283,\"XYZ\",72,393.82,null]' href=\"#pf11b\"><div class=\"d m1\" style=\"border-style:none;position:absolute;left:150.949173px;bottom:399.691654px;width:66.154000px;height:11.089000px;background-color:rgba(255,255,255,0.000001);\"></div></a>\n",
      "<a class=\"l\" data-dest-detail='[283,\"XYZ\",72,206.49,null]' href=\"#pf11b\"><div class=\"d m1\" style=\"border-style:none;position:absolute;left:192.493697px;bottom:364.128262px;width:44.103000px;height:11.046000px;background-color:rgba(255,255,255,0.000001);\"></div></a>\n",
      "<a class=\"l\" data-dest-detail='[285,\"XYZ\",72,686.03,null]' href=\"#pf11d\"><div class=\"d m1\" style=\"border-style:none;position:absolute;left:192.493697px;bottom:328.564870px;width:65.104000px;height:11.046000px;background-color:rgba(255,255,255,0.000001);\"></div></a>\n",
      "<a class=\"l\" data-dest-detail='[285,\"XYZ\",72,509.1,null]' href=\"#pf11d\"><div class=\"d m1\" style=\"border-style:none;position:absolute;left:192.493697px;bottom:292.999758px;width:65.104000px;height:11.047000px;background-color:rgba(255,255,255,0.000001);\"></div></a>\n",
      "<a class=\"l\" data-dest-detail='[285,\"XYZ\",72,347.26,null]' href=\"#pf11d\"><div class=\"d m1\" style=\"border-style:none;position:absolute;left:192.493697px;bottom:257.436366px;width:65.104000px;height:11.131000px;background-color:rgba(255,255,255,0.000001);\"></div></a>\n",
      "<a class=\"l\" data-dest-detail='[285,\"XYZ\",72,87.44,null]' href=\"#pf11d\"><div class=\"d m1\" style=\"border-style:none;position:absolute;left:192.493697px;bottom:221.872974px;width:68.643000px;height:11.089000px;background-color:rgba(255,255,255,0.000001);\"></div></a>\n",
      "<a class=\"l\" data-dest-detail='[286,\"XYZ\",72,88.97,null]' href=\"#pf11e\"><div class=\"d m1\" style=\"border-style:none;position:absolute;left:192.493697px;bottom:186.309582px;width:65.104000px;height:11.089000px;background-color:rgba(255,255,255,0.000001);\"></div></a>\n",
      "<a class=\"l\" data-dest-detail='[287,\"XYZ\",72,106.02,null]' href=\"#pf11f\"><div class=\"d m1\" style=\"border-style:none;position:absolute;left:192.493697px;bottom:150.746190px;width:101.856000px;height:11.088000px;background-color:rgba(255,255,255,0.000001);\"></div></a>\n",
      "<a class=\"l\" data-dest-detail='[291,\"XYZ\",72,551.18,null]' href=\"#pf123\"><div class=\"d m1\" style=\"border-style:none;position:absolute;left:123.854321px;bottom:1255.160328px;width:108.045000px;height:11.248000px;background-color:rgba(255,255,255,0.000001);\"></div></a>\n",
      "<a class=\"l\" data-dest-detail='[293,\"XYZ\",72,740.93,null]' href=\"#pf125\"><div class=\"d m1\" style=\"border-style:none;position:absolute;left:123.854321px;bottom:1203.645532px;width:92.405000px;height:9.797000px;background-color:rgba(255,255,255,0.000001);\"></div></a>\n",
      "<a class=\"l\" data-dest-detail='[293,\"XYZ\",72,296.22,null]' href=\"#pf125\"><div class=\"d m1\" style=\"border-style:none;position:absolute;left:150.949173px;bottom:1168.059777px;width:66.154000px;height:11.089000px;background-color:rgba(255,255,255,0.000001);\"></div></a>\n",
      "<a class=\"l\" data-dest-detail='[293,\"XYZ\",72,242.45,null]' href=\"#pf125\"><div class=\"d m1\" style=\"border-style:none;position:absolute;left:192.493697px;bottom:1134.768768px;width:117.607000px;height:11.088000px;background-color:rgba(255,255,255,0.000001);\"></div></a>\n",
      "<a class=\"l\" data-dest-detail='[294,\"XYZ\",72,197.2,null]' href=\"#pf126\"><div class=\"d m1\" style=\"border-style:none;position:absolute;left:192.493697px;bottom:1101.477758px;width:65.104000px;height:11.004000px;background-color:rgba(255,255,255,0.000001);\"></div></a>\n",
      "<a class=\"l\" data-dest-detail='[295,\"XYZ\",72,434.69,null]' href=\"#pf127\"><div class=\"d m1\" style=\"border-style:none;position:absolute;left:192.493697px;bottom:1068.186749px;width:117.607000px;height:11.088000px;background-color:rgba(255,255,255,0.000001);\"></div></a>\n",
      "<a class=\"l\" data-dest-detail='[295,\"XYZ\",72,286.51,null]' href=\"#pf127\"><div class=\"d m1\" style=\"border-style:none;position:absolute;left:192.493697px;bottom:1034.894020px;width:75.605000px;height:11.089000px;background-color:rgba(255,255,255,0.000001);\"></div></a>\n",
      "<a class=\"l\" data-dest-detail='[296,\"XYZ\",72,658.98,null]' href=\"#pf128\"><div class=\"d m1\" style=\"border-style:none;position:absolute;left:192.493697px;bottom:1001.603010px;width:96.606000px;height:11.089000px;background-color:rgba(255,255,255,0.000001);\"></div></a>\n",
      "<a class=\"l\" data-dest-detail='[296,\"XYZ\",72,84.42,null]' href=\"#pf128\"><div class=\"d m1\" style=\"border-style:none;position:absolute;left:150.949173px;bottom:968.312001px;width:66.154000px;height:11.089000px;background-color:rgba(255,255,255,0.000001);\"></div></a>\n",
      "<a class=\"l\" data-dest-detail='[297,\"XYZ\",72,669.53,null]' href=\"#pf129\"><div class=\"d m1\" style=\"border-style:none;position:absolute;left:192.493697px;bottom:935.020992px;width:119.508000px;height:11.047000px;background-color:rgba(255,255,255,0.000001);\"></div></a>\n",
      "<a class=\"l\" data-dest-detail='[297,\"XYZ\",72,90.07,null]' href=\"#pf129\"><div class=\"d m1\" style=\"border-style:none;position:absolute;left:192.493697px;bottom:901.729983px;width:130.328000px;height:11.047000px;background-color:rgba(255,255,255,0.000001);\"></div></a>\n",
      "<a class=\"l\" data-dest-detail='[299,\"XYZ\",72,79.56,null]' href=\"#pf12b\"><div class=\"d m1\" style=\"border-style:none;position:absolute;left:192.493697px;bottom:868.438973px;width:96.606000px;height:11.089000px;background-color:rgba(255,255,255,0.000001);\"></div></a>\n",
      "<a class=\"l\" data-dest-detail='[300,\"XYZ\",72,415.51,null]' href=\"#pf12c\"><div class=\"d m1\" style=\"border-style:none;position:absolute;left:192.493697px;bottom:835.147964px;width:96.606000px;height:11.046000px;background-color:rgba(255,255,255,0.000001);\"></div></a>\n",
      "<a class=\"l\" data-dest-detail='[300,\"XYZ\",72,233.03,null]' href=\"#pf12c\"><div class=\"d m1\" style=\"border-style:none;position:absolute;left:192.493697px;bottom:801.856955px;width:96.606000px;height:11.088000px;background-color:rgba(255,255,255,0.000001);\"></div></a>\n",
      "<a class=\"l\" data-dest-detail='[303,\"XYZ\",72,740.93,null]' href=\"#pf12f\"><div class=\"d m1\" style=\"border-style:none;position:absolute;left:123.854321px;bottom:752.280822px;width:102.906000px;height:9.797000px;background-color:rgba(255,255,255,0.000001);\"></div></a>\n",
      "<a class=\"l\" data-dest-detail='[303,\"XYZ\",72,352.8,null]' href=\"#pf12f\"><div class=\"d m1\" style=\"border-style:none;position:absolute;left:150.949173px;bottom:719.062062px;width:66.154000px;height:9.671000px;background-color:rgba(255,255,255,0.000001);\"></div></a>\n",
      "<a class=\"l\" data-dest-detail='[304,\"XYZ\",72,501.16,null]' href=\"#pf130\"><div class=\"d m1\" style=\"border-style:none;position:absolute;left:192.493697px;bottom:685.698804px;width:75.605000px;height:9.755000px;background-color:rgba(255,255,255,0.000001);\"></div></a>\n",
      "<a class=\"l\" data-dest-detail='[305,\"XYZ\",72,709.1,null]' href=\"#pf131\"><div class=\"d m1\" style=\"border-style:none;position:absolute;left:192.493697px;bottom:652.552291px;width:65.104000px;height:9.671000px;background-color:rgba(255,255,255,0.000001);\"></div></a>\n",
      "<a class=\"l\" data-dest-detail='[305,\"XYZ\",72,520.28,null]' href=\"#pf131\"><div class=\"d m1\" style=\"border-style:none;position:absolute;left:192.493697px;bottom:616.822040px;width:75.605000px;height:11.089000px;background-color:rgba(255,255,255,0.000001);\"></div></a>\n",
      "<a class=\"l\" data-dest-detail='[307,\"XYZ\",72,302.88,null]' href=\"#pf133\"><div class=\"d m1\" style=\"border-style:none;position:absolute;left:192.493697px;bottom:583.531031px;width:44.103000px;height:11.005000px;background-color:rgba(255,255,255,0.000001);\"></div></a>\n",
      "<a class=\"l\" data-dest-detail='[308,\"XYZ\",72,506.49,null]' href=\"#pf134\"><div class=\"d m1\" style=\"border-style:none;position:absolute;left:192.493697px;bottom:550.240022px;width:149.109000px;height:11.089000px;background-color:rgba(255,255,255,0.000001);\"></div></a>\n",
      "<a class=\"l\" data-dest-detail='[310,\"XYZ\",72,370.69,null]' href=\"#pf136\"><div class=\"d m1\" style=\"border-style:none;position:absolute;left:150.949173px;bottom:519.386534px;width:66.154000px;height:9.672000px;background-color:rgba(255,255,255,0.000001);\"></div></a>\n",
      "<a class=\"l\" data-dest-detail='[311,\"XYZ\",72,88.88,null]' href=\"#pf137\"><div class=\"d m1\" style=\"border-style:none;position:absolute;left:150.949173px;bottom:483.658003px;width:55.653000px;height:11.088000px;background-color:rgba(255,255,255,0.000001);\"></div></a>\n",
      "<a class=\"l\" data-dest-detail='[312,\"XYZ\",72,295.56,null]' href=\"#pf138\"><div class=\"d m1\" style=\"border-style:none;position:absolute;left:150.949173px;bottom:450.366994px;width:76.654000px;height:11.046000px;background-color:rgba(255,255,255,0.000001);\"></div></a>\n",
      "<a class=\"l\" data-dest-detail='[313,\"XYZ\",72,464.25,null]' href=\"#pf139\"><div class=\"d m1\" style=\"border-style:none;position:absolute;left:192.493697px;bottom:417.075984px;width:75.605000px;height:11.088000px;background-color:rgba(255,255,255,0.000001);\"></div></a>\n",
      "<a class=\"l\" data-dest-detail='[314,\"XYZ\",72,286.47,null]' href=\"#pf13a\"><div class=\"d m1\" style=\"border-style:none;position:absolute;left:150.949173px;bottom:383.783255px;width:97.656000px;height:11.089000px;background-color:rgba(255,255,255,0.000001);\"></div></a>\n",
      "<a class=\"l\" data-dest-detail='[318,\"XYZ\",72,585.56,null]' href=\"#pf13e\"><div class=\"d m1\" style=\"border-style:none;position:absolute;left:192.493697px;bottom:350.492246px;width:128.790000px;height:11.131000px;background-color:rgba(255,255,255,0.000001);\"></div></a>\n",
      "<a class=\"l\" data-dest-detail='[321,\"XYZ\",72,368.23,null]' href=\"#pf141\"><div class=\"d m1\" style=\"border-style:none;position:absolute;left:150.949173px;bottom:319.568230px;width:76.654000px;height:9.713000px;background-color:rgba(255,255,255,0.000001);\"></div></a>\n",
      "<a class=\"l\" data-dest-detail='[323,\"XYZ\",72,560.62,null]' href=\"#pf143\"><div class=\"d m1\" style=\"border-style:none;position:absolute;left:192.493697px;bottom:286.277221px;width:107.107000px;height:9.713000px;background-color:rgba(255,255,255,0.000001);\"></div></a>\n",
      "<a class=\"l\" data-dest-detail='[323,\"XYZ\",72,185.79,null]' href=\"#pf143\"><div class=\"d m1\" style=\"border-style:none;position:absolute;left:192.493697px;bottom:252.986212px;width:86.105000px;height:9.713000px;background-color:rgba(255,255,255,0.000001);\"></div></a>\n",
      "<a class=\"l\" data-dest-detail='[324,\"XYZ\",72,230.64,null]' href=\"#pf144\"><div class=\"d m1\" style=\"border-style:none;position:absolute;left:192.493697px;bottom:217.328209px;width:75.605000px;height:11.089000px;background-color:rgba(255,255,255,0.000001);\"></div></a>\n",
      "<a class=\"l\" data-dest-detail='[324,\"XYZ\",72,109.24,null]' href=\"#pf144\"><div class=\"d m1\" style=\"border-style:none;position:absolute;left:150.949173px;bottom:184.037199px;width:55.653000px;height:11.088000px;background-color:rgba(255,255,255,0.000001);\"></div></a>\n",
      "<a class=\"l\" data-dest-detail='[325,\"XYZ\",72,107.24,null]' href=\"#pf145\"><div class=\"d m1\" style=\"border-style:none;position:absolute;left:150.949173px;bottom:153.039215px;width:66.154000px;height:9.755000px;background-color:rgba(255,255,255,0.000001);\"></div></a>\n",
      "<a class=\"l\" data-dest-detail='[327,\"XYZ\",72,370.12,null]' href=\"#pf147\"><div class=\"d m1\" style=\"border-style:none;position:absolute;left:192.493697px;bottom:1255.514689px;width:95.913000px;height:9.755000px;background-color:rgba(255,255,255,0.000001);\"></div></a>\n",
      "<a class=\"l\" data-dest-detail='[327,\"XYZ\",72,261.69,null]' href=\"#pf147\"><div class=\"d m1\" style=\"border-style:none;position:absolute;left:192.493697px;bottom:1224.439296px;width:59.381000px;height:7.581000px;background-color:rgba(255,255,255,0.000001);\"></div></a>\n",
      "<a class=\"l\" data-dest-detail='[327,\"XYZ\",72,88.8,null]' href=\"#pf147\"><div class=\"d m1\" style=\"border-style:none;position:absolute;left:150.949173px;bottom:1187.511786px;width:76.654000px;height:11.089000px;background-color:rgba(255,255,255,0.000001);\"></div></a>\n",
      "<a class=\"l\" data-dest-detail='[329,\"XYZ\",72,500.76,null]' href=\"#pf149\"><div class=\"d m1\" style=\"border-style:none;position:absolute;left:150.949173px;bottom:1157.095229px;width:70.879000px;height:9.672000px;background-color:rgba(255,255,255,0.000001);\"></div></a>\n",
      "<a class=\"l\" data-dest-detail='[329,\"XYZ\",72,422.25,null]' href=\"#pf149\"><div class=\"d m1\" style=\"border-style:none;position:absolute;left:150.949173px;bottom:1124.096654px;width:91.880000px;height:9.756000px;background-color:rgba(255,255,255,0.000001);\"></div></a>\n",
      "<a class=\"l\" data-dest-detail='[330,\"XYZ\",72,653.79,null]' href=\"#pf14a\"><div class=\"d m1\" style=\"border-style:none;position:absolute;left:192.493697px;bottom:1091.242575px;width:99.756000px;height:9.755000px;background-color:rgba(255,255,255,0.000001);\"></div></a>\n",
      "<a class=\"l\" data-dest-detail='[332,\"XYZ\",72,596.68,null]' href=\"#pf14c\"><div class=\"d m1\" style=\"border-style:none;position:absolute;left:192.493697px;bottom:1058.099503px;width:78.755000px;height:9.923000px;background-color:rgba(255,255,255,0.000001);\"></div></a>\n",
      "<a class=\"l\" data-dest-detail='[332,\"XYZ\",72,546.83,null]' href=\"#pf14c\"><div class=\"d m1\" style=\"border-style:none;position:absolute;left:150.949173px;bottom:1025.606666px;width:91.880000px;height:9.713000px;background-color:rgba(255,255,255,0.000001);\"></div></a>\n",
      "<a class=\"l\" data-dest-detail='[332,\"XYZ\",72,378.64,null]' href=\"#pf14c\"><div class=\"d m1\" style=\"border-style:none;position:absolute;left:192.493697px;bottom:992.752587px;width:99.756000px;height:9.713000px;background-color:rgba(255,255,255,0.000001);\"></div></a>\n",
      "<a class=\"l\" data-dest-detail='[333,\"XYZ\",72,615.08,null]' href=\"#pf14d\"><div class=\"d m1\" style=\"border-style:none;position:absolute;left:150.949173px;bottom:957.533235px;width:81.380000px;height:11.088000px;background-color:rgba(255,255,255,0.000001);\"></div></a>\n",
      "<a class=\"l\" data-dest-detail='[333,\"XYZ\",72,272.55,null]' href=\"#pf14d\"><div class=\"d m1\" style=\"border-style:none;position:absolute;left:150.949173px;bottom:924.679156px;width:81.380000px;height:11.088000px;background-color:rgba(255,255,255,0.000001);\"></div></a>\n",
      "<a class=\"l\" data-dest-detail='[335,\"XYZ\",72,692.14,null]' href=\"#pf14f\"><div class=\"d m1\" style=\"border-style:none;position:absolute;left:150.949173px;bottom:891.823357px;width:101.719000px;height:11.089000px;background-color:rgba(255,255,255,0.000001);\"></div></a>\n",
      "<a class=\"l\" data-dest-detail='[336,\"XYZ\",72,397.45,null]' href=\"#pf150\"><div class=\"d m1\" style=\"border-style:none;position:absolute;left:150.949173px;bottom:858.066174px;width:152.469000px;height:11.614000px;background-color:rgba(255,255,255,0.000001);\"></div></a>\n",
      "<a class=\"l\" data-dest-detail='[337,\"XYZ\",72,264.62,null]' href=\"#pf151\"><div class=\"d m1\" style=\"border-style:none;position:absolute;left:150.949173px;bottom:826.115200px;width:81.380000px;height:11.089000px;background-color:rgba(255,255,255,0.000001);\"></div></a>\n",
      "<a class=\"l\" data-dest-detail='[337,\"XYZ\",72,214.68,null]' href=\"#pf151\"><div class=\"d m1\" style=\"border-style:none;position:absolute;left:150.949173px;bottom:795.628115px;width:70.879000px;height:9.713000px;background-color:rgba(255,255,255,0.000001);\"></div></a>\n",
      "<a class=\"l\" data-dest-detail='[337,\"XYZ\",72,88.97,null]' href=\"#pf151\"><div class=\"d m1\" style=\"border-style:none;position:absolute;left:150.949173px;bottom:760.407042px;width:70.879000px;height:11.047000px;background-color:rgba(255,255,255,0.000001);\"></div></a>\n",
      "<a class=\"l\" data-dest-detail='[338,\"XYZ\",72,266.23,null]' href=\"#pf152\"><div class=\"d m1\" style=\"border-style:none;position:absolute;left:150.949173px;bottom:729.919957px;width:70.879000px;height:9.671000px;background-color:rgba(255,255,255,0.000001);\"></div></a>\n",
      "<a class=\"l\" data-dest-detail='[341,\"XYZ\",72,740.93,null]' href=\"#pf155\"><div class=\"d m1\" style=\"border-style:none;position:absolute;left:123.854321px;bottom:678.633947px;width:92.405000px;height:9.839000px;background-color:rgba(255,255,255,0.000001);\"></div></a>\n",
      "<a class=\"l\" data-dest-detail='[341,\"XYZ\",72,372.13,null]' href=\"#pf155\"><div class=\"d m1\" style=\"border-style:none;position:absolute;left:150.949173px;bottom:643.559092px;width:76.654000px;height:11.088000px;background-color:rgba(255,255,255,0.000001);\"></div></a>\n",
      "<a class=\"l\" data-dest-detail='[346,\"XYZ\",72,468.71,null]' href=\"#pf15a\"><div class=\"d m1\" style=\"border-style:none;position:absolute;left:150.949173px;bottom:610.703293px;width:118.657000px;height:11.089000px;background-color:rgba(255,255,255,0.000001);\"></div></a>\n",
      "<a class=\"l\" data-dest-detail='[351,\"XYZ\",72,460.89,null]' href=\"#pf15f\"><div class=\"d m1\" style=\"border-style:none;position:absolute;left:150.949173px;bottom:577.849214px;width:66.154000px;height:11.089000px;background-color:rgba(255,255,255,0.000001);\"></div></a>\n",
      "<a class=\"l\" data-dest-detail='[358,\"XYZ\",72,602.05,null]' href=\"#pf166\"><div class=\"d m1\" style=\"border-style:none;position:absolute;left:150.949173px;bottom:544.995135px;width:76.654000px;height:11.089000px;background-color:rgba(255,255,255,0.000001);\"></div></a>\n",
      "<a class=\"l\" data-dest-detail='[358,\"XYZ\",72,550.43,null]' href=\"#pf166\"><div class=\"d m1\" style=\"border-style:none;position:absolute;left:192.493697px;bottom:512.141056px;width:86.105000px;height:11.089000px;background-color:rgba(255,255,255,0.000001);\"></div></a>\n",
      "<a class=\"l\" data-dest-detail='[364,\"XYZ\",72,612.27,null]' href=\"#pf16c\"><div class=\"d m1\" style=\"border-style:none;position:absolute;left:192.493697px;bottom:479.286978px;width:75.605000px;height:11.089000px;background-color:rgba(255,255,255,0.000001);\"></div></a>\n",
      "<a class=\"l\" data-dest-detail='[366,\"XYZ\",72,303.48,null]' href=\"#pf16e\"><div class=\"d m1\" style=\"border-style:none;position:absolute;left:192.493697px;bottom:446.432899px;width:96.606000px;height:11.047000px;background-color:rgba(255,255,255,0.000001);\"></div></a>\n",
      "<a class=\"l\" data-dest-detail='[368,\"XYZ\",72,463.92,null]' href=\"#pf170\"><div class=\"d m1\" style=\"border-style:none;position:absolute;left:150.949173px;bottom:413.578820px;width:97.656000px;height:11.047000px;background-color:rgba(255,255,255,0.000001);\"></div></a>\n",
      "<a class=\"l\" data-dest-detail='[371,\"XYZ\",72,299.55,null]' href=\"#pf173\"><div class=\"d m1\" style=\"border-style:none;position:absolute;left:150.949173px;bottom:380.724741px;width:118.657000px;height:11.089000px;background-color:rgba(255,255,255,0.000001);\"></div></a>\n",
      "<a class=\"l\" data-dest-detail='[371,\"XYZ\",72,158.24,null]' href=\"#pf173\"><div class=\"d m1\" style=\"border-style:none;position:absolute;left:192.493697px;bottom:347.870663px;width:96.606000px;height:11.089000px;background-color:rgba(255,255,255,0.000001);\"></div></a>\n",
      "<a class=\"l\" data-dest-detail='[374,\"XYZ\",72,142.56,null]' href=\"#pf176\"><div class=\"d m1\" style=\"border-style:none;position:absolute;left:192.493697px;bottom:315.016584px;width:138.608000px;height:11.089000px;background-color:rgba(255,255,255,0.000001);\"></div></a>\n",
      "<a class=\"l\" data-dest-detail='[375,\"XYZ\",72,584.3,null]' href=\"#pf177\"><div class=\"d m1\" style=\"border-style:none;position:absolute;left:150.949173px;bottom:282.162505px;width:66.154000px;height:11.047000px;background-color:rgba(255,255,255,0.000001);\"></div></a>\n",
      "<a class=\"l\" data-dest-detail='[375,\"XYZ\",72,397.17,null]' href=\"#pf177\"><div class=\"d m1\" style=\"border-style:none;position:absolute;left:192.493697px;bottom:249.308426px;width:96.606000px;height:11.047000px;background-color:rgba(255,255,255,0.000001);\"></div></a>\n",
      "<a class=\"l\" data-dest-detail='[376,\"XYZ\",72,252.18,null]' href=\"#pf178\"><div class=\"d m1\" style=\"border-style:none;position:absolute;left:192.493697px;bottom:216.454348px;width:86.105000px;height:11.004000px;background-color:rgba(255,255,255,0.000001);\"></div></a>\n",
      "<a class=\"l\" data-dest-detail='[379,\"XYZ\",72,560,null]' href=\"#pf17b\"><div class=\"d m1\" style=\"border-style:none;position:absolute;left:192.493697px;bottom:183.600269px;width:75.605000px;height:10.962000px;background-color:rgba(255,255,255,0.000001);\"></div></a>\n",
      "<a class=\"l\" data-dest-detail='[379,\"XYZ\",72,175.07,null]' href=\"#pf17b\"><div class=\"d m1\" style=\"border-style:none;position:absolute;left:150.949173px;bottom:150.746190px;width:66.154000px;height:11.088000px;background-color:rgba(255,255,255,0.000001);\"></div></a>\n",
      "<a class=\"l\" data-dest-detail='[380,\"XYZ\",72,239.37,null]' href=\"#pf17c\"><div class=\"d m1\" style=\"border-style:none;position:absolute;left:192.493697px;bottom:1253.219944px;width:96.606000px;height:11.089000px;background-color:rgba(255,255,255,0.000001);\"></div></a>\n",
      "<a class=\"l\" data-dest-detail='[382,\"XYZ\",72,400.57,null]' href=\"#pf17e\"><div class=\"d m1\" style=\"border-style:none;position:absolute;left:192.493697px;bottom:1220.168042px;width:107.107000px;height:11.088000px;background-color:rgba(255,255,255,0.000001);\"></div></a>\n",
      "<a class=\"l\" data-dest-detail='[383,\"XYZ\",72,292.23,null]' href=\"#pf17f\"><div class=\"d m1\" style=\"border-style:none;position:absolute;left:192.493697px;bottom:1187.114420px;width:86.105000px;height:11.089000px;background-color:rgba(255,255,255,0.000001);\"></div></a>\n",
      "<a class=\"l\" data-dest-detail='[384,\"XYZ\",72,107.87,null]' href=\"#pf180\"><div class=\"d m1\" style=\"border-style:none;position:absolute;left:150.949173px;bottom:1153.157694px;width:163.158000px;height:11.614000px;background-color:rgba(255,255,255,0.000001);\"></div></a>\n",
      "<a class=\"l\" data-dest-detail='[385,\"XYZ\",72,328.77,null]' href=\"#pf181\"><div class=\"d m1\" style=\"border-style:none;position:absolute;left:150.949173px;bottom:1121.008897px;width:91.880000px;height:11.089000px;background-color:rgba(255,255,255,0.000001);\"></div></a>\n",
      "<a class=\"l\" data-dest-detail='[385,\"XYZ\",72,270.6,null]' href=\"#pf181\"><div class=\"d m1\" style=\"border-style:none;position:absolute;left:150.949173px;bottom:1087.052170px;width:84.005000px;height:11.572000px;background-color:rgba(255,255,255,0.000001);\"></div></a>\n",
      "<a class=\"l\" data-dest-detail='[389,\"XYZ\",72,551.15,null]' href=\"#pf185\"><div class=\"d m1\" style=\"border-style:none;position:absolute;left:123.854321px;bottom:1015.927107px;width:108.045000px;height:11.201000px;background-color:rgba(255,255,255,0.000001);\"></div></a>\n",
      "<a class=\"l\" data-dest-detail='[393,\"XYZ\",72,740.93,null]' href=\"#pf189\"><div class=\"d m1\" style=\"border-style:none;position:absolute;left:123.854321px;bottom:964.654858px;width:123.907000px;height:9.839000px;background-color:rgba(255,255,255,0.000001);\"></div></a>\n",
      "<a class=\"l\" data-dest-detail='[393,\"XYZ\",72,541.03,null]' href=\"#pf189\"><div class=\"d m1\" style=\"border-style:none;position:absolute;left:150.949173px;bottom:931.890230px;width:45.153000px;height:9.545000px;background-color:rgba(255,255,255,0.000001);\"></div></a>\n",
      "<a class=\"l\" data-dest-detail='[395,\"XYZ\",72,118.95,null]' href=\"#pf18b\"><div class=\"d m1\" style=\"border-style:none;position:absolute;left:150.949173px;bottom:898.802204px;width:76.654000px;height:9.650000px;background-color:rgba(255,255,255,0.000001);\"></div></a>\n",
      "<a class=\"l\" data-dest-detail='[397,\"XYZ\",72,221.66,null]' href=\"#pf18d\"><div class=\"d m1\" style=\"border-style:none;position:absolute;left:150.949173px;bottom:863.274936px;width:88.867000px;height:11.088000px;background-color:rgba(255,255,255,0.000001);\"></div></a>\n",
      "<a class=\"l\" data-dest-detail='[399,\"XYZ\",72,221.07,null]' href=\"#pf18f\"><div class=\"d m1\" style=\"border-style:none;position:absolute;left:192.493697px;bottom:830.221314px;width:108.818000px;height:11.089000px;background-color:rgba(255,255,255,0.000001);\"></div></a>\n",
      "<a class=\"l\" data-dest-detail='[400,\"XYZ\",72,374.64,null]' href=\"#pf190\"><div class=\"d m1\" style=\"border-style:none;position:absolute;left:192.493697px;bottom:797.169413px;width:108.818000px;height:11.088000px;background-color:rgba(255,255,255,0.000001);\"></div></a>\n",
      "<a class=\"l\" data-dest-detail='[403,\"XYZ\",72,690.67,null]' href=\"#pf193\"><div class=\"d m1\" style=\"border-style:none;position:absolute;left:192.493697px;bottom:764.115791px;width:128.108000px;height:11.089000px;background-color:rgba(255,255,255,0.000001);\"></div></a>\n",
      "<a class=\"l\" data-dest-detail='[404,\"XYZ\",72,720.09,null]' href=\"#pf194\"><div class=\"d m1\" style=\"border-style:none;position:absolute;left:150.949173px;bottom:731.063889px;width:66.154000px;height:11.088000px;background-color:rgba(255,255,255,0.000001);\"></div></a>\n",
      "<a class=\"l\" data-dest-detail='[405,\"XYZ\",72,317.09,null]' href=\"#pf195\"><div class=\"d m1\" style=\"border-style:none;position:absolute;left:150.949173px;bottom:698.010267px;width:139.658000px;height:11.047000px;background-color:rgba(255,255,255,0.000001);\"></div></a>\n",
      "<a class=\"l\" data-dest-detail='[407,\"XYZ\",72,467.98,null]' href=\"#pf197\"><div class=\"d m1\" style=\"border-style:none;position:absolute;left:150.949173px;bottom:667.323639px;width:160.659000px;height:9.713000px;background-color:rgba(255,255,255,0.000001);\"></div></a>\n",
      "<a class=\"l\" data-dest-detail='[408,\"XYZ\",72,692.14,null]' href=\"#pf198\"><div class=\"d m1\" style=\"border-style:none;position:absolute;left:192.493697px;bottom:634.125521px;width:96.606000px;height:9.798000px;background-color:rgba(255,255,255,0.000001);\"></div></a>\n",
      "<a class=\"l\" data-dest-detail='[409,\"XYZ\",72,615.05,null]' href=\"#pf199\"><div class=\"d m1\" style=\"border-style:none;position:absolute;left:192.493697px;bottom:601.218116px;width:107.107000px;height:9.713000px;background-color:rgba(255,255,255,0.000001);\"></div></a>\n",
      "<a class=\"l\" data-dest-detail='[409,\"XYZ\",72,242.42,null]' href=\"#pf199\"><div class=\"d m1\" style=\"border-style:none;position:absolute;left:192.493697px;bottom:565.799221px;width:107.107000px;height:11.088000px;background-color:rgba(255,255,255,0.000001);\"></div></a>\n",
      "<a class=\"l\" data-dest-detail='[410,\"XYZ\",72,652.43,null]' href=\"#pf19a\"><div class=\"d m1\" style=\"border-style:none;position:absolute;left:192.493697px;bottom:532.745599px;width:98.822000px;height:11.089000px;background-color:rgba(255,255,255,0.000001);\"></div></a>\n",
      "<a class=\"l\" data-dest-detail='[410,\"XYZ\",72,113.2,null]' href=\"#pf19a\"><div class=\"d m1\" style=\"border-style:none;position:absolute;left:192.493697px;bottom:499.693697px;width:170.110000px;height:11.088000px;background-color:rgba(255,255,255,0.000001);\"></div></a>\n",
      "<a class=\"l\" data-dest-detail='[412,\"XYZ\",72,507.54,null]' href=\"#pf19c\"><div class=\"d m1\" style=\"border-style:none;position:absolute;left:192.493697px;bottom:469.223814px;width:76.560000px;height:9.545000px;background-color:rgba(255,255,255,0.000001);\"></div></a>\n",
      "<a class=\"l\" data-dest-detail='[413,\"XYZ\",72,740.93,null]' href=\"#pf19d\"><div class=\"d m1\" style=\"border-style:none;position:absolute;left:123.854321px;bottom:417.463029px;width:84.236000px;height:9.797000px;background-color:rgba(255,255,255,0.000001);\"></div></a>\n",
      "<a class=\"l\" data-dest-detail='[414,\"XYZ\",72,740.93,null]' href=\"#pf19e\"><div class=\"d m1\" style=\"border-style:none;position:absolute;left:150.949173px;bottom:382.116382px;width:66.154000px;height:11.088000px;background-color:rgba(255,255,255,0.000001);\"></div></a>\n",
      "<a class=\"l\" data-dest-detail='[414,\"XYZ\",72,424.91,null]' href=\"#pf19e\"><div class=\"d m1\" style=\"border-style:none;position:absolute;left:192.493697px;bottom:349.062760px;width:96.606000px;height:11.089000px;background-color:rgba(255,255,255,0.000001);\"></div></a>\n",
      "<a class=\"l\" data-dest-detail='[415,\"XYZ\",72,519.69,null]' href=\"#pf19f\"><div class=\"d m1\" style=\"border-style:none;position:absolute;left:192.493697px;bottom:316.009139px;width:86.105000px;height:11.089000px;background-color:rgba(255,255,255,0.000001);\"></div></a>\n",
      "<a class=\"l\" data-dest-detail='[416,\"XYZ\",72,543.13,null]' href=\"#pf1a0\"><div class=\"d m1\" style=\"border-style:none;position:absolute;left:192.493697px;bottom:282.957237px;width:159.610000px;height:11.089000px;background-color:rgba(255,255,255,0.000001);\"></div></a>\n",
      "<a class=\"l\" data-dest-detail='[417,\"XYZ\",72,508.59,null]' href=\"#pf1a1\"><div class=\"d m1\" style=\"border-style:none;position:absolute;left:192.493697px;bottom:249.903615px;width:117.607000px;height:11.089000px;background-color:rgba(255,255,255,0.000001);\"></div></a>\n",
      "<a class=\"l\" data-dest-detail='[418,\"XYZ\",72,327.24,null]' href=\"#pf1a2\"><div class=\"d m1\" style=\"border-style:none;position:absolute;left:192.493697px;bottom:216.851713px;width:65.104000px;height:11.088000px;background-color:rgba(255,255,255,0.000001);\"></div></a>\n",
      "<a class=\"l\" data-dest-detail='[419,\"XYZ\",72,665.17,null]' href=\"#pf1a3\"><div class=\"d m1\" style=\"border-style:none;position:absolute;left:192.493697px;bottom:183.798092px;width:65.104000px;height:11.089000px;background-color:rgba(255,255,255,0.000001);\"></div></a>\n",
      "<a class=\"l\" data-dest-detail='[419,\"XYZ\",72,315.54,null]' href=\"#pf1a3\"><div class=\"d m1\" style=\"border-style:none;position:absolute;left:150.949173px;bottom:150.746190px;width:78.902000px;height:11.046000px;background-color:rgba(255,255,255,0.000001);\"></div></a>\n",
      "<a class=\"l\" data-dest-detail='[419,\"XYZ\",72,264.7,null]' href=\"#pf1a3\"><div class=\"d m1\" style=\"border-style:none;position:absolute;left:192.493697px;bottom:1253.219944px;width:75.605000px;height:11.047000px;background-color:rgba(255,255,255,0.000001);\"></div></a>\n",
      "<a class=\"l\" data-dest-detail='[420,\"XYZ\",72,586.98,null]' href=\"#pf1a4\"><div class=\"d m1\" style=\"border-style:none;position:absolute;left:192.493697px;bottom:1220.701304px;width:75.605000px;height:11.047000px;background-color:rgba(255,255,255,0.000001);\"></div></a>\n",
      "<a class=\"l\" data-dest-detail='[421,\"XYZ\",72,603.61,null]' href=\"#pf1a5\"><div class=\"d m1\" style=\"border-style:none;position:absolute;left:192.493697px;bottom:1188.182664px;width:109.354000px;height:11.047000px;background-color:rgba(255,255,255,0.000001);\"></div></a>\n",
      "<a class=\"l\" data-dest-detail='[421,\"XYZ\",72,395.76,null]' href=\"#pf1a5\"><div class=\"d m1\" style=\"border-style:none;position:absolute;left:192.493697px;bottom:1155.664024px;width:75.605000px;height:11.088000px;background-color:rgba(255,255,255,0.000001);\"></div></a>\n",
      "<a class=\"l\" data-dest-detail='[423,\"XYZ\",72,740.93,null]' href=\"#pf1a7\"><div class=\"d m1\" style=\"border-style:none;position:absolute;left:123.854321px;bottom:1107.376320px;width:98.233000px;height:9.797000px;background-color:rgba(255,255,255,0.000001);\"></div></a>\n",
      "<a class=\"l\" data-dest-detail='[423,\"XYZ\",72,322.23,null]' href=\"#pf1a7\"><div class=\"d m1\" style=\"border-style:none;position:absolute;left:150.949173px;bottom:1072.562935px;width:66.154000px;height:11.089000px;background-color:rgba(255,255,255,0.000001);\"></div></a>\n",
      "<a class=\"l\" data-dest-detail='[424,\"XYZ\",72,345.61,null]' href=\"#pf1a8\"><div class=\"d m1\" style=\"border-style:none;position:absolute;left:150.949173px;bottom:1040.044295px;width:66.154000px;height:11.088000px;background-color:rgba(255,255,255,0.000001);\"></div></a>\n",
      "<a class=\"l\" data-dest-detail='[424,\"XYZ\",72,217.06,null]' href=\"#pf1a8\"><div class=\"d m1\" style=\"border-style:none;position:absolute;left:192.493697px;bottom:1007.525655px;width:75.605000px;height:11.046000px;background-color:rgba(255,255,255,0.000001);\"></div></a>\n",
      "<a class=\"l\" data-dest-detail='[425,\"XYZ\",72,689.62,null]' href=\"#pf1a9\"><div class=\"d m1\" style=\"border-style:none;position:absolute;left:192.493697px;bottom:975.007015px;width:180.611000px;height:11.088000px;background-color:rgba(255,255,255,0.000001);\"></div></a>\n",
      "<a class=\"l\" data-dest-detail='[425,\"XYZ\",72,271.43,null]' href=\"#pf1a9\"><div class=\"d m1\" style=\"border-style:none;position:absolute;left:192.493697px;bottom:942.488375px;width:86.105000px;height:11.088000px;background-color:rgba(255,255,255,0.000001);\"></div></a>\n",
      "<a class=\"l\" data-dest-detail='[425,\"XYZ\",72,89.01,null]' href=\"#pf1a9\"><div class=\"d m1\" style=\"border-style:none;position:absolute;left:192.493697px;bottom:909.968015px;width:54.604000px;height:11.047000px;background-color:rgba(255,255,255,0.000001);\"></div></a>\n",
      "<a class=\"l\" data-dest-detail='[427,\"XYZ\",72,740.93,null]' href=\"#pf1ab\"><div class=\"d m1\" style=\"border-style:none;position:absolute;left:123.854321px;bottom:861.680312px;width:129.147000px;height:9.797000px;background-color:rgba(255,255,255,0.000001);\"></div></a>\n",
      "<a class=\"l\" data-dest-detail='[431,\"XYZ\",72,740.93,null]' href=\"#pf1af\"><div class=\"d m1\" style=\"border-style:none;position:absolute;left:123.854321px;bottom:811.099583px;width:99.987000px;height:9.797000px;background-color:rgba(255,255,255,0.000001);\"></div></a>\n",
      "<a class=\"l\" data-dest-detail='[433,\"XYZ\",72,740.93,null]' href=\"#pf1b1\"><div class=\"d m1\" style=\"border-style:none;position:absolute;left:123.854321px;bottom:760.517135px;width:102.906000px;height:9.797000px;background-color:rgba(255,255,255,0.000001);\"></div></a>\n",
      "<a class=\"l\" data-dest-detail='[433,\"XYZ\",72,599.39,null]' href=\"#pf1b1\"><div class=\"d m1\" style=\"border-style:none;position:absolute;left:150.949173px;bottom:724.800645px;width:174.289000px;height:10.474000px;background-color:rgba(255,255,255,0.000001);\"></div></a>\n",
      "<a class=\"l\" data-dest-detail='[433,\"XYZ\",72,556.2,null]' href=\"#pf1b1\"><div class=\"d m1\" style=\"border-style:none;position:absolute;left:150.949173px;bottom:692.282005px;width:157.614000px;height:10.474000px;background-color:rgba(255,255,255,0.000001);\"></div></a>\n",
      "<a class=\"l\" data-dest-detail='[433,\"XYZ\",72,518.8,null]' href=\"#pf1b1\"><div class=\"d m1\" style=\"border-style:none;position:absolute;left:150.949173px;bottom:659.763365px;width:169.154000px;height:10.474000px;background-color:rgba(255,255,255,0.000001);\"></div></a>\n",
      "<a class=\"l\" data-dest-detail='[433,\"XYZ\",72,481.39,null]' href=\"#pf1b1\"><div class=\"d m1\" style=\"border-style:none;position:absolute;left:150.949173px;bottom:627.244725px;width:212.228000px;height:10.474000px;background-color:rgba(255,255,255,0.000001);\"></div></a>\n",
      "<a class=\"l\" data-dest-detail='[65,\"XYZ\",177.68,566.4,null]' href=\"#pf41\"><div class=\"d m1\" style=\"border-style:none;position:absolute;left:150.949173px;bottom:981.201451px;width:297.167000px;height:11.089000px;background-color:rgba(255,255,255,0.000001);\"></div></a>\n",
      "<a class=\"l\" data-dest-detail='[66,\"XYZ\",245.93,663.41,null]' href=\"#pf42\"><div class=\"d m1\" style=\"border-style:none;position:absolute;left:150.949173px;bottom:948.682811px;width:160.659000px;height:11.089000px;background-color:rgba(255,255,255,0.000001);\"></div></a>\n",
      "<a class=\"l\" data-dest-detail='[67,\"XYZ\",287.94,273.18,null]' href=\"#pf43\"><div class=\"d m1\" style=\"border-style:none;position:absolute;left:150.949173px;bottom:916.164171px;width:76.654000px;height:11.047000px;background-color:rgba(255,255,255,0.000001);\"></div></a>\n",
      "<a class=\"l\" data-dest-detail='[68,\"XYZ\",287.94,600.68,null]' href=\"#pf44\"><div class=\"d m1\" style=\"border-style:none;position:absolute;left:150.949173px;bottom:883.645532px;width:76.654000px;height:11.046000px;background-color:rgba(255,255,255,0.000001);\"></div></a>\n",
      "<a class=\"l\" data-dest-detail='[71,\"XYZ\",193.43,663.45,null]' href=\"#pf47\"><div class=\"d m1\" style=\"border-style:none;position:absolute;left:150.949173px;bottom:851.126892px;width:265.666000px;height:11.046000px;background-color:rgba(255,255,255,0.000001);\"></div></a>\n",
      "<a class=\"l\" data-dest-detail='[71,\"XYZ\",256.43,481.86,null]' href=\"#pf47\"><div class=\"d m1\" style=\"border-style:none;position:absolute;left:150.949173px;bottom:818.608252px;width:139.658000px;height:11.088000px;background-color:rgba(255,255,255,0.000001);\"></div></a>\n",
      "<a class=\"l\" data-dest-detail='[73,\"XYZ\",287.94,225.87,null]' href=\"#pf49\"><div class=\"d m1\" style=\"border-style:none;position:absolute;left:150.949173px;bottom:786.087891px;width:76.654000px;height:11.047000px;background-color:rgba(255,255,255,0.000001);\"></div></a>\n",
      "<a class=\"l\" data-dest-detail='[74,\"XYZ\",256.42,492.09,null]' href=\"#pf4a\"><div class=\"d m1\" style=\"border-style:none;position:absolute;left:150.949173px;bottom:752.666147px;width:139.679000px;height:11.572000px;background-color:rgba(255,255,255,0.000001);\"></div></a>\n",
      "<a class=\"l\" data-dest-detail='[80,\"XYZ\",189.44,587.75,null]' href=\"#pf50\"><div class=\"d m1\" style=\"border-style:none;position:absolute;left:150.949173px;bottom:721.050611px;width:273.646000px;height:11.131000px;background-color:rgba(255,255,255,0.000001);\"></div></a>\n",
      "<a class=\"l\" data-dest-detail='[80,\"XYZ\",194.69,477.1,null]' href=\"#pf50\"><div class=\"d m1\" style=\"border-style:none;position:absolute;left:150.949173px;bottom:688.531972px;width:268.396000px;height:11.131000px;background-color:rgba(255,255,255,0.000001);\"></div></a>\n",
      "<a class=\"l\" data-dest-detail='[81,\"XYZ\",110.54,511.34,null]' href=\"#pf51\"><div class=\"d m1\" style=\"border-style:none;position:absolute;left:150.949173px;bottom:656.013332px;width:408.748000px;height:11.131000px;background-color:rgba(255,255,255,0.000001);\"></div></a>\n",
      "<a class=\"l\" data-dest-detail='[81,\"XYZ\",110.54,511.34,null]' href=\"#pf51\"><div class=\"d m1\" style=\"border-style:none;position:absolute;left:192.493697px;bottom:622.591587px;width:371.082000px;height:11.656000px;background-color:rgba(255,255,255,0.000001);\"></div></a>\n",
      "<a class=\"l\" data-dest-detail='[82,\"XYZ\",243.31,141.28,null]' href=\"#pf52\"><div class=\"d m1\" style=\"border-style:none;position:absolute;left:150.949173px;bottom:590.976052px;width:171.160000px;height:11.089000px;background-color:rgba(255,255,255,0.000001);\"></div></a>\n",
      "<a class=\"l\" data-dest-detail='[144,\"XYZ\",238.06,330.06,null]' href=\"#pf90\"><div class=\"d m1\" style=\"border-style:none;position:absolute;left:150.949173px;bottom:543.613815px;width:181.661000px;height:9.755000px;background-color:rgba(255,255,255,0.000001);\"></div></a>\n",
      "<a class=\"l\" data-dest-detail='[214,\"XYZ\",269.56,544.28,null]' href=\"#pfd6\"><div class=\"d m1\" style=\"border-style:none;position:absolute;left:150.949173px;bottom:494.029082px;width:118.657000px;height:9.713000px;background-color:rgba(255,255,255,0.000001);\"></div></a>\n",
      "<a class=\"l\" data-dest-detail='[276,\"XYZ\",259.06,412.54,null]' href=\"#pf114\"><div class=\"d m1\" style=\"border-style:none;position:absolute;left:150.949173px;bottom:442.006827px;width:139.658000px;height:11.088000px;background-color:rgba(255,255,255,0.000001);\"></div></a>\n",
      "<a class=\"l\" data-dest-detail='[380,\"XYZ\",259.06,438.46,null]' href=\"#pf17c\"><div class=\"d m1\" style=\"border-style:none;position:absolute;left:150.949173px;bottom:392.349845px;width:139.658000px;height:11.005000px;background-color:rgba(255,255,255,0.000001);\"></div></a>\n",
      "<a class=\"l\" data-dest-detail='[391,\"XYZ\",278.09,677.54,null]' href=\"#pf187\"><div class=\"d m1\" style=\"border-style:none;position:absolute;left:150.949173px;bottom:359.831205px;width:101.593000px;height:11.088000px;background-color:rgba(255,255,255,0.000001);\"></div></a>\n",
      "<a class=\"l\" data-dest-detail='[394,\"XYZ\",269.56,624.34,null]' href=\"#pf18a\"><div class=\"d m1\" style=\"border-style:none;position:absolute;left:150.949173px;bottom:312.541218px;width:118.657000px;height:9.713000px;background-color:rgba(255,255,255,0.000001);\"></div></a>\n",
      "<a class=\"l\" data-dest-detail='[415,\"XYZ\",293.68,264.03,null]' href=\"#pf19f\"><div class=\"d m1\" style=\"border-style:none;position:absolute;left:150.949173px;bottom:259.614138px;width:70.407000px;height:10.475000px;background-color:rgba(255,255,255,0.000001);\"></div></a>\n",
      "<a class=\"l\" data-dest-detail='[50,\"XYZ\",287.94,138.24,null]' href=\"#pf32\"><div class=\"d m1\" style=\"border-style:none;position:absolute;left:150.949173px;bottom:981.325306px;width:76.654000px;height:9.797000px;background-color:rgba(255,255,255,0.000001);\"></div></a>\n",
      "<a class=\"l\" data-dest-detail='[69,\"XYZ\",251.18,561.22,null]' href=\"#pf45\"><div class=\"d m1\" style=\"border-style:none;position:absolute;left:150.949173px;bottom:928.191802px;width:150.159000px;height:11.089000px;background-color:rgba(255,255,255,0.000001);\"></div></a>\n",
      "<a class=\"l\" data-dest-detail='[73,\"XYZ\",206.85,440.85,null]' href=\"#pf49\"><div class=\"d m1\" style=\"border-style:none;position:absolute;left:150.949173px;bottom:894.164548px;width:238.831000px;height:12.251000px;background-color:rgba(255,255,255,0.000001);\"></div></a>\n",
      "<a class=\"l\" data-dest-detail='[83,\"XYZ\",172.43,221.86,null]' href=\"#pf53\"><div class=\"d m1\" style=\"border-style:none;position:absolute;left:150.949173px;bottom:860.787529px;width:307.668000px;height:11.088000px;background-color:rgba(255,255,255,0.000001);\"></div></a>\n",
      "<a class=\"l\" data-dest-detail='[113,\"XYZ\",256.8,633.1,null]' href=\"#pf71\"><div class=\"d m1\" style=\"border-style:none;position:absolute;left:150.949173px;bottom:809.947050px;width:144.184000px;height:11.089000px;background-color:rgba(255,255,255,0.000001);\"></div></a>\n",
      "<a class=\"l\" data-dest-detail='[133,\"XYZ\",285.31,255.46,null]' href=\"#pf85\"><div class=\"d m1\" style=\"border-style:none;position:absolute;left:150.949173px;bottom:759.106572px;width:87.155000px;height:11.089000px;background-color:rgba(255,255,255,0.000001);\"></div></a>\n",
      "<a class=\"l\" data-dest-detail='[136,\"XYZ\",285.31,513.88,null]' href=\"#pf88\"><div class=\"d m1\" style=\"border-style:none;position:absolute;left:150.949173px;bottom:725.404435px;width:87.155000px;height:11.047000px;background-color:rgba(255,255,255,0.000001);\"></div></a>\n",
      "<a class=\"l\" data-dest-detail='[138,\"XYZ\",275.75,589.24,null]' href=\"#pf8a\"><div class=\"d m1\" style=\"border-style:none;position:absolute;left:150.949173px;bottom:691.702298px;width:106.277000px;height:11.089000px;background-color:rgba(255,255,255,0.000001);\"></div></a>\n",
      "<a class=\"l\" data-dest-detail='[145,\"XYZ\",280.06,474.36,null]' href=\"#pf91\"><div class=\"d m1\" style=\"border-style:none;position:absolute;left:150.949173px;bottom:643.228813px;width:97.656000px;height:9.713000px;background-color:rgba(255,255,255,0.000001);\"></div></a>\n",
      "<a class=\"l\" data-dest-detail='[157,\"XYZ\",269.56,217.93,null]' href=\"#pf9d\"><div class=\"d m1\" style=\"border-style:none;position:absolute;left:150.949173px;bottom:609.382180px;width:118.657000px;height:9.797000px;background-color:rgba(255,255,255,0.000001);\"></div></a>\n",
      "<a class=\"l\" data-dest-detail='[162,\"XYZ\",262.12,425.51,null]' href=\"#pfa2\"><div class=\"d m1\" style=\"border-style:none;position:absolute;left:150.949173px;bottom:556.319204px;width:133.526000px;height:11.089000px;background-color:rgba(255,255,255,0.000001);\"></div></a>\n",
      "<a class=\"l\" data-dest-detail='[163,\"XYZ\",139.72,326.07,null]' href=\"#pfa3\"><div class=\"d m1\" style=\"border-style:none;position:absolute;left:150.949173px;bottom:522.617068px;width:378.327000px;height:11.089000px;background-color:rgba(255,255,255,0.000001);\"></div></a>\n",
      "<a class=\"l\" data-dest-detail='[181,\"XYZ\",285.31,245.65,null]' href=\"#pfb5\"><div class=\"d m1\" style=\"border-style:none;position:absolute;left:150.949173px;bottom:471.778309px;width:87.155000px;height:11.088000px;background-color:rgba(255,255,255,0.000001);\"></div></a>\n",
      "<a class=\"l\" data-dest-detail='[184,\"XYZ\",253.81,532.54,null]' href=\"#pfb8\"><div class=\"d m1\" style=\"border-style:none;position:absolute;left:150.949173px;bottom:438.074452px;width:150.159000px;height:11.047000px;background-color:rgba(255,255,255,0.000001);\"></div></a>\n",
      "<a class=\"l\" data-dest-detail='[212,\"XYZ\",285.31,404.24,null]' href=\"#pfd4\"><div class=\"d m1\" style=\"border-style:none;position:absolute;left:150.949173px;bottom:389.673216px;width:87.155000px;height:9.629000px;background-color:rgba(255,255,255,0.000001);\"></div></a>\n",
      "<a class=\"l\" data-dest-detail='[219,\"XYZ\",285.31,159.77,null]' href=\"#pfdb\"><div class=\"d m1\" style=\"border-style:none;position:absolute;left:150.949173px;bottom:336.395216px;width:87.155000px;height:11.047000px;background-color:rgba(255,255,255,0.000001);\"></div></a>\n",
      "<a class=\"l\" data-dest-detail='[225,\"XYZ\",170.24,599.31,null]' href=\"#pfe1\"><div class=\"d m1\" style=\"border-style:none;position:absolute;left:150.949173px;bottom:302.693079px;width:87.155000px;height:11.088000px;background-color:rgba(255,255,255,0.000001);\"></div></a>\n",
      "<a class=\"l\" data-dest-detail='[225,\"XYZ\",389.17,599.31,null]' href=\"#pfe1\"><div class=\"d m1\" style=\"border-style:none;position:absolute;left:150.949173px;bottom:268.990942px;width:97.656000px;height:11.046000px;background-color:rgba(255,255,255,0.000001);\"></div></a>\n",
      "<a class=\"l\" data-dest-detail='[251,\"XYZ\",295.81,250,null]' href=\"#pffb\"><div class=\"d m1\" style=\"border-style:none;position:absolute;left:150.949173px;bottom:235.288805px;width:66.154000px;height:11.088000px;background-color:rgba(255,255,255,0.000001);\"></div></a>\n",
      "<a class=\"l\" data-dest-detail='[270,\"XYZ\",259.06,560.89,null]' href=\"#pf10e\"><div class=\"d m1\" style=\"border-style:none;position:absolute;left:150.949173px;bottom:184.448327px;width:139.658000px;height:11.088000px;background-color:rgba(255,255,255,0.000001);\"></div></a>\n",
      "<a class=\"l\" data-dest-detail='[270,\"XYZ\",219.66,338.07,null]' href=\"#pf10e\"><div class=\"d m1\" style=\"border-style:none;position:absolute;left:150.949173px;bottom:150.746190px;width:218.446000px;height:11.088000px;background-color:rgba(255,255,255,0.000001);\"></div></a>\n",
      "<a class=\"l\" data-dest-detail='[271,\"XYZ\",154.29,504.2,null]' href=\"#pf10f\"><div class=\"d m1\" style=\"border-style:none;position:absolute;left:150.949173px;bottom:1252.316839px;width:119.045000px;height:11.614000px;background-color:rgba(255,255,255,0.000001);\"></div></a>\n",
      "<a class=\"l\" data-dest-detail='[271,\"XYZ\",381.55,504.2,null]' href=\"#pf10f\"><div class=\"d m1\" style=\"border-style:none;position:absolute;left:150.949173px;bottom:1220.701304px;width:112.903000px;height:11.089000px;background-color:rgba(255,255,255,0.000001);\"></div></a>\n",
      "<a class=\"l\" data-dest-detail='[279,\"XYZ\",269.56,395.58,null]' href=\"#pf117\"><div class=\"d m1\" style=\"border-style:none;position:absolute;left:150.949173px;bottom:1188.182664px;width:118.657000px;height:11.089000px;background-color:rgba(255,255,255,0.000001);\"></div></a>\n",
      "<a class=\"l\" data-dest-detail='[280,\"XYZ\",184.56,387.26,null]' href=\"#pf118\"><div class=\"d m1\" style=\"border-style:none;position:absolute;left:150.949173px;bottom:1155.664024px;width:58.509000px;height:11.046000px;background-color:rgba(255,255,255,0.000001);\"></div></a>\n",
      "<a class=\"l\" data-dest-detail='[280,\"XYZ\",404.06,387.26,null]' href=\"#pf118\"><div class=\"d m1\" style=\"border-style:none;position:absolute;left:150.949173px;bottom:1123.145384px;width:67.865000px;height:11.046000px;background-color:rgba(255,255,255,0.000001);\"></div></a>\n",
      "<a class=\"l\" data-dest-detail='[284,\"XYZ\",112.29,541.96,null]' href=\"#pf11c\"><div class=\"d m1\" style=\"border-style:none;position:absolute;left:150.949173px;bottom:1089.723639px;width:408.749000px;height:10.474000px;background-color:rgba(255,255,255,0.000001);\"></div></a>\n",
      "<a class=\"l\" data-dest-detail='[284,\"XYZ\",112.29,541.96,null]' href=\"#pf11c\"><div class=\"d m1\" style=\"border-style:none;position:absolute;left:192.493697px;bottom:1057.203279px;width:175.130000px;height:10.475000px;background-color:rgba(255,255,255,0.000001);\"></div></a>\n",
      "<a class=\"l\" data-dest-detail='[287,\"XYZ\",127.89,475.85,null]' href=\"#pf11f\"><div class=\"d m1\" style=\"border-style:none;position:absolute;left:150.949173px;bottom:1025.587744px;width:171.853000px;height:9.950000px;background-color:rgba(255,255,255,0.000001);\"></div></a>\n",
      "<a class=\"l\" data-dest-detail='[287,\"XYZ\",361.66,475.85,null]' href=\"#pf11f\"><div class=\"d m1\" style=\"border-style:none;position:absolute;left:150.949173px;bottom:993.069104px;width:162.644000px;height:9.950000px;background-color:rgba(255,255,255,0.000001);\"></div></a>\n",
      "<a class=\"l\" data-dest-detail='[288,\"XYZ\",224.93,549.58,null]' href=\"#pf120\"><div class=\"d m1\" style=\"border-style:none;position:absolute;left:150.949173px;bottom:960.550464px;width:217.887000px;height:11.131000px;background-color:rgba(255,255,255,0.000001);\"></div></a>\n",
      "<a class=\"l\" data-dest-detail='[289,\"XYZ\",235.28,532.54,null]' href=\"#pf121\"><div class=\"d m1\" style=\"border-style:none;position:absolute;left:150.949173px;bottom:928.031824px;width:197.191000px;height:9.949000px;background-color:rgba(255,255,255,0.000001);\"></div></a>\n",
      "<a class=\"l\" data-dest-detail='[310,\"XYZ\",112.48,613.68,null]' href=\"#pf136\"><div class=\"d m1\" style=\"border-style:none;position:absolute;left:150.949173px;bottom:880.741836px;width:202.662000px;height:9.671000px;background-color:rgba(255,255,255,0.000001);\"></div></a>\n",
      "<a class=\"l\" data-dest-detail='[310,\"XYZ\",336.67,613.68,null]' href=\"#pf136\"><div class=\"d m1\" style=\"border-style:none;position:absolute;left:150.949173px;bottom:848.078699px;width:202.662000px;height:9.797000px;background-color:rgba(255,255,255,0.000001);\"></div></a>\n"
     ]
    },
    {
     "name": "stdout",
     "output_type": "stream",
     "text": [
      "<a class=\"l\" data-dest-detail='[312,\"XYZ\",280.06,334,null]' href=\"#pf138\"><div class=\"d m1\" style=\"border-style:none;position:absolute;left:150.949173px;bottom:813.337562px;width:97.656000px;height:11.089000px;background-color:rgba(255,255,255,0.000001);\"></div></a>\n",
      "<a class=\"l\" data-dest-detail='[328,\"XYZ\",199.25,156.49,null]' href=\"#pf148\"><div class=\"d m1\" style=\"border-style:none;position:absolute;left:150.949173px;bottom:779.915818px;width:259.281000px;height:10.474000px;background-color:rgba(255,255,255,0.000001);\"></div></a>\n",
      "<a class=\"l\" data-dest-detail='[353,\"XYZ\",128.56,490.49,null]' href=\"#pf161\"><div class=\"d m1\" style=\"border-style:none;position:absolute;left:150.949173px;bottom:731.161941px;width:400.660000px;height:11.089000px;background-color:rgba(255,255,255,0.000001);\"></div></a>\n",
      "<a class=\"l\" data-dest-detail='[372,\"XYZ\",131.12,177.98,null]' href=\"#pf174\"><div class=\"d m1\" style=\"border-style:none;position:absolute;left:150.949173px;bottom:698.643301px;width:118.657000px;height:11.089000px;background-color:rgba(255,255,255,0.000001);\"></div></a>\n",
      "<a class=\"l\" data-dest-detail='[372,\"XYZ\",276.88,177.98,null]' href=\"#pf174\"><div class=\"d m1\" style=\"border-style:none;position:absolute;left:150.949173px;bottom:666.124661px;width:104.018000px;height:11.047000px;background-color:rgba(255,255,255,0.000001);\"></div></a>\n",
      "<a class=\"l\" data-dest-detail='[372,\"XYZ\",429,177.98,null]' href=\"#pf174\"><div class=\"d m1\" style=\"border-style:none;position:absolute;left:150.949173px;bottom:633.606021px;width:76.654000px;height:11.089000px;background-color:rgba(255,255,255,0.000001);\"></div></a>\n",
      "<a class=\"l\" data-dest-detail='[376,\"XYZ\",202.06,560.89,null]' href=\"#pf178\"><div class=\"d m1\" style=\"border-style:none;position:absolute;left:150.949173px;bottom:601.087381px;width:253.652000px;height:11.089000px;background-color:rgba(255,255,255,0.000001);\"></div></a>\n",
      "<a class=\"l\" data-dest-detail='[407,\"XYZ\",271.19,617.58,null]' href=\"#pf197\"><div class=\"d m1\" style=\"border-style:none;position:absolute;left:150.949173px;bottom:553.797393px;width:115.391000px;height:9.713000px;background-color:rgba(255,255,255,0.000001);\"></div></a>\n",
      "<a class=\"l\" data-dest-detail='[413,\"XYZ\",184.65,135.82,null]' href=\"#pf19d\"><div class=\"d m1\" style=\"border-style:none;position:absolute;left:150.949173px;bottom:500.870313px;width:288.473000px;height:10.475000px;background-color:rgba(255,255,255,0.000001);\"></div></a>\n",
      "<a class=\"l\" data-dest-detail='[424,\"XYZ\",295.81,378.38,null]' href=\"#pf1a8\"><div class=\"d m1\" style=\"border-style:none;position:absolute;left:150.949173px;bottom:452.118156px;width:66.154000px;height:11.046000px;background-color:rgba(255,255,255,0.000001);\"></div></a>\n",
      "<a class=\"l\" data-dest-detail='[435,\"XYZ\",72,556.88,null]' href=\"#pf1b3\"><div class=\"d m1\" style=\"border-style:none;position:absolute;left:386.614702px;bottom:838.443865px;width:5.250000px;height:5.182000px;background-color:rgba(255,255,255,0.000001);\"></div></a>\n",
      "<a class=\"l\" href=\"http://www.cornell.edu/\"><div class=\"d m1\" style=\"border-style:none;position:absolute;left:166.513533px;bottom:192.870421px;width:61.860000px;height:7.483000px;background-color:rgba(255,255,255,0.000001);\"></div></a>\n",
      "<a class=\"l\" data-dest-detail='[435,\"XYZ\",72,510.09,null]' href=\"#pf1b3\"><div class=\"d m1\" style=\"border-style:none;position:absolute;left:172.570353px;bottom:964.242010px;width:5.250000px;height:7.555000px;background-color:rgba(255,255,255,0.000001);\"></div></a>\n",
      "<a class=\"l\" data-dest-detail='[435,\"XYZ\",72,463.84,null]' href=\"#pf1b3\"><div class=\"d m1\" style=\"border-style:none;position:absolute;left:191.585432px;bottom:964.242010px;width:5.250000px;height:7.555000px;background-color:rgba(255,255,255,0.000001);\"></div></a>\n",
      "<a class=\"l\" data-dest-detail='[435,\"XYZ\",72,417.53,null]' href=\"#pf1b3\"><div class=\"d m1\" style=\"border-style:none;position:absolute;left:452.665179px;bottom:340.927940px;width:5.251000px;height:7.555000px;background-color:rgba(255,255,255,0.000001);\"></div></a>\n",
      "<a class=\"l\" href=\"http://www.ucl.ac.uk/\"><div class=\"d m1\" style=\"border-style:none;position:absolute;left:164.076011px;bottom:257.658272px;width:90.442000px;height:7.483000px;background-color:rgba(255,255,255,0.000001);\"></div></a>\n",
      "<a class=\"l\" href=\"http://cam.ac.uk/\"><div class=\"d m1\" style=\"border-style:none;position:absolute;left:164.076011px;bottom:239.296869px;width:83.143000px;height:7.483000px;background-color:rgba(255,255,255,0.000001);\"></div></a>\n",
      "<a class=\"l\" data-dest-detail='[435,\"XYZ\",72,371.15,null]' href=\"#pf1b3\"><div class=\"d m1\" style=\"border-style:none;position:absolute;left:370.921328px;bottom:936.736030px;width:5.251000px;height:7.219000px;background-color:rgba(255,255,255,0.000001);\"></div></a>\n",
      "<a class=\"l\" data-dest-detail='[435,\"XYZ\",72,324.83,null]' href=\"#pf1b3\"><div class=\"d m1\" style=\"border-style:none;position:absolute;left:425.783631px;bottom:676.084612px;width:5.250000px;height:7.555000px;background-color:rgba(255,255,255,0.000001);\"></div></a>\n",
      "<a class=\"l\" data-dest-detail='[435,\"XYZ\",72,240.71,null]' href=\"#pf1b3\"><div class=\"d m1\" style=\"border-style:none;position:absolute;left:688.346190px;bottom:937.384545px;width:5.251000px;height:7.219000px;background-color:rgba(255,255,255,0.000001);\"></div></a>\n",
      "<a class=\"l\" data-dest-detail='[435,\"XYZ\",72,240.71,null]' href=\"#pf1b3\"><div class=\"d m1\" style=\"border-style:none;position:absolute;left:279.088510px;bottom:709.752345px;width:5.251000px;height:7.219000px;background-color:rgba(255,255,255,0.000001);\"></div></a>\n",
      "<a class=\"l\" href=\"http://lucene.apache.org/\"><div class=\"d m1\" style=\"border-style:none;position:absolute;left:243.661013px;bottom:169.658057px;width:89.062000px;height:7.483000px;background-color:rgba(255,255,255,0.000001);\"></div></a>\n",
      "<a class=\"l\" href=\"http://www.nutch.org/\"><div class=\"d m1\" style=\"border-style:none;position:absolute;left:238.345599px;bottom:151.296654px;width:81.282000px;height:7.483000px;background-color:rgba(255,255,255,0.000001);\"></div></a>\n",
      "<a class=\"l\" data-dest-detail='[36,\"XYZ\",234.06,293.98,null]' href=\"#pf24\"><div class=\"d m1\" style=\"border-style:none;position:absolute;left:675.597796px;bottom:260.856121px;width:13.125000px;height:7.555000px;background-color:rgba(255,255,255,0.000001);\"></div></a>\n",
      "<a class=\"l\" data-dest-detail='[435,\"XYZ\",72,194.39,null]' href=\"#pf1b3\"><div class=\"d m1\" style=\"border-style:none;position:absolute;left:867.028410px;bottom:1187.436097px;width:5.251000px;height:7.555000px;background-color:rgba(255,255,255,0.000001);\"></div></a>\n",
      "<a class=\"l\" data-dest-detail='[435,\"XYZ\",72,129.17,null]' href=\"#pf1b3\"><div class=\"d m1\" style=\"border-style:none;position:absolute;left:166.802527px;bottom:1093.960489px;width:10.500000px;height:5.182000px;background-color:rgba(255,255,255,0.000001);\"></div></a>\n",
      "<a class=\"l\" href=\"http://www.illinois.edu/\"><div class=\"d m1\" style=\"border-style:none;position:absolute;left:166.513533px;bottom:206.379143px;width:150.630000px;height:7.483000px;background-color:rgba(255,255,255,0.000001);\"></div></a>\n",
      "<a class=\"l\" href=\"http://web.engr.illinois.edu/~czhai/\"><div class=\"d m1\" style=\"border-style:none;position:absolute;left:256.075689px;bottom:188.017740px;width:122.190000px;height:7.483000px;background-color:rgba(255,255,255,0.000001);\"></div></a>\n",
      "<a class=\"l\" href=\"http://www.eecis.udel.edu/~hfang/LuceneAX.html\"><div class=\"d m1\" style=\"border-style:none;position:absolute;left:147.082166px;bottom:169.658057px;width:200.158000px;height:7.483000px;background-color:rgba(255,255,255,0.000001);\"></div></a>\n",
      "<a class=\"l\" data-dest-detail='[436,\"XYZ\",72,740.93,null]' href=\"#pf1b4\"><div class=\"d m1\" style=\"border-style:none;position:absolute;left:470.916490px;bottom:873.043946px;width:10.501000px;height:5.182000px;background-color:rgba(255,255,255,0.000001);\"></div></a>\n",
      "<a class=\"l\" href=\"http://www.ens-cachan.fr/\"><div class=\"d m1\" style=\"border-style:none;position:absolute;left:171.390297px;bottom:169.658057px;width:125.498000px;height:8.878000px;background-color:rgba(255,255,255,0.000001);\"></div></a>\n",
      "<a class=\"l\" href=\"http://www.abiteboul.com/\"><div class=\"d m1\" style=\"border-style:none;position:absolute;left:258.618143px;bottom:151.296654px;width:96.234000px;height:7.483000px;background-color:rgba(255,255,255,0.000001);\"></div></a>\n",
      "<a class=\"l\" data-dest-detail='[436,\"XYZ\",72,685.6,null]' href=\"#pf1b4\"><div class=\"d m1\" style=\"border-style:none;position:absolute;left:804.057089px;bottom:804.377046px;width:10.501000px;height:5.182000px;background-color:rgba(255,255,255,0.000001);\"></div></a>\n",
      "<a class=\"l\" href=\"https://www.stanford.edu/\"><div class=\"d m1\" style=\"border-style:none;position:absolute;left:165.538180px;bottom:169.658057px;width:65.566000px;height:7.483000px;background-color:rgba(255,255,255,0.000001);\"></div></a>\n",
      "<a class=\"l\" href=\"https://www.google.com/\"><div class=\"d m1\" style=\"border-style:none;position:absolute;left:196.016664px;bottom:151.296654px;width:90.653000px;height:7.483000px;background-color:rgba(255,255,255,0.000001);\"></div></a>\n",
      "<a class=\"l\" data-dest-detail='[436,\"XYZ\",72,637.17,null]' href=\"#pf1b4\"><div class=\"d m1\" style=\"border-style:none;position:absolute;left:273.604516px;bottom:1202.093912px;width:10.500000px;height:7.555000px;background-color:rgba(255,255,255,0.000001);\"></div></a>\n",
      "<a class=\"l\" data-dest-detail='[436,\"XYZ\",72,589.22,null]' href=\"#pf1b4\"><div class=\"d m1\" style=\"border-style:none;position:absolute;left:395.306867px;bottom:1029.938127px;width:10.501000px;height:7.555000px;background-color:rgba(255,255,255,0.000001);\"></div></a>\n",
      "<a class=\"l\" data-dest-detail='[436,\"XYZ\",72,541.74,null]' href=\"#pf1b4\"><div class=\"d m1\" style=\"border-style:none;position:absolute;left:392.177826px;bottom:824.646150px;width:10.501000px;height:7.555000px;background-color:rgba(255,255,255,0.000001);\"></div></a>\n",
      "<a class=\"l\" href=\"http://dmoz.org/\"><div class=\"d m1\" style=\"border-style:none;position:absolute;left:381.006854px;bottom:174.510738px;width:77.941000px;height:7.483000px;background-color:rgba(255,255,255,0.000001);\"></div></a>\n",
      "<a class=\"l\" data-dest-detail='[436,\"XYZ\",72,493.32,null]' href=\"#pf1b4\"><div class=\"d m1\" style=\"border-style:none;position:absolute;left:854.149281px;bottom:1182.325386px;width:10.501000px;height:7.219000px;background-color:rgba(255,255,255,0.000001);\"></div></a>\n",
      "<a class=\"l\" data-dest-detail='[436,\"XYZ\",72,685.6,null]' href=\"#pf1b4\"><div class=\"d m1\" style=\"border-style:none;position:absolute;left:774.039618px;bottom:289.722779px;width:10.501000px;height:5.182000px;background-color:rgba(255,255,255,0.000001);\"></div></a>\n",
      "<a class=\"l\" data-dest-detail='[436,\"XYZ\",72,426.46,null]' href=\"#pf1b4\"><div class=\"d m1\" style=\"border-style:none;position:absolute;left:708.660019px;bottom:1047.912485px;width:10.501000px;height:7.555000px;background-color:rgba(255,255,255,0.000001);\"></div></a>\n",
      "<a class=\"l\" data-dest-detail='[436,\"XYZ\",72,378.51,null]' href=\"#pf1b4\"><div class=\"d m1\" style=\"border-style:none;position:absolute;left:174.116812px;bottom:986.957237px;width:10.500000px;height:7.219000px;background-color:rgba(255,255,255,0.000001);\"></div></a>\n",
      "<a class=\"l\" data-dest-detail='[436,\"XYZ\",72,312.13,null]' href=\"#pf1b4\"><div class=\"d m1\" style=\"border-style:none;position:absolute;left:129.869856px;bottom:950.356565px;width:10.500000px;height:7.555000px;background-color:rgba(255,255,255,0.000001);\"></div></a>\n",
      "<a class=\"l\" data-dest-detail='[436,\"XYZ\",72,245.27,null]' href=\"#pf1b4\"><div class=\"d m1\" style=\"border-style:none;position:absolute;left:484.010644px;bottom:734.475044px;width:10.501000px;height:5.182000px;background-color:rgba(255,255,255,0.000001);\"></div></a>\n",
      "<a class=\"l\" href=\"http://www.ibm.com/\"><div class=\"d m1\" style=\"border-style:none;position:absolute;left:178.505040px;bottom:229.591507px;width:78.117000px;height:7.483000px;background-color:rgba(255,255,255,0.000001);\"></div></a>\n",
      "<a class=\"l\" href=\"http://www.almaden.ibm.com/\"><div class=\"d m1\" style=\"border-style:none;position:absolute;left:147.082166px;bottom:214.787475px;width:103.691000px;height:5.416000px;background-color:rgba(255,255,255,0.000001);\"></div></a>\n",
      "<a class=\"l\" href=\"http://www.ask.com/\"><div class=\"d m1\" style=\"border-style:none;position:absolute;left:462.549442px;bottom:193.768364px;width:35.755000px;height:6.961000px;background-color:rgba(255,255,255,0.000001);\"></div></a>\n",
      "<a class=\"l\" href=\"http://www.yahoo.com/\"><div class=\"d m1\" style=\"border-style:none;position:absolute;left:194.029835px;bottom:151.296654px;width:85.454000px;height:7.483000px;background-color:rgba(255,255,255,0.000001);\"></div></a>\n",
      "<a class=\"l\" data-dest-detail='[436,\"XYZ\",72,197.32,null]' href=\"#pf1b4\"><div class=\"d m1\" style=\"border-style:none;position:absolute;left:410.482462px;bottom:811.263002px;width:10.501000px;height:5.182000px;background-color:rgba(255,255,255,0.000001);\"></div></a>\n",
      "<a class=\"l\" data-dest-detail='[436,\"XYZ\",72,148.96,null]' href=\"#pf1b4\"><div class=\"d m1\" style=\"border-style:none;position:absolute;left:230.608144px;bottom:396.070636px;width:10.500000px;height:5.182000px;background-color:rgba(255,255,255,0.000001);\"></div></a>\n",
      "<a class=\"l\" href=\"http://blog.csdn.net/hguisu/article/details/8016916\"><div class=\"d m1\" style=\"border-style:none;position:absolute;left:147.082166px;bottom:144.981804px;width:99.153000px;height:6.939000px;background-color:rgba(255,255,255,0.000001);\"></div></a>\n",
      "<a class=\"l\" data-dest-detail='[50,\"XYZ\",287.94,138.24,null]' href=\"#pf32\"><div class=\"d m1\" style=\"border-style:none;position:absolute;left:406.696304px;bottom:937.343260px;width:13.125000px;height:7.224000px;background-color:rgba(255,255,255,0.000001);\"></div></a>\n",
      "<a class=\"l\" data-dest-detail='[437,\"XYZ\",72,740.93,null]' href=\"#pf1b5\"><div class=\"d m1\" style=\"border-style:none;position:absolute;left:165.995753px;bottom:308.526273px;width:10.501000px;height:7.555000px;background-color:rgba(255,255,255,0.000001);\"></div></a>\n",
      "<a class=\"l\" href=\"http://www.ruanyifeng.com/blog/algorithm/\"><div class=\"d m1\" style=\"border-style:none;position:absolute;left:147.082166px;bottom:277.848246px;width:67.517000px;height:6.940000px;background-color:rgba(255,255,255,0.000001);\"></div></a>\n",
      "<a class=\"l\" href=\"http://thehackernews.com/\"><div class=\"d m1\" style=\"border-style:none;position:absolute;left:233.080070px;bottom:145.939954px;width:95.221000px;height:7.483000px;background-color:rgba(255,255,255,0.000001);\"></div></a>\n",
      "<a class=\"l\" href=\"https://www.reddit.com/\"><div class=\"d m1\" style=\"border-style:none;position:absolute;left:193.501734px;bottom:169.658057px;width:88.657000px;height:7.483000px;background-color:rgba(255,255,255,0.000001);\"></div></a>\n",
      "<a class=\"l\" href=\"http://jandan.net/2014/04/03/reddits-comment-sorting.html\"><div class=\"d m1\" style=\"border-style:none;position:absolute;left:147.082166px;bottom:153.632684px;width:84.599000px;height:6.939000px;background-color:rgba(255,255,255,0.000001);\"></div></a>\n",
      "<a class=\"l\" data-dest-detail='[437,\"XYZ\",72,704.51,null]' href=\"#pf1b5\"><div class=\"d m1\" style=\"border-style:none;position:absolute;left:185.485607px;bottom:993.069104px;width:10.501000px;height:7.555000px;background-color:rgba(255,255,255,0.000001);\"></div></a>\n",
      "<a class=\"l\" href=\"http://stackoverflow.com/\"><div class=\"d m1\" style=\"border-style:none;position:absolute;left:242.539444px;bottom:169.658057px;width:90.480000px;height:7.483000px;background-color:rgba(255,255,255,0.000001);\"></div></a>\n",
      "<a class=\"l\" href=\"http://www.imdb.com.cn/\"><div class=\"d m1\" style=\"border-style:none;position:absolute;left:188.649053px;bottom:151.296654px;width:92.273000px;height:7.483000px;background-color:rgba(255,255,255,0.000001);\"></div></a>\n",
      "<a class=\"l\" data-dest-detail='[437,\"XYZ\",72,657.38,null]' href=\"#pf1b5\"><div class=\"d m1\" style=\"border-style:none;position:absolute;left:532.731837px;bottom:767.857223px;width:10.501000px;height:7.556000px;background-color:rgba(255,255,255,0.000001);\"></div></a>\n",
      "<a class=\"l\" data-dest-detail='[437,\"XYZ\",72,610.25,null]' href=\"#pf1b5\"><div class=\"d m1\" style=\"border-style:none;position:absolute;left:515.292461px;bottom:173.218868px;width:7.502000px;height:5.158000px;background-color:rgba(255,255,255,0.000001);\"></div></a>\n",
      "<a class=\"l\" data-dest-detail='[437,\"XYZ\",72,581.96,null]' href=\"#pf1b5\"><div class=\"d m1\" style=\"border-style:none;position:absolute;left:516.422631px;bottom:554.158635px;width:10.500000px;height:7.556000px;background-color:rgba(255,255,255,0.000001);\"></div></a>\n",
      "<a class=\"l\" data-dest-detail='[437,\"XYZ\",72,534.89,null]' href=\"#pf1b5\"><div class=\"d m1\" style=\"border-style:none;position:absolute;left:544.745706px;bottom:558.242387px;width:10.500000px;height:7.219000px;background-color:rgba(255,255,255,0.000001);\"></div></a>\n",
      "<a class=\"l\" data-dest-detail='[437,\"XYZ\",72,468.8,null]' href=\"#pf1b5\"><div class=\"d m1\" style=\"border-style:none;position:absolute;left:257.439806px;bottom:489.121355px;width:10.500000px;height:7.555000px;background-color:rgba(255,255,255,0.000001);\"></div></a>\n",
      "<a class=\"l\" data-dest-detail='[437,\"XYZ\",72,422.14,null]' href=\"#pf1b5\"><div class=\"d m1\" style=\"border-style:none;position:absolute;left:391.417498px;bottom:489.121355px;width:10.501000px;height:7.555000px;background-color:rgba(255,255,255,0.000001);\"></div></a>\n",
      "<a class=\"l\" data-dest-detail='[437,\"XYZ\",72,393.51,null]' href=\"#pf1b5\"><div class=\"d m1\" style=\"border-style:none;position:absolute;left:512.713883px;bottom:489.121355px;width:10.501000px;height:7.555000px;background-color:rgba(255,255,255,0.000001);\"></div></a>\n",
      "<a class=\"l\" data-dest-detail='[437,\"XYZ\",72,327.41,null]' href=\"#pf1b5\"><div class=\"d m1\" style=\"border-style:none;position:absolute;left:630.604274px;bottom:489.121355px;width:10.500000px;height:7.555000px;background-color:rgba(255,255,255,0.000001);\"></div></a>\n",
      "<a class=\"l\" data-dest-detail='[437,\"XYZ\",72,280.28,null]' href=\"#pf1b5\"><div class=\"d m1\" style=\"border-style:none;position:absolute;left:794.128101px;bottom:489.121355px;width:10.501000px;height:7.555000px;background-color:rgba(255,255,255,0.000001);\"></div></a>\n",
      "<a class=\"l\" data-dest-detail='[437,\"XYZ\",72,657.38,null]' href=\"#pf1b5\"><div class=\"d m1\" style=\"border-style:none;position:absolute;left:713.266711px;bottom:391.565435px;width:10.500000px;height:7.555000px;background-color:rgba(255,255,255,0.000001);\"></div></a>\n",
      "<a class=\"l\" data-dest-detail='[437,\"XYZ\",72,214.25,null]' href=\"#pf1b5\"><div class=\"d m1\" style=\"border-style:none;position:absolute;left:152.622927px;bottom:359.046795px;width:10.501000px;height:7.555000px;background-color:rgba(255,255,255,0.000001);\"></div></a>\n",
      "<a class=\"l\" data-dest-detail='[437,\"XYZ\",72,167.12,null]' href=\"#pf1b5\"><div class=\"d m1\" style=\"border-style:none;position:absolute;left:296.734310px;bottom:359.046795px;width:10.501000px;height:7.555000px;background-color:rgba(255,255,255,0.000001);\"></div></a>\n",
      "<a class=\"l\" data-dest-detail='[437,\"XYZ\",72,138.9,null]' href=\"#pf1b5\"><div class=\"d m1\" style=\"border-style:none;position:absolute;left:519.470824px;bottom:359.046795px;width:10.500000px;height:9.592000px;background-color:rgba(255,255,255,0.000001);\"></div></a>\n",
      "<a class=\"l\" data-dest-detail='[437,\"XYZ\",72,110.67,null]' href=\"#pf1b5\"><div class=\"d m1\" style=\"border-style:none;position:absolute;left:547.551351px;bottom:359.046795px;width:10.501000px;height:7.555000px;background-color:rgba(255,255,255,0.000001);\"></div></a>\n",
      "<a class=\"l\" data-dest-detail='[438,\"XYZ\",72,740.93,null]' href=\"#pf1b6\"><div class=\"d m1\" style=\"border-style:none;position:absolute;left:183.906464px;bottom:287.433194px;width:10.501000px;height:9.146000px;background-color:rgba(255,255,255,0.000001);\"></div></a>\n",
      "<a class=\"l\" data-dest-detail='[66,\"XYZ\",245.93,663.41,null]' href=\"#pf42\"><div class=\"d m1\" style=\"border-style:none;position:absolute;left:550.848972px;bottom:254.914554px;width:13.125000px;height:7.461000px;background-color:rgba(255,255,255,0.000001);\"></div></a>\n",
      "<a class=\"l\" href=\"http://www.gallup.com/poll/173402/clinton-best-known-best-liked-potential-2016-candidate.aspx\"><div class=\"d m1\" style=\"border-style:none;position:absolute;left:194.313668px;bottom:149.641822px;width:184.854000px;height:6.564000px;background-color:rgba(255,255,255,0.000001);\"></div></a>\n",
      "<a class=\"l\" data-dest-detail='[66,\"XYZ\",245.93,663.41,null]' href=\"#pf42\"><div class=\"d m1\" style=\"border-style:none;position:absolute;left:141.918129px;bottom:633.260261px;width:13.125000px;height:7.555000px;background-color:rgba(255,255,255,0.000001);\"></div></a>\n",
      "<a class=\"l\" data-dest-detail='[437,\"XYZ\",72,468.8,null]' href=\"#pf1b5\"><div class=\"d m1\" style=\"border-style:none;position:absolute;left:747.949362px;bottom:448.115253px;width:10.501000px;height:7.555000px;background-color:rgba(255,255,255,0.000001);\"></div></a>\n",
      "<a class=\"l\" data-dest-detail='[66,\"XYZ\",245.93,663.41,null]' href=\"#pf42\"><div class=\"d m1\" style=\"border-style:none;position:absolute;left:701.875554px;bottom:318.040693px;width:13.126000px;height:7.555000px;background-color:rgba(255,255,255,0.000001);\"></div></a>\n",
      "<a class=\"l\" data-dest-detail='[438,\"XYZ\",72,704.44,null]' href=\"#pf1b6\"><div class=\"d m1\" style=\"border-style:none;position:absolute;left:675.410294px;bottom:842.121650px;width:10.500000px;height:7.555000px;background-color:rgba(255,255,255,0.000001);\"></div></a>\n",
      "<a class=\"l\" data-dest-detail='[66,\"XYZ\",245.93,663.41,null]' href=\"#pf42\"><div class=\"d m1\" style=\"border-style:none;position:absolute;left:641.672033px;bottom:654.521919px;width:13.126000px;height:7.555000px;background-color:rgba(255,255,255,0.000001);\"></div></a>\n",
      "<a class=\"l\" data-dest-detail='[67,\"XYZ\",287.94,273.18,null]' href=\"#pf43\"><div class=\"d m1\" style=\"border-style:none;position:absolute;left:216.117189px;bottom:622.003279px;width:13.126000px;height:7.555000px;background-color:rgba(255,255,255,0.000001);\"></div></a>\n",
      "<a class=\"l\" data-dest-detail='[68,\"XYZ\",287.94,600.68,null]' href=\"#pf44\"><div class=\"d m1\" style=\"border-style:none;position:absolute;left:750.395484px;bottom:274.707163px;width:13.125000px;height:7.460000px;background-color:rgba(255,255,255,0.000001);\"></div></a>\n",
      "<a class=\"l\" data-dest-detail='[69,\"XYZ\",251.18,561.22,null]' href=\"#pf45\"><div class=\"d m1\" style=\"border-style:none;position:absolute;left:516.297057px;bottom:558.877140px;width:13.125000px;height:7.555000px;background-color:rgba(255,255,255,0.000001);\"></div></a>\n",
      "<a class=\"l\" data-dest-detail='[66,\"XYZ\",245.93,663.41,null]' href=\"#pf42\"><div class=\"d m1\" style=\"border-style:none;position:absolute;left:804.141379px;bottom:638.565354px;width:13.126000px;height:7.555000px;background-color:rgba(255,255,255,0.000001);\"></div></a>\n",
      "<a class=\"l\" data-dest-detail='[438,\"XYZ\",72,638.88,null]' href=\"#pf1b6\"><div class=\"d m1\" style=\"border-style:none;position:absolute;left:546.343771px;bottom:360.324903px;width:10.500000px;height:7.555000px;background-color:rgba(255,255,255,0.000001);\"></div></a>\n",
      "<a class=\"l\" data-dest-detail='[66,\"XYZ\",245.93,663.41,null]' href=\"#pf42\"><div class=\"d m1\" style=\"border-style:none;position:absolute;left:250.469561px;bottom:693.071576px;width:13.126000px;height:7.461000px;background-color:rgba(255,255,255,0.000001);\"></div></a>\n",
      "<a class=\"l\" data-dest-detail='[71,\"XYZ\",193.43,663.45,null]' href=\"#pf47\"><div class=\"d m1\" style=\"border-style:none;position:absolute;left:674.032415px;bottom:693.071576px;width:13.126000px;height:7.461000px;background-color:rgba(255,255,255,0.000001);\"></div></a>\n",
      "<a class=\"l\" data-dest-detail='[70,\"XYZ\",72,532.87,null]' href=\"#pf46\"><div class=\"d m1\" style=\"border-style:none;position:absolute;left:749.418412px;bottom:595.515656px;width:13.126000px;height:7.461000px;background-color:rgba(255,255,255,0.000001);\"></div></a>\n",
      "<a class=\"l\" data-dest-detail='[71,\"XYZ\",256.43,481.86,null]' href=\"#pf47\"><div class=\"d m1\" style=\"border-style:none;position:absolute;left:859.495659px;bottom:562.997017px;width:13.126000px;height:9.566000px;background-color:rgba(255,255,255,0.000001);\"></div></a>\n",
      "<a class=\"l\" data-dest-detail='[70,\"XYZ\",230.81,485.43,null]' href=\"#pf46\"><div class=\"d m1\" style=\"border-style:none;position:absolute;left:365.368526px;bottom:530.478377px;width:18.376000px;height:7.460000px;background-color:rgba(255,255,255,0.000001);\"></div></a>\n",
      "<a class=\"l\" data-dest-detail='[70,\"XYZ\",258.06,589.2,null]' href=\"#pf46\"><div class=\"d m1\" style=\"border-style:none;position:absolute;left:576.978793px;bottom:367.240102px;width:13.126000px;height:7.461000px;background-color:rgba(255,255,255,0.000001);\"></div></a>\n",
      "<a class=\"l\" data-dest-detail='[70,\"XYZ\",230.81,485.43,null]' href=\"#pf46\"><div class=\"d m1\" style=\"border-style:none;position:absolute;left:617.621933px;bottom:367.240102px;width:18.376000px;height:7.461000px;background-color:rgba(255,255,255,0.000001);\"></div></a>\n",
      "<a class=\"l\" data-dest-detail='[438,\"XYZ\",72,610.19,null]' href=\"#pf1b6\"><div class=\"d m1\" style=\"border-style:none;position:absolute;left:399.275366px;bottom:321.176616px;width:10.500000px;height:7.556000px;background-color:rgba(255,255,255,0.000001);\"></div></a>\n",
      "<a class=\"l\" data-dest-detail='[438,\"XYZ\",72,563.12,null]' href=\"#pf1b6\"><div class=\"d m1\" style=\"border-style:none;position:absolute;left:802.878753px;bottom:288.657976px;width:10.500000px;height:7.556000px;background-color:rgba(255,255,255,0.000001);\"></div></a>\n",
      "<a class=\"l\" data-dest-detail='[438,\"XYZ\",72,534.83,null]' href=\"#pf1b6\"><div class=\"d m1\" style=\"border-style:none;position:absolute;left:513.711598px;bottom:256.139336px;width:10.500000px;height:7.555000px;background-color:rgba(255,255,255,0.000001);\"></div></a>\n",
      "<a class=\"l\" data-dest-detail='[73,\"XYZ\",206.85,440.85,null]' href=\"#pf49\"><div class=\"d m1\" style=\"border-style:none;position:absolute;left:252.052144px;bottom:151.024862px;width:13.125000px;height:7.461000px;background-color:rgba(255,255,255,0.000001);\"></div></a>\n",
      "<a class=\"l\" data-dest-detail='[73,\"XYZ\",287.94,225.87,null]' href=\"#pf49\"><div class=\"d m1\" style=\"border-style:none;position:absolute;left:234.741782px;bottom:1253.500336px;width:13.126000px;height:7.461000px;background-color:rgba(255,255,255,0.000001);\"></div></a>\n",
      "<a class=\"l\" data-dest-detail='[73,\"XYZ\",206.85,440.85,null]' href=\"#pf49\"><div class=\"d m1\" style=\"border-style:none;position:absolute;left:633.009112px;bottom:1188.463056px;width:13.126000px;height:7.460000px;background-color:rgba(255,255,255,0.000001);\"></div></a>\n",
      "<a class=\"l\" data-dest-detail='[73,\"XYZ\",206.85,440.85,null]' href=\"#pf49\"><div class=\"d m1\" style=\"border-style:none;position:absolute;left:590.355060px;bottom:1155.944416px;width:13.126000px;height:7.460000px;background-color:rgba(255,255,255,0.000001);\"></div></a>\n",
      "<a class=\"l\" data-dest-detail='[74,\"XYZ\",256.42,492.09,null]' href=\"#pf4a\"><div class=\"d m1\" style=\"border-style:none;position:absolute;left:425.250370px;bottom:281.324768px;width:13.126000px;height:9.146000px;background-color:rgba(255,255,255,0.000001);\"></div></a>\n",
      "<a class=\"l\" data-dest-detail='[74,\"XYZ\",256.42,492.09,null]' href=\"#pf4a\"><div class=\"d m1\" style=\"border-style:none;position:absolute;left:274.566107px;bottom:1253.500336px;width:13.125000px;height:9.146000px;background-color:rgba(255,255,255,0.000001);\"></div></a>\n",
      "<a class=\"l\" data-dest-detail='[438,\"XYZ\",72,487.77,null]' href=\"#pf1b6\"><div class=\"d m1\" style=\"border-style:none;position:absolute;left:590.203682px;bottom:788.582180px;width:10.500000px;height:7.555000px;background-color:rgba(255,255,255,0.000001);\"></div></a>\n",
      "<a class=\"l\" data-dest-detail='[438,\"XYZ\",72,440.64,null]' href=\"#pf1b6\"><div class=\"d m1\" style=\"border-style:none;position:absolute;left:618.476871px;bottom:788.582180px;width:10.501000px;height:7.555000px;background-color:rgba(255,255,255,0.000001);\"></div></a>\n",
      "<a class=\"l\" href=\"http://www.cnblogs.com/ilogic/archive/2012/08/05/proof_arrow.html\"><div class=\"d m1\" style=\"border-style:none;position:absolute;left:191.578551px;bottom:218.418815px;width:82.520000px;height:6.910000px;background-color:rgba(255,255,255,0.000001);\"></div></a>\n",
      "<a class=\"l\" data-dest-detail='[438,\"XYZ\",72,412.35,null]' href=\"#pf1b6\"><div class=\"d m1\" style=\"border-style:none;position:absolute;left:147.931945px;bottom:1090.626744px;width:10.501000px;height:9.592000px;background-color:rgba(255,255,255,0.000001);\"></div></a>\n",
      "<a class=\"l\" data-dest-detail='[438,\"XYZ\",72,610.19,null]' href=\"#pf1b6\"><div class=\"d m1\" style=\"border-style:none;position:absolute;left:176.616261px;bottom:1090.626744px;width:10.501000px;height:7.555000px;background-color:rgba(255,255,255,0.000001);\"></div></a>\n",
      "<a class=\"l\" data-dest-detail='[80,\"XYZ\",189.44,587.75,null]' href=\"#pf50\"><div class=\"d m1\" style=\"border-style:none;position:absolute;left:823.369762px;bottom:696.948905px;width:13.126000px;height:7.461000px;background-color:rgba(255,255,255,0.000001);\"></div></a>\n",
      "<a class=\"l\" data-dest-detail='[80,\"XYZ\",194.69,477.1,null]' href=\"#pf50\"><div class=\"d m1\" style=\"border-style:none;position:absolute;left:454.977127px;bottom:664.430265px;width:18.376000px;height:7.461000px;background-color:rgba(255,255,255,0.000001);\"></div></a>\n",
      "<a class=\"l\" data-dest-detail='[81,\"XYZ\",110.54,511.34,null]' href=\"#pf51\"><div class=\"d m1\" style=\"border-style:none;position:absolute;left:434.474076px;bottom:631.911625px;width:18.376000px;height:7.461000px;background-color:rgba(255,255,255,0.000001);\"></div></a>\n",
      "<a class=\"l\" data-dest-detail='[79,\"XYZ\",72,127.88,null]' href=\"#pf4f\"><div class=\"d m1\" style=\"border-style:none;position:absolute;left:255.124419px;bottom:766.618680px;width:13.126000px;height:9.592000px;background-color:rgba(255,255,255,0.000001);\"></div></a>\n",
      "<a class=\"l\" data-dest-detail='[82,\"XYZ\",243.31,141.28,null]' href=\"#pf52\"><div class=\"d m1\" style=\"border-style:none;position:absolute;left:769.782126px;bottom:1098.488053px;width:18.376000px;height:7.556000px;background-color:rgba(255,255,255,0.000001);\"></div></a>\n",
      "<a class=\"l\" data-dest-detail='[82,\"XYZ\",243.31,141.28,null]' href=\"#pf52\"><div class=\"d m1\" style=\"border-style:none;position:absolute;left:159.980218px;bottom:957.342293px;width:18.376000px;height:7.555000px;background-color:rgba(255,255,255,0.000001);\"></div></a>\n",
      "<a class=\"l\" data-dest-detail='[79,\"XYZ\",72,127.88,null]' href=\"#pf4f\"><div class=\"d m1\" style=\"border-style:none;position:absolute;left:214.169923px;bottom:858.030050px;width:13.126000px;height:9.592000px;background-color:rgba(255,255,255,0.000001);\"></div></a>\n",
      "<a class=\"l\" data-dest-detail='[82,\"XYZ\",243.31,141.28,null]' href=\"#pf52\"><div class=\"d m1\" style=\"border-style:none;position:absolute;left:501.523989px;bottom:858.030050px;width:18.376000px;height:7.555000px;background-color:rgba(255,255,255,0.000001);\"></div></a>\n",
      "<a class=\"l\" data-dest-detail='[83,\"XYZ\",172.43,221.86,null]' href=\"#pf53\"><div class=\"d m1\" style=\"border-style:none;position:absolute;left:236.517027px;bottom:758.716087px;width:13.126000px;height:7.555000px;background-color:rgba(255,255,255,0.000001);\"></div></a>\n",
      "<a class=\"l\" data-dest-detail='[438,\"XYZ\",72,365.22,null]' href=\"#pf1b6\"><div class=\"d m1\" style=\"border-style:none;position:absolute;left:316.516597px;bottom:770.459884px;width:10.500000px;height:7.555000px;background-color:rgba(255,255,255,0.000001);\"></div></a>\n",
      "<a class=\"l\" data-dest-detail='[438,\"XYZ\",72,318.09,null]' href=\"#pf1b6\"><div class=\"d m1\" style=\"border-style:none;position:absolute;left:345.772020px;bottom:770.459884px;width:10.501000px;height:9.592000px;background-color:rgba(255,255,255,0.000001);\"></div></a>\n",
      "<a class=\"l\" data-dest-detail='[438,\"XYZ\",72,271.44,null]' href=\"#pf1b6\"><div class=\"d m1\" style=\"border-style:none;position:absolute;left:302.462572px;bottom:1188.182664px;width:10.501000px;height:7.555000px;background-color:rgba(255,255,255,0.000001);\"></div></a>\n",
      "<a class=\"l\" data-dest-detail='[438,\"XYZ\",72,223.83,null]' href=\"#pf1b6\"><div class=\"d m1\" style=\"border-style:none;position:absolute;left:497.615697px;bottom:565.234995px;width:10.500000px;height:7.555000px;background-color:rgba(255,255,255,0.000001);\"></div></a>\n",
      "<a class=\"l\" data-dest-detail='[438,\"XYZ\",72,271.44,null]' href=\"#pf1b6\"><div class=\"d m1\" style=\"border-style:none;position:absolute;left:381.889316px;bottom:846.898643px;width:10.501000px;height:7.555000px;background-color:rgba(255,255,255,0.000001);\"></div></a>\n",
      "<a class=\"l\" data-dest-detail='[438,\"XYZ\",72,176.71,null]' href=\"#pf1b6\"><div class=\"d m1\" style=\"border-style:none;position:absolute;left:527.578121px;bottom:781.861363px;width:10.501000px;height:7.555000px;background-color:rgba(255,255,255,0.000001);\"></div></a>\n",
      "<a class=\"l\" data-dest-detail='[438,\"XYZ\",72,129.64,null]' href=\"#pf1b6\"><div class=\"d m1\" style=\"border-style:none;position:absolute;left:153.618922px;bottom:684.305443px;width:10.501000px;height:7.555000px;background-color:rgba(255,255,255,0.000001);\"></div></a>\n",
      "<a class=\"l\" data-dest-detail='[439,\"XYZ\",72,740.93,null]' href=\"#pf1b7\"><div class=\"d m1\" style=\"border-style:none;position:absolute;left:300.202231px;bottom:651.785083px;width:10.501000px;height:7.556000px;background-color:rgba(255,255,255,0.000001);\"></div></a>\n",
      "<a class=\"l\" data-dest-detail='[439,\"XYZ\",72,704.81,null]' href=\"#pf1b7\"><div class=\"d m1\" style=\"border-style:none;position:absolute;left:792.043220px;bottom:701.987367px;width:10.500000px;height:7.555000px;background-color:rgba(255,255,255,0.000001);\"></div></a>\n",
      "<a class=\"l\" data-dest-detail='[439,\"XYZ\",72,658.42,null]' href=\"#pf1b7\"><div class=\"d m1\" style=\"border-style:none;position:absolute;left:820.631205px;bottom:701.987367px;width:10.501000px;height:7.555000px;background-color:rgba(255,255,255,0.000001);\"></div></a>\n",
      "<a class=\"l\" data-dest-detail='[439,\"XYZ\",72,593.6,null]' href=\"#pf1b7\"><div class=\"d m1\" style=\"border-style:none;position:absolute;left:437.386373px;bottom:198.368176px;width:7.502000px;height:6.853000px;background-color:rgba(255,255,255,0.000001);\"></div></a>\n",
      "<a class=\"l\" data-dest-detail='[439,\"XYZ\",72,546.8,null]' href=\"#pf1b7\"><div class=\"d m1\" style=\"border-style:none;position:absolute;left:425.656337px;bottom:1154.915737px;width:10.500000px;height:7.556000px;background-color:rgba(255,255,255,0.000001);\"></div></a>\n",
      "<a class=\"l\" data-dest-detail='[439,\"XYZ\",72,500.81,null]' href=\"#pf1b7\"><div class=\"d m1\" style=\"border-style:none;position:absolute;left:342.906169px;bottom:959.803897px;width:10.501000px;height:9.592000px;background-color:rgba(255,255,255,0.000001);\"></div></a>\n",
      "<a class=\"l\" href=\"http://www.ling.upenn.edu/courses/ling052/BinaryClassification.html\"><div class=\"d m1\" style=\"border-style:none;position:absolute;left:701.875554px;bottom:1255.514689px;width:63.004000px;height:9.713000px;background-color:rgba(255,255,255,0.000001);\"></div></a>\n",
      "<a class=\"l\" data-dest-detail='[439,\"XYZ\",72,454.01,null]' href=\"#pf1b7\"><div class=\"d m1\" style=\"border-style:none;position:absolute;left:585.349281px;bottom:716.584975px;width:10.501000px;height:7.555000px;background-color:rgba(255,255,255,0.000001);\"></div></a>\n",
      "<a class=\"l\" data-dest-detail='[439,\"XYZ\",72,407.62,null]' href=\"#pf1b7\"><div class=\"d m1\" style=\"border-style:none;position:absolute;left:379.627254px;bottom:452.713345px;width:10.501000px;height:7.219000px;background-color:rgba(255,255,255,0.000001);\"></div></a>\n",
      "<a class=\"l\" data-dest-detail='[439,\"XYZ\",72,361.17,null]' href=\"#pf1b7\"><div class=\"d m1\" style=\"border-style:none;position:absolute;left:208.876871px;bottom:248.014837px;width:10.501000px;height:7.219000px;background-color:rgba(255,255,255,0.000001);\"></div></a>\n",
      "<a class=\"l\" data-dest-detail='[439,\"XYZ\",72,315.25,null]' href=\"#pf1b7\"><div class=\"d m1\" style=\"border-style:none;position:absolute;left:281.130386px;bottom:1177.957801px;width:10.501000px;height:7.219000px;background-color:rgba(255,255,255,0.000001);\"></div></a>\n",
      "<a class=\"l\" data-dest-detail='[439,\"XYZ\",72,287.35,null]' href=\"#pf1b7\"><div class=\"d m1\" style=\"border-style:none;position:absolute;left:308.964924px;bottom:1173.874049px;width:10.501000px;height:9.593000px;background-color:rgba(255,255,255,0.000001);\"></div></a>\n",
      "<a class=\"l\" data-dest-detail='[109,\"XYZ\",211.16,713.1,null]' href=\"#pf6d\"><div class=\"d m1\" style=\"border-style:none;position:absolute;left:542.946378px;bottom:935.340949px;width:23.627000px;height:9.592000px;background-color:rgba(255,255,255,0.000001);\"></div></a>\n",
      "<a class=\"l\" data-dest-detail='[439,\"XYZ\",72,240.89,null]' href=\"#pf1b7\"><div class=\"d m1\" style=\"border-style:none;position:absolute;left:310.501062px;bottom:433.761914px;width:10.501000px;height:9.593000px;background-color:rgba(255,255,255,0.000001);\"></div></a>\n",
      "<a class=\"l\" data-dest-detail='[439,\"XYZ\",72,194.5,null]' href=\"#pf1b7\"><div class=\"d m1\" style=\"border-style:none;position:absolute;left:338.335600px;bottom:433.761914px;width:10.501000px;height:9.593000px;background-color:rgba(255,255,255,0.000001);\"></div></a>\n",
      "<a class=\"l\" data-dest-detail='[439,\"XYZ\",72,148.58,null]' href=\"#pf1b7\"><div class=\"d m1\" style=\"border-style:none;position:absolute;left:552.304260px;bottom:999.552533px;width:10.500000px;height:7.219000px;background-color:rgba(255,255,255,0.000001);\"></div></a>\n",
      "<a class=\"l\" data-dest-detail='[439,\"XYZ\",72,194.5,null]' href=\"#pf1b7\"><div class=\"d m1\" style=\"border-style:none;position:absolute;left:582.132509px;bottom:995.470501px;width:10.501000px;height:9.592000px;background-color:rgba(255,255,255,0.000001);\"></div></a>\n",
      "<a class=\"l\" data-dest-detail='[440,\"XYZ\",72,740.93,null]' href=\"#pf1b8\"><div class=\"d m1\" style=\"border-style:none;position:absolute;left:433.952856px;bottom:962.951861px;width:10.501000px;height:9.592000px;background-color:rgba(255,255,255,0.000001);\"></div></a>\n",
      "<a class=\"l\" data-dest-detail='[440,\"XYZ\",72,705.28,null]' href=\"#pf1b8\"><div class=\"d m1\" style=\"border-style:none;position:absolute;left:463.125709px;bottom:967.033893px;width:10.501000px;height:7.219000px;background-color:rgba(255,255,255,0.000001);\"></div></a>\n",
      "<a class=\"l\" data-dest-detail='[440,\"XYZ\",72,677.32,null]' href=\"#pf1b8\"><div class=\"d m1\" style=\"border-style:none;position:absolute;left:492.298562px;bottom:962.951861px;width:10.501000px;height:9.592000px;background-color:rgba(255,255,255,0.000001);\"></div></a>\n",
      "<a class=\"l\" data-dest-detail='[440,\"XYZ\",72,631.4,null]' href=\"#pf1b8\"><div class=\"d m1\" style=\"border-style:none;position:absolute;left:521.471415px;bottom:962.951861px;width:10.500000px;height:7.555000px;background-color:rgba(255,255,255,0.000001);\"></div></a>\n",
      "<a class=\"l\" data-dest-detail='[440,\"XYZ\",72,631.4,null]' href=\"#pf1b8\"><div class=\"d m1\" style=\"border-style:none;position:absolute;left:598.042629px;bottom:566.609434px;width:10.501000px;height:7.555000px;background-color:rgba(255,255,255,0.000001);\"></div></a>\n",
      "<a class=\"l\" data-dest-detail='[113,\"XYZ\",256.8,633.1,null]' href=\"#pf71\"><div class=\"d m1\" style=\"border-style:none;position:absolute;left:196.229969px;bottom:928.085150px;width:18.376000px;height:7.555000px;background-color:rgba(255,255,255,0.000001);\"></div></a>\n",
      "<a class=\"l\" data-dest-detail='[115,\"XYZ\",223.47,237.19,null]' href=\"#pf73\"><div class=\"d m1\" style=\"border-style:none;position:absolute;left:527.091305px;bottom:1253.219944px;width:23.626000px;height:7.555000px;background-color:rgba(255,255,255,0.000001);\"></div></a>\n",
      "<a class=\"l\" data-dest-detail='[440,\"XYZ\",72,603.44,null]' href=\"#pf1b8\"><div class=\"d m1\" style=\"border-style:none;position:absolute;left:636.994813px;bottom:1142.261954px;width:10.501000px;height:7.555000px;background-color:rgba(255,255,255,0.000001);\"></div></a>\n",
      "<a class=\"l\" data-dest-detail='[440,\"XYZ\",72,538.62,null]' href=\"#pf1b8\"><div class=\"d m1\" style=\"border-style:none;position:absolute;left:147.931945px;bottom:1076.005053px;width:10.501000px;height:7.555000px;background-color:rgba(255,255,255,0.000001);\"></div></a>\n",
      "<a class=\"l\" data-dest-detail='[440,\"XYZ\",72,631.4,null]' href=\"#pf1b8\"><div class=\"d m1\" style=\"border-style:none;position:absolute;left:175.465448px;bottom:1076.005053px;width:10.500000px;height:7.555000px;background-color:rgba(255,255,255,0.000001);\"></div></a>\n",
      "<a class=\"l\" data-dest-detail='[440,\"XYZ\",72,491.76,null]' href=\"#pf1b8\"><div class=\"d m1\" style=\"border-style:none;position:absolute;left:351.142481px;bottom:773.619890px;width:10.500000px;height:7.555000px;background-color:rgba(255,255,255,0.000001);\"></div></a>\n",
      "<a class=\"l\" data-dest-detail='[439,\"XYZ\",72,148.58,null]' href=\"#pf1b7\"><div class=\"d m1\" style=\"border-style:none;position:absolute;left:839.933557px;bottom:777.701922px;width:10.501000px;height:7.220000px;background-color:rgba(255,255,255,0.000001);\"></div></a>\n",
      "<a class=\"l\" data-dest-detail='[440,\"XYZ\",72,426.93,null]' href=\"#pf1b8\"><div class=\"d m1\" style=\"border-style:none;position:absolute;left:308.325010px;bottom:1113.591399px;width:10.501000px;height:7.555000px;background-color:rgba(255,255,255,0.000001);\"></div></a>\n",
      "<a class=\"l\" data-dest-detail='[440,\"XYZ\",72,538.62,null]' href=\"#pf1b8\"><div class=\"d m1\" style=\"border-style:none;position:absolute;left:324.438113px;bottom:1073.376589px;width:10.501000px;height:7.555000px;background-color:rgba(255,255,255,0.000001);\"></div></a>\n",
      "<a class=\"l\" data-dest-detail='[440,\"XYZ\",72,361.23,null]' href=\"#pf1b8\"><div class=\"d m1\" style=\"border-style:none;position:absolute;left:460.074076px;bottom:1073.376589px;width:10.501000px;height:7.555000px;background-color:rgba(255,255,255,0.000001);\"></div></a>\n",
      "<a class=\"l\" data-dest-detail='[440,\"XYZ\",72,295.87,null]' href=\"#pf1b8\"><div class=\"d m1\" style=\"border-style:none;position:absolute;left:584.186427px;bottom:1073.376589px;width:10.500000px;height:9.593000px;background-color:rgba(255,255,255,0.000001);\"></div></a>\n",
      "<a class=\"l\" data-dest-detail='[440,\"XYZ\",72,249.48,null]' href=\"#pf1b8\"><div class=\"d m1\" style=\"border-style:none;position:absolute;left:749.879425px;bottom:1073.376589px;width:10.500000px;height:7.555000px;background-color:rgba(255,255,255,0.000001);\"></div></a>\n",
      "<a class=\"l\" data-dest-detail='[440,\"XYZ\",72,221.99,null]' href=\"#pf1b8\"><div class=\"d m1\" style=\"border-style:none;position:absolute;left:777.056847px;bottom:1073.376589px;width:10.501000px;height:9.593000px;background-color:rgba(255,255,255,0.000001);\"></div></a>\n",
      "<a class=\"l\" data-dest-detail='[440,\"XYZ\",72,194.5,null]' href=\"#pf1b8\"><div class=\"d m1\" style=\"border-style:none;position:absolute;left:147.931945px;bottom:1040.857949px;width:10.501000px;height:7.555000px;background-color:rgba(255,255,255,0.000001);\"></div></a>\n",
      "<a class=\"l\" data-dest-detail='[440,\"XYZ\",72,538.62,null]' href=\"#pf1b8\"><div class=\"d m1\" style=\"border-style:none;position:absolute;left:497.424755px;bottom:853.297783px;width:10.501000px;height:7.555000px;background-color:rgba(255,255,255,0.000001);\"></div></a>\n",
      "<a class=\"l\" data-dest-detail='[440,\"XYZ\",72,129.21,null]' href=\"#pf1b8\"><div class=\"d m1\" style=\"border-style:none;position:absolute;left:382.544712px;bottom:572.263728px;width:10.501000px;height:7.219000px;background-color:rgba(255,255,255,0.000001);\"></div></a>\n",
      "<a class=\"l\" data-dest-detail='[440,\"XYZ\",72,361.23,null]' href=\"#pf1b8\"><div class=\"d m1\" style=\"border-style:none;position:absolute;left:411.356323px;bottom:568.181696px;width:10.501000px;height:7.555000px;background-color:rgba(255,255,255,0.000001);\"></div></a>\n",
      "<a class=\"l\" data-dest-detail='[440,\"XYZ\",72,295.87,null]' href=\"#pf1b8\"><div class=\"d m1\" style=\"border-style:none;position:absolute;left:438.908749px;bottom:617.952211px;width:10.501000px;height:9.593000px;background-color:rgba(255,255,255,0.000001);\"></div></a>\n",
      "<a class=\"l\" data-dest-detail='[441,\"XYZ\",72,740.93,null]' href=\"#pf1b9\"><div class=\"d m1\" style=\"border-style:none;position:absolute;left:707.519527px;bottom:524.478323px;width:10.501000px;height:7.219000px;background-color:rgba(255,255,255,0.000001);\"></div></a>\n",
      "<a class=\"l\" data-dest-detail='[116,\"XYZ\",193.29,429.45,null]' href=\"#pf74\"><div class=\"d m1\" style=\"border-style:none;position:absolute;left:459.355033px;bottom:455.359011px;width:23.626000px;height:7.555000px;background-color:rgba(255,255,255,0.000001);\"></div></a>\n",
      "<a class=\"l\" data-dest-detail='[440,\"XYZ\",72,361.23,null]' href=\"#pf1b8\"><div class=\"d m1\" style=\"border-style:none;position:absolute;left:290.735976px;bottom:476.661954px;width:10.500000px;height:7.555000px;background-color:rgba(255,255,255,0.000001);\"></div></a>\n",
      "<a class=\"l\" data-dest-detail='[124,\"XYZ\",243.61,114.13,null]' href=\"#pf7c\"><div class=\"d m1\" style=\"border-style:none;position:absolute;left:437.656444px;bottom:327.728854px;width:23.626000px;height:7.555000px;background-color:rgba(255,255,255,0.000001);\"></div></a>\n",
      "<a class=\"l\" data-dest-detail='[440,\"XYZ\",72,249.48,null]' href=\"#pf1b8\"><div class=\"d m1\" style=\"border-style:none;position:absolute;left:388.797635px;bottom:1186.283564px;width:10.500000px;height:7.555000px;background-color:rgba(255,255,255,0.000001);\"></div></a>\n",
      "<a class=\"l\" data-dest-detail='[440,\"XYZ\",72,221.99,null]' href=\"#pf1b8\"><div class=\"d m1\" style=\"border-style:none;position:absolute;left:417.707297px;bottom:1186.283564px;width:10.501000px;height:9.592000px;background-color:rgba(255,255,255,0.000001);\"></div></a>\n",
      "<a class=\"l\" data-dest-detail='[441,\"XYZ\",72,704.93,null]' href=\"#pf1b9\"><div class=\"d m1\" style=\"border-style:none;position:absolute;left:438.499341px;bottom:801.036420px;width:10.501000px;height:7.220000px;background-color:rgba(255,255,255,0.000001);\"></div></a>\n",
      "<a class=\"l\" data-dest-detail='[441,\"XYZ\",72,638.92,null]' href=\"#pf1b9\"><div class=\"d m1\" style=\"border-style:none;position:absolute;left:213.827604px;bottom:731.917108px;width:10.500000px;height:9.592000px;background-color:rgba(255,255,255,0.000001);\"></div></a>\n",
      "<a class=\"l\" data-dest-detail='[441,\"XYZ\",72,575.2,null]' href=\"#pf1b9\"><div class=\"d m1\" style=\"border-style:none;position:absolute;left:241.662142px;bottom:731.917108px;width:10.501000px;height:9.592000px;background-color:rgba(255,255,255,0.000001);\"></div></a>\n",
      "<a class=\"l\" data-dest-detail='[440,\"XYZ\",72,194.5,null]' href=\"#pf1b8\"><div class=\"d m1\" style=\"border-style:none;position:absolute;left:442.803279px;bottom:603.342561px;width:10.501000px;height:7.555000px;background-color:rgba(255,255,255,0.000001);\"></div></a>\n",
      "<a class=\"l\" data-dest-detail='[441,\"XYZ\",72,525.39,null]' href=\"#pf1b9\"><div class=\"d m1\" style=\"border-style:none;position:absolute;left:472.468109px;bottom:603.342561px;width:10.501000px;height:9.592000px;background-color:rgba(255,255,255,0.000001);\"></div></a>\n",
      "<a class=\"l\" data-dest-detail='[441,\"XYZ\",72,478.22,null]' href=\"#pf1b9\"><div class=\"d m1\" style=\"border-style:none;position:absolute;left:208.876871px;bottom:428.706249px;width:10.501000px;height:7.219000px;background-color:rgba(255,255,255,0.000001);\"></div></a>\n",
      "<a class=\"l\" data-dest-detail='[128,\"XYZ\",231.8,220.48,null]' href=\"#pf80\"><div class=\"d m1\" style=\"border-style:none;position:absolute;left:761.415079px;bottom:1253.219944px;width:23.627000px;height:7.555000px;background-color:rgba(255,255,255,0.000001);\"></div></a>\n",
      "<a class=\"l\" data-dest-detail='[128,\"XYZ\",202.47,142.35,null]' href=\"#pf80\"><div class=\"d m1\" style=\"border-style:none;position:absolute;left:220.185459px;bottom:1145.296385px;width:23.626000px;height:7.556000px;background-color:rgba(255,255,255,0.000001);\"></div></a>\n",
      "<a class=\"l\" data-dest-detail='[128,\"XYZ\",231.8,220.48,null]' href=\"#pf80\"><div class=\"d m1\" style=\"border-style:none;position:absolute;left:330.027039px;bottom:1060.026126px;width:23.626000px;height:7.555000px;background-color:rgba(255,255,255,0.000001);\"></div></a>\n",
      "<a class=\"l\" data-dest-detail='[128,\"XYZ\",231.8,220.48,null]' href=\"#pf80\"><div class=\"d m1\" style=\"border-style:none;position:absolute;left:653.646338px;bottom:1060.026126px;width:23.626000px;height:7.555000px;background-color:rgba(255,255,255,0.000001);\"></div></a>\n",
      "<a class=\"l\" data-dest-detail='[128,\"XYZ\",202.47,142.35,null]' href=\"#pf80\"><div class=\"d m1\" style=\"border-style:none;position:absolute;left:778.570622px;bottom:1060.026126px;width:23.626000px;height:7.555000px;background-color:rgba(255,255,255,0.000001);\"></div></a>\n",
      "<a class=\"l\" data-dest-detail='[128,\"XYZ\",202.47,142.35,null]' href=\"#pf80\"><div class=\"d m1\" style=\"border-style:none;position:absolute;left:797.972746px;bottom:1164.531649px;width:23.626000px;height:7.555000px;background-color:rgba(255,255,255,0.000001);\"></div></a>\n",
      "<a class=\"l\" data-dest-detail='[441,\"XYZ\",72,451.09,null]' href=\"#pf1b9\"><div class=\"d m1\" style=\"border-style:none;position:absolute;left:480.764628px;bottom:1099.494369px;width:10.501000px;height:9.592000px;background-color:rgba(255,255,255,0.000001);\"></div></a>\n",
      "<a class=\"l\" data-dest-detail='[441,\"XYZ\",72,386.77,null]' href=\"#pf1b9\"><div class=\"d m1\" style=\"border-style:none;position:absolute;left:487.337508px;bottom:979.560382px;width:10.501000px;height:7.219000px;background-color:rgba(255,255,255,0.000001);\"></div></a>\n",
      "<a class=\"l\" data-dest-detail='[441,\"XYZ\",72,317.99,null]' href=\"#pf1b9\"><div class=\"d m1\" style=\"border-style:none;position:absolute;left:427.675850px;bottom:946.754468px;width:10.501000px;height:9.593000px;background-color:rgba(255,255,255,0.000001);\"></div></a>\n",
      "<a class=\"l\" data-dest-detail='[441,\"XYZ\",72,251.98,null]' href=\"#pf1b9\"><div class=\"d m1\" style=\"border-style:none;position:absolute;left:455.512109px;bottom:946.754468px;width:10.500000px;height:7.555000px;background-color:rgba(255,255,255,0.000001);\"></div></a>\n",
      "<a class=\"l\" data-dest-detail='[441,\"XYZ\",72,186.44,null]' href=\"#pf1b9\"><div class=\"d m1\" style=\"border-style:none;position:absolute;left:483.346647px;bottom:946.754468px;width:10.501000px;height:7.555000px;background-color:rgba(255,255,255,0.000001);\"></div></a>\n",
      "<a class=\"l\" data-dest-detail='[133,\"XYZ\",285.31,255.46,null]' href=\"#pf85\"><div class=\"d m1\" style=\"border-style:none;position:absolute;left:474.879828px;bottom:248.302110px;width:18.376000px;height:7.555000px;background-color:rgba(255,255,255,0.000001);\"></div></a>\n",
      "<a class=\"l\" data-dest-detail='[441,\"XYZ\",72,157.77,null]' href=\"#pf1b9\"><div class=\"d m1\" style=\"border-style:none;position:absolute;left:689.672463px;bottom:1129.217686px;width:10.500000px;height:7.556000px;background-color:rgba(255,255,255,0.000001);\"></div></a>\n",
      "<a class=\"l\" data-dest-detail='[441,\"XYZ\",72,110.66,null]' href=\"#pf1b9\"><div class=\"d m1\" style=\"border-style:none;position:absolute;left:442.832523px;bottom:1031.661766px;width:10.500000px;height:7.555000px;background-color:rgba(255,255,255,0.000001);\"></div></a>\n",
      "<a class=\"l\" data-dest-detail='[439,\"XYZ\",72,407.62,null]' href=\"#pf1b7\"><div class=\"d m1\" style=\"border-style:none;position:absolute;left:430.842736px;bottom:1003.225158px;width:10.501000px;height:7.219000px;background-color:rgba(255,255,255,0.000001);\"></div></a>\n",
      "<a class=\"l\" data-dest-detail='[442,\"XYZ\",72,740.93,null]' href=\"#pf1ba\"><div class=\"d m1\" style=\"border-style:none;position:absolute;left:796.646472px;bottom:901.587206px;width:10.501000px;height:7.555000px;background-color:rgba(255,255,255,0.000001);\"></div></a>\n",
      "<a class=\"l\" data-dest-detail='[442,\"XYZ\",72,685.55,null]' href=\"#pf1ba\"><div class=\"d m1\" style=\"border-style:none;position:absolute;left:819.927644px;bottom:836.549926px;width:10.500000px;height:7.555000px;background-color:rgba(255,255,255,0.000001);\"></div></a>\n",
      "<a class=\"l\" data-dest-detail='[442,\"XYZ\",72,638.44,null]' href=\"#pf1ba\"><div class=\"d m1\" style=\"border-style:none;position:absolute;left:329.060288px;bottom:738.992286px;width:10.501000px;height:9.593000px;background-color:rgba(255,255,255,0.000001);\"></div></a>\n",
      "<a class=\"l\" data-dest-detail='[442,\"XYZ\",72,591.4,null]' href=\"#pf1ba\"><div class=\"d m1\" style=\"border-style:none;position:absolute;left:857.997366px;bottom:706.473646px;width:10.501000px;height:7.555000px;background-color:rgba(255,255,255,0.000001);\"></div></a>\n",
      "<a class=\"l\" data-dest-detail='[442,\"XYZ\",72,544.29,null]' href=\"#pf1ba\"><div class=\"d m1\" style=\"border-style:none;position:absolute;left:577.212740px;bottom:608.917726px;width:10.500000px;height:9.592000px;background-color:rgba(255,255,255,0.000001);\"></div></a>\n",
      "<a class=\"l\" data-dest-detail='[442,\"XYZ\",72,478.69,null]' href=\"#pf1ba\"><div class=\"d m1\" style=\"border-style:none;position:absolute;left:597.000188px;bottom:511.361806px;width:10.501000px;height:7.555000px;background-color:rgba(255,255,255,0.000001);\"></div></a>\n",
      "<a class=\"l\" data-dest-detail='[442,\"XYZ\",72,431.17,null]' href=\"#pf1ba\"><div class=\"d m1\" style=\"border-style:none;position:absolute;left:848.966322px;bottom:482.925198px;width:15.751000px;height:5.182000px;background-color:rgba(255,255,255,0.000001);\"></div></a>\n",
      "<a class=\"l\" data-dest-detail='[442,\"XYZ\",72,384,null]' href=\"#pf1ba\"><div class=\"d m1\" style=\"border-style:none;position:absolute;left:402.564387px;bottom:417.886198px;width:15.751000px;height:5.182000px;background-color:rgba(255,255,255,0.000001);\"></div></a>\n",
      "<a class=\"l\" data-dest-detail='[442,\"XYZ\",72,336.9,null]' href=\"#pf1ba\"><div class=\"d m1\" style=\"border-style:none;position:absolute;left:257.443247px;bottom:972.185889px;width:15.751000px;height:5.182000px;background-color:rgba(255,255,255,0.000001);\"></div></a>\n",
      "<a class=\"l\" data-dest-detail='[136,\"XYZ\",285.31,513.88,null]' href=\"#pf88\"><div class=\"d m1\" style=\"border-style:none;position:absolute;left:683.811746px;bottom:1219.595216px;width:18.376000px;height:7.555000px;background-color:rgba(255,255,255,0.000001);\"></div></a>\n",
      "<a class=\"l\" data-dest-detail='[137,\"XYZ\",260.39,611.56,null]' href=\"#pf89\"><div class=\"d m1\" style=\"border-style:none;position:absolute;left:274.375165px;bottom:934.429243px;width:18.376000px;height:7.556000px;background-color:rgba(255,255,255,0.000001);\"></div></a>\n",
      "<a class=\"l\" data-dest-detail='[442,\"XYZ\",72,290.26,null]' href=\"#pf1ba\"><div class=\"d m1\" style=\"border-style:none;position:absolute;left:392.224271px;bottom:638.427738px;width:15.751000px;height:7.555000px;background-color:rgba(255,255,255,0.000001);\"></div></a>\n",
      "<a class=\"l\" data-dest-detail='[442,\"XYZ\",72,223.78,null]' href=\"#pf1ba\"><div class=\"d m1\" style=\"border-style:none;position:absolute;left:400.699691px;bottom:573.390458px;width:15.751000px;height:7.555000px;background-color:rgba(255,255,255,0.000001);\"></div></a>\n",
      "<a class=\"l\" data-dest-detail='[138,\"XYZ\",275.75,589.24,null]' href=\"#pf8a\"><div class=\"d m1\" style=\"border-style:none;position:absolute;left:610.548475px;bottom:475.834538px;width:18.376000px;height:7.555000px;background-color:rgba(255,255,255,0.000001);\"></div></a>\n",
      "<a class=\"l\" data-dest-detail='[137,\"XYZ\",183,194.23,null]' href=\"#pf89\"><div class=\"d m1\" style=\"border-style:none;position:absolute;left:741.563983px;bottom:923.284075px;width:18.376000px;height:7.555000px;background-color:rgba(255,255,255,0.000001);\"></div></a>\n",
      "<a class=\"l\" data-dest-detail='[442,\"XYZ\",72,176.74,null]' href=\"#pf1ba\"><div class=\"d m1\" style=\"border-style:none;position:absolute;left:424.820320px;bottom:1253.219944px;width:15.751000px;height:7.555000px;background-color:rgba(255,255,255,0.000001);\"></div></a>\n",
      "<a class=\"l\" data-dest-detail='[442,\"XYZ\",72,129.63,null]' href=\"#pf1ba\"><div class=\"d m1\" style=\"border-style:none;position:absolute;left:427.710254px;bottom:999.819164px;width:15.751000px;height:7.219000px;background-color:rgba(255,255,255,0.000001);\"></div></a>\n",
      "<a class=\"l\" data-dest-detail='[442,\"XYZ\",72,129.63,null]' href=\"#pf1ba\"><div class=\"d m1\" style=\"border-style:none;position:absolute;left:857.636124px;bottom:1224.783336px;width:15.751000px;height:7.219000px;background-color:rgba(255,255,255,0.000001);\"></div></a>\n",
      "<a class=\"l\" data-dest-detail='[443,\"XYZ\",72,740.93,null]' href=\"#pf1bb\"><div class=\"d m1\" style=\"border-style:none;position:absolute;left:442.915092px;bottom:738.188953px;width:15.751000px;height:7.555000px;background-color:rgba(255,255,255,0.000001);\"></div></a>\n",
      "<a class=\"l\" data-dest-detail='[443,\"XYZ\",72,706.27,null]' href=\"#pf1bb\"><div class=\"d m1\" style=\"border-style:none;position:absolute;left:663.528881px;bottom:709.752345px;width:15.751000px;height:7.219000px;background-color:rgba(255,255,255,0.000001);\"></div></a>\n",
      "<a class=\"l\" data-dest-detail='[443,\"XYZ\",72,680.33,null]' href=\"#pf1bb\"><div class=\"d m1\" style=\"border-style:none;position:absolute;left:793.713533px;bottom:705.670313px;width:15.751000px;height:7.555000px;background-color:rgba(255,255,255,0.000001);\"></div></a>\n",
      "<a class=\"l\" data-dest-detail='[443,\"XYZ\",72,654.74,null]' href=\"#pf1bb\"><div class=\"d m1\" style=\"border-style:none;position:absolute;left:422.876495px;bottom:514.638785px;width:15.751000px;height:5.182000px;background-color:rgba(255,255,255,0.000001);\"></div></a>\n",
      "<a class=\"l\" data-dest-detail='[443,\"XYZ\",72,610.32,null]' href=\"#pf1bb\"><div class=\"d m1\" style=\"border-style:none;position:absolute;left:758.650719px;bottom:482.120145px;width:15.751000px;height:5.182000px;background-color:rgba(255,255,255,0.000001);\"></div></a>\n",
      "<a class=\"l\" data-dest-detail='[443,\"XYZ\",72,584.79,null]' href=\"#pf1bb\"><div class=\"d m1\" style=\"border-style:none;position:absolute;left:756.591641px;bottom:449.601505px;width:15.751000px;height:5.182000px;background-color:rgba(255,255,255,0.000001);\"></div></a>\n",
      "<a class=\"l\" data-dest-detail='[144,\"XYZ\",238.06,330.06,null]' href=\"#pf90\"><div class=\"d m1\" style=\"border-style:none;position:absolute;left:850.103373px;bottom:1184.905685px;width:18.376000px;height:7.429000px;background-color:rgba(255,255,255,0.000001);\"></div></a>\n",
      "<a class=\"l\" data-dest-detail='[145,\"XYZ\",280.06,474.36,null]' href=\"#pf91\"><div class=\"d m1\" style=\"border-style:none;position:absolute;left:309.001048px;bottom:1087.349765px;width:18.377000px;height:7.429000px;background-color:rgba(255,255,255,0.000001);\"></div></a>\n",
      "<a class=\"l\" data-dest-detail='[443,\"XYZ\",72,706.27,null]' href=\"#pf1bb\"><div class=\"d m1\" style=\"border-style:none;position:absolute;left:681.690740px;bottom:1042.445693px;width:15.751000px;height:7.219000px;background-color:rgba(255,255,255,0.000001);\"></div></a>\n",
      "<a class=\"l\" data-dest-detail='[443,\"XYZ\",72,680.33,null]' href=\"#pf1bb\"><div class=\"d m1\" style=\"border-style:none;position:absolute;left:663.681978px;bottom:1005.845021px;width:15.751000px;height:7.555000px;background-color:rgba(255,255,255,0.000001);\"></div></a>\n",
      "<a class=\"l\" data-dest-detail='[443,\"XYZ\",72,610.32,null]' href=\"#pf1bb\"><div class=\"d m1\" style=\"border-style:none;position:absolute;left:147.931945px;bottom:187.346862px;width:15.751000px;height:5.182000px;background-color:rgba(255,255,255,0.000001);\"></div></a>\n",
      "<a class=\"l\" data-dest-detail='[443,\"XYZ\",72,540.84,null]' href=\"#pf1bb\"><div class=\"d m1\" style=\"border-style:none;position:absolute;left:341.345948px;bottom:573.490230px;width:15.751000px;height:7.555000px;background-color:rgba(255,255,255,0.000001);\"></div></a>\n",
      "<a class=\"l\" data-dest-detail='[443,\"XYZ\",72,514.9,null]' href=\"#pf1bb\"><div class=\"d m1\" style=\"border-style:none;position:absolute;left:316.413385px;bottom:1059.473942px;width:15.751000px;height:7.555000px;background-color:rgba(255,255,255,0.000001);\"></div></a>\n",
      "<a class=\"l\" data-dest-detail='[443,\"XYZ\",72,470.41,null]' href=\"#pf1bb\"><div class=\"d m1\" style=\"border-style:none;position:absolute;left:354.238839px;bottom:1059.473942px;width:15.751000px;height:7.555000px;background-color:rgba(255,255,255,0.000001);\"></div></a>\n",
      "<a class=\"l\" data-dest-detail='[443,\"XYZ\",72,426.46,null]' href=\"#pf1bb\"><div class=\"d m1\" style=\"border-style:none;position:absolute;left:147.931945px;bottom:335.610805px;width:15.751000px;height:7.219000px;background-color:rgba(255,255,255,0.000001);\"></div></a>\n",
      "<a class=\"l\" data-dest-detail='[443,\"XYZ\",72,362.71,null]' href=\"#pf1bb\"><div class=\"d m1\" style=\"border-style:none;position:absolute;left:184.799247px;bottom:331.528773px;width:15.751000px;height:7.555000px;background-color:rgba(255,255,255,0.000001);\"></div></a>\n",
      "<a class=\"l\" data-dest-detail='[443,\"XYZ\",72,470.41,null]' href=\"#pf1bb\"><div class=\"d m1\" style=\"border-style:none;position:absolute;left:447.685204px;bottom:1203.409864px;width:15.751000px;height:7.555000px;background-color:rgba(255,255,255,0.000001);\"></div></a>\n",
      "<a class=\"l\" data-dest-detail='[157,\"XYZ\",269.56,217.93,null]' href=\"#pf9d\"><div class=\"d m1\" style=\"border-style:none;position:absolute;left:705.938664px;bottom:936.158043px;width:18.376000px;height:7.429000px;background-color:rgba(255,255,255,0.000001);\"></div></a>\n",
      "<a class=\"l\" data-dest-detail='[443,\"XYZ\",72,319.57,null]' href=\"#pf1bb\"><div class=\"d m1\" style=\"border-style:none;position:absolute;left:165.995753px;bottom:1207.491896px;width:15.751000px;height:7.219000px;background-color:rgba(255,255,255,0.000001);\"></div></a>\n",
      "<a class=\"l\" data-dest-detail='[443,\"XYZ\",72,273.86,null]' href=\"#pf1bb\"><div class=\"d m1\" style=\"border-style:none;position:absolute;left:223.183766px;bottom:1203.409864px;width:15.751000px;height:7.555000px;background-color:rgba(255,255,255,0.000001);\"></div></a>\n",
      "<a class=\"l\" data-dest-detail='[443,\"XYZ\",72,319.57,null]' href=\"#pf1bb\"><div class=\"d m1\" style=\"border-style:none;position:absolute;left:129.869856px;bottom:1174.973256px;width:15.751000px;height:7.219000px;background-color:rgba(255,255,255,0.000001);\"></div></a>\n",
      "<a class=\"l\" data-dest-detail='[443,\"XYZ\",72,273.86,null]' href=\"#pf1bb\"><div class=\"d m1\" style=\"border-style:none;position:absolute;left:577.018358px;bottom:1170.891224px;width:15.751000px;height:7.555000px;background-color:rgba(255,255,255,0.000001);\"></div></a>\n",
      "<a class=\"l\" href=\"http://people.sissa.it/~laio/index.html\"><div class=\"d m1\" style=\"border-style:none;position:absolute;left:434.212606px;bottom:1191.507808px;width:76.608000px;height:7.582000px;background-color:rgba(255,255,255,0.000001);\"></div></a>\n",
      "<a class=\"l\" data-dest-detail='[435,\"XYZ\",72,603.38,null]' href=\"#pf1b3\"><div class=\"d m1\" style=\"border-style:none;position:absolute;left:226.034135px;bottom:1158.999489px;width:5.250000px;height:5.182000px;background-color:rgba(255,255,255,0.000001);\"></div></a>\n",
      "<a class=\"l\" data-dest-detail='[435,\"XYZ\",72,603.38,null]' href=\"#pf1b3\"><div class=\"d m1\" style=\"border-style:none;position:absolute;left:624.005591px;bottom:699.341701px;width:5.250000px;height:5.182000px;background-color:rgba(255,255,255,0.000001);\"></div></a>\n",
      "<a class=\"l\" data-dest-detail='[162,\"XYZ\",262.12,425.51,null]' href=\"#pfa2\"><div class=\"d m1\" style=\"border-style:none;position:absolute;left:604.627550px;bottom:1088.868700px;width:18.376000px;height:7.556000px;background-color:rgba(255,255,255,0.000001);\"></div></a>\n",
      "<a class=\"l\" data-dest-detail='[162,\"XYZ\",262.12,425.51,null]' href=\"#pfa2\"><div class=\"d m1\" style=\"border-style:none;position:absolute;left:635.904206px;bottom:1056.350060px;width:18.376000px;height:7.555000px;background-color:rgba(255,255,255,0.000001);\"></div></a>\n",
      "<a class=\"l\" data-dest-detail='[163,\"XYZ\",139.72,326.07,null]' href=\"#pfa3\"><div class=\"d m1\" style=\"border-style:none;position:absolute;left:685.578390px;bottom:1056.350060px;width:18.376000px;height:7.555000px;background-color:rgba(255,255,255,0.000001);\"></div></a>\n",
      "<a class=\"l\" data-dest-detail='[435,\"XYZ\",72,603.38,null]' href=\"#pf1b3\"><div class=\"d m1\" style=\"border-style:none;position:absolute;left:834.559656px;bottom:528.276522px;width:5.250000px;height:5.182000px;background-color:rgba(255,255,255,0.000001);\"></div></a>\n",
      "<a class=\"l\" data-dest-detail='[443,\"XYZ\",72,210.46,null]' href=\"#pf1bb\"><div class=\"d m1\" style=\"border-style:none;position:absolute;left:493.657519px;bottom:905.562586px;width:15.751000px;height:5.183000px;background-color:rgba(255,255,255,0.000001);\"></div></a>\n",
      "<a class=\"l\" data-dest-detail='[167,\"XYZ\",224.04,406.26,null]' href=\"#pfa7\"><div class=\"d m1\" style=\"border-style:none;position:absolute;left:238.247547px;bottom:437.121462px;width:23.627000px;height:7.225000px;background-color:rgba(255,255,255,0.000001);\"></div></a>\n",
      "<a class=\"l\" data-dest-detail='[167,\"XYZ\",194.31,471.36,null]' href=\"#pfa7\"><div class=\"d m1\" style=\"border-style:none;position:absolute;left:274.375165px;bottom:331.790243px;width:23.626000px;height:9.592000px;background-color:rgba(255,255,255,0.000001);\"></div></a>\n",
      "<a class=\"l\" data-dest-detail='[167,\"XYZ\",224.04,406.26,null]' href=\"#pfa7\"><div class=\"d m1\" style=\"border-style:none;position:absolute;left:292.437253px;bottom:216.220400px;width:23.627000px;height:7.225000px;background-color:rgba(255,255,255,0.000001);\"></div></a>\n",
      "<a class=\"l\" data-dest-detail='[166,\"XYZ\",207.27,404.19,null]' href=\"#pfa6\"><div class=\"d m1\" style=\"border-style:none;position:absolute;left:453.489155px;bottom:216.220400px;width:23.626000px;height:7.225000px;background-color:rgba(255,255,255,0.000001);\"></div></a>\n",
      "<a class=\"l\" data-dest-detail='[167,\"XYZ\",106.13,117.18,null]' href=\"#pfa7\"><div class=\"d m1\" style=\"border-style:none;position:absolute;left:238.247547px;bottom:1046.830480px;width:23.627000px;height:7.224000px;background-color:rgba(255,255,255,0.000001);\"></div></a>\n",
      "<a class=\"l\" data-dest-detail='[168,\"XYZ\",85.51,477.63,null]' href=\"#pfa8\"><div class=\"d m1\" style=\"border-style:none;position:absolute;left:238.247547px;bottom:322.698992px;width:23.627000px;height:9.593000px;background-color:rgba(255,255,255,0.000001);\"></div></a>\n",
      "<a class=\"l\" data-dest-detail='[167,\"XYZ\",106.13,117.18,null]' href=\"#pfa7\"><div class=\"d m1\" style=\"border-style:none;position:absolute;left:308.983846px;bottom:326.772423px;width:23.626000px;height:7.225000px;background-color:rgba(255,255,255,0.000001);\"></div></a>\n",
      "<a class=\"l\" data-dest-detail='[443,\"XYZ\",72,147.13,null]' href=\"#pf1bb\"><div class=\"d m1\" style=\"border-style:none;position:absolute;left:259.731111px;bottom:459.614783px;width:15.751000px;height:5.182000px;background-color:rgba(255,255,255,0.000001);\"></div></a>\n",
      "<a class=\"l\" data-dest-detail='[444,\"XYZ\",72,740.93,null]' href=\"#pf1bc\"><div class=\"d m1\" style=\"border-style:none;position:absolute;left:223.003145px;bottom:427.096143px;width:15.751000px;height:5.182000px;background-color:rgba(255,255,255,0.000001);\"></div></a>\n",
      "<a class=\"l\" data-dest-detail='[444,\"XYZ\",72,705.54,null]' href=\"#pf1bc\"><div class=\"d m1\" style=\"border-style:none;position:absolute;left:511.416853px;bottom:289.628168px;width:15.751000px;height:7.555000px;background-color:rgba(255,255,255,0.000001);\"></div></a>\n",
      "<a class=\"l\" data-dest-detail='[444,\"XYZ\",72,661.07,null]' href=\"#pf1bc\"><div class=\"d m1\" style=\"border-style:none;position:absolute;left:548.284155px;bottom:289.628168px;width:15.751000px;height:7.555000px;background-color:rgba(255,255,255,0.000001);\"></div></a>\n",
      "<a class=\"l\" data-dest-detail='[444,\"XYZ\",72,616.14,null]' href=\"#pf1bc\"><div class=\"d m1\" style=\"border-style:none;position:absolute;left:129.869856px;bottom:993.069104px;width:15.751000px;height:7.555000px;background-color:rgba(255,255,255,0.000001);\"></div></a>\n",
      "<a class=\"l\" data-dest-detail='[444,\"XYZ\",72,570.79,null]' href=\"#pf1bc\"><div class=\"d m1\" style=\"border-style:none;position:absolute;left:240.414998px;bottom:964.632496px;width:15.751000px;height:7.219000px;background-color:rgba(255,255,255,0.000001);\"></div></a>\n",
      "<a class=\"l\" data-dest-detail='[444,\"XYZ\",72,525.79,null]' href=\"#pf1bc\"><div class=\"d m1\" style=\"border-style:none;position:absolute;left:859.261712px;bottom:895.513184px;width:15.751000px;height:7.555000px;background-color:rgba(255,255,255,0.000001);\"></div></a>\n",
      "<a class=\"l\" data-dest-detail='[444,\"XYZ\",72,480.91,null]' href=\"#pf1bc\"><div class=\"d m1\" style=\"border-style:none;position:absolute;left:728.820750px;bottom:639.444376px;width:15.751000px;height:7.219000px;background-color:rgba(255,255,255,0.000001);\"></div></a>\n",
      "<a class=\"l\" data-dest-detail='[444,\"XYZ\",72,455.74,null]' href=\"#pf1bc\"><div class=\"d m1\" style=\"border-style:none;position:absolute;left:707.891090px;bottom:537.806424px;width:15.751000px;height:7.555000px;background-color:rgba(255,255,255,0.000001);\"></div></a>\n",
      "<a class=\"l\" data-dest-detail='[174,\"XYZ\",91.56,630.91,null]' href=\"#pfae\"><div class=\"d m1\" style=\"border-style:none;position:absolute;left:542.301304px;bottom:909.839000px;width:23.626000px;height:9.592000px;background-color:rgba(255,255,255,0.000001);\"></div></a>\n",
      "<a class=\"l\" data-dest-detail='[173,\"XYZ\",93.09,709.24,null]' href=\"#pfad\"><div class=\"d m1\" style=\"border-style:none;position:absolute;left:184.119769px;bottom:376.221261px;width:23.627000px;height:9.592000px;background-color:rgba(255,255,255,0.000001);\"></div></a>\n",
      "<a class=\"l\" data-dest-detail='[173,\"XYZ\",93.09,709.24,null]' href=\"#pfad\"><div class=\"d m1\" style=\"border-style:none;position:absolute;left:258.437522px;bottom:242.881763px;width:23.626000px;height:9.592000px;background-color:rgba(255,255,255,0.000001);\"></div></a>\n",
      "<a class=\"l\" data-dest-detail='[444,\"XYZ\",72,410.35,null]' href=\"#pf1bc\"><div class=\"d m1\" style=\"border-style:none;position:absolute;left:830.532670px;bottom:242.881763px;width:15.751000px;height:7.555000px;background-color:rgba(255,255,255,0.000001);\"></div></a>\n",
      "<a class=\"l\" data-dest-detail='[444,\"XYZ\",72,346.1,null]' href=\"#pf1bc\"><div class=\"d m1\" style=\"border-style:none;position:absolute;left:494.478054px;bottom:1064.135681px;width:15.750000px;height:7.555000px;background-color:rgba(255,255,255,0.000001);\"></div></a>\n",
      "<a class=\"l\" data-dest-detail='[444,\"XYZ\",72,301.1,null]' href=\"#pf1bc\"><div class=\"d m1\" style=\"border-style:none;position:absolute;left:532.116006px;bottom:1064.135681px;width:15.750000px;height:7.555000px;background-color:rgba(255,255,255,0.000001);\"></div></a>\n",
      "<a class=\"l\" data-dest-detail='[444,\"XYZ\",72,237.73,null]' href=\"#pf1bc\"><div class=\"d m1\" style=\"border-style:none;position:absolute;left:569.753958px;bottom:1064.135681px;width:15.750000px;height:7.555000px;background-color:rgba(255,255,255,0.000001);\"></div></a>\n",
      "<a class=\"l\" data-dest-detail='[444,\"XYZ\",72,192.39,null]' href=\"#pf1bc\"><div class=\"d m1\" style=\"border-style:none;position:absolute;left:607.391910px;bottom:1064.135681px;width:15.750000px;height:7.555000px;background-color:rgba(255,255,255,0.000001);\"></div></a>\n",
      "<a class=\"l\" data-dest-detail='[444,\"XYZ\",72,128.48,null]' href=\"#pf1bc\"><div class=\"d m1\" style=\"border-style:none;position:absolute;left:509.201236px;bottom:1031.617041px;width:15.751000px;height:7.555000px;background-color:rgba(255,255,255,0.000001);\"></div></a>\n",
      "<a class=\"l\" data-dest-detail='[445,\"XYZ\",72,740.93,null]' href=\"#pf1bd\"><div class=\"d m1\" style=\"border-style:none;position:absolute;left:792.211799px;bottom:1031.617041px;width:15.751000px;height:9.592000px;background-color:rgba(255,255,255,0.000001);\"></div></a>\n",
      "<a class=\"l\" data-dest-detail='[441,\"XYZ\",72,478.22,null]' href=\"#pf1b9\"><div class=\"d m1\" style=\"border-style:none;position:absolute;left:328.563150px;bottom:938.143153px;width:10.501000px;height:7.219000px;background-color:rgba(255,255,255,0.000001);\"></div></a>\n",
      "<a class=\"l\" data-dest-detail='[445,\"XYZ\",72,686.02,null]' href=\"#pf1bd\"><div class=\"d m1\" style=\"border-style:none;position:absolute;left:202.121650px;bottom:802.460745px;width:15.751000px;height:7.555000px;background-color:rgba(255,255,255,0.000001);\"></div></a>\n",
      "<a class=\"l\" data-dest-detail='[445,\"XYZ\",72,657.35,null]' href=\"#pf1bd\"><div class=\"d m1\" style=\"border-style:none;position:absolute;left:238.988953px;bottom:802.460745px;width:15.751000px;height:9.592000px;background-color:rgba(255,255,255,0.000001);\"></div></a>\n",
      "<a class=\"l\" data-dest-detail='[445,\"XYZ\",72,610.3,null]' href=\"#pf1bd\"><div class=\"d m1\" style=\"border-style:none;position:absolute;left:315.047547px;bottom:332.010429px;width:15.751000px;height:7.555000px;background-color:rgba(255,255,255,0.000001);\"></div></a>\n",
      "<a class=\"l\" data-dest-detail='[445,\"XYZ\",72,563.13,null]' href=\"#pf1bd\"><div class=\"d m1\" style=\"border-style:none;position:absolute;left:202.742642px;bottom:346.423975px;width:15.751000px;height:7.555000px;background-color:rgba(255,255,255,0.000001);\"></div></a>\n",
      "<a class=\"l\" data-dest-detail='[445,\"XYZ\",72,610.3,null]' href=\"#pf1bd\"><div class=\"d m1\" style=\"border-style:none;position:absolute;left:501.499906px;bottom:313.905335px;width:15.751000px;height:7.555000px;background-color:rgba(255,255,255,0.000001);\"></div></a>\n",
      "<a class=\"l\" data-dest-detail='[445,\"XYZ\",72,563.13,null]' href=\"#pf1bd\"><div class=\"d m1\" style=\"border-style:none;position:absolute;left:542.977342px;bottom:150.746190px;width:15.751000px;height:7.555000px;background-color:rgba(255,255,255,0.000001);\"></div></a>\n",
      "<a class=\"l\" data-dest-detail='[445,\"XYZ\",72,516.09,null]' href=\"#pf1bd\"><div class=\"d m1\" style=\"border-style:none;position:absolute;left:466.791453px;bottom:1188.182664px;width:15.751000px;height:7.555000px;background-color:rgba(255,255,255,0.000001);\"></div></a>\n",
      "<a class=\"l\" data-dest-detail='[445,\"XYZ\",72,487.82,null]' href=\"#pf1bd\"><div class=\"d m1\" style=\"border-style:none;position:absolute;left:505.315307px;bottom:1188.182664px;width:15.751000px;height:7.555000px;background-color:rgba(255,255,255,0.000001);\"></div></a>\n",
      "<a class=\"l\" data-dest-detail='[445,\"XYZ\",72,440.72,null]' href=\"#pf1bd\"><div class=\"d m1\" style=\"border-style:none;position:absolute;left:212.382637px;bottom:1155.664024px;width:15.750000px;height:7.555000px;background-color:rgba(255,255,255,0.000001);\"></div></a>\n",
      "<a class=\"l\" data-dest-detail='[445,\"XYZ\",72,610.3,null]' href=\"#pf1bd\"><div class=\"d m1\" style=\"border-style:none;position:absolute;left:672.504878px;bottom:1155.664024px;width:15.751000px;height:7.555000px;background-color:rgba(255,255,255,0.000001);\"></div></a>\n",
      "<a class=\"l\" data-dest-detail='[445,\"XYZ\",72,393.61,null]' href=\"#pf1bd\"><div class=\"d m1\" style=\"border-style:none;position:absolute;left:340.466926px;bottom:990.094880px;width:15.751000px;height:7.555000px;background-color:rgba(255,255,255,0.000001);\"></div></a>\n",
      "<a class=\"l\" data-dest-detail='[445,\"XYZ\",72,309.17,null]' href=\"#pf1bd\"><div class=\"d m1\" style=\"border-style:none;position:absolute;left:147.931945px;bottom:521.234028px;width:15.751000px;height:7.555000px;background-color:rgba(255,255,255,0.000001);\"></div></a>\n",
      "<a class=\"l\" data-dest-detail='[445,\"XYZ\",72,261.59,null]' href=\"#pf1bd\"><div class=\"d m1\" style=\"border-style:none;position:absolute;left:184.886978px;bottom:521.234028px;width:15.751000px;height:9.593000px;background-color:rgba(255,255,255,0.000001);\"></div></a>\n",
      "<a class=\"l\" data-dest-detail='[445,\"XYZ\",72,196.05,null]' href=\"#pf1bd\"><div class=\"d m1\" style=\"border-style:none;position:absolute;left:221.842010px;bottom:521.234028px;width:15.751000px;height:7.555000px;background-color:rgba(255,255,255,0.000001);\"></div></a>\n",
      "<a class=\"l\" data-dest-detail='[445,\"XYZ\",72,148.47,null]' href=\"#pf1bd\"><div class=\"d m1\" style=\"border-style:none;position:absolute;left:659.839054px;bottom:521.234028px;width:15.751000px;height:9.593000px;background-color:rgba(255,255,255,0.000001);\"></div></a>\n",
      "<a class=\"l\" data-dest-detail='[445,\"XYZ\",72,261.59,null]' href=\"#pf1bd\"><div class=\"d m1\" style=\"border-style:none;position:absolute;left:129.869856px;bottom:488.715388px;width:15.751000px;height:9.592000px;background-color:rgba(255,255,255,0.000001);\"></div></a>\n",
      "<a class=\"l\" data-dest-detail='[446,\"XYZ\",72,740.93,null]' href=\"#pf1be\"><div class=\"d m1\" style=\"border-style:none;position:absolute;left:391.512109px;bottom:353.564521px;width:15.751000px;height:7.555000px;background-color:rgba(255,255,255,0.000001);\"></div></a>\n",
      "<a class=\"l\" data-dest-detail='[184,\"XYZ\",253.81,532.54,null]' href=\"#pfb8\"><div class=\"d m1\" style=\"border-style:none;position:absolute;left:270.673297px;bottom:183.264830px;width:18.376000px;height:7.555000px;background-color:rgba(255,255,255,0.000001);\"></div></a>\n",
      "<a class=\"l\" data-dest-detail='[446,\"XYZ\",72,705.6,null]' href=\"#pf1be\"><div class=\"d m1\" style=\"border-style:none;position:absolute;left:129.869856px;bottom:458.087246px;width:15.751000px;height:7.555000px;background-color:rgba(255,255,255,0.000001);\"></div></a>\n",
      "<a class=\"l\" data-dest-detail='[446,\"XYZ\",72,660.6,null]' href=\"#pf1be\"><div class=\"d m1\" style=\"border-style:none;position:absolute;left:378.602016px;bottom:366.763607px;width:15.751000px;height:7.555000px;background-color:rgba(255,255,255,0.000001);\"></div></a>\n",
      "<a class=\"l\" data-dest-detail='[446,\"XYZ\",72,615.66,null]' href=\"#pf1be\"><div class=\"d m1\" style=\"border-style:none;position:absolute;left:775.627362px;bottom:221.565058px;width:15.751000px;height:7.555000px;background-color:rgba(255,255,255,0.000001);\"></div></a>\n",
      "<a class=\"l\" data-dest-detail='[445,\"XYZ\",72,487.82,null]' href=\"#pf1bd\"><div class=\"d m1\" style=\"border-style:none;position:absolute;left:364.690767px;bottom:189.046418px;width:15.751000px;height:7.555000px;background-color:rgba(255,255,255,0.000001);\"></div></a>\n",
      "<a class=\"l\" data-dest-detail='[446,\"XYZ\",72,589.63,null]' href=\"#pf1be\"><div class=\"d m1\" style=\"border-style:none;position:absolute;left:346.917672px;bottom:1187.436097px;width:15.751000px;height:7.555000px;background-color:rgba(255,255,255,0.000001);\"></div></a>\n",
      "<a class=\"l\" data-dest-detail='[446,\"XYZ\",72,481.32,null]' href=\"#pf1be\"><div class=\"d m1\" style=\"border-style:none;position:absolute;left:418.913157px;bottom:1154.915737px;width:15.751000px;height:7.556000px;background-color:rgba(255,255,255,0.000001);\"></div></a>\n",
      "<a class=\"l\" data-dest-detail='[446,\"XYZ\",72,417.01,null]' href=\"#pf1be\"><div class=\"d m1\" style=\"border-style:none;position:absolute;left:367.434485px;bottom:927.285257px;width:15.751000px;height:9.592000px;background-color:rgba(255,255,255,0.000001);\"></div></a>\n",
      "<a class=\"l\" data-dest-detail='[446,\"XYZ\",72,390.98,null]' href=\"#pf1be\"><div class=\"d m1\" style=\"border-style:none;position:absolute;left:541.301868px;bottom:894.766617px;width:15.751000px;height:7.555000px;background-color:rgba(255,255,255,0.000001);\"></div></a>\n",
      "<a class=\"l\" data-dest-detail='[446,\"XYZ\",72,346.51,null]' href=\"#pf1be\"><div class=\"d m1\" style=\"border-style:none;position:absolute;left:682.918963px;bottom:829.727617px;width:15.751000px;height:9.593000px;background-color:rgba(255,255,255,0.000001);\"></div></a>\n",
      "<a class=\"l\" data-dest-detail='[446,\"XYZ\",72,282.2,null]' href=\"#pf1be\"><div class=\"d m1\" style=\"border-style:none;position:absolute;left:720.507029px;bottom:829.727617px;width:15.751000px;height:7.556000px;background-color:rgba(255,255,255,0.000001);\"></div></a>\n",
      "<a class=\"l\" data-dest-detail='[446,\"XYZ\",72,218.83,null]' href=\"#pf1be\"><div class=\"d m1\" style=\"border-style:none;position:absolute;left:857.636124px;bottom:801.292729px;width:15.751000px;height:7.219000px;background-color:rgba(255,255,255,0.000001);\"></div></a>\n",
      "<a class=\"l\" data-dest-detail='[446,\"XYZ\",72,173.42,null]' href=\"#pf1be\"><div class=\"d m1\" style=\"border-style:none;position:absolute;left:189.584841px;bottom:736.253729px;width:15.751000px;height:7.219000px;background-color:rgba(255,255,255,0.000001);\"></div></a>\n",
      "<a class=\"l\" data-dest-detail='[446,\"XYZ\",72,218.83,null]' href=\"#pf1be\"><div class=\"d m1\" style=\"border-style:none;position:absolute;left:238.247547px;bottom:703.735089px;width:15.751000px;height:7.219000px;background-color:rgba(255,255,255,0.000001);\"></div></a>\n",
      "<a class=\"l\" data-dest-detail='[446,\"XYZ\",72,128.48,null]' href=\"#pf1be\"><div class=\"d m1\" style=\"border-style:none;position:absolute;left:275.114850px;bottom:703.735089px;width:15.751000px;height:7.219000px;background-color:rgba(255,255,255,0.000001);\"></div></a>\n",
      "<a class=\"l\" data-dest-detail='[447,\"XYZ\",72,740.93,null]' href=\"#pf1bf\"><div class=\"d m1\" style=\"border-style:none;position:absolute;left:368.428760px;bottom:699.653057px;width:15.751000px;height:9.592000px;background-color:rgba(255,255,255,0.000001);\"></div></a>\n",
      "<a class=\"l\" data-dest-detail='[447,\"XYZ\",72,704.56,null]' href=\"#pf1bf\"><div class=\"d m1\" style=\"border-style:none;position:absolute;left:497.870286px;bottom:699.653057px;width:15.751000px;height:9.592000px;background-color:rgba(255,255,255,0.000001);\"></div></a>\n",
      "<a class=\"l\" data-dest-detail='[447,\"XYZ\",72,656.24,null]' href=\"#pf1bf\"><div class=\"d m1\" style=\"border-style:none;position:absolute;left:534.735869px;bottom:699.653057px;width:15.751000px;height:9.592000px;background-color:rgba(255,255,255,0.000001);\"></div></a>\n",
      "<a class=\"l\" data-dest-detail='[446,\"XYZ\",72,545.17,null]' href=\"#pf1be\"><div class=\"d m1\" style=\"border-style:none;position:absolute;left:445.378417px;bottom:167.232576px;width:11.253000px;height:5.398000px;background-color:rgba(255,255,255,0.000001);\"></div></a>\n",
      "<a class=\"l\" data-dest-detail='[447,\"XYZ\",72,589.49,null]' href=\"#pf1bf\"><div class=\"d m1\" style=\"border-style:none;position:absolute;left:486.742320px;bottom:646.688133px;width:15.751000px;height:7.219000px;background-color:rgba(255,255,255,0.000001);\"></div></a>\n",
      "<a class=\"l\" data-dest-detail='[447,\"XYZ\",72,541.71,null]' href=\"#pf1bf\"><div class=\"d m1\" style=\"border-style:none;position:absolute;left:710.048219px;bottom:183.264830px;width:15.751000px;height:9.592000px;background-color:rgba(255,255,255,0.000001);\"></div></a>\n",
      "<a class=\"l\" data-dest-detail='[446,\"XYZ\",72,128.48,null]' href=\"#pf1be\"><div class=\"d m1\" style=\"border-style:none;position:absolute;left:596.740438px;bottom:154.828222px;width:15.751000px;height:7.219000px;background-color:rgba(255,255,255,0.000001);\"></div></a>\n",
      "<a class=\"l\" data-dest-detail='[447,\"XYZ\",72,512.7,null]' href=\"#pf1bf\"><div class=\"d m1\" style=\"border-style:none;position:absolute;left:281.328209px;bottom:1257.301976px;width:15.751000px;height:7.219000px;background-color:rgba(255,255,255,0.000001);\"></div></a>\n",
      "<a class=\"l\" data-dest-detail='[445,\"XYZ\",72,516.09,null]' href=\"#pf1bd\"><div class=\"d m1\" style=\"border-style:none;position:absolute;left:764.389303px;bottom:1086.405376px;width:15.751000px;height:7.555000px;background-color:rgba(255,255,255,0.000001);\"></div></a>\n",
      "<a class=\"l\" data-dest-detail='[447,\"XYZ\",72,465.33,null]' href=\"#pf1bf\"><div class=\"d m1\" style=\"border-style:none;position:absolute;left:848.367693px;bottom:474.780056px;width:15.751000px;height:9.566000px;background-color:rgba(255,255,255,0.000001);\"></div></a>\n",
      "<a class=\"l\" data-dest-detail='[447,\"XYZ\",72,417.07,null]' href=\"#pf1bf\"><div class=\"d m1\" style=\"border-style:none;position:absolute;left:356.418331px;bottom:340.203736px;width:15.751000px;height:7.556000px;background-color:rgba(255,255,255,0.000001);\"></div></a>\n",
      "<a class=\"l\" data-dest-detail='[447,\"XYZ\",72,388.07,null]' href=\"#pf1bf\"><div class=\"d m1\" style=\"border-style:none;position:absolute;left:793.360892px;bottom:1187.436097px;width:15.751000px;height:7.555000px;background-color:rgba(255,255,255,0.000001);\"></div></a>\n",
      "<a class=\"l\" data-dest-detail='[447,\"XYZ\",72,340.28,null]' href=\"#pf1bf\"><div class=\"d m1\" style=\"border-style:none;position:absolute;left:830.598038px;bottom:1187.436097px;width:15.751000px;height:7.555000px;background-color:rgba(255,255,255,0.000001);\"></div></a>\n",
      "<a class=\"l\" data-dest-detail='[447,\"XYZ\",72,273.94,null]' href=\"#pf1bf\"><div class=\"d m1\" style=\"border-style:none;position:absolute;left:497.717189px;bottom:665.001371px;width:15.751000px;height:7.555000px;background-color:rgba(255,255,255,0.000001);\"></div></a>\n",
      "<a class=\"l\" data-dest-detail='[447,\"XYZ\",72,225.63,null]' href=\"#pf1bf\"><div class=\"d m1\" style=\"border-style:none;position:absolute;left:272.240398px;bottom:183.264830px;width:15.751000px;height:7.555000px;background-color:rgba(255,255,255,0.000001);\"></div></a>\n",
      "<a class=\"l\" data-dest-detail='[447,\"XYZ\",72,177.84,null]' href=\"#pf1bf\"><div class=\"d m1\" style=\"border-style:none;position:absolute;left:576.055046px;bottom:297.871361px;width:15.751000px;height:7.555000px;background-color:rgba(255,255,255,0.000001);\"></div></a>\n",
      "<a class=\"l\" data-dest-detail='[442,\"XYZ\",72,638.44,null]' href=\"#pf1ba\"><div class=\"d m1\" style=\"border-style:none;position:absolute;left:536.849993px;bottom:1203.112270px;width:10.500000px;height:9.592000px;background-color:rgba(255,255,255,0.000001);\"></div></a>\n",
      "<a class=\"l\" data-dest-detail='[447,\"XYZ\",72,129.93,null]' href=\"#pf1bf\"><div class=\"d m1\" style=\"border-style:none;position:absolute;left:883.138073px;bottom:1002.409784px;width:15.751000px;height:9.592000px;background-color:rgba(255,255,255,0.000001);\"></div></a>\n",
      "<a class=\"l\" data-dest-detail='[448,\"XYZ\",72,740.93,null]' href=\"#pf1c0\"><div class=\"d m1\" style=\"border-style:none;position:absolute;left:709.607848px;bottom:232.218250px;width:15.751000px;height:7.555000px;background-color:rgba(255,255,255,0.000001);\"></div></a>\n",
      "<a class=\"l\" data-dest-detail='[448,\"XYZ\",72,705.81,null]' href=\"#pf1c0\"><div class=\"d m1\" style=\"border-style:none;position:absolute;left:210.972074px;bottom:199.699610px;width:15.751000px;height:9.592000px;background-color:rgba(255,255,255,0.000001);\"></div></a>\n",
      "<a class=\"l\" data-dest-detail='[448,\"XYZ\",72,642.33,null]' href=\"#pf1c0\"><div class=\"d m1\" style=\"border-style:none;position:absolute;left:515.228813px;bottom:199.699610px;width:15.751000px;height:7.555000px;background-color:rgba(255,255,255,0.000001);\"></div></a>\n",
      "<a class=\"l\" data-dest-detail='[448,\"XYZ\",72,597.88,null]' href=\"#pf1c0\"><div class=\"d m1\" style=\"border-style:none;position:absolute;left:836.481118px;bottom:203.781642px;width:15.751000px;height:7.219000px;background-color:rgba(255,255,255,0.000001);\"></div></a>\n",
      "<a class=\"l\" href=\"http://www.cnblogs.com/heaad/archive/2011/01/02/1924088.html\"><div class=\"d m1\" style=\"border-style:none;position:absolute;left:185.796963px;bottom:153.632684px;width:75.019000px;height:6.939000px;background-color:rgba(255,255,255,0.000001);\"></div></a>\n",
      "<a class=\"l\" data-dest-detail='[448,\"XYZ\",72,553.77,null]' href=\"#pf1c0\"><div class=\"d m1\" style=\"border-style:none;position:absolute;left:361.656337px;bottom:1127.227416px;width:15.751000px;height:7.219000px;background-color:rgba(255,255,255,0.000001);\"></div></a>\n",
      "<a class=\"l\" data-dest-detail='[448,\"XYZ\",72,490.35,null]' href=\"#pf1c0\"><div class=\"d m1\" style=\"border-style:none;position:absolute;left:511.958715px;bottom:1127.227416px;width:15.751000px;height:7.219000px;background-color:rgba(255,255,255,0.000001);\"></div></a>\n",
      "<a class=\"l\" data-dest-detail='[443,\"XYZ\",72,706.27,null]' href=\"#pf1bb\"><div class=\"d m1\" style=\"border-style:none;position:absolute;left:313.867491px;bottom:867.076576px;width:15.751000px;height:7.219000px;background-color:rgba(255,255,255,0.000001);\"></div></a>\n",
      "<a class=\"l\" data-dest-detail='[443,\"XYZ\",72,680.33,null]' href=\"#pf1bb\"><div class=\"d m1\" style=\"border-style:none;position:absolute;left:350.499126px;bottom:862.994544px;width:15.751000px;height:7.555000px;background-color:rgba(255,255,255,0.000001);\"></div></a>\n",
      "<a class=\"l\" data-dest-detail='[443,\"XYZ\",72,610.32,null]' href=\"#pf1bb\"><div class=\"d m1\" style=\"border-style:none;position:absolute;left:578.690391px;bottom:867.076576px;width:15.751000px;height:5.182000px;background-color:rgba(255,255,255,0.000001);\"></div></a>\n",
      "<a class=\"l\" data-dest-detail='[448,\"XYZ\",72,553.77,null]' href=\"#pf1c0\"><div class=\"d m1\" style=\"border-style:none;position:absolute;left:553.539363px;bottom:700.145034px;width:15.750000px;height:7.220000px;background-color:rgba(255,255,255,0.000001);\"></div></a>\n",
      "<a class=\"l\" data-dest-detail='[448,\"XYZ\",72,426.93,null]' href=\"#pf1c0\"><div class=\"d m1\" style=\"border-style:none;position:absolute;left:555.426421px;bottom:334.019621px;width:15.751000px;height:9.592000px;background-color:rgba(255,255,255,0.000001);\"></div></a>\n",
      "<a class=\"l\" data-dest-detail='[194,\"XYZ\",226.05,150.47,null]' href=\"#pfc2\"><div class=\"d m1\" style=\"border-style:none;position:absolute;left:202.121650px;bottom:1155.664024px;width:23.627000px;height:7.555000px;background-color:rgba(255,255,255,0.000001);\"></div></a>\n",
      "<a class=\"l\" data-dest-detail='[195,\"XYZ\",221.06,645.38,null]' href=\"#pfc3\"><div class=\"d m1\" style=\"border-style:none;position:absolute;left:547.787018px;bottom:957.206397px;width:23.627000px;height:7.555000px;background-color:rgba(255,255,255,0.000001);\"></div></a>\n",
      "<a class=\"l\" data-dest-detail='[448,\"XYZ\",72,426.93,null]' href=\"#pf1c0\"><div class=\"d m1\" style=\"border-style:none;position:absolute;left:201.523021px;bottom:892.167397px;width:15.751000px;height:9.593000px;background-color:rgba(255,255,255,0.000001);\"></div></a>\n",
      "<a class=\"l\" data-dest-detail='[448,\"XYZ\",72,426.93,null]' href=\"#pf1c0\"><div class=\"d m1\" style=\"border-style:none;position:absolute;left:274.375165px;bottom:342.944013px;width:15.751000px;height:9.592000px;background-color:rgba(255,255,255,0.000001);\"></div></a>\n",
      "<a class=\"l\" data-dest-detail='[195,\"XYZ\",221.06,645.38,null]' href=\"#pfc3\"><div class=\"d m1\" style=\"border-style:none;position:absolute;left:694.017686px;bottom:342.944013px;width:23.627000px;height:7.555000px;background-color:rgba(255,255,255,0.000001);\"></div></a>\n",
      "<a class=\"l\" data-dest-detail='[195,\"XYZ\",226.86,118.77,null]' href=\"#pfc3\"><div class=\"d m1\" style=\"border-style:none;position:absolute;left:328.564870px;bottom:1113.866631px;width:23.626000px;height:7.555000px;background-color:rgba(255,255,255,0.000001);\"></div></a>\n",
      "<a class=\"l\" data-dest-detail='[195,\"XYZ\",221.06,645.38,null]' href=\"#pfc3\"><div class=\"d m1\" style=\"border-style:none;position:absolute;left:368.700551px;bottom:1002.471711px;width:23.626000px;height:7.555000px;background-color:rgba(255,255,255,0.000001);\"></div></a>\n",
      "<a class=\"l\" data-dest-detail='[448,\"XYZ\",72,426.93,null]' href=\"#pf1c0\"><div class=\"d m1\" style=\"border-style:none;position:absolute;left:204.746674px;bottom:937.434431px;width:15.751000px;height:9.592000px;background-color:rgba(255,255,255,0.000001);\"></div></a>\n",
      "<a class=\"l\" data-dest-detail='[448,\"XYZ\",72,363.04,null]' href=\"#pf1c0\"><div class=\"d m1\" style=\"border-style:none;position:absolute;left:386.122725px;bottom:774.841231px;width:15.751000px;height:9.592000px;background-color:rgba(255,255,255,0.000001);\"></div></a>\n",
      "<a class=\"l\" data-dest-detail='[448,\"XYZ\",72,553.77,null]' href=\"#pf1c0\"><div class=\"d m1\" style=\"border-style:none;position:absolute;left:720.451982px;bottom:778.923263px;width:15.751000px;height:7.219000px;background-color:rgba(255,255,255,0.000001);\"></div></a>\n",
      "<a class=\"l\" data-dest-detail='[448,\"XYZ\",72,300.1,null]' href=\"#pf1c0\"><div class=\"d m1\" style=\"border-style:none;position:absolute;left:808.908050px;bottom:640.342320px;width:15.751000px;height:9.592000px;background-color:rgba(255,255,255,0.000001);\"></div></a>\n",
      "<a class=\"l\" data-dest-detail='[448,\"XYZ\",72,236.27,null]' href=\"#pf1c0\"><div class=\"d m1\" style=\"border-style:none;position:absolute;left:518.705335px;bottom:737.672893px;width:15.750000px;height:7.219000px;background-color:rgba(255,255,255,0.000001);\"></div></a>\n",
      "<a class=\"l\" data-dest-detail='[448,\"XYZ\",72,191.69,null]' href=\"#pf1c0\"><div class=\"d m1\" style=\"border-style:none;position:absolute;left:147.931945px;bottom:250.166806px;width:15.751000px;height:9.592000px;background-color:rgba(255,255,255,0.000001);\"></div></a>\n",
      "<a class=\"l\" data-dest-detail='[448,\"XYZ\",72,128.27,null]' href=\"#pf1c0\"><div class=\"d m1\" style=\"border-style:none;position:absolute;left:184.799247px;bottom:254.248838px;width:15.751000px;height:7.219000px;background-color:rgba(255,255,255,0.000001);\"></div></a>\n",
      "<a class=\"l\" data-dest-detail='[449,\"XYZ\",72,740.93,null]' href=\"#pf1c1\"><div class=\"d m1\" style=\"border-style:none;position:absolute;left:379.690902px;bottom:1081.378954px;width:15.751000px;height:9.592000px;background-color:rgba(255,255,255,0.000001);\"></div></a>\n",
      "<a class=\"l\" data-dest-detail='[449,\"XYZ\",72,685.56,null]' href=\"#pf1c1\"><div class=\"d m1\" style=\"border-style:none;position:absolute;left:418.381615px;bottom:1081.378954px;width:15.751000px;height:7.555000px;background-color:rgba(255,255,255,0.000001);\"></div></a>\n",
      "<a class=\"l\" data-dest-detail='[448,\"XYZ\",72,236.27,null]' href=\"#pf1c0\"><div class=\"d m1\" style=\"border-style:none;position:absolute;left:867.028410px;bottom:1052.942346px;width:15.751000px;height:7.219000px;background-color:rgba(255,255,255,0.000001);\"></div></a>\n",
      "<a class=\"l\" data-dest-detail='[448,\"XYZ\",72,128.27,null]' href=\"#pf1c0\"><div class=\"d m1\" style=\"border-style:none;position:absolute;left:295.285902px;bottom:714.278188px;width:15.751000px;height:7.219000px;background-color:rgba(255,255,255,0.000001);\"></div></a>\n",
      "<a class=\"l\" data-dest-detail='[449,\"XYZ\",72,619.58,null]' href=\"#pf1c1\"><div class=\"d m1\" style=\"border-style:none;position:absolute;left:147.931945px;bottom:645.158876px;width:15.751000px;height:7.555000px;background-color:rgba(255,255,255,0.000001);\"></div></a>\n",
      "<a class=\"l\" data-dest-detail='[449,\"XYZ\",72,553.6,null]' href=\"#pf1c1\"><div class=\"d m1\" style=\"border-style:none;position:absolute;left:184.799247px;bottom:645.158876px;width:15.751000px;height:7.555000px;background-color:rgba(255,255,255,0.000001);\"></div></a>\n",
      "<a class=\"l\" data-dest-detail='[449,\"XYZ\",72,487.62,null]' href=\"#pf1c1\"><div class=\"d m1\" style=\"border-style:none;position:absolute;left:221.666550px;bottom:645.158876px;width:15.751000px;height:7.555000px;background-color:rgba(255,255,255,0.000001);\"></div></a>\n",
      "<a class=\"l\" data-dest-detail='[449,\"XYZ\",72,421.64,null]' href=\"#pf1c1\"><div class=\"d m1\" style=\"border-style:none;position:absolute;left:258.533853px;bottom:645.158876px;width:15.750000px;height:7.555000px;background-color:rgba(255,255,255,0.000001);\"></div></a>\n",
      "<a class=\"l\" data-dest-detail='[448,\"XYZ\",72,128.27,null]' href=\"#pf1c0\"><div class=\"d m1\" style=\"border-style:none;position:absolute;left:129.869856px;bottom:945.108238px;width:15.751000px;height:7.219000px;background-color:rgba(255,255,255,0.000001);\"></div></a>\n",
      "<a class=\"l\" data-dest-detail='[449,\"XYZ\",72,355.66,null]' href=\"#pf1c1\"><div class=\"d m1\" style=\"border-style:none;position:absolute;left:626.752748px;bottom:1118.820804px;width:15.751000px;height:7.555000px;background-color:rgba(255,255,255,0.000001);\"></div></a>\n",
      "<a class=\"l\" data-dest-detail='[449,\"XYZ\",72,289.68,null]' href=\"#pf1c1\"><div class=\"d m1\" style=\"border-style:none;position:absolute;left:664.096546px;bottom:1118.820804px;width:15.751000px;height:9.592000px;background-color:rgba(255,255,255,0.000001);\"></div></a>\n",
      "<a class=\"l\" data-dest-detail='[449,\"XYZ\",72,243.08,null]' href=\"#pf1c1\"><div class=\"d m1\" style=\"border-style:none;position:absolute;left:701.440344px;bottom:1118.820804px;width:15.751000px;height:7.555000px;background-color:rgba(255,255,255,0.000001);\"></div></a>\n",
      "<a class=\"l\" data-dest-detail='[449,\"XYZ\",72,243.08,null]' href=\"#pf1c1\"><div class=\"d m1\" style=\"border-style:none;position:absolute;left:498.384626px;bottom:575.578551px;width:15.751000px;height:7.555000px;background-color:rgba(255,255,255,0.000001);\"></div></a>\n",
      "<a class=\"l\" data-dest-detail='[449,\"XYZ\",72,195.53,null]' href=\"#pf1c1\"><div class=\"d m1\" style=\"border-style:none;position:absolute;left:283.893025px;bottom:1122.397097px;width:15.751000px;height:9.593000px;background-color:rgba(255,255,255,0.000001);\"></div></a>\n",
      "<a class=\"l\" data-dest-detail='[449,\"XYZ\",72,148.52,null]' href=\"#pf1c1\"><div class=\"d m1\" style=\"border-style:none;position:absolute;left:320.818815px;bottom:1122.397097px;width:15.751000px;height:7.556000px;background-color:rgba(255,255,255,0.000001);\"></div></a>\n",
      "<a class=\"l\" data-dest-detail='[450,\"XYZ\",72,740.93,null]' href=\"#pf1c2\"><div class=\"d m1\" style=\"border-style:none;position:absolute;left:830.854348px;bottom:1126.480849px;width:15.750000px;height:5.182000px;background-color:rgba(255,255,255,0.000001);\"></div></a>\n",
      "<a class=\"l\" data-dest-detail='[450,\"XYZ\",72,703.59,null]' href=\"#pf1c2\"><div class=\"d m1\" style=\"border-style:none;position:absolute;left:540.297272px;bottom:1093.960489px;width:15.751000px;height:5.182000px;background-color:rgba(255,255,255,0.000001);\"></div></a>\n",
      "<a class=\"l\" data-dest-detail='[449,\"XYZ\",72,355.66,null]' href=\"#pf1c1\"><div class=\"d m1\" style=\"border-style:none;position:absolute;left:284.904502px;bottom:303.740680px;width:15.751000px;height:7.555000px;background-color:rgba(255,255,255,0.000001);\"></div></a>\n",
      "<a class=\"l\" data-dest-detail='[449,\"XYZ\",72,289.68,null]' href=\"#pf1c1\"><div class=\"d m1\" style=\"border-style:none;position:absolute;left:321.771805px;bottom:303.740680px;width:15.751000px;height:9.592000px;background-color:rgba(255,255,255,0.000001);\"></div></a>\n",
      "<a class=\"l\" data-dest-detail='[449,\"XYZ\",72,243.08,null]' href=\"#pf1c1\"><div class=\"d m1\" style=\"border-style:none;position:absolute;left:358.639108px;bottom:303.740680px;width:15.751000px;height:7.555000px;background-color:rgba(255,255,255,0.000001);\"></div></a>\n",
      "<a class=\"l\" href=\"http://www.taobao.com/\"><div class=\"d m1\" style=\"border-style:none;position:absolute;left:622.718882px;bottom:283.043247px;width:140.065000px;height:9.797000px;background-color:rgba(255,255,255,0.000001);\"></div></a>\n",
      "<a class=\"l\" href=\"http://www.zhihu.com/\"><div class=\"d m1\" style=\"border-style:none;position:absolute;left:882.074990px;bottom:283.440613px;width:10.501000px;height:9.398000px;background-color:rgba(255,255,255,0.000001);\"></div></a>\n",
      "<a class=\"l\" href=\"http://www.zhihu.com/\"><div class=\"d m1\" style=\"border-style:none;position:absolute;left:123.854321px;bottom:250.596855px;width:160.840000px;height:9.755000px;background-color:rgba(255,255,255,0.000001);\"></div></a>\n",
      "<a class=\"l\" data-dest-detail='[450,\"XYZ\",72,654.56,null]' href=\"#pf1c2\"><div class=\"d m1\" style=\"border-style:none;position:absolute;left:469.856847px;bottom:187.346862px;width:15.751000px;height:5.182000px;background-color:rgba(255,255,255,0.000001);\"></div></a>\n",
      "<a class=\"l\" data-dest-detail='[450,\"XYZ\",72,605.59,null]' href=\"#pf1c2\"><div class=\"d m1\" style=\"border-style:none;position:absolute;left:506.990781px;bottom:183.264830px;width:15.751000px;height:7.555000px;background-color:rgba(255,255,255,0.000001);\"></div></a>\n",
      "<a class=\"l\" data-dest-detail='[450,\"XYZ\",72,557.1,null]' href=\"#pf1c2\"><div class=\"d m1\" style=\"border-style:none;position:absolute;left:310.501062px;bottom:378.947776px;width:15.751000px;height:7.555000px;background-color:rgba(255,255,255,0.000001);\"></div></a>\n",
      "<a class=\"l\" data-dest-detail='[450,\"XYZ\",72,489.23,null]' href=\"#pf1c2\"><div class=\"d m1\" style=\"border-style:none;position:absolute;left:790.216369px;bottom:1155.664024px;width:15.751000px;height:7.555000px;background-color:rgba(255,255,255,0.000001);\"></div></a>\n",
      "<a class=\"l\" data-dest-detail='[450,\"XYZ\",72,420.88,null]' href=\"#pf1c2\"><div class=\"d m1\" style=\"border-style:none;position:absolute;left:534.625776px;bottom:1094.708776px;width:15.751000px;height:7.219000px;background-color:rgba(255,255,255,0.000001);\"></div></a>\n",
      "<a class=\"l\" href=\"http://www.cofirank.org/\"><div class=\"d m1\" style=\"border-style:none;position:absolute;left:147.082166px;bottom:154.852305px;width:31.253000px;height:5.416000px;background-color:rgba(255,255,255,0.000001);\"></div></a>\n",
      "<a class=\"l\" data-dest-detail='[450,\"XYZ\",72,353.01,null]' href=\"#pf1c2\"><div class=\"d m1\" style=\"border-style:none;position:absolute;left:349.921140px;bottom:1024.841177px;width:15.751000px;height:7.555000px;background-color:rgba(255,255,255,0.000001);\"></div></a>\n",
      "<a class=\"l\" data-dest-detail='[450,\"XYZ\",72,285.14,null]' href=\"#pf1c2\"><div class=\"d m1\" style=\"border-style:none;position:absolute;left:387.373310px;bottom:1028.923209px;width:15.751000px;height:7.219000px;background-color:rgba(255,255,255,0.000001);\"></div></a>\n",
      "<a class=\"l\" data-dest-detail='[436,\"XYZ\",72,541.74,null]' href=\"#pf1b4\"><div class=\"d m1\" style=\"border-style:none;position:absolute;left:566.365166px;bottom:992.322537px;width:10.501000px;height:7.555000px;background-color:rgba(255,255,255,0.000001);\"></div></a>\n",
      "<a class=\"l\" data-dest-detail='[450,\"XYZ\",72,217.74,null]' href=\"#pf1c2\"><div class=\"d m1\" style=\"border-style:none;position:absolute;left:594.397527px;bottom:992.322537px;width:15.751000px;height:7.555000px;background-color:rgba(255,255,255,0.000001);\"></div></a>\n",
      "<a class=\"l\" data-dest-detail='[450,\"XYZ\",72,149.4,null]' href=\"#pf1c2\"><div class=\"d m1\" style=\"border-style:none;position:absolute;left:496.463164px;bottom:963.885929px;width:15.751000px;height:5.182000px;background-color:rgba(255,255,255,0.000001);\"></div></a>\n",
      "<a class=\"l\" data-dest-detail='[451,\"XYZ\",72,740.93,null]' href=\"#pf1c3\"><div class=\"d m1\" style=\"border-style:none;position:absolute;left:184.059562px;bottom:931.367289px;width:15.751000px;height:5.182000px;background-color:rgba(255,255,255,0.000001);\"></div></a>\n",
      "<a class=\"l\" href=\"http://www.grouplens.org/\"><div class=\"d m1\" style=\"border-style:none;position:absolute;left:219.426851px;bottom:161.036420px;width:95.769000px;height:7.483000px;background-color:rgba(255,255,255,0.000001);\"></div></a>\n",
      "<a class=\"l\" href=\"http://grouplens.org/datasets/movielens/\"><div class=\"d m1\" style=\"border-style:none;position:absolute;left:218.148743px;bottom:142.675017px;width:145.694000px;height:7.484000px;background-color:rgba(255,255,255,0.000001);\"></div></a>\n",
      "<a class=\"l\" href=\"http://www.netflix.com/\"><div class=\"d m1\" style=\"border-style:none;position:absolute;left:194.339471px;bottom:124.315334px;width:86.182000px;height:7.483000px;background-color:rgba(255,255,255,0.000001);\"></div></a>\n",
      "<a class=\"l\" href=\"http://openresearch.baidu.com/\"><div class=\"d m1\" style=\"border-style:none;position:absolute;left:147.082166px;bottom:153.374654px;width:75.019000px;height:7.089000px;background-color:rgba(255,255,255,0.000001);\"></div></a>\n",
      "<a class=\"l\" data-dest-detail='[451,\"XYZ\",72,685.24,null]' href=\"#pf1c3\"><div class=\"d m1\" style=\"border-style:none;position:absolute;left:169.391426px;bottom:840.525306px;width:15.751000px;height:5.182000px;background-color:rgba(255,255,255,0.000001);\"></div></a>\n",
      "<a class=\"l\" data-dest-detail='[447,\"XYZ\",72,704.56,null]' href=\"#pf1bf\"><div class=\"d m1\" style=\"border-style:none;position:absolute;left:816.268781px;bottom:770.542454px;width:15.751000px;height:9.592000px;background-color:rgba(255,255,255,0.000001);\"></div></a>\n",
      "<a class=\"l\" data-dest-detail='[212,\"XYZ\",285.31,404.24,null]' href=\"#pfd4\"><div class=\"d m1\" style=\"border-style:none;position:absolute;left:779.441043px;bottom:1174.443435px;width:18.376000px;height:5.187000px;background-color:rgba(255,255,255,0.000001);\"></div></a>\n",
      "<a class=\"l\" data-dest-detail='[441,\"XYZ\",72,478.22,null]' href=\"#pf1b9\"><div class=\"d m1\" style=\"border-style:none;position:absolute;left:238.247547px;bottom:1192.264696px;width:10.501000px;height:7.219000px;background-color:rgba(255,255,255,0.000001);\"></div></a>\n",
      "<a class=\"l\" data-dest-detail='[214,\"XYZ\",269.56,544.28,null]' href=\"#pfd6\"><div class=\"d m1\" style=\"border-style:none;position:absolute;left:606.843166px;bottom:1024.966752px;width:18.376000px;height:5.187000px;background-color:rgba(255,255,255,0.000001);\"></div></a>\n",
      "<a class=\"l\" data-dest-detail='[451,\"XYZ\",72,637.33,null]' href=\"#pf1c3\"><div class=\"d m1\" style=\"border-style:none;position:absolute;left:239.644349px;bottom:1220.701304px;width:15.751000px;height:7.555000px;background-color:rgba(255,255,255,0.000001);\"></div></a>\n",
      "<a class=\"l\" data-dest-detail='[451,\"XYZ\",72,637.33,null]' href=\"#pf1c3\"><div class=\"d m1\" style=\"border-style:none;position:absolute;left:333.599892px;bottom:1220.701304px;width:15.751000px;height:7.555000px;background-color:rgba(255,255,255,0.000001);\"></div></a>\n",
      "<a class=\"l\" data-dest-detail='[451,\"XYZ\",72,589.55,null]' href=\"#pf1c3\"><div class=\"d m1\" style=\"border-style:none;position:absolute;left:414.180890px;bottom:1188.182664px;width:15.751000px;height:7.555000px;background-color:rgba(255,255,255,0.000001);\"></div></a>\n",
      "<a class=\"l\" data-dest-detail='[451,\"XYZ\",72,541.71,null]' href=\"#pf1c3\"><div class=\"d m1\" style=\"border-style:none;position:absolute;left:648.836662px;bottom:280.820750px;width:15.751000px;height:7.555000px;background-color:rgba(255,255,255,0.000001);\"></div></a>\n",
      "<a class=\"l\" data-dest-detail='[451,\"XYZ\",72,493.8,null]' href=\"#pf1c3\"><div class=\"d m1\" style=\"border-style:none;position:absolute;left:483.881629px;bottom:447.497702px;width:15.751000px;height:7.219000px;background-color:rgba(255,255,255,0.000001);\"></div></a>\n",
      "<a class=\"l\" data-dest-detail='[436,\"XYZ\",72,685.6,null]' href=\"#pf1b4\"><div class=\"d m1\" style=\"border-style:none;position:absolute;left:604.319634px;bottom:805.538180px;width:10.500000px;height:5.183000px;background-color:rgba(255,255,255,0.000001);\"></div></a>\n",
      "<a class=\"l\" data-dest-detail='[451,\"XYZ\",72,446.01,null]' href=\"#pf1c3\"><div class=\"d m1\" style=\"border-style:none;position:absolute;left:631.024002px;bottom:801.456148px;width:15.751000px;height:7.556000px;background-color:rgba(255,255,255,0.000001);\"></div></a>\n",
      "<a class=\"l\" data-dest-detail='[436,\"XYZ\",72,245.27,null]' href=\"#pf1b4\"><div class=\"d m1\" style=\"border-style:none;position:absolute;left:728.268566px;bottom:805.538180px;width:10.500000px;height:5.183000px;background-color:rgba(255,255,255,0.000001);\"></div></a>\n",
      "<a class=\"l\" data-dest-detail='[451,\"XYZ\",72,379.2,null]' href=\"#pf1c3\"><div class=\"d m1\" style=\"border-style:none;position:absolute;left:832.918586px;bottom:805.538180px;width:15.751000px;height:7.220000px;background-color:rgba(255,255,255,0.000001);\"></div></a>\n",
      "<a class=\"l\" data-dest-detail='[436,\"XYZ\",72,197.32,null]' href=\"#pf1b4\"><div class=\"d m1\" style=\"border-style:none;position:absolute;left:868.653998px;bottom:805.538180px;width:10.501000px;height:5.183000px;background-color:rgba(255,255,255,0.000001);\"></div></a>\n",
      "<a class=\"l\" data-dest-detail='[435,\"XYZ\",72,556.88,null]' href=\"#pf1b3\"><div class=\"d m1\" style=\"border-style:none;position:absolute;left:437.647843px;bottom:773.019540px;width:5.251000px;height:5.182000px;background-color:rgba(255,255,255,0.000001);\"></div></a>\n",
      "<a class=\"l\" data-dest-detail='[435,\"XYZ\",72,463.84,null]' href=\"#pf1b3\"><div class=\"d m1\" style=\"border-style:none;position:absolute;left:522.993791px;bottom:768.937508px;width:5.250000px;height:7.555000px;background-color:rgba(255,255,255,0.000001);\"></div></a>\n",
      "<a class=\"l\" data-dest-detail='[451,\"XYZ\",72,331.42,null]' href=\"#pf1c3\"><div class=\"d m1\" style=\"border-style:none;position:absolute;left:239.527375px;bottom:183.264830px;width:15.750000px;height:7.555000px;background-color:rgba(255,255,255,0.000001);\"></div></a>\n",
      "<a class=\"l\" data-dest-detail='[451,\"XYZ\",72,302.41,null]' href=\"#pf1c3\"><div class=\"d m1\" style=\"border-style:none;position:absolute;left:276.910738px;bottom:187.346862px;width:15.751000px;height:5.182000px;background-color:rgba(255,255,255,0.000001);\"></div></a>\n",
      "<a class=\"l\" data-dest-detail='[451,\"XYZ\",72,302.41,null]' href=\"#pf1c3\"><div class=\"d m1\" style=\"border-style:none;position:absolute;left:563.384061px;bottom:870.241742px;width:15.751000px;height:5.182000px;background-color:rgba(255,255,255,0.000001);\"></div></a>\n",
      "<a class=\"l\" data-dest-detail='[451,\"XYZ\",72,255.04,null]' href=\"#pf1c3\"><div class=\"d m1\" style=\"border-style:none;position:absolute;left:193.180056px;bottom:837.723102px;width:15.751000px;height:5.182000px;background-color:rgba(255,255,255,0.000001);\"></div></a>\n",
      "<a class=\"l\" data-dest-detail='[451,\"XYZ\",72,225.63,null]' href=\"#pf1c3\"><div class=\"d m1\" style=\"border-style:none;position:absolute;left:266.661793px;bottom:837.723102px;width:15.751000px;height:5.182000px;background-color:rgba(255,255,255,0.000001);\"></div></a>\n",
      "<a class=\"l\" data-dest-detail='[451,\"XYZ\",72,177.84,null]' href=\"#pf1c3\"><div class=\"d m1\" style=\"border-style:none;position:absolute;left:864.534122px;bottom:736.085150px;width:15.751000px;height:7.555000px;background-color:rgba(255,255,255,0.000001);\"></div></a>\n",
      "<a class=\"l\" data-dest-detail='[451,\"XYZ\",72,130,null]' href=\"#pf1c3\"><div class=\"d m1\" style=\"border-style:none;position:absolute;left:310.358285px;bottom:606.008870px;width:15.751000px;height:7.555000px;background-color:rgba(255,255,255,0.000001);\"></div></a>\n",
      "<a class=\"l\" data-dest-detail='[447,\"XYZ\",72,704.56,null]' href=\"#pf1bf\"><div class=\"d m1\" style=\"border-style:none;position:absolute;left:562.690821px;bottom:573.490230px;width:15.751000px;height:9.592000px;background-color:rgba(255,255,255,0.000001);\"></div></a>\n",
      "<a class=\"l\" data-dest-detail='[452,\"XYZ\",72,740.93,null]' href=\"#pf1c4\"><div class=\"d m1\" style=\"border-style:none;position:absolute;left:848.966322px;bottom:540.971590px;width:15.751000px;height:7.555000px;background-color:rgba(255,255,255,0.000001);\"></div></a>\n",
      "<a class=\"l\" data-dest-detail='[452,\"XYZ\",72,685.05,null]' href=\"#pf1c4\"><div class=\"d m1\" style=\"border-style:none;position:absolute;left:316.251687px;bottom:447.497702px;width:15.751000px;height:7.219000px;background-color:rgba(255,255,255,0.000001);\"></div></a>\n",
      "<a class=\"l\" data-dest-detail='[447,\"XYZ\",72,656.24,null]' href=\"#pf1bf\"><div class=\"d m1\" style=\"border-style:none;position:absolute;left:848.964602px;bottom:345.858030px;width:15.751000px;height:9.593000px;background-color:rgba(255,255,255,0.000001);\"></div></a>\n",
      "<a class=\"l\" data-dest-detail='[452,\"XYZ\",72,618.04,null]' href=\"#pf1c4\"><div class=\"d m1\" style=\"border-style:none;position:absolute;left:233.936729px;bottom:280.820750px;width:15.751000px;height:7.555000px;background-color:rgba(255,255,255,0.000001);\"></div></a>\n",
      "<a class=\"l\" data-dest-detail='[452,\"XYZ\",72,551.03,null]' href=\"#pf1c4\"><div class=\"d m1\" style=\"border-style:none;position:absolute;left:355.873028px;bottom:219.865502px;width:15.751000px;height:7.219000px;background-color:rgba(255,255,255,0.000001);\"></div></a>\n",
      "<a class=\"l\" data-dest-detail='[452,\"XYZ\",72,484.49,null]' href=\"#pf1c4\"><div class=\"d m1\" style=\"border-style:none;position:absolute;left:432.339309px;bottom:183.264830px;width:15.751000px;height:7.555000px;background-color:rgba(255,255,255,0.000001);\"></div></a>\n",
      "<a class=\"l\" data-dest-detail='[452,\"XYZ\",72,417.01,null]' href=\"#pf1c4\"><div class=\"d m1\" style=\"border-style:none;position:absolute;left:543.415992px;bottom:1155.664024px;width:15.751000px;height:7.555000px;background-color:rgba(255,255,255,0.000001);\"></div></a>\n",
      "<a class=\"l\" data-dest-detail='[452,\"XYZ\",72,350,null]' href=\"#pf1c4\"><div class=\"d m1\" style=\"border-style:none;position:absolute;left:706.996586px;bottom:1123.145384px;width:15.751000px;height:7.555000px;background-color:rgba(255,255,255,0.000001);\"></div></a>\n",
      "<a class=\"l\" data-dest-detail='[452,\"XYZ\",72,264.56,null]' href=\"#pf1c4\"><div class=\"d m1\" style=\"border-style:none;position:absolute;left:280.693455px;bottom:1090.626744px;width:15.751000px;height:7.555000px;background-color:rgba(255,255,255,0.000001);\"></div></a>\n",
      "<a class=\"l\" href=\"http://nalag.cs.kuleuven.be/research/workshops/ranking/\"><div class=\"d m1\" style=\"border-style:none;position:absolute;left:528.450262px;bottom:511.256874px;width:137.990000px;height:10.475000px;background-color:rgba(255,255,255,0.000001);\"></div></a>\n",
      "<a class=\"l\" href=\"http://www.aimath.org/ARCC/workshops/mathofranking.html\"><div class=\"d m1\" style=\"border-style:none;position:absolute;left:668.161376px;bottom:478.738234px;width:134.855000px;height:10.475000px;background-color:rgba(255,255,255,0.000001);\"></div></a>\n",
      "<a class=\"l\" href=\"http://www.aimath.org/ARCC/workshops/mathofranking.html\"><div class=\"d m1\" style=\"border-style:none;position:absolute;left:123.854321px;bottom:446.219594px;width:66.731000px;height:10.474000px;background-color:rgba(255,255,255,0.000001);\"></div></a>\n",
      "<a class=\"l\" href=\"http://www.cse.iitb.ac.in/~soumen/\"><div class=\"d m1\" style=\"border-style:none;position:absolute;left:166.699315px;bottom:371.334176px;width:135.678000px;height:10.474000px;background-color:rgba(255,255,255,0.000001);\"></div></a>\n",
      "<a class=\"l\" href=\"http://olivier.chapelle.cc/index.html\"><div class=\"d m1\" style=\"border-style:none;position:absolute;left:166.699315px;bottom:327.035613px;width:115.569000px;height:10.474000px;background-color:rgba(255,255,255,0.000001);\"></div></a>\n",
      "<a class=\"l\" href=\"http://www.cs.cornell.edu/People/tj/\"><div class=\"d m1\" style=\"border-style:none;position:absolute;left:166.699315px;bottom:282.737051px;width:125.230000px;height:10.474000px;background-color:rgba(255,255,255,0.000001);\"></div></a>\n",
      "<a class=\"l\" href=\"http://l2r.cs.uiuc.edu/~cogcomp/projects.php\"><div class=\"d m1\" style=\"border-style:none;position:absolute;left:166.699315px;bottom:238.438489px;width:83.521000px;height:10.475000px;background-color:rgba(255,255,255,0.000001);\"></div></a>\n",
      "<a class=\"l\" href=\"http://www.cc.gatech.edu/~zha/\"><div class=\"d m1\" style=\"border-style:none;position:absolute;left:166.699315px;bottom:194.141648px;width:110.067000px;height:10.474000px;background-color:rgba(255,255,255,0.000001);\"></div></a>\n",
      "<a class=\"l\" href=\"http://research.microsoft.com/~cburges/\"><div class=\"d m1\" style=\"border-style:none;position:absolute;left:166.699315px;bottom:149.843086px;width:193.935000px;height:10.474000px;background-color:rgba(255,255,255,0.000001);\"></div></a>\n",
      "<a class=\"l\" href=\"http://ir.dlut.edu.cn/\"><div class=\"d m1\" style=\"border-style:none;position:absolute;left:166.699315px;bottom:1155.834323px;width:136.508000px;height:9.755000px;background-color:rgba(255,255,255,0.000001);\"></div></a>\n",
      "<a class=\"l\" href=\"http://kdd.nankai.edu.cn/IIP/jsp/index/index.jsp\"><div class=\"d m1\" style=\"border-style:none;position:absolute;left:166.699315px;bottom:1105.706007px;width:136.508000px;height:9.923000px;background-color:rgba(255,255,255,0.000001);\"></div></a>\n",
      "<a class=\"l\" data-dest-detail='[451,\"XYZ\",72,177.84,null]' href=\"#pf1c3\"><div class=\"d m1\" style=\"border-style:none;position:absolute;left:492.456820px;bottom:972.901492px;width:15.751000px;height:7.555000px;background-color:rgba(255,255,255,0.000001);\"></div></a>\n",
      "<a class=\"l\" data-dest-detail='[452,\"XYZ\",72,197.07,null]' href=\"#pf1c4\"><div class=\"d m1\" style=\"border-style:none;position:absolute;left:386.086601px;bottom:565.348528px;width:15.751000px;height:7.555000px;background-color:rgba(255,255,255,0.000001);\"></div></a>\n",
      "<a class=\"l\" data-dest-detail='[441,\"XYZ\",72,451.09,null]' href=\"#pf1b9\"><div class=\"d m1\" style=\"border-style:none;position:absolute;left:436.942561px;bottom:1188.182664px;width:10.501000px;height:9.592000px;background-color:rgba(255,255,255,0.000001);\"></div></a>\n",
      "<a class=\"l\" data-dest-detail='[452,\"XYZ\",72,130.54,null]' href=\"#pf1c4\"><div class=\"d m1\" style=\"border-style:none;position:absolute;left:464.778820px;bottom:1188.182664px;width:15.751000px;height:7.555000px;background-color:rgba(255,255,255,0.000001);\"></div></a>\n",
      "<a class=\"l\" data-dest-detail='[453,\"XYZ\",72,740.93,null]' href=\"#pf1c5\"><div class=\"d m1\" style=\"border-style:none;position:absolute;left:367.597904px;bottom:1121.650531px;width:15.751000px;height:7.555000px;background-color:rgba(255,255,255,0.000001);\"></div></a>\n",
      "<a class=\"l\" data-dest-detail='[453,\"XYZ\",72,740.93,null]' href=\"#pf1c5\"><div class=\"d m1\" style=\"border-style:none;position:absolute;left:165.995753px;bottom:486.200457px;width:15.751000px;height:7.555000px;background-color:rgba(255,255,255,0.000001);\"></div></a>\n",
      "<a class=\"l\" data-dest-detail='[453,\"XYZ\",72,687.44,null]' href=\"#pf1c5\"><div class=\"d m1\" style=\"border-style:none;position:absolute;left:165.995753px;bottom:285.953823px;width:15.751000px;height:9.593000px;background-color:rgba(255,255,255,0.000001);\"></div></a>\n",
      "<a class=\"l\" data-dest-detail='[452,\"XYZ\",72,350,null]' href=\"#pf1c4\"><div class=\"d m1\" style=\"border-style:none;position:absolute;left:165.995753px;bottom:150.746190px;width:15.751000px;height:7.555000px;background-color:rgba(255,255,255,0.000001);\"></div></a>\n",
      "<a class=\"l\" data-dest-detail='[452,\"XYZ\",72,740.93,null]' href=\"#pf1c4\"><div class=\"d m1\" style=\"border-style:none;position:absolute;left:494.619110px;bottom:1186.123586px;width:15.751000px;height:7.555000px;background-color:rgba(255,255,255,0.000001);\"></div></a>\n",
      "<a class=\"l\" data-dest-detail='[225,\"XYZ\",170.24,599.31,null]' href=\"#pfe1\"><div class=\"d m1\" style=\"border-style:none;position:absolute;left:454.142830px;bottom:215.783470px;width:18.376000px;height:7.555000px;background-color:rgba(255,255,255,0.000001);\"></div></a>\n",
      "<a class=\"l\" data-dest-detail='[225,\"XYZ\",389.17,599.31,null]' href=\"#pfe1\"><div class=\"d m1\" style=\"border-style:none;position:absolute;left:585.213385px;bottom:609.144792px;width:18.376000px;height:7.555000px;background-color:rgba(255,255,255,0.000001);\"></div></a>\n",
      "<a class=\"l\" data-dest-detail='[452,\"XYZ\",72,685.05,null]' href=\"#pf1c4\"><div class=\"d m1\" style=\"border-style:none;position:absolute;left:147.931945px;bottom:981.216933px;width:15.751000px;height:7.219000px;background-color:rgba(255,255,255,0.000001);\"></div></a>\n",
      "<a class=\"l\" data-dest-detail='[227,\"XYZ\",216.09,171.83,null]' href=\"#pfe3\"><div class=\"d m1\" style=\"border-style:none;position:absolute;left:473.070179px;bottom:1151.514904px;width:23.626000px;height:7.555000px;background-color:rgba(255,255,255,0.000001);\"></div></a>\n",
      "<a class=\"l\" data-dest-detail='[452,\"XYZ\",72,685.05,null]' href=\"#pf1c4\"><div class=\"d m1\" style=\"border-style:none;position:absolute;left:330.427846px;bottom:523.086682px;width:15.751000px;height:7.219000px;background-color:rgba(255,255,255,0.000001);\"></div></a>\n",
      "<a class=\"l\" data-dest-detail='[443,\"XYZ\",72,362.71,null]' href=\"#pf1bb\"><div class=\"d m1\" style=\"border-style:none;position:absolute;left:292.951593px;bottom:280.820750px;width:15.751000px;height:7.555000px;background-color:rgba(255,255,255,0.000001);\"></div></a>\n",
      "<a class=\"l\" data-dest-detail='[453,\"XYZ\",72,621.19,null]' href=\"#pf1c5\"><div class=\"d m1\" style=\"border-style:none;position:absolute;left:329.469695px;bottom:280.820750px;width:15.751000px;height:7.555000px;background-color:rgba(255,255,255,0.000001);\"></div></a>\n",
      "<a class=\"l\" data-dest-detail='[453,\"XYZ\",72,538.72,null]' href=\"#pf1c5\"><div class=\"d m1\" style=\"border-style:none;position:absolute;left:165.995753px;bottom:1187.253756px;width:15.751000px;height:9.592000px;background-color:rgba(255,255,255,0.000001);\"></div></a>\n",
      "<a class=\"l\" data-dest-detail='[453,\"XYZ\",72,453.56,null]' href=\"#pf1c5\"><div class=\"d m1\" style=\"border-style:none;position:absolute;left:421.481414px;bottom:1029.945007px;width:15.751000px;height:7.556000px;background-color:rgba(255,255,255,0.000001);\"></div></a>\n",
      "<a class=\"l\" data-dest-detail='[443,\"XYZ\",72,426.46,null]' href=\"#pf1bb\"><div class=\"d m1\" style=\"border-style:none;position:absolute;left:182.975837px;bottom:876.720011px;width:15.750000px;height:7.219000px;background-color:rgba(255,255,255,0.000001);\"></div></a>\n",
      "<a class=\"l\" data-dest-detail='[452,\"XYZ\",72,618.04,null]' href=\"#pf1c4\"><div class=\"d m1\" style=\"border-style:none;position:absolute;left:307.050343px;bottom:747.849590px;width:15.751000px;height:7.555000px;background-color:rgba(255,255,255,0.000001);\"></div></a>\n",
      "<a class=\"l\" data-dest-detail='[452,\"XYZ\",72,484.49,null]' href=\"#pf1c4\"><div class=\"d m1\" style=\"border-style:none;position:absolute;left:300.725171px;bottom:811.653487px;width:15.751000px;height:7.556000px;background-color:rgba(255,255,255,0.000001);\"></div></a>\n",
      "<a class=\"l\" data-dest-detail='[453,\"XYZ\",72,407.62,null]' href=\"#pf1c5\"><div class=\"d m1\" style=\"border-style:none;position:absolute;left:533.941137px;bottom:423.566295px;width:15.751000px;height:7.555000px;background-color:rgba(255,255,255,0.000001);\"></div></a>\n",
      "<a class=\"l\" data-dest-detail='[453,\"XYZ\",72,342.65,null]' href=\"#pf1c5\"><div class=\"d m1\" style=\"border-style:none;position:absolute;left:621.186185px;bottom:287.156242px;width:15.751000px;height:7.555000px;background-color:rgba(255,255,255,0.000001);\"></div></a>\n",
      "<a class=\"l\" data-dest-detail='[453,\"XYZ\",72,278.21,null]' href=\"#pf1c5\"><div class=\"d m1\" style=\"border-style:none;position:absolute;left:662.949173px;bottom:150.746190px;width:15.751000px;height:7.555000px;background-color:rgba(255,255,255,0.000001);\"></div></a>\n",
      "<a class=\"l\" data-dest-detail='[447,\"XYZ\",72,704.56,null]' href=\"#pf1bf\"><div class=\"d m1\" style=\"border-style:none;position:absolute;left:510.725333px;bottom:1184.353501px;width:15.750000px;height:9.593000px;background-color:rgba(255,255,255,0.000001);\"></div></a>\n",
      "<a class=\"l\" data-dest-detail='[446,\"XYZ\",72,218.83,null]' href=\"#pf1be\"><div class=\"d m1\" style=\"border-style:none;position:absolute;left:775.006370px;bottom:1188.435533px;width:15.751000px;height:7.220000px;background-color:rgba(255,255,255,0.000001);\"></div></a>\n",
      "<a class=\"l\" data-dest-detail='[446,\"XYZ\",72,173.42,null]' href=\"#pf1be\"><div class=\"d m1\" style=\"border-style:none;position:absolute;left:812.276199px;bottom:1188.435533px;width:15.751000px;height:7.220000px;background-color:rgba(255,255,255,0.000001);\"></div></a>\n",
      "<a class=\"l\" data-dest-detail='[447,\"XYZ\",72,704.56,null]' href=\"#pf1bf\"><div class=\"d m1\" style=\"border-style:none;position:absolute;left:535.702621px;bottom:629.255638px;width:15.751000px;height:9.592000px;background-color:rgba(255,255,255,0.000001);\"></div></a>\n",
      "<a class=\"l\" data-dest-detail='[447,\"XYZ\",72,704.56,null]' href=\"#pf1bf\"><div class=\"d m1\" style=\"border-style:none;position:absolute;left:165.995753px;bottom:456.045370px;width:15.751000px;height:9.592000px;background-color:rgba(255,255,255,0.000001);\"></div></a>\n",
      "<a class=\"l\" data-dest-detail='[233,\"XYZ\",237.17,521.27,null]' href=\"#pfe9\"><div class=\"d m1\" style=\"border-style:none;position:absolute;left:624.203414px;bottom:183.264830px;width:23.626000px;height:7.555000px;background-color:rgba(255,255,255,0.000001);\"></div></a>\n",
      "<a class=\"l\" data-dest-detail='[234,\"XYZ\",154.77,621.67,null]' href=\"#pfea\"><div class=\"d m1\" style=\"border-style:none;position:absolute;left:367.914420px;bottom:150.746190px;width:23.627000px;height:7.555000px;background-color:rgba(255,255,255,0.000001);\"></div></a>\n",
      "<a class=\"l\" data-dest-detail='[238,\"XYZ\",81.4,165.76,null]' href=\"#pfee\"><div class=\"d m1\" style=\"border-style:none;position:absolute;left:147.931945px;bottom:159.336863px;width:23.627000px;height:9.592000px;background-color:rgba(255,255,255,0.000001);\"></div></a>\n",
      "<a class=\"l\" data-dest-detail='[440,\"XYZ\",72,538.62,null]' href=\"#pf1b8\"><div class=\"d m1\" style=\"border-style:none;position:absolute;left:492.162666px;bottom:159.336863px;width:10.501000px;height:7.555000px;background-color:rgba(255,255,255,0.000001);\"></div></a>\n",
      "<a class=\"l\" data-dest-detail='[238,\"XYZ\",81.4,165.76,null]' href=\"#pfee\"><div class=\"d m1\" style=\"border-style:none;position:absolute;left:202.121650px;bottom:1053.565058px;width:23.627000px;height:9.593000px;background-color:rgba(255,255,255,0.000001);\"></div></a>\n",
      "<a class=\"l\" data-dest-detail='[446,\"XYZ\",72,218.83,null]' href=\"#pf1be\"><div class=\"d m1\" style=\"border-style:none;position:absolute;left:582.953044px;bottom:682.275608px;width:15.751000px;height:7.219000px;background-color:rgba(255,255,255,0.000001);\"></div></a>\n",
      "<a class=\"l\" data-dest-detail='[453,\"XYZ\",72,213.3,null]' href=\"#pf1c5\"><div class=\"d m1\" style=\"border-style:none;position:absolute;left:165.995753px;bottom:1187.436097px;width:15.751000px;height:7.555000px;background-color:rgba(255,255,255,0.000001);\"></div></a>\n",
      "<a class=\"l\" data-dest-detail='[447,\"XYZ\",72,656.24,null]' href=\"#pf1bf\"><div class=\"d m1\" style=\"border-style:none;position:absolute;left:297.859320px;bottom:1030.872195px;width:15.751000px;height:9.593000px;background-color:rgba(255,255,255,0.000001);\"></div></a>\n",
      "<a class=\"l\" data-dest-detail='[447,\"XYZ\",72,656.24,null]' href=\"#pf1bf\"><div class=\"d m1\" style=\"border-style:none;position:absolute;left:756.615724px;bottom:640.646795px;width:15.751000px;height:9.592000px;background-color:rgba(255,255,255,0.000001);\"></div></a>\n",
      "<a class=\"l\" data-dest-detail='[243,\"XYZ\",196.93,469.54,null]' href=\"#pff3\"><div class=\"d m1\" style=\"border-style:none;position:absolute;left:256.311356px;bottom:688.951700px;width:23.626000px;height:9.592000px;background-color:rgba(255,255,255,0.000001);\"></div></a>\n",
      "<a class=\"l\" data-dest-detail='[241,\"XYZ\",284.72,547.05,null]' href=\"#pff1\"><div class=\"d m1\" style=\"border-style:none;position:absolute;left:348.058164px;bottom:519.890552px;width:23.626000px;height:7.555000px;background-color:rgba(255,255,255,0.000001);\"></div></a>\n",
      "<a class=\"l\" data-dest-detail='[241,\"XYZ\",280.7,446.19,null]' href=\"#pff1\"><div class=\"d m1\" style=\"border-style:none;position:absolute;left:509.737938px;bottom:519.890552px;width:23.627000px;height:7.555000px;background-color:rgba(255,255,255,0.000001);\"></div></a>\n",
      "<a class=\"l\" data-dest-detail='[241,\"XYZ\",246.62,317.8,null]' href=\"#pff1\"><div class=\"d m1\" style=\"border-style:none;position:absolute;left:753.447117px;bottom:519.890552px;width:23.626000px;height:7.555000px;background-color:rgba(255,255,255,0.000001);\"></div></a>\n",
      "<a class=\"l\" data-dest-detail='[241,\"XYZ\",283.54,375.53,null]' href=\"#pff1\"><div class=\"d m1\" style=\"border-style:none;position:absolute;left:295.318586px;bottom:487.371912px;width:23.626000px;height:7.555000px;background-color:rgba(255,255,255,0.000001);\"></div></a>\n",
      "<a class=\"l\" data-dest-detail='[243,\"XYZ\",253.6,391.89,null]' href=\"#pff3\"><div class=\"d m1\" style=\"border-style:none;position:absolute;left:625.638059px;bottom:487.371912px;width:23.627000px;height:9.592000px;background-color:rgba(255,255,255,0.000001);\"></div></a>\n",
      "<a class=\"l\" data-dest-detail='[453,\"XYZ\",72,130.36,null]' href=\"#pf1c5\"><div class=\"d m1\" style=\"border-style:none;position:absolute;left:346.626959px;bottom:150.746190px;width:15.751000px;height:7.555000px;background-color:rgba(255,255,255,0.000001);\"></div></a>\n",
      "<a class=\"l\" data-dest-detail='[454,\"XYZ\",72,704.47,null]' href=\"#pf1c6\"><div class=\"d m1\" style=\"border-style:none;position:absolute;left:383.494262px;bottom:150.746190px;width:15.751000px;height:7.555000px;background-color:rgba(255,255,255,0.000001);\"></div></a>\n",
      "<a class=\"l\" data-dest-detail='[454,\"XYZ\",72,638.96,null]' href=\"#pf1c6\"><div class=\"d m1\" style=\"border-style:none;position:absolute;left:757.388093px;bottom:1167.118828px;width:15.751000px;height:9.592000px;background-color:rgba(255,255,255,0.000001);\"></div></a>\n",
      "<a class=\"l\" data-dest-detail='[454,\"XYZ\",72,572.51,null]' href=\"#pf1c6\"><div class=\"d m1\" style=\"border-style:none;position:absolute;left:794.405053px;bottom:1167.118828px;width:15.751000px;height:7.555000px;background-color:rgba(255,255,255,0.000001);\"></div></a>\n",
      "<a class=\"l\" data-dest-detail='[454,\"XYZ\",72,525.43,null]' href=\"#pf1c6\"><div class=\"d m1\" style=\"border-style:none;position:absolute;left:771.347507px;bottom:904.989759px;width:15.751000px;height:9.593000px;background-color:rgba(255,255,255,0.000001);\"></div></a>\n",
      "<a class=\"l\" data-dest-detail='[454,\"XYZ\",72,478.36,null]' href=\"#pf1c6\"><div class=\"d m1\" style=\"border-style:none;position:absolute;left:220.040962px;bottom:807.433840px;width:15.751000px;height:7.555000px;background-color:rgba(255,255,255,0.000001);\"></div></a>\n",
      "<a class=\"l\" data-dest-detail='[454,\"XYZ\",72,704.47,null]' href=\"#pf1c6\"><div class=\"d m1\" style=\"border-style:none;position:absolute;left:563.745303px;bottom:668.630990px;width:15.751000px;height:7.555000px;background-color:rgba(255,255,255,0.000001);\"></div></a>\n",
      "<a class=\"l\" data-dest-detail='[454,\"XYZ\",72,412.44,null]' href=\"#pf1c6\"><div class=\"d m1\" style=\"border-style:none;position:absolute;left:758.341083px;bottom:529.826421px;width:15.751000px;height:7.555000px;background-color:rgba(255,255,255,0.000001);\"></div></a>\n",
      "<a class=\"l\" data-dest-detail='[454,\"XYZ\",72,327.96,null]' href=\"#pf1c6\"><div class=\"d m1\" style=\"border-style:none;position:absolute;left:697.919097px;bottom:391.023572px;width:15.751000px;height:7.555000px;background-color:rgba(255,255,255,0.000001);\"></div></a>\n",
      "<a class=\"l\" data-dest-detail='[452,\"XYZ\",72,551.03,null]' href=\"#pf1c4\"><div class=\"d m1\" style=\"border-style:none;position:absolute;left:304.501008px;bottom:1207.006800px;width:15.751000px;height:7.219000px;background-color:rgba(255,255,255,0.000001);\"></div></a>\n",
      "<a class=\"l\" data-dest-detail='[452,\"XYZ\",72,551.03,null]' href=\"#pf1c4\"><div class=\"d m1\" style=\"border-style:none;position:absolute;left:298.980890px;bottom:753.476361px;width:15.751000px;height:7.219000px;background-color:rgba(255,255,255,0.000001);\"></div></a>\n",
      "<a class=\"l\" data-dest-detail='[454,\"XYZ\",72,261.51,null]' href=\"#pf1c6\"><div class=\"d m1\" style=\"border-style:none;position:absolute;left:165.995753px;bottom:741.386803px;width:15.751000px;height:7.555000px;background-color:rgba(255,255,255,0.000001);\"></div></a>\n",
      "<a class=\"l\" data-dest-detail='[454,\"XYZ\",72,195.53,null]' href=\"#pf1c6\"><div class=\"d m1\" style=\"border-style:none;position:absolute;left:323.000027px;bottom:618.528477px;width:15.751000px;height:7.555000px;background-color:rgba(255,255,255,0.000001);\"></div></a>\n",
      "<a class=\"l\" data-dest-detail='[246,\"XYZ\",165.24,245.58,null]' href=\"#pff6\"><div class=\"d m1\" style=\"border-style:none;position:absolute;left:220.185459px;bottom:1169.016207px;width:23.626000px;height:7.556000px;background-color:rgba(255,255,255,0.000001);\"></div></a>\n",
      "<a class=\"l\" data-dest-detail='[248,\"XYZ\",72,740.93,null]' href=\"#pff8\"><div class=\"d m1\" style=\"border-style:none;position:absolute;left:503.865179px;bottom:836.315979px;width:10.501000px;height:7.219000px;background-color:rgba(255,255,255,0.000001);\"></div></a>\n",
      "<a class=\"l\" data-dest-detail='[247,\"XYZ\",157.44,251.41,null]' href=\"#pff7\"><div class=\"d m1\" style=\"border-style:none;position:absolute;left:606.211853px;bottom:832.233947px;width:28.876000px;height:7.555000px;background-color:rgba(255,255,255,0.000001);\"></div></a>\n",
      "<a class=\"l\" data-dest-detail='[247,\"XYZ\",202.63,725.4,null]' href=\"#pff7\"><div class=\"d m1\" style=\"border-style:none;position:absolute;left:281.092541px;bottom:786.005322px;width:23.626000px;height:7.555000px;background-color:rgba(255,255,255,0.000001);\"></div></a>\n",
      "<a class=\"l\" data-dest-detail='[247,\"XYZ\",157.44,657.93,null]' href=\"#pff7\"><div class=\"d m1\" style=\"border-style:none;position:absolute;left:202.310872px;bottom:510.565354px;width:28.877000px;height:7.556000px;background-color:rgba(255,255,255,0.000001);\"></div></a>\n",
      "<a class=\"l\" data-dest-detail='[246,\"XYZ\",165.24,245.58,null]' href=\"#pff6\"><div class=\"d m1\" style=\"border-style:none;position:absolute;left:409.847709px;bottom:510.565354px;width:23.626000px;height:7.556000px;background-color:rgba(255,255,255,0.000001);\"></div></a>\n",
      "<a class=\"l\" data-dest-detail='[454,\"XYZ\",72,129.55,null]' href=\"#pf1c6\"><div class=\"d m1\" style=\"border-style:none;position:absolute;left:318.881871px;bottom:215.783470px;width:15.751000px;height:7.555000px;background-color:rgba(255,255,255,0.000001);\"></div></a>\n",
      "<a class=\"l\" data-dest-detail='[247,\"XYZ\",157.44,251.41,null]' href=\"#pff7\"><div class=\"d m1\" style=\"border-style:none;position:absolute;left:443.661658px;bottom:1158.479989px;width:28.876000px;height:7.555000px;background-color:rgba(255,255,255,0.000001);\"></div></a>\n",
      "<a class=\"l\" data-dest-detail='[452,\"XYZ\",72,417.01,null]' href=\"#pf1c4\"><div class=\"d m1\" style=\"border-style:none;position:absolute;left:561.252735px;bottom:402.227228px;width:15.751000px;height:7.556000px;background-color:rgba(255,255,255,0.000001);\"></div></a>\n",
      "<a class=\"l\" data-dest-detail='[455,\"XYZ\",72,740.93,null]' href=\"#pf1c7\"><div class=\"d m1\" style=\"border-style:none;position:absolute;left:579.461040px;bottom:276.487569px;width:15.751000px;height:7.555000px;background-color:rgba(255,255,255,0.000001);\"></div></a>\n",
      "<a class=\"l\" data-dest-detail='[455,\"XYZ\",72,685.13,null]' href=\"#pf1c7\"><div class=\"d m1\" style=\"border-style:none;position:absolute;left:700.736783px;bottom:150.746190px;width:15.751000px;height:9.592000px;background-color:rgba(255,255,255,0.000001);\"></div></a>\n",
      "<a class=\"l\" data-dest-detail='[440,\"XYZ\",72,194.5,null]' href=\"#pf1b8\"><div class=\"d m1\" style=\"border-style:none;position:absolute;left:342.887246px;bottom:1024.534982px;width:10.500000px;height:7.555000px;background-color:rgba(255,255,255,0.000001);\"></div></a>\n",
      "<a class=\"l\" data-dest-detail='[455,\"XYZ\",72,618.74,null]' href=\"#pf1c7\"><div class=\"d m1\" style=\"border-style:none;position:absolute;left:748.677006px;bottom:624.667867px;width:15.751000px;height:7.555000px;background-color:rgba(255,255,255,0.000001);\"></div></a>\n",
      "<a class=\"l\" data-dest-detail='[455,\"XYZ\",72,551.48,null]' href=\"#pf1c7\"><div class=\"d m1\" style=\"border-style:none;position:absolute;left:621.891466px;bottom:475.050128px;width:15.751000px;height:9.592000px;background-color:rgba(255,255,255,0.000001);\"></div></a>\n",
      "<a class=\"l\" data-dest-detail='[455,\"XYZ\",72,484.56,null]' href=\"#pf1c7\"><div class=\"d m1\" style=\"border-style:none;position:absolute;left:290.926918px;bottom:325.432388px;width:15.751000px;height:7.555000px;background-color:rgba(255,255,255,0.000001);\"></div></a>\n",
      "<a class=\"l\" data-dest-detail='[455,\"XYZ\",72,436.61,null]' href=\"#pf1c7\"><div class=\"d m1\" style=\"border-style:none;position:absolute;left:147.931945px;bottom:1093.960489px;width:15.751000px;height:7.220000px;background-color:rgba(255,255,255,0.000001);\"></div></a>\n",
      "<a class=\"l\" data-dest-detail='[455,\"XYZ\",72,388.65,null]' href=\"#pf1c7\"><div class=\"d m1\" style=\"border-style:none;position:absolute;left:205.090714px;bottom:1093.960489px;width:15.751000px;height:7.220000px;background-color:rgba(255,255,255,0.000001);\"></div></a>\n",
      "<a class=\"l\" data-dest-detail='[455,\"XYZ\",72,436.61,null]' href=\"#pf1c7\"><div class=\"d m1\" style=\"border-style:none;position:absolute;left:262.278726px;bottom:1093.960489px;width:15.751000px;height:7.220000px;background-color:rgba(255,255,255,0.000001);\"></div></a>\n",
      "<a class=\"l\" data-dest-detail='[455,\"XYZ\",72,340.7,null]' href=\"#pf1c7\"><div class=\"d m1\" style=\"border-style:none;position:absolute;left:534.718667px;bottom:1061.441849px;width:15.751000px;height:7.219000px;background-color:rgba(255,255,255,0.000001);\"></div></a>\n",
      "<a class=\"l\" data-dest-detail='[441,\"XYZ\",72,451.09,null]' href=\"#pf1b9\"><div class=\"d m1\" style=\"border-style:none;position:absolute;left:508.007418px;bottom:764.690337px;width:10.501000px;height:9.593000px;background-color:rgba(255,255,255,0.000001);\"></div></a>\n",
      "<a class=\"l\" data-dest-detail='[455,\"XYZ\",72,292.81,null]' href=\"#pf1c7\"><div class=\"d m1\" style=\"border-style:none;position:absolute;left:734.227335px;bottom:764.690337px;width:15.751000px;height:9.593000px;background-color:rgba(255,255,255,0.000001);\"></div></a>\n",
      "<a class=\"l\" data-dest-detail='[250,\"XYZ\",162.31,296.22,null]' href=\"#pffa\"><div class=\"d m1\" style=\"border-style:none;position:absolute;left:529.038570px;bottom:423.213654px;width:28.877000px;height:7.555000px;background-color:rgba(255,255,255,0.000001);\"></div></a>\n",
      "<a class=\"l\" data-dest-detail='[455,\"XYZ\",72,436.61,null]' href=\"#pf1c7\"><div class=\"d m1\" style=\"border-style:none;position:absolute;left:165.995753px;bottom:233.986615px;width:15.751000px;height:7.219000px;background-color:rgba(255,255,255,0.000001);\"></div></a>\n",
      "<a class=\"l\" data-dest-detail='[455,\"XYZ\",72,436.61,null]' href=\"#pf1c7\"><div class=\"d m1\" style=\"border-style:none;position:absolute;left:225.764064px;bottom:1257.301976px;width:15.751000px;height:7.219000px;background-color:rgba(255,255,255,0.000001);\"></div></a>\n",
      "<a class=\"l\" data-dest-detail='[454,\"XYZ\",72,638.96,null]' href=\"#pf1c6\"><div class=\"d m1\" style=\"border-style:none;position:absolute;left:757.388093px;bottom:952.300390px;width:15.751000px;height:9.592000px;background-color:rgba(255,255,255,0.000001);\"></div></a>\n",
      "<a class=\"l\" data-dest-detail='[454,\"XYZ\",72,572.51,null]' href=\"#pf1c6\"><div class=\"d m1\" style=\"border-style:none;position:absolute;left:794.405053px;bottom:952.300390px;width:15.751000px;height:7.555000px;background-color:rgba(255,255,255,0.000001);\"></div></a>\n",
      "<a class=\"l\" data-dest-detail='[251,\"XYZ\",295.81,250,null]' href=\"#pffb\"><div class=\"d m1\" style=\"border-style:none;position:absolute;left:685.862223px;bottom:623.737240px;width:18.376000px;height:7.555000px;background-color:rgba(255,255,255,0.000001);\"></div></a>\n",
      "<a class=\"l\" data-dest-detail='[255,\"XYZ\",156.61,137.49,null]' href=\"#pfff\"><div class=\"d m1\" style=\"border-style:none;position:absolute;left:256.311356px;bottom:1253.219944px;width:28.877000px;height:7.555000px;background-color:rgba(255,255,255,0.000001);\"></div></a>\n",
      "<a class=\"l\" data-dest-detail='[455,\"XYZ\",72,245.27,null]' href=\"#pf1c7\"><div class=\"d m1\" style=\"border-style:none;position:absolute;left:389.886521px;bottom:1012.856552px;width:15.751000px;height:9.592000px;background-color:rgba(255,255,255,0.000001);\"></div></a>\n",
      "<a class=\"l\" data-dest-detail='[439,\"XYZ\",72,287.35,null]' href=\"#pf1b7\"><div class=\"d m1\" style=\"border-style:none;position:absolute;left:497.997581px;bottom:699.310738px;width:10.501000px;height:9.592000px;background-color:rgba(255,255,255,0.000001);\"></div></a>\n",
      "<a class=\"l\" data-dest-detail='[259,\"XYZ\",222.33,173.55,null]' href=\"#pf103\"><div class=\"d m1\" style=\"border-style:none;position:absolute;left:826.386991px;bottom:648.289638px;width:28.877000px;height:7.555000px;background-color:rgba(255,255,255,0.000001);\"></div></a>\n",
      "<a class=\"l\" data-dest-detail='[260,\"XYZ\",189.34,664.55,null]' href=\"#pf104\"><div class=\"d m1\" style=\"border-style:none;position:absolute;left:256.311356px;bottom:1253.219944px;width:28.877000px;height:7.555000px;background-color:rgba(255,255,255,0.000001);\"></div></a>\n",
      "<a class=\"l\" data-dest-detail='[455,\"XYZ\",72,196.84,null]' href=\"#pf1c7\"><div class=\"d m1\" style=\"border-style:none;position:absolute;left:772.207607px;bottom:183.264830px;width:15.751000px;height:9.592000px;background-color:rgba(255,255,255,0.000001);\"></div></a>\n",
      "<a class=\"l\" data-dest-detail='[455,\"XYZ\",72,148.89,null]' href=\"#pf1c7\"><div class=\"d m1\" style=\"border-style:none;position:absolute;left:773.948448px;bottom:843.847010px;width:15.751000px;height:7.219000px;background-color:rgba(255,255,255,0.000001);\"></div></a>\n",
      "<a class=\"l\" data-dest-detail='[456,\"XYZ\",72,740.93,null]' href=\"#pf1c8\"><div class=\"d m1\" style=\"border-style:none;position:absolute;left:774.337213px;bottom:677.170058px;width:15.751000px;height:9.593000px;background-color:rgba(255,255,255,0.000001);\"></div></a>\n",
      "<a class=\"l\" href=\"http://research.microsoft.com/en-us/um/beijing/projects/letor/\"><div class=\"d m1\" style=\"border-style:none;position:absolute;left:196.274694px;bottom:151.296654px;width:106.062000px;height:7.483000px;background-color:rgba(255,255,255,0.000001);\"></div></a>\n",
      "<a class=\"l\" data-dest-detail='[456,\"XYZ\",72,704.51,null]' href=\"#pf1c8\"><div class=\"d m1\" style=\"border-style:none;position:absolute;left:129.869856px;bottom:1109.935976px;width:15.751000px;height:7.219000px;background-color:rgba(255,255,255,0.000001);\"></div></a>\n",
      "<a class=\"l\" href=\"http://webscope.sandbox.yahoo.com/catalog.php?datatype=c\"><div class=\"d m1\" style=\"border-style:none;position:absolute;left:147.082166px;bottom:169.658057px;width:119.437000px;height:7.483000px;background-color:rgba(255,255,255,0.000001);\"></div></a>\n",
      "<a class=\"l\" href=\"http://imat2009.yandex.ru/en\"><div class=\"d m1\" style=\"border-style:none;position:absolute;left:339.181938px;bottom:151.941728px;width:15.004000px;height:5.398000px;background-color:rgba(255,255,255,0.000001);\"></div></a>\n",
      "<a class=\"l\" href=\"http://imat-relpred.yandex.ru/en\"><div class=\"d m1\" style=\"border-style:none;position:absolute;left:371.972369px;bottom:154.859186px;width:15.004000px;height:3.702000px;background-color:rgba(255,255,255,0.000001);\"></div></a>\n",
      "<a class=\"l\" data-dest-detail='[452,\"XYZ\",72,197.07,null]' href=\"#pf1c4\"><div class=\"d m1\" style=\"border-style:none;position:absolute;left:363.001532px;bottom:1192.515845px;width:15.751000px;height:7.555000px;background-color:rgba(255,255,255,0.000001);\"></div></a>\n",
      "<a class=\"l\" data-dest-detail='[453,\"XYZ\",72,687.44,null]' href=\"#pf1c5\"><div class=\"d m1\" style=\"border-style:none;position:absolute;left:345.515710px;bottom:1159.997205px;width:15.751000px;height:9.592000px;background-color:rgba(255,255,255,0.000001);\"></div></a>\n",
      "<a class=\"l\" data-dest-detail='[452,\"XYZ\",72,350,null]' href=\"#pf1c4\"><div class=\"d m1\" style=\"border-style:none;position:absolute;left:350.132724px;bottom:1127.478565px;width:15.751000px;height:7.555000px;background-color:rgba(255,255,255,0.000001);\"></div></a>\n",
      "<a class=\"l\" data-dest-detail='[451,\"XYZ\",72,177.84,null]' href=\"#pf1c3\"><div class=\"d m1\" style=\"border-style:none;position:absolute;left:334.300013px;bottom:1094.273565px;width:15.751000px;height:7.555000px;background-color:rgba(255,255,255,0.000001);\"></div></a>\n",
      "<a class=\"l\" data-dest-detail='[452,\"XYZ\",72,740.93,null]' href=\"#pf1c4\"><div class=\"d m1\" style=\"border-style:none;position:absolute;left:352.940089px;bottom:1061.754925px;width:15.751000px;height:7.555000px;background-color:rgba(255,255,255,0.000001);\"></div></a>\n",
      "<a class=\"l\" data-dest-detail='[452,\"XYZ\",72,685.05,null]' href=\"#pf1c4\"><div class=\"d m1\" style=\"border-style:none;position:absolute;left:389.463352px;bottom:1033.318317px;width:15.751000px;height:7.219000px;background-color:rgba(255,255,255,0.000001);\"></div></a>\n",
      "<a class=\"l\" data-dest-detail='[443,\"XYZ\",72,362.71,null]' href=\"#pf1bb\"><div class=\"d m1\" style=\"border-style:none;position:absolute;left:401.422174px;bottom:996.717645px;width:15.751000px;height:7.555000px;background-color:rgba(255,255,255,0.000001);\"></div></a>\n",
      "<a class=\"l\" data-dest-detail='[452,\"XYZ\",72,618.04,null]' href=\"#pf1c4\"><div class=\"d m1\" style=\"border-style:none;position:absolute;left:341.127483px;bottom:964.199006px;width:15.751000px;height:7.555000px;background-color:rgba(255,255,255,0.000001);\"></div></a>\n",
      "<a class=\"l\" data-dest-detail='[452,\"XYZ\",72,484.49,null]' href=\"#pf1c4\"><div class=\"d m1\" style=\"border-style:none;position:absolute;left:350.736514px;bottom:931.680366px;width:15.751000px;height:7.555000px;background-color:rgba(255,255,255,0.000001);\"></div></a>\n",
      "<a class=\"l\" data-dest-detail='[443,\"XYZ\",72,426.46,null]' href=\"#pf1bb\"><div class=\"d m1\" style=\"border-style:none;position:absolute;left:348.624110px;bottom:903.243758px;width:15.751000px;height:7.219000px;background-color:rgba(255,255,255,0.000001);\"></div></a>\n",
      "<a class=\"l\" data-dest-detail='[453,\"XYZ\",72,407.62,null]' href=\"#pf1c5\"><div class=\"d m1\" style=\"border-style:none;position:absolute;left:333.433033px;bottom:866.641365px;width:15.751000px;height:7.556000px;background-color:rgba(255,255,255,0.000001);\"></div></a>\n",
      "<a class=\"l\" data-dest-detail='[453,\"XYZ\",72,278.21,null]' href=\"#pf1c5\"><div class=\"d m1\" style=\"border-style:none;position:absolute;left:356.119016px;bottom:834.122725px;width:15.751000px;height:7.555000px;background-color:rgba(255,255,255,0.000001);\"></div></a>\n",
      "<a class=\"l\" data-dest-detail='[453,\"XYZ\",72,342.65,null]' href=\"#pf1c5\"><div class=\"d m1\" style=\"border-style:none;position:absolute;left:364.465421px;bottom:801.604085px;width:15.751000px;height:7.555000px;background-color:rgba(255,255,255,0.000001);\"></div></a>\n",
      "<a class=\"l\" data-dest-detail='[447,\"XYZ\",72,704.56,null]' href=\"#pf1bf\"><div class=\"d m1\" style=\"border-style:none;position:absolute;left:367.697675px;bottom:768.400806px;width:15.751000px;height:9.592000px;background-color:rgba(255,255,255,0.000001);\"></div></a>\n",
      "<a class=\"l\" data-dest-detail='[447,\"XYZ\",72,656.24,null]' href=\"#pf1bf\"><div class=\"d m1\" style=\"border-style:none;position:absolute;left:357.510657px;bottom:735.882166px;width:15.751000px;height:9.592000px;background-color:rgba(255,255,255,0.000001);\"></div></a>\n",
      "<a class=\"l\" data-dest-detail='[452,\"XYZ\",72,551.03,null]' href=\"#pf1c4\"><div class=\"d m1\" style=\"border-style:none;position:absolute;left:378.139282px;bottom:707.445558px;width:15.751000px;height:7.219000px;background-color:rgba(255,255,255,0.000001);\"></div></a>\n",
      "<a class=\"l\" data-dest-detail='[453,\"XYZ\",72,213.3,null]' href=\"#pf1c5\"><div class=\"d m1\" style=\"border-style:none;position:absolute;left:377.181132px;bottom:670.843166px;width:15.751000px;height:7.556000px;background-color:rgba(255,255,255,0.000001);\"></div></a>\n",
      "<a class=\"l\" data-dest-detail='[454,\"XYZ\",72,704.47,null]' href=\"#pf1c6\"><div class=\"d m1\" style=\"border-style:none;position:absolute;left:381.624405px;bottom:638.324526px;width:15.751000px;height:7.555000px;background-color:rgba(255,255,255,0.000001);\"></div></a>\n",
      "<a class=\"l\" data-dest-detail='[453,\"XYZ\",72,538.72,null]' href=\"#pf1c5\"><div class=\"d m1\" style=\"border-style:none;position:absolute;left:348.207822px;bottom:605.805886px;width:15.751000px;height:9.593000px;background-color:rgba(255,255,255,0.000001);\"></div></a>\n",
      "<a class=\"l\" data-dest-detail='[454,\"XYZ\",72,327.96,null]' href=\"#pf1c6\"><div class=\"d m1\" style=\"border-style:none;position:absolute;left:374.200027px;bottom:573.287246px;width:15.751000px;height:7.555000px;background-color:rgba(255,255,255,0.000001);\"></div></a>\n",
      "<a class=\"l\" data-dest-detail='[454,\"XYZ\",72,412.44,null]' href=\"#pf1c6\"><div class=\"d m1\" style=\"border-style:none;position:absolute;left:354.042736px;bottom:540.768606px;width:15.751000px;height:7.555000px;background-color:rgba(255,255,255,0.000001);\"></div></a>\n",
      "<a class=\"l\" data-dest-detail='[453,\"XYZ\",72,453.56,null]' href=\"#pf1c5\"><div class=\"d m1\" style=\"border-style:none;position:absolute;left:342.011665px;bottom:508.249966px;width:15.751000px;height:7.555000px;background-color:rgba(255,255,255,0.000001);\"></div></a>\n",
      "<a class=\"l\" data-dest-detail='[455,\"XYZ\",72,551.48,null]' href=\"#pf1c7\"><div class=\"d m1\" style=\"border-style:none;position:absolute;left:314.321623px;bottom:475.044967px;width:15.751000px;height:9.593000px;background-color:rgba(255,255,255,0.000001);\"></div></a>\n",
      "<a class=\"l\" data-dest-detail='[456,\"XYZ\",72,657.38,null]' href=\"#pf1c8\"><div class=\"d m1\" style=\"border-style:none;position:absolute;left:346.492783px;bottom:442.526327px;width:15.750000px;height:9.593000px;background-color:rgba(255,255,255,0.000001);\"></div></a>\n",
      "<a class=\"l\" data-dest-detail='[454,\"XYZ\",72,129.55,null]' href=\"#pf1c6\"><div class=\"d m1\" style=\"border-style:none;position:absolute;left:318.675447px;bottom:410.007687px;width:15.751000px;height:7.555000px;background-color:rgba(255,255,255,0.000001);\"></div></a>\n",
      "<a class=\"l\" data-dest-detail='[454,\"XYZ\",72,195.53,null]' href=\"#pf1c6\"><div class=\"d m1\" style=\"border-style:none;position:absolute;left:385.905980px;bottom:377.489047px;width:15.751000px;height:7.555000px;background-color:rgba(255,255,255,0.000001);\"></div></a>\n",
      "<a class=\"l\" data-dest-detail='[455,\"XYZ\",72,618.74,null]' href=\"#pf1c7\"><div class=\"d m1\" style=\"border-style:none;position:absolute;left:348.082247px;bottom:344.970407px;width:15.750000px;height:7.555000px;background-color:rgba(255,255,255,0.000001);\"></div></a>\n",
      "<a class=\"l\" data-dest-detail='[455,\"XYZ\",72,484.56,null]' href=\"#pf1c7\"><div class=\"d m1\" style=\"border-style:none;position:absolute;left:348.496815px;bottom:312.451767px;width:15.751000px;height:7.555000px;background-color:rgba(255,255,255,0.000001);\"></div></a>\n",
      "<a class=\"l\" data-dest-detail='[452,\"XYZ\",72,417.01,null]' href=\"#pf1c4\"><div class=\"d m1\" style=\"border-style:none;position:absolute;left:354.999167px;bottom:279.933127px;width:15.751000px;height:7.555000px;background-color:rgba(255,255,255,0.000001);\"></div></a>\n",
      "<a class=\"l\" data-dest-detail='[455,\"XYZ\",72,685.13,null]' href=\"#pf1c7\"><div class=\"d m1\" style=\"border-style:none;position:absolute;left:355.974520px;bottom:247.414487px;width:15.751000px;height:9.592000px;background-color:rgba(255,255,255,0.000001);\"></div></a>\n",
      "<a class=\"l\" data-dest-detail='[455,\"XYZ\",72,740.93,null]' href=\"#pf1c7\"><div class=\"d m1\" style=\"border-style:none;position:absolute;left:368.475205px;bottom:214.895847px;width:15.751000px;height:7.555000px;background-color:rgba(255,255,255,0.000001);\"></div></a>\n",
      "<a class=\"l\" data-dest-detail='[454,\"XYZ\",72,261.51,null]' href=\"#pf1c6\"><div class=\"d m1\" style=\"border-style:none;position:absolute;left:377.236178px;bottom:182.377207px;width:15.750000px;height:7.555000px;background-color:rgba(255,255,255,0.000001);\"></div></a>\n",
      "<a class=\"l\" data-dest-detail='[267,\"XYZ\",262.66,358.16,null]' href=\"#pf10b\"><div class=\"d m1\" style=\"border-style:none;position:absolute;left:298.516436px;bottom:1010.087031px;width:18.376000px;height:7.555000px;background-color:rgba(255,255,255,0.000001);\"></div></a>\n",
      "<a class=\"l\" data-dest-detail='[267,\"XYZ\",262.66,358.16,null]' href=\"#pf10b\"><div class=\"d m1\" style=\"border-style:none;position:absolute;left:298.516436px;bottom:669.255423px;width:18.376000px;height:7.556000px;background-color:rgba(255,255,255,0.000001);\"></div></a>\n",
      "<a class=\"l\" data-dest-detail='[267,\"XYZ\",262.66,358.16,null]' href=\"#pf10b\"><div class=\"d m1\" style=\"border-style:none;position:absolute;left:310.418492px;bottom:334.238086px;width:18.376000px;height:7.555000px;background-color:rgba(255,255,255,0.000001);\"></div></a>\n",
      "<a class=\"l\" data-dest-detail='[269,\"XYZ\",234.88,560.46,null]' href=\"#pf10d\"><div class=\"d m1\" style=\"border-style:none;position:absolute;left:710.817148px;bottom:816.150087px;width:18.376000px;height:9.592000px;background-color:rgba(255,255,255,0.000001);\"></div></a>\n",
      "<a class=\"l\" data-dest-detail='[456,\"XYZ\",72,610.66,null]' href=\"#pf1c8\"><div class=\"d m1\" style=\"border-style:none;position:absolute;left:328.563150px;bottom:627.583604px;width:15.751000px;height:7.556000px;background-color:rgba(255,255,255,0.000001);\"></div></a>\n",
      "<a class=\"l\" data-dest-detail='[456,\"XYZ\",72,563.06,null]' href=\"#pf1c8\"><div class=\"d m1\" style=\"border-style:none;position:absolute;left:365.430453px;bottom:627.583604px;width:15.751000px;height:7.556000px;background-color:rgba(255,255,255,0.000001);\"></div></a>\n",
      "<a class=\"l\" data-dest-detail='[270,\"XYZ\",259.06,560.89,null]' href=\"#pf10e\"><div class=\"d m1\" style=\"border-style:none;position:absolute;left:777.320038px;bottom:871.834646px;width:18.376000px;height:7.555000px;background-color:rgba(255,255,255,0.000001);\"></div></a>\n",
      "<a class=\"l\" data-dest-detail='[271,\"XYZ\",154.29,504.2,null]' href=\"#pf10f\"><div class=\"d m1\" style=\"border-style:none;position:absolute;left:232.651740px;bottom:352.534122px;width:18.376000px;height:7.555000px;background-color:rgba(255,255,255,0.000001);\"></div></a>\n",
      "<a class=\"l\" data-dest-detail='[271,\"XYZ\",381.55,504.2,null]' href=\"#pf10f\"><div class=\"d m1\" style=\"border-style:none;position:absolute;left:632.018277px;bottom:183.264830px;width:18.376000px;height:7.555000px;background-color:rgba(255,255,255,0.000001);\"></div></a>\n",
      "<a class=\"l\" data-dest-detail='[456,\"XYZ\",72,515.93,null]' href=\"#pf1c8\"><div class=\"d m1\" style=\"border-style:none;position:absolute;left:389.306814px;bottom:715.496089px;width:15.751000px;height:7.555000px;background-color:rgba(255,255,255,0.000001);\"></div></a>\n",
      "<a class=\"l\" data-dest-detail='[65,\"XYZ\",72,749.87,null]' href=\"#pf41\"><div class=\"d m1\" style=\"border-style:none;position:absolute;left:423.349550px;bottom:248.302110px;width:13.126000px;height:7.555000px;background-color:rgba(255,255,255,0.000001);\"></div></a>\n",
      "<a class=\"l\" data-dest-detail='[273,\"XYZ\",210.71,713.39,null]' href=\"#pf111\"><div class=\"d m1\" style=\"border-style:none;position:absolute;left:436.942561px;bottom:659.106249px;width:23.627000px;height:7.555000px;background-color:rgba(255,255,255,0.000001);\"></div></a>\n",
      "<a class=\"l\" data-dest-detail='[456,\"XYZ\",72,469.27,null]' href=\"#pf1c8\"><div class=\"d m1\" style=\"border-style:none;position:absolute;left:810.762424px;bottom:445.827389px;width:15.751000px;height:7.555000px;background-color:rgba(255,255,255,0.000001);\"></div></a>\n",
      "<a class=\"l\" data-dest-detail='[456,\"XYZ\",72,421.73,null]' href=\"#pf1c8\"><div class=\"d m1\" style=\"border-style:none;position:absolute;left:253.024056px;bottom:380.790109px;width:15.751000px;height:7.555000px;background-color:rgba(255,255,255,0.000001);\"></div></a>\n",
      "<a class=\"l\" data-dest-detail='[456,\"XYZ\",72,374.6,null]' href=\"#pf1c8\"><div class=\"d m1\" style=\"border-style:none;position:absolute;left:500.904717px;bottom:800.534122px;width:15.751000px;height:7.555000px;background-color:rgba(255,255,255,0.000001);\"></div></a>\n",
      "<a class=\"l\" data-dest-detail='[275,\"XYZ\",238.41,665.89,null]' href=\"#pf113\"><div class=\"d m1\" style=\"border-style:none;position:absolute;left:256.311356px;bottom:487.131085px;width:23.626000px;height:7.555000px;background-color:rgba(255,255,255,0.000001);\"></div></a>\n",
      "<a class=\"l\" data-dest-detail='[275,\"XYZ\",238.41,665.89,null]' href=\"#pf113\"><div class=\"d m1\" style=\"border-style:none;position:absolute;left:308.983846px;bottom:487.131085px;width:23.626000px;height:7.555000px;background-color:rgba(255,255,255,0.000001);\"></div></a>\n",
      "<a class=\"l\" data-dest-detail='[275,\"XYZ\",238.41,665.89,null]' href=\"#pf113\"><div class=\"d m1\" style=\"border-style:none;position:absolute;left:361.656337px;bottom:487.131085px;width:23.626000px;height:7.555000px;background-color:rgba(255,255,255,0.000001);\"></div></a>\n",
      "<a class=\"l\" data-dest-detail='[275,\"XYZ\",204.57,183.69,null]' href=\"#pf113\"><div class=\"d m1\" style=\"border-style:none;position:absolute;left:374.719527px;bottom:215.783470px;width:23.627000px;height:9.592000px;background-color:rgba(255,255,255,0.000001);\"></div></a>\n",
      "<a class=\"l\" data-dest-detail='[275,\"XYZ\",184.33,389.23,null]' href=\"#pf113\"><div class=\"d m1\" style=\"border-style:none;position:absolute;left:445.455826px;bottom:215.783470px;width:23.626000px;height:7.555000px;background-color:rgba(255,255,255,0.000001);\"></div></a>\n",
      "<a class=\"l\" data-dest-detail='[456,\"XYZ\",72,346.79,null]' href=\"#pf1c8\"><div class=\"d m1\" style=\"border-style:none;position:absolute;left:494.034243px;bottom:1220.701304px;width:15.751000px;height:9.592000px;background-color:rgba(255,255,255,0.000001);\"></div></a>\n",
      "<a class=\"l\" data-dest-detail='[456,\"XYZ\",72,299.19,null]' href=\"#pf1c8\"><div class=\"d m1\" style=\"border-style:none;position:absolute;left:531.114850px;bottom:1220.701304px;width:15.751000px;height:7.555000px;background-color:rgba(255,255,255,0.000001);\"></div></a>\n",
      "<a class=\"l\" data-dest-detail='[456,\"XYZ\",72,252.06,null]' href=\"#pf1c8\"><div class=\"d m1\" style=\"border-style:none;position:absolute;left:504.150732px;bottom:927.911410px;width:15.751000px;height:9.593000px;background-color:rgba(255,255,255,0.000001);\"></div></a>\n",
      "<a class=\"l\" data-dest-detail='[456,\"XYZ\",72,204.99,null]' href=\"#pf1c8\"><div class=\"d m1\" style=\"border-style:none;position:absolute;left:541.076522px;bottom:927.911410px;width:15.751000px;height:7.556000px;background-color:rgba(255,255,255,0.000001);\"></div></a>\n",
      "<a class=\"l\" data-dest-detail='[456,\"XYZ\",72,252.06,null]' href=\"#pf1c8\"><div class=\"d m1\" style=\"border-style:none;position:absolute;left:189.624405px;bottom:895.392770px;width:15.751000px;height:9.593000px;background-color:rgba(255,255,255,0.000001);\"></div></a>\n",
      "<a class=\"l\" data-dest-detail='[276,\"XYZ\",259.06,412.54,null]' href=\"#pf114\"><div class=\"d m1\" style=\"border-style:none;position:absolute;left:160.214165px;bottom:862.874130px;width:18.376000px;height:7.555000px;background-color:rgba(255,255,255,0.000001);\"></div></a>\n",
      "<a class=\"l\" data-dest-detail='[456,\"XYZ\",72,158.27,null]' href=\"#pf1c8\"><div class=\"d m1\" style=\"border-style:none;position:absolute;left:484.043328px;bottom:1060.655718px;width:15.751000px;height:7.219000px;background-color:rgba(255,255,255,0.000001);\"></div></a>\n",
      "<a class=\"l\" data-dest-detail='[456,\"XYZ\",72,110.67,null]' href=\"#pf1c8\"><div class=\"d m1\" style=\"border-style:none;position:absolute;left:834.332590px;bottom:897.049321px;width:15.751000px;height:7.219000px;background-color:rgba(255,255,255,0.000001);\"></div></a>\n",
      "<a class=\"l\" data-dest-detail='[456,\"XYZ\",72,110.67,null]' href=\"#pf1c8\"><div class=\"d m1\" style=\"border-style:none;position:absolute;left:527.258164px;bottom:759.328477px;width:15.751000px;height:7.219000px;background-color:rgba(255,255,255,0.000001);\"></div></a>\n",
      "<a class=\"l\" data-dest-detail='[457,\"XYZ\",72,740.93,null]' href=\"#pf1c9\"><div class=\"d m1\" style=\"border-style:none;position:absolute;left:719.056901px;bottom:626.376025px;width:15.751000px;height:7.219000px;background-color:rgba(255,255,255,0.000001);\"></div></a>\n",
      "<a class=\"l\" data-dest-detail='[457,\"XYZ\",72,685.13,null]' href=\"#pf1c9\"><div class=\"d m1\" style=\"border-style:none;position:absolute;left:758.532025px;bottom:622.293993px;width:15.751000px;height:9.592000px;background-color:rgba(255,255,255,0.000001);\"></div></a>\n",
      "<a class=\"l\" data-dest-detail='[457,\"XYZ\",72,637.24,null]' href=\"#pf1c9\"><div class=\"d m1\" style=\"border-style:none;position:absolute;left:859.261712px;bottom:622.293993px;width:15.751000px;height:9.592000px;background-color:rgba(255,255,255,0.000001);\"></div></a>\n",
      "<a class=\"l\" data-dest-detail='[457,\"XYZ\",72,589.22,null]' href=\"#pf1c9\"><div class=\"d m1\" style=\"border-style:none;position:absolute;left:171.089262px;bottom:589.775353px;width:15.751000px;height:9.592000px;background-color:rgba(255,255,255,0.000001);\"></div></a>\n",
      "<a class=\"l\" data-dest-detail='[457,\"XYZ\",72,541.27,null]' href=\"#pf1c9\"><div class=\"d m1\" style=\"border-style:none;position:absolute;left:129.869856px;bottom:1092.797635px;width:15.751000px;height:7.220000px;background-color:rgba(255,255,255,0.000001);\"></div></a>\n",
      "<a class=\"l\" data-dest-detail='[457,\"XYZ\",72,541.27,null]' href=\"#pf1c9\"><div class=\"d m1\" style=\"border-style:none;position:absolute;left:389.150276px;bottom:1092.797635px;width:15.751000px;height:7.220000px;background-color:rgba(255,255,255,0.000001);\"></div></a>\n",
      "<a class=\"l\" data-dest-detail='[457,\"XYZ\",72,474.41,null]' href=\"#pf1c9\"><div class=\"d m1\" style=\"border-style:none;position:absolute;left:426.414944px;bottom:1088.715603px;width:15.751000px;height:9.593000px;background-color:rgba(255,255,255,0.000001);\"></div></a>\n",
      "<a class=\"l\" data-dest-detail='[457,\"XYZ\",72,426.46,null]' href=\"#pf1c9\"><div class=\"d m1\" style=\"border-style:none;position:absolute;left:653.701384px;bottom:1027.760355px;width:15.751000px;height:7.219000px;background-color:rgba(255,255,255,0.000001);\"></div></a>\n",
      "<a class=\"l\" data-dest-detail='[279,\"XYZ\",269.56,395.58,null]' href=\"#pf117\"><div class=\"d m1\" style=\"border-style:none;position:absolute;left:141.918129px;bottom:958.641043px;width:18.376000px;height:7.555000px;background-color:rgba(255,255,255,0.000001);\"></div></a>\n",
      "<a class=\"l\" data-dest-detail='[279,\"XYZ\",269.56,395.58,null]' href=\"#pf117\"><div class=\"d m1\" style=\"border-style:none;position:absolute;left:215.229566px;bottom:958.641043px;width:18.376000px;height:7.555000px;background-color:rgba(255,255,255,0.000001);\"></div></a>\n",
      "<a class=\"l\" data-dest-detail='[279,\"XYZ\",269.56,395.58,null]' href=\"#pf117\"><div class=\"d m1\" style=\"border-style:none;position:absolute;left:462.069507px;bottom:431.511894px;width:18.376000px;height:7.555000px;background-color:rgba(255,255,255,0.000001);\"></div></a>\n",
      "<a class=\"l\" data-dest-detail='[457,\"XYZ\",72,379.85,null]' href=\"#pf1c9\"><div class=\"d m1\" style=\"border-style:none;position:absolute;left:709.661175px;bottom:1090.626744px;width:15.751000px;height:9.592000px;background-color:rgba(255,255,255,0.000001);\"></div></a>\n",
      "<a class=\"l\" data-dest-detail='[280,\"XYZ\",184.56,387.26,null]' href=\"#pf118\"><div class=\"d m1\" style=\"border-style:none;position:absolute;left:833.087166px;bottom:1090.626744px;width:18.376000px;height:9.592000px;background-color:rgba(255,255,255,0.000001);\"></div></a>\n",
      "<a class=\"l\" data-dest-detail='[280,\"XYZ\",404.06,387.26,null]' href=\"#pf118\"><div class=\"d m1\" style=\"border-style:none;position:absolute;left:487.143126px;bottom:249.593979px;width:18.376000px;height:7.555000px;background-color:rgba(255,255,255,0.000001);\"></div></a>\n",
      "<a class=\"l\" data-dest-detail='[457,\"XYZ\",72,314.42,null]' href=\"#pf1c9\"><div class=\"d m1\" style=\"border-style:none;position:absolute;left:758.648999px;bottom:249.593979px;width:15.751000px;height:7.555000px;background-color:rgba(255,255,255,0.000001);\"></div></a>\n",
      "<a class=\"l\" data-dest-detail='[457,\"XYZ\",72,263.7,null]' href=\"#pf1c9\"><div class=\"d m1\" style=\"border-style:none;position:absolute;left:152.447467px;bottom:184.554979px;width:15.751000px;height:7.556000px;background-color:rgba(255,255,255,0.000001);\"></div></a>\n",
      "<a class=\"l\" data-dest-detail='[457,\"XYZ\",72,215.81,null]' href=\"#pf1c9\"><div class=\"d m1\" style=\"border-style:none;position:absolute;left:702.167988px;bottom:401.625158px;width:15.751000px;height:7.555000px;background-color:rgba(255,255,255,0.000001);\"></div></a>\n",
      "<a class=\"l\" data-dest-detail='[457,\"XYZ\",72,148.89,null]' href=\"#pf1c9\"><div class=\"d m1\" style=\"border-style:none;position:absolute;left:330.345276px;bottom:1058.866711px;width:15.751000px;height:7.555000px;background-color:rgba(255,255,255,0.000001);\"></div></a>\n",
      "<a class=\"l\" data-dest-detail='[458,\"XYZ\",72,740.93,null]' href=\"#pf1ca\"><div class=\"d m1\" style=\"border-style:none;position:absolute;left:294.455046px;bottom:483.338046px;width:15.751000px;height:7.555000px;background-color:rgba(255,255,255,0.000001);\"></div></a>\n",
      "<a class=\"l\" data-dest-detail='[458,\"XYZ\",72,740.93,null]' href=\"#pf1ca\"><div class=\"d m1\" style=\"border-style:none;position:absolute;left:424.245773px;bottom:745.831797px;width:15.750000px;height:7.555000px;background-color:rgba(255,255,255,0.000001);\"></div></a>\n",
      "<a class=\"l\" data-dest-detail='[458,\"XYZ\",72,705.86,null]' href=\"#pf1ca\"><div class=\"d m1\" style=\"border-style:none;position:absolute;left:506.768875px;bottom:1201.453998px;width:15.751000px;height:7.556000px;background-color:rgba(255,255,255,0.000001);\"></div></a>\n",
      "<a class=\"l\" data-dest-detail='[458,\"XYZ\",72,660.14,null]' href=\"#pf1ca\"><div class=\"d m1\" style=\"border-style:none;position:absolute;left:544.761188px;bottom:1201.453998px;width:15.750000px;height:9.593000px;background-color:rgba(255,255,255,0.000001);\"></div></a>\n",
      "<a class=\"l\" data-dest-detail='[288,\"XYZ\",224.93,549.58,null]' href=\"#pf120\"><div class=\"d m1\" style=\"border-style:none;position:absolute;left:539.306437px;bottom:182.461497px;width:23.626000px;height:7.555000px;background-color:rgba(255,255,255,0.000001);\"></div></a>\n",
      "<a class=\"l\" data-dest-detail='[458,\"XYZ\",72,633.86,null]' href=\"#pf1ca\"><div class=\"d m1\" style=\"border-style:none;position:absolute;left:648.711087px;bottom:744.125359px;width:15.751000px;height:7.555000px;background-color:rgba(255,255,255,0.000001);\"></div></a>\n",
      "<a class=\"l\" data-dest-detail='[294,\"XYZ\",72,322.5,null]' href=\"#pf126\"><div class=\"d m1\" style=\"border-style:none;position:absolute;left:567.555544px;bottom:1253.355839px;width:18.376000px;height:7.392000px;background-color:rgba(255,255,255,0.000001);\"></div></a>\n",
      "<a class=\"l\" data-dest-detail='[458,\"XYZ\",72,588.55,null]' href=\"#pf1ca\"><div class=\"d m1\" style=\"border-style:none;position:absolute;left:820.784303px;bottom:1151.807338px;width:15.751000px;height:9.592000px;background-color:rgba(255,255,255,0.000001);\"></div></a>\n",
      "<a class=\"l\" data-dest-detail='[458,\"XYZ\",72,543.3,null]' href=\"#pf1ca\"><div class=\"d m1\" style=\"border-style:none;position:absolute;left:318.009730px;bottom:280.820750px;width:15.751000px;height:7.555000px;background-color:rgba(255,255,255,0.000001);\"></div></a>\n",
      "<a class=\"l\" data-dest-detail='[458,\"XYZ\",72,516.96,null]' href=\"#pf1ca\"><div class=\"d m1\" style=\"border-style:none;position:absolute;left:372.700013px;bottom:215.783470px;width:15.751000px;height:7.555000px;background-color:rgba(255,255,255,0.000001);\"></div></a>\n",
      "<a class=\"l\" data-dest-detail='[458,\"XYZ\",72,472.18,null]' href=\"#pf1ca\"><div class=\"d m1\" style=\"border-style:none;position:absolute;left:439.548663px;bottom:150.746190px;width:15.751000px;height:7.555000px;background-color:rgba(255,255,255,0.000001);\"></div></a>\n",
      "<a class=\"l\" data-dest-detail='[458,\"XYZ\",72,426.93,null]' href=\"#pf1ca\"><div class=\"d m1\" style=\"border-style:none;position:absolute;left:291.100659px;bottom:1188.182664px;width:15.751000px;height:7.555000px;background-color:rgba(255,255,255,0.000001);\"></div></a>\n",
      "<a class=\"l\" data-dest-detail='[458,\"XYZ\",72,362.78,null]' href=\"#pf1ca\"><div class=\"d m1\" style=\"border-style:none;position:absolute;left:620.632281px;bottom:895.513184px;width:15.751000px;height:7.555000px;background-color:rgba(255,255,255,0.000001);\"></div></a>\n",
      "<a class=\"l\" data-dest-detail='[304,\"XYZ\",260.55,310.15,null]' href=\"#pf130\"><div class=\"d m1\" style=\"border-style:none;position:absolute;left:328.790216px;bottom:284.894181px;width:18.376000px;height:7.224000px;background-color:rgba(255,255,255,0.000001);\"></div></a>\n",
      "<a class=\"l\" data-dest-detail='[304,\"XYZ\",256.96,227.22,null]' href=\"#pf130\"><div class=\"d m1\" style=\"border-style:none;position:absolute;left:581.702459px;bottom:284.894181px;width:18.376000px;height:7.224000px;background-color:rgba(255,255,255,0.000001);\"></div></a>\n",
      "<a class=\"l\" data-dest-detail='[304,\"XYZ\",260.55,310.15,null]' href=\"#pf130\"><div class=\"d m1\" style=\"border-style:none;position:absolute;left:409.175111px;bottom:768.039565px;width:18.376000px;height:7.224000px;background-color:rgba(255,255,255,0.000001);\"></div></a>\n",
      "<a class=\"l\" data-dest-detail='[304,\"XYZ\",256.96,227.22,null]' href=\"#pf130\"><div class=\"d m1\" style=\"border-style:none;position:absolute;left:769.563661px;bottom:768.039565px;width:18.376000px;height:7.224000px;background-color:rgba(255,255,255,0.000001);\"></div></a>\n",
      "<a class=\"l\" data-dest-detail='[304,\"XYZ\",260.55,310.15,null]' href=\"#pf130\"><div class=\"d m1\" style=\"border-style:none;position:absolute;left:328.563150px;bottom:665.476146px;width:18.377000px;height:7.225000px;background-color:rgba(255,255,255,0.000001);\"></div></a>\n",
      "<a class=\"l\" data-dest-detail='[394,\"XYZ\",96.76,169.13,null]' href=\"#pf18a\"><div class=\"d m1\" style=\"border-style:none;position:absolute;left:662.768553px;bottom:661.404435px;width:18.376000px;height:9.592000px;background-color:rgba(255,255,255,0.000001);\"></div></a>\n",
      "<a class=\"l\" data-dest-detail='[304,\"XYZ\",256.96,227.22,null]' href=\"#pf130\"><div class=\"d m1\" style=\"border-style:none;position:absolute;left:400.816664px;bottom:290.534713px;width:18.376000px;height:7.224000px;background-color:rgba(255,255,255,0.000001);\"></div></a>\n",
      "<a class=\"l\" data-dest-detail='[304,\"XYZ\",260.55,310.15,null]' href=\"#pf130\"><div class=\"d m1\" style=\"border-style:none;position:absolute;left:408.944604px;bottom:739.160865px;width:18.376000px;height:7.224000px;background-color:rgba(255,255,255,0.000001);\"></div></a>\n",
      "<a class=\"l\" data-dest-detail='[304,\"XYZ\",256.96,227.22,null]' href=\"#pf130\"><div class=\"d m1\" style=\"border-style:none;position:absolute;left:667.354603px;bottom:739.160865px;width:18.376000px;height:7.224000px;background-color:rgba(255,255,255,0.000001);\"></div></a>\n",
      "<a class=\"l\" data-dest-detail='[304,\"XYZ\",256.96,227.22,null]' href=\"#pf130\"><div class=\"d m1\" style=\"border-style:none;position:absolute;left:349.160812px;bottom:612.084612px;width:18.376000px;height:7.224000px;background-color:rgba(255,255,255,0.000001);\"></div></a>\n",
      "<a class=\"l\" data-dest-detail='[306,\"XYZ\",72,448.67,null]' href=\"#pf132\"><div class=\"d m1\" style=\"border-style:none;position:absolute;left:141.918129px;bottom:579.483403px;width:18.376000px;height:7.209000px;background-color:rgba(255,255,255,0.000001);\"></div></a>\n",
      "<a class=\"l\" data-dest-detail='[304,\"XYZ\",260.55,310.15,null]' href=\"#pf130\"><div class=\"d m1\" style=\"border-style:none;position:absolute;left:284.515737px;bottom:467.249026px;width:18.376000px;height:7.225000px;background-color:rgba(255,255,255,0.000001);\"></div></a>\n",
      "<a class=\"l\" data-dest-detail='[304,\"XYZ\",256.96,227.22,null]' href=\"#pf130\"><div class=\"d m1\" style=\"border-style:none;position:absolute;left:346.219272px;bottom:467.249026px;width:18.376000px;height:7.225000px;background-color:rgba(255,255,255,0.000001);\"></div></a>\n",
      "<a class=\"l\" data-dest-detail='[304,\"XYZ\",260.55,310.15,null]' href=\"#pf130\"><div class=\"d m1\" style=\"border-style:none;position:absolute;left:147.931945px;bottom:434.730386px;width:18.376000px;height:7.224000px;background-color:rgba(255,255,255,0.000001);\"></div></a>\n",
      "<a class=\"l\" data-dest-detail='[304,\"XYZ\",256.96,227.22,null]' href=\"#pf130\"><div class=\"d m1\" style=\"border-style:none;position:absolute;left:209.635479px;bottom:434.730386px;width:18.376000px;height:7.224000px;background-color:rgba(255,255,255,0.000001);\"></div></a>\n",
      "<a class=\"l\" data-dest-detail='[304,\"XYZ\",260.55,310.15,null]' href=\"#pf130\"><div class=\"d m1\" style=\"border-style:none;position:absolute;left:487.146566px;bottom:307.654133px;width:18.376000px;height:7.225000px;background-color:rgba(255,255,255,0.000001);\"></div></a>\n",
      "<a class=\"l\" data-dest-detail='[304,\"XYZ\",256.96,227.22,null]' href=\"#pf130\"><div class=\"d m1\" style=\"border-style:none;position:absolute;left:549.259508px;bottom:307.654133px;width:18.376000px;height:7.225000px;background-color:rgba(255,255,255,0.000001);\"></div></a>\n",
      "<a class=\"l\" data-dest-detail='[306,\"XYZ\",72,290.6,null]' href=\"#pf132\"><div class=\"d m1\" style=\"border-style:none;position:absolute;left:196.106115px;bottom:834.922618px;width:18.377000px;height:9.450000px;background-color:rgba(255,255,255,0.000001);\"></div></a>\n",
      "<a class=\"l\" data-dest-detail='[304,\"XYZ\",260.55,310.15,null]' href=\"#pf130\"><div class=\"d m1\" style=\"border-style:none;position:absolute;left:395.759280px;bottom:838.860153px;width:18.376000px;height:7.224000px;background-color:rgba(255,255,255,0.000001);\"></div></a>\n",
      "<a class=\"l\" data-dest-detail='[304,\"XYZ\",256.96,227.22,null]' href=\"#pf130\"><div class=\"d m1\" style=\"border-style:none;position:absolute;left:457.462814px;bottom:838.860153px;width:18.376000px;height:7.224000px;background-color:rgba(255,255,255,0.000001);\"></div></a>\n",
      "<a class=\"l\" data-dest-detail='[304,\"XYZ\",260.55,310.15,null]' href=\"#pf130\"><div class=\"d m1\" style=\"border-style:none;position:absolute;left:400.274802px;bottom:804.901707px;width:18.376000px;height:7.225000px;background-color:rgba(255,255,255,0.000001);\"></div></a>\n",
      "<a class=\"l\" data-dest-detail='[304,\"XYZ\",256.96,227.22,null]' href=\"#pf130\"><div class=\"d m1\" style=\"border-style:none;position:absolute;left:461.978336px;bottom:804.901707px;width:18.376000px;height:7.225000px;background-color:rgba(255,255,255,0.000001);\"></div></a>\n",
      "<a class=\"l\" data-dest-detail='[306,\"XYZ\",72,448.67,null]' href=\"#pf132\"><div class=\"d m1\" style=\"border-style:none;position:absolute;left:680.235452px;bottom:804.820857px;width:18.376000px;height:7.209000px;background-color:rgba(255,255,255,0.000001);\"></div></a>\n",
      "<a class=\"l\" data-dest-detail='[306,\"XYZ\",72,244.21,null]' href=\"#pf132\"><div class=\"d m1\" style=\"border-style:none;position:absolute;left:479.586292px;bottom:674.918317px;width:18.377000px;height:9.450000px;background-color:rgba(255,255,255,0.000001);\"></div></a>\n",
      "<a class=\"l\" data-dest-detail='[307,\"XYZ\",214.84,220.08,null]' href=\"#pf133\"><div class=\"d m1\" style=\"border-style:none;position:absolute;left:274.375165px;bottom:1010.376025px;width:23.626000px;height:7.224000px;background-color:rgba(255,255,255,0.000001);\"></div></a>\n",
      "<a class=\"l\" data-dest-detail='[310,\"XYZ\",112.48,613.68,null]' href=\"#pf136\"><div class=\"d m1\" style=\"border-style:none;position:absolute;left:505.222416px;bottom:234.248085px;width:18.376000px;height:7.225000px;background-color:rgba(255,255,255,0.000001);\"></div></a>\n",
      "<a class=\"l\" data-dest-detail='[310,\"XYZ\",336.67,613.68,null]' href=\"#pf136\"><div class=\"d m1\" style=\"border-style:none;position:absolute;left:512.240828px;bottom:201.729445px;width:18.376000px;height:7.224000px;background-color:rgba(255,255,255,0.000001);\"></div></a>\n",
      "<a class=\"l\" href=\"http://blog.sciencenet.cn/blog-383627-307859.html\"><div class=\"d m1\" style=\"border-style:none;position:absolute;left:147.082166px;bottom:151.296654px;width:171.411000px;height:7.483000px;background-color:rgba(255,255,255,0.000001);\"></div></a>\n",
      "<a class=\"l\" data-dest-detail='[310,\"XYZ\",336.67,613.68,null]' href=\"#pf136\"><div class=\"d m1\" style=\"border-style:none;position:absolute;left:160.468754px;bottom:851.728961px;width:18.376000px;height:7.225000px;background-color:rgba(255,255,255,0.000001);\"></div></a>\n",
      "<a class=\"l\" data-dest-detail='[458,\"XYZ\",72,516.96,null]' href=\"#pf1ca\"><div class=\"d m1\" style=\"border-style:none;position:absolute;left:473.907916px;bottom:488.156323px;width:15.751000px;height:7.556000px;background-color:rgba(255,255,255,0.000001);\"></div></a>\n",
      "<a class=\"l\" data-dest-detail='[458,\"XYZ\",72,317.06,null]' href=\"#pf1ca\"><div class=\"d m1\" style=\"border-style:none;position:absolute;left:516.185244px;bottom:263.273001px;width:11.253000px;height:5.397000px;background-color:rgba(255,255,255,0.000001);\"></div></a>\n",
      "<a class=\"l\" data-dest-detail='[458,\"XYZ\",72,271.88,null]' href=\"#pf1ca\"><div class=\"d m1\" style=\"border-style:none;position:absolute;left:797.291547px;bottom:263.273001px;width:11.253000px;height:5.397000px;background-color:rgba(255,255,255,0.000001);\"></div></a>\n",
      "<a class=\"l\" data-dest-detail='[458,\"XYZ\",72,226.63,null]' href=\"#pf1ca\"><div class=\"d m1\" style=\"border-style:none;position:absolute;left:268.996103px;bottom:240.058917px;width:11.253000px;height:6.853000px;background-color:rgba(255,255,255,0.000001);\"></div></a>\n",
      "<a class=\"l\" data-dest-detail='[458,\"XYZ\",72,181.79,null]' href=\"#pf1ca\"><div class=\"d m1\" style=\"border-style:none;position:absolute;left:637.672571px;bottom:240.058917px;width:11.252000px;height:5.398000px;background-color:rgba(255,255,255,0.000001);\"></div></a>\n",
      "<a class=\"l\" data-dest-detail='[458,\"XYZ\",72,136.14,null]' href=\"#pf1ca\"><div class=\"d m1\" style=\"border-style:none;position:absolute;left:873.258971px;bottom:240.058917px;width:11.253000px;height:6.853000px;background-color:rgba(255,255,255,0.000001);\"></div></a>\n",
      "<a class=\"l\" data-dest-detail='[458,\"XYZ\",72,109.73,null]' href=\"#pf1ca\"><div class=\"d m1\" style=\"border-style:none;position:absolute;left:377.898455px;bottom:216.846553px;width:11.252000px;height:5.398000px;background-color:rgba(255,255,255,0.000001);\"></div></a>\n",
      "<a class=\"l\" data-dest-detail='[459,\"XYZ\",72,740.93,null]' href=\"#pf1cb\"><div class=\"d m1\" style=\"border-style:none;position:absolute;left:603.784653px;bottom:216.846553px;width:11.252000px;height:5.398000px;background-color:rgba(255,255,255,0.000001);\"></div></a>\n",
      "<a class=\"l\" data-dest-detail='[459,\"XYZ\",72,706.85,null]' href=\"#pf1cb\"><div class=\"d m1\" style=\"border-style:none;position:absolute;left:774.853272px;bottom:216.846553px;width:11.253000px;height:5.398000px;background-color:rgba(255,255,255,0.000001);\"></div></a>\n",
      "<a class=\"l\" data-dest-detail='[459,\"XYZ\",72,656.3,null]' href=\"#pf1cb\"><div class=\"d m1\" style=\"border-style:none;position:absolute;left:182.958635px;bottom:193.634189px;width:11.252000px;height:5.397000px;background-color:rgba(255,255,255,0.000001);\"></div></a>\n",
      "<a class=\"l\" data-dest-detail='[459,\"XYZ\",72,611.16,null]' href=\"#pf1cb\"><div class=\"d m1\" style=\"border-style:none;position:absolute;left:350.189491px;bottom:193.634189px;width:11.253000px;height:5.397000px;background-color:rgba(255,255,255,0.000001);\"></div></a>\n",
      "<a class=\"l\" data-dest-detail='[312,\"XYZ\",280.06,334,null]' href=\"#pf138\"><div class=\"d m1\" style=\"border-style:none;position:absolute;left:376.739040px;bottom:1000.779035px;width:18.376000px;height:9.566000px;background-color:rgba(255,255,255,0.000001);\"></div></a>\n",
      "<a class=\"l\" data-dest-detail='[459,\"XYZ\",72,560.61,null]' href=\"#pf1cb\"><div class=\"d m1\" style=\"border-style:none;position:absolute;left:297.661497px;bottom:150.746190px;width:15.751000px;height:7.555000px;background-color:rgba(255,255,255,0.000001);\"></div></a>\n",
      "<a class=\"l\" data-dest-detail='[459,\"XYZ\",72,512.7,null]' href=\"#pf1cb\"><div class=\"d m1\" style=\"border-style:none;position:absolute;left:334.214003px;bottom:150.746190px;width:15.751000px;height:7.555000px;background-color:rgba(255,255,255,0.000001);\"></div></a>\n",
      "<a class=\"l\" data-dest-detail='[459,\"XYZ\",72,464.92,null]' href=\"#pf1cb\"><div class=\"d m1\" style=\"border-style:none;position:absolute;left:856.733020px;bottom:991.350625px;width:15.751000px;height:9.593000px;background-color:rgba(255,255,255,0.000001);\"></div></a>\n",
      "<a class=\"l\" data-dest-detail='[459,\"XYZ\",72,417.48,null]' href=\"#pf1cb\"><div class=\"d m1\" style=\"border-style:none;position:absolute;left:440.186857px;bottom:958.831985px;width:15.751000px;height:7.556000px;background-color:rgba(255,255,255,0.000001);\"></div></a>\n",
      "<a class=\"l\" data-dest-detail='[459,\"XYZ\",72,369.23,null]' href=\"#pf1cb\"><div class=\"d m1\" style=\"border-style:none;position:absolute;left:775.820024px;bottom:958.831985px;width:15.751000px;height:9.593000px;background-color:rgba(255,255,255,0.000001);\"></div></a>\n",
      "<a class=\"l\" data-dest-detail='[459,\"XYZ\",72,321.38,null]' href=\"#pf1cb\"><div class=\"d m1\" style=\"border-style:none;position:absolute;left:147.931945px;bottom:926.313345px;width:15.751000px;height:7.555000px;background-color:rgba(255,255,255,0.000001);\"></div></a>\n",
      "<a class=\"l\" data-dest-detail='[459,\"XYZ\",72,273.47,null]' href=\"#pf1cb\"><div class=\"d m1\" style=\"border-style:none;position:absolute;left:330.424405px;bottom:926.313345px;width:15.751000px;height:7.555000px;background-color:rgba(255,255,255,0.000001);\"></div></a>\n",
      "<a class=\"l\" data-dest-detail='[459,\"XYZ\",72,225.69,null]' href=\"#pf1cb\"><div class=\"d m1\" style=\"border-style:none;position:absolute;left:631.968391px;bottom:215.919366px;width:15.751000px;height:7.392000px;background-color:rgba(255,255,255,0.000001);\"></div></a>\n",
      "<a class=\"l\" data-dest-detail='[316,\"XYZ\",154.7,439.58,null]' href=\"#pf13c\"><div class=\"d m1\" style=\"border-style:none;position:absolute;left:358.835210px;bottom:638.059616px;width:23.626000px;height:9.451000px;background-color:rgba(255,255,255,0.000001);\"></div></a>\n",
      "<a class=\"l\" data-dest-detail='[316,\"XYZ\",174.38,259.58,null]' href=\"#pf13c\"><div class=\"d m1\" style=\"border-style:none;position:absolute;left:206.637172px;bottom:1253.219944px;width:23.627000px;height:9.592000px;background-color:rgba(255,255,255,0.000001);\"></div></a>\n",
      "<a class=\"l\" data-dest-detail='[459,\"XYZ\",72,225.69,null]' href=\"#pf1cb\"><div class=\"d m1\" style=\"border-style:none;position:absolute;left:585.963392px;bottom:1007.365677px;width:15.751000px;height:7.555000px;background-color:rgba(255,255,255,0.000001);\"></div></a>\n",
      "<a class=\"l\" data-dest-detail='[459,\"XYZ\",72,560.61,null]' href=\"#pf1cb\"><div class=\"d m1\" style=\"border-style:none;position:absolute;left:447.659401px;bottom:870.415482px;width:15.751000px;height:7.555000px;background-color:rgba(255,255,255,0.000001);\"></div></a>\n",
      "<a class=\"l\" data-dest-detail='[459,\"XYZ\",72,512.7,null]' href=\"#pf1cb\"><div class=\"d m1\" style=\"border-style:none;position:absolute;left:541.618385px;bottom:837.896842px;width:15.751000px;height:7.555000px;background-color:rgba(255,255,255,0.000001);\"></div></a>\n",
      "<a class=\"l\" data-dest-detail='[318,\"XYZ\",228.29,436.82,null]' href=\"#pf13e\"><div class=\"d m1\" style=\"border-style:none;position:absolute;left:240.112243px;bottom:1020.984491px;width:23.627000px;height:9.593000px;background-color:rgba(255,255,255,0.000001);\"></div></a>\n",
      "<a class=\"l\" data-dest-detail='[319,\"XYZ\",214.14,642.24,null]' href=\"#pf13f\"><div class=\"d m1\" style=\"border-style:none;position:absolute;left:392.468539px;bottom:988.465851px;width:23.626000px;height:9.592000px;background-color:rgba(255,255,255,0.000001);\"></div></a>\n",
      "<a class=\"l\" data-dest-detail='[321,\"XYZ\",227.49,178.19,null]' href=\"#pf141\"><div class=\"d m1\" style=\"border-style:none;position:absolute;left:354.311087px;bottom:1220.701304px;width:23.627000px;height:9.592000px;background-color:rgba(255,255,255,0.000001);\"></div></a>\n",
      "<a class=\"l\" data-dest-detail='[459,\"XYZ\",72,196.75,null]' href=\"#pf1cb\"><div class=\"d m1\" style=\"border-style:none;position:absolute;left:295.774439px;bottom:387.545330px;width:15.751000px;height:7.555000px;background-color:rgba(255,255,255,0.000001);\"></div></a>\n",
      "<a class=\"l\" data-dest-detail='[441,\"XYZ\",72,525.39,null]' href=\"#pf1b9\"><div class=\"d m1\" style=\"border-style:none;position:absolute;left:839.830345px;bottom:355.026690px;width:10.500000px;height:9.592000px;background-color:rgba(255,255,255,0.000001);\"></div></a>\n",
      "<a class=\"l\" data-dest-detail='[459,\"XYZ\",72,148.84,null]' href=\"#pf1cb\"><div class=\"d m1\" style=\"border-style:none;position:absolute;left:238.247547px;bottom:322.508050px;width:15.751000px;height:7.555000px;background-color:rgba(255,255,255,0.000001);\"></div></a>\n",
      "<a class=\"l\" data-dest-detail='[460,\"XYZ\",72,740.93,null]' href=\"#pf1cc\"><div class=\"d m1\" style=\"border-style:none;position:absolute;left:377.882973px;bottom:289.989410px;width:15.751000px;height:7.555000px;background-color:rgba(255,255,255,0.000001);\"></div></a>\n",
      "<a class=\"l\" data-dest-detail='[460,\"XYZ\",72,705.54,null]' href=\"#pf1cc\"><div class=\"d m1\" style=\"border-style:none;position:absolute;left:516.489719px;bottom:1220.701304px;width:15.751000px;height:7.555000px;background-color:rgba(255,255,255,0.000001);\"></div></a>\n",
      "<a class=\"l\" data-dest-detail='[460,\"XYZ\",72,660.66,null]' href=\"#pf1cc\"><div class=\"d m1\" style=\"border-style:none;position:absolute;left:553.831797px;bottom:1220.701304px;width:15.750000px;height:9.592000px;background-color:rgba(255,255,255,0.000001);\"></div></a>\n",
      "<a class=\"l\" data-dest-detail='[460,\"XYZ\",72,705.54,null]' href=\"#pf1cc\"><div class=\"d m1\" style=\"border-style:none;position:absolute;left:296.754952px;bottom:1155.664024px;width:15.751000px;height:7.555000px;background-color:rgba(255,255,255,0.000001);\"></div></a>\n",
      "<a class=\"l\" data-dest-detail='[460,\"XYZ\",72,660.66,null]' href=\"#pf1cc\"><div class=\"d m1\" style=\"border-style:none;position:absolute;left:147.931945px;bottom:1029.742024px;width:15.751000px;height:9.592000px;background-color:rgba(255,255,255,0.000001);\"></div></a>\n",
      "<a class=\"l\" data-dest-detail='[460,\"XYZ\",72,705.54,null]' href=\"#pf1cc\"><div class=\"d m1\" style=\"border-style:none;position:absolute;left:848.966322px;bottom:997.221664px;width:15.750000px;height:7.556000px;background-color:rgba(255,255,255,0.000001);\"></div></a>\n",
      "<a class=\"l\" data-dest-detail='[460,\"XYZ\",72,578.33,null]' href=\"#pf1cc\"><div class=\"d m1\" style=\"border-style:none;position:absolute;left:421.163177px;bottom:283.032926px;width:15.751000px;height:7.555000px;background-color:rgba(255,255,255,0.000001);\"></div></a>\n",
      "<a class=\"l\" data-dest-detail='[460,\"XYZ\",72,533.39,null]' href=\"#pf1cc\"><div class=\"d m1\" style=\"border-style:none;position:absolute;left:457.808574px;bottom:283.032926px;width:15.751000px;height:9.592000px;background-color:rgba(255,255,255,0.000001);\"></div></a>\n",
      "<a class=\"l\" data-dest-detail='[460,\"XYZ\",72,487.98,null]' href=\"#pf1cc\"><div class=\"d m1\" style=\"border-style:none;position:absolute;left:480.112673px;bottom:1187.436097px;width:15.751000px;height:7.555000px;background-color:rgba(255,255,255,0.000001);\"></div></a>\n",
      "<a class=\"l\" data-dest-detail='[460,\"XYZ\",72,487.98,null]' href=\"#pf1cc\"><div class=\"d m1\" style=\"border-style:none;position:absolute;left:811.381696px;bottom:1089.878457px;width:15.751000px;height:7.555000px;background-color:rgba(255,255,255,0.000001);\"></div></a>\n",
      "<a class=\"l\" data-dest-detail='[460,\"XYZ\",72,443.52,null]' href=\"#pf1cc\"><div class=\"d m1\" style=\"border-style:none;position:absolute;left:466.499019px;bottom:992.322537px;width:15.751000px;height:7.555000px;background-color:rgba(255,255,255,0.000001);\"></div></a>\n",
      "<a class=\"l\" data-dest-detail='[460,\"XYZ\",72,398.17,null]' href=\"#pf1cc\"><div class=\"d m1\" style=\"border-style:none;position:absolute;left:702.006289px;bottom:959.803897px;width:15.751000px;height:7.555000px;background-color:rgba(255,255,255,0.000001);\"></div></a>\n",
      "<a class=\"l\" data-dest-detail='[460,\"XYZ\",72,353.23,null]' href=\"#pf1cc\"><div class=\"d m1\" style=\"border-style:none;position:absolute;left:738.923478px;bottom:959.803897px;width:15.751000px;height:7.555000px;background-color:rgba(255,255,255,0.000001);\"></div></a>\n",
      "<a class=\"l\" data-dest-detail='[460,\"XYZ\",72,308.7,null]' href=\"#pf1cc\"><div class=\"d m1\" style=\"border-style:none;position:absolute;left:775.840667px;bottom:959.803897px;width:15.751000px;height:7.555000px;background-color:rgba(255,255,255,0.000001);\"></div></a>\n",
      "<a class=\"l\" data-dest-detail='[460,\"XYZ\",72,263.36,null]' href=\"#pf1cc\"><div class=\"d m1\" style=\"border-style:none;position:absolute;left:812.757855px;bottom:959.803897px;width:15.751000px;height:7.555000px;background-color:rgba(255,255,255,0.000001);\"></div></a>\n",
      "<a class=\"l\" data-dest-detail='[326,\"XYZ\",206.78,477.15,null]' href=\"#pf146\"><div class=\"d m1\" style=\"border-style:none;position:absolute;left:730.626959px;bottom:411.514581px;width:23.626000px;height:9.592000px;background-color:rgba(255,255,255,0.000001);\"></div></a>\n",
      "<a class=\"l\" data-dest-detail='[327,\"XYZ\",177.3,511.22,null]' href=\"#pf147\"><div class=\"d m1\" style=\"border-style:none;position:absolute;left:210.330439px;bottom:677.426367px;width:23.627000px;height:9.593000px;background-color:rgba(255,255,255,0.000001);\"></div></a>\n",
      "<a class=\"l\" data-dest-detail='[327,\"XYZ\",177.3,511.22,null]' href=\"#pf147\"><div class=\"d m1\" style=\"border-style:none;position:absolute;left:731.419970px;bottom:677.426367px;width:23.627000px;height:9.593000px;background-color:rgba(255,255,255,0.000001);\"></div></a>\n",
      "<a class=\"l\" data-dest-detail='[460,\"XYZ\",72,443.52,null]' href=\"#pf1cc\"><div class=\"d m1\" style=\"border-style:none;position:absolute;left:338.087891px;bottom:479.123559px;width:15.751000px;height:7.555000px;background-color:rgba(255,255,255,0.000001);\"></div></a>\n",
      "<a class=\"l\" data-dest-detail='[460,\"XYZ\",72,398.17,null]' href=\"#pf1cc\"><div class=\"d m1\" style=\"border-style:none;position:absolute;left:681.749227px;bottom:345.858030px;width:15.751000px;height:7.556000px;background-color:rgba(255,255,255,0.000001);\"></div></a>\n",
      "<a class=\"l\" data-dest-detail='[460,\"XYZ\",72,353.23,null]' href=\"#pf1cc\"><div class=\"d m1\" style=\"border-style:none;position:absolute;left:856.733020px;bottom:345.858030px;width:15.751000px;height:7.556000px;background-color:rgba(255,255,255,0.000001);\"></div></a>\n",
      "<a class=\"l\" data-dest-detail='[460,\"XYZ\",72,308.7,null]' href=\"#pf1cc\"><div class=\"d m1\" style=\"border-style:none;position:absolute;left:267.312028px;bottom:313.339390px;width:15.751000px;height:7.555000px;background-color:rgba(255,255,255,0.000001);\"></div></a>\n",
      "<a class=\"l\" data-dest-detail='[460,\"XYZ\",72,263.36,null]' href=\"#pf1cc\"><div class=\"d m1\" style=\"border-style:none;position:absolute;left:439.156457px;bottom:313.339390px;width:15.751000px;height:7.555000px;background-color:rgba(255,255,255,0.000001);\"></div></a>\n",
      "<a class=\"l\" data-dest-detail='[460,\"XYZ\",72,218.42,null]' href=\"#pf1cc\"><div class=\"d m1\" style=\"border-style:none;position:absolute;left:441.028034px;bottom:1185.425185px;width:15.751000px;height:7.555000px;background-color:rgba(255,255,255,0.000001);\"></div></a>\n",
      "<a class=\"l\" data-dest-detail='[460,\"XYZ\",72,173.42,null]' href=\"#pf1cc\"><div class=\"d m1\" style=\"border-style:none;position:absolute;left:497.815240px;bottom:562.821556px;width:15.751000px;height:9.592000px;background-color:rgba(255,255,255,0.000001);\"></div></a>\n",
      "<a class=\"l\" data-dest-detail='[460,\"XYZ\",72,128.95,null]' href=\"#pf1cc\"><div class=\"d m1\" style=\"border-style:none;position:absolute;left:535.141836px;bottom:562.821556px;width:15.751000px;height:7.555000px;background-color:rgba(255,255,255,0.000001);\"></div></a>\n",
      "<a class=\"l\" data-dest-detail='[461,\"XYZ\",72,740.93,null]' href=\"#pf1cd\"><div class=\"d m1\" style=\"border-style:none;position:absolute;left:572.468432px;bottom:562.821556px;width:15.750000px;height:9.592000px;background-color:rgba(255,255,255,0.000001);\"></div></a>\n",
      "<a class=\"l\" data-dest-detail='[461,\"XYZ\",72,705.28,null]' href=\"#pf1cd\"><div class=\"d m1\" style=\"border-style:none;position:absolute;left:610.818546px;bottom:1220.701304px;width:15.751000px;height:7.555000px;background-color:rgba(255,255,255,0.000001);\"></div></a>\n",
      "<a class=\"l\" data-dest-detail='[461,\"XYZ\",72,677.39,null]' href=\"#pf1cd\"><div class=\"d m1\" style=\"border-style:none;position:absolute;left:362.115630px;bottom:853.848246px;width:15.751000px;height:7.555000px;background-color:rgba(255,255,255,0.000001);\"></div></a>\n",
      "<a class=\"l\" data-dest-detail='[461,\"XYZ\",72,612.09,null]' href=\"#pf1cd\"><div class=\"d m1\" style=\"border-style:none;position:absolute;left:417.118989px;bottom:183.264830px;width:15.751000px;height:7.555000px;background-color:rgba(255,255,255,0.000001);\"></div></a>\n",
      "<a class=\"l\" data-dest-detail='[461,\"XYZ\",72,565.64,null]' href=\"#pf1cd\"><div class=\"d m1\" style=\"border-style:none;position:absolute;left:572.838274px;bottom:1188.182664px;width:15.750000px;height:7.555000px;background-color:rgba(255,255,255,0.000001);\"></div></a>\n",
      "<a class=\"l\" data-dest-detail='[461,\"XYZ\",72,500.81,null]' href=\"#pf1cd\"><div class=\"d m1\" style=\"border-style:none;position:absolute;left:354.223357px;bottom:366.613950px;width:15.751000px;height:7.555000px;background-color:rgba(255,255,255,0.000001);\"></div></a>\n",
      "<a class=\"l\" data-dest-detail='[459,\"XYZ\",72,464.92,null]' href=\"#pf1cb\"><div class=\"d m1\" style=\"border-style:none;position:absolute;left:540.489934px;bottom:922.995081px;width:15.751000px;height:9.592000px;background-color:rgba(255,255,255,0.000001);\"></div></a>\n",
      "<a class=\"l\" data-dest-detail='[459,\"XYZ\",72,321.38,null]' href=\"#pf1cb\"><div class=\"d m1\" style=\"border-style:none;position:absolute;left:361.873082px;bottom:336.381454px;width:15.751000px;height:7.556000px;background-color:rgba(255,255,255,0.000001);\"></div></a>\n",
      "<a class=\"l\" data-dest-detail='[459,\"XYZ\",72,273.47,null]' href=\"#pf1cb\"><div class=\"d m1\" style=\"border-style:none;position:absolute;left:453.669776px;bottom:1061.066846px;width:15.751000px;height:7.555000px;background-color:rgba(255,255,255,0.000001);\"></div></a>\n",
      "<a class=\"l\" data-dest-detail='[310,\"XYZ\",72,370.69,null]' href=\"#pf136\"><div class=\"d m1\" style=\"border-style:none;position:absolute;left:415.113237px;bottom:967.176670px;width:18.376000px;height:7.224000px;background-color:rgba(255,255,255,0.000001);\"></div></a>\n",
      "<a class=\"l\" data-dest-detail='[461,\"XYZ\",72,454.01,null]' href=\"#pf1cd\"><div class=\"d m1\" style=\"border-style:none;position:absolute;left:762.190888px;bottom:558.197662px;width:15.751000px;height:7.555000px;background-color:rgba(255,255,255,0.000001);\"></div></a>\n",
      "<a class=\"l\" data-dest-detail='[461,\"XYZ\",72,407.62,null]' href=\"#pf1cd\"><div class=\"d m1\" style=\"border-style:none;position:absolute;left:129.869856px;bottom:525.679022px;width:15.751000px;height:7.555000px;background-color:rgba(255,255,255,0.000001);\"></div></a>\n",
      "<a class=\"l\" href=\"http://www.cs.berkeley.edu/~jrs/4/lec/23\"><div class=\"d m1\" style=\"border-style:none;position:absolute;left:273.638920px;bottom:151.296654px;width:122.251000px;height:7.483000px;background-color:rgba(255,255,255,0.000001);\"></div></a>\n",
      "<a class=\"l\" data-dest-detail='[461,\"XYZ\",72,407.62,null]' href=\"#pf1cd\"><div class=\"d m1\" style=\"border-style:none;position:absolute;left:257.286709px;bottom:524.191050px;width:15.751000px;height:7.556000px;background-color:rgba(255,255,255,0.000001);\"></div></a>\n",
      "<a class=\"l\" data-dest-detail='[461,\"XYZ\",72,361.23,null]' href=\"#pf1cd\"><div class=\"d m1\" style=\"border-style:none;position:absolute;left:167.079479px;bottom:767.399651px;width:15.751000px;height:9.566000px;background-color:rgba(255,255,255,0.000001);\"></div></a>\n",
      "<a class=\"l\" data-dest-detail='[461,\"XYZ\",72,315.25,null]' href=\"#pf1cd\"><div class=\"d m1\" style=\"border-style:none;position:absolute;left:239.940223px;bottom:313.900175px;width:15.751000px;height:7.555000px;background-color:rgba(255,255,255,0.000001);\"></div></a>\n",
      "<a class=\"l\" data-dest-detail='[461,\"XYZ\",72,287.29,null]' href=\"#pf1cd\"><div class=\"d m1\" style=\"border-style:none;position:absolute;left:297.362183px;bottom:313.900175px;width:15.751000px;height:9.592000px;background-color:rgba(255,255,255,0.000001);\"></div></a>\n",
      "<a class=\"l\" data-dest-detail='[461,\"XYZ\",72,315.25,null]' href=\"#pf1cd\"><div class=\"d m1\" style=\"border-style:none;position:absolute;left:247.557264px;bottom:1253.219944px;width:15.751000px;height:7.555000px;background-color:rgba(255,255,255,0.000001);\"></div></a>\n",
      "<a class=\"l\" data-dest-detail='[461,\"XYZ\",72,221.99,null]' href=\"#pf1cd\"><div class=\"d m1\" style=\"border-style:none;position:absolute;left:315.198925px;bottom:328.982879px;width:15.751000px;height:7.555000px;background-color:rgba(255,255,255,0.000001);\"></div></a>\n",
      "<a class=\"l\" data-dest-detail='[353,\"XYZ\",128.56,490.49,null]' href=\"#pf161\"><div class=\"d m1\" style=\"border-style:none;position:absolute;left:270.917565px;bottom:1220.981696px;width:18.376000px;height:7.460000px;background-color:rgba(255,255,255,0.000001);\"></div></a>\n",
      "<a class=\"l\" data-dest-detail='[353,\"XYZ\",128.56,490.49,null]' href=\"#pf161\"><div class=\"d m1\" style=\"border-style:none;position:absolute;left:637.770622px;bottom:633.363473px;width:18.376000px;height:7.460000px;background-color:rgba(255,255,255,0.000001);\"></div></a>\n",
      "<a class=\"l\" href=\"http://pi.karmona.com/\"><div class=\"d m1\" style=\"border-style:none;position:absolute;left:147.082166px;bottom:169.658057px;width:83.624000px;height:7.483000px;background-color:rgba(255,255,255,0.000001);\"></div></a>\n",
      "<a class=\"l\" href=\"http://piworld.calico.jp/estart.html\"><div class=\"d m1\" style=\"border-style:none;position:absolute;left:147.082166px;bottom:151.296654px;width:84.644000px;height:7.483000px;background-color:rgba(255,255,255,0.000001);\"></div></a>\n",
      "<a class=\"l\" data-dest-detail='[367,\"XYZ\",185.68,142.62,null]' href=\"#pf16f\"><div class=\"d m1\" style=\"border-style:none;position:absolute;left:311.548663px;bottom:1220.981696px;width:23.626000px;height:7.460000px;background-color:rgba(255,255,255,0.000001);\"></div></a>\n",
      "<a class=\"l\" data-dest-detail='[461,\"XYZ\",72,176.07,null]' href=\"#pf1cd\"><div class=\"d m1\" style=\"border-style:none;position:absolute;left:361.382825px;bottom:198.368176px;width:11.252000px;height:5.398000px;background-color:rgba(255,255,255,0.000001);\"></div></a>\n",
      "<a class=\"l\" data-dest-detail='[461,\"XYZ\",72,129.21,null]' href=\"#pf1cd\"><div class=\"d m1\" style=\"border-style:none;position:absolute;left:733.150491px;bottom:198.368176px;width:11.253000px;height:5.398000px;background-color:rgba(255,255,255,0.000001);\"></div></a>\n",
      "<a class=\"l\" data-dest-detail='[462,\"XYZ\",72,740.93,null]' href=\"#pf1ce\"><div class=\"d m1\" style=\"border-style:none;position:absolute;left:470.197447px;bottom:175.155812px;width:11.253000px;height:5.397000px;background-color:rgba(255,255,255,0.000001);\"></div></a>\n",
      "<a class=\"l\" data-dest-detail='[461,\"XYZ\",72,677.39,null]' href=\"#pf1cd\"><div class=\"d m1\" style=\"border-style:none;position:absolute;left:443.002822px;bottom:1201.915011px;width:15.751000px;height:7.555000px;background-color:rgba(255,255,255,0.000001);\"></div></a>\n",
      "<a class=\"l\" data-dest-detail='[462,\"XYZ\",72,704.56,null]' href=\"#pf1ce\"><div class=\"d m1\" style=\"border-style:none;position:absolute;left:848.966322px;bottom:1169.396371px;width:15.751000px;height:7.555000px;background-color:rgba(255,255,255,0.000001);\"></div></a>\n",
      "<a class=\"l\" data-dest-detail='[462,\"XYZ\",72,656.71,null]' href=\"#pf1ce\"><div class=\"d m1\" style=\"border-style:none;position:absolute;left:497.201129px;bottom:1071.838731px;width:15.751000px;height:7.555000px;background-color:rgba(255,255,255,0.000001);\"></div></a>\n",
      "<a class=\"l\" data-dest-detail='[462,\"XYZ\",72,608.46,null]' href=\"#pf1ce\"><div class=\"d m1\" style=\"border-style:none;position:absolute;left:491.490069px;bottom:1038.535681px;width:15.751000px;height:7.556000px;background-color:rgba(255,255,255,0.000001);\"></div></a>\n",
      "<a class=\"l\" data-dest-detail='[351,\"XYZ\",72,406.27,null]' href=\"#pf15f\"><div class=\"d m1\" style=\"border-style:none;position:absolute;left:221.747400px;bottom:872.434995px;width:18.376000px;height:7.555000px;background-color:rgba(255,255,255,0.000001);\"></div></a>\n",
      "<a class=\"l\" data-dest-detail='[376,\"XYZ\",202.06,560.89,null]' href=\"#pf178\"><div class=\"d m1\" style=\"border-style:none;position:absolute;left:737.490552px;bottom:840.196748px;width:18.376000px;height:7.461000px;background-color:rgba(255,255,255,0.000001);\"></div></a>\n",
      "<a class=\"l\" data-dest-detail='[462,\"XYZ\",72,542.12,null]' href=\"#pf1ce\"><div class=\"d m1\" style=\"border-style:none;position:absolute;left:719.830990px;bottom:1253.219944px;width:15.751000px;height:9.592000px;background-color:rgba(255,255,255,0.000001);\"></div></a>\n",
      "<a class=\"l\" data-dest-detail='[380,\"XYZ\",259.06,438.46,null]' href=\"#pf17c\"><div class=\"d m1\" style=\"border-style:none;position:absolute;left:651.957103px;bottom:806.855853px;width:18.376000px;height:7.461000px;background-color:rgba(255,255,255,0.000001);\"></div></a>\n",
      "<a class=\"l\" data-dest-detail='[380,\"XYZ\",72,749.87,null]' href=\"#pf17c\"><div class=\"d m1\" style=\"border-style:none;position:absolute;left:340.611423px;bottom:411.851740px;width:18.376000px;height:9.592000px;background-color:rgba(255,255,255,0.000001);\"></div></a>\n",
      "<a class=\"l\" data-dest-detail='[380,\"XYZ\",72,623.22,null]' href=\"#pf17c\"><div class=\"d m1\" style=\"border-style:none;position:absolute;left:390.285607px;bottom:411.851740px;width:18.376000px;height:7.555000px;background-color:rgba(255,255,255,0.000001);\"></div></a>\n",
      "<a class=\"l\" data-dest-detail='[380,\"XYZ\",72,556.72,null]' href=\"#pf17c\"><div class=\"d m1\" style=\"border-style:none;position:absolute;left:439.959790px;bottom:411.851740px;width:23.626000px;height:7.555000px;background-color:rgba(255,255,255,0.000001);\"></div></a>\n",
      "<a class=\"l\" data-dest-detail='[380,\"XYZ\",72,509.13,null]' href=\"#pf17c\"><div class=\"d m1\" style=\"border-style:none;position:absolute;left:616.075474px;bottom:411.851740px;width:23.626000px;height:7.555000px;background-color:rgba(255,255,255,0.000001);\"></div></a>\n",
      "<a class=\"l\" data-dest-detail='[380,\"XYZ\",72,749.87,null]' href=\"#pf17c\"><div class=\"d m1\" style=\"border-style:none;position:absolute;left:657.721489px;bottom:150.746190px;width:18.376000px;height:9.592000px;background-color:rgba(255,255,255,0.000001);\"></div></a>\n",
      "<a class=\"l\" data-dest-detail='[380,\"XYZ\",72,749.87,null]' href=\"#pf17c\"><div class=\"d m1\" style=\"border-style:none;position:absolute;left:393.834377px;bottom:424.883967px;width:18.376000px;height:9.592000px;background-color:rgba(255,255,255,0.000001);\"></div></a>\n",
      "<a class=\"l\" data-dest-detail='[380,\"XYZ\",72,749.87,null]' href=\"#pf17c\"><div class=\"d m1\" style=\"border-style:none;position:absolute;left:813.623115px;bottom:944.184491px;width:18.376000px;height:9.592000px;background-color:rgba(255,255,255,0.000001);\"></div></a>\n",
      "<a class=\"l\" data-dest-detail='[462,\"XYZ\",72,512.7,null]' href=\"#pf1ce\"><div class=\"d m1\" style=\"border-style:none;position:absolute;left:276.730117px;bottom:346.659643px;width:15.751000px;height:7.555000px;background-color:rgba(255,255,255,0.000001);\"></div></a>\n",
      "<a class=\"l\" data-dest-detail='[462,\"XYZ\",72,445.95,null]' href=\"#pf1ce\"><div class=\"d m1\" style=\"border-style:none;position:absolute;left:554.353017px;bottom:150.746190px;width:15.751000px;height:9.592000px;background-color:rgba(255,255,255,0.000001);\"></div></a>\n",
      "<a class=\"l\" href=\"http://cancerguide.org/significance.html\"><div class=\"d m1\" style=\"border-style:none;position:absolute;left:239.312350px;bottom:151.296654px;width:139.085000px;height:7.483000px;background-color:rgba(255,255,255,0.000001);\"></div></a>\n",
      "<a class=\"l\" data-dest-detail='[462,\"XYZ\",72,398.58,null]' href=\"#pf1ce\"><div class=\"d m1\" style=\"border-style:none;position:absolute;left:409.280043px;bottom:1187.436097px;width:15.751000px;height:7.555000px;background-color:rgba(255,255,255,0.000001);\"></div></a>\n",
      "<a class=\"l\" data-dest-detail='[462,\"XYZ\",72,350.73,null]' href=\"#pf1ce\"><div class=\"d m1\" style=\"border-style:none;position:absolute;left:445.841150px;bottom:1187.436097px;width:15.751000px;height:9.592000px;background-color:rgba(255,255,255,0.000001);\"></div></a>\n",
      "<a class=\"l\" data-dest-detail='[457,\"XYZ\",72,263.7,null]' href=\"#pf1c9\"><div class=\"d m1\" style=\"border-style:none;position:absolute;left:515.369870px;bottom:920.985889px;width:15.751000px;height:7.555000px;background-color:rgba(255,255,255,0.000001);\"></div></a>\n",
      "<a class=\"l\" data-dest-detail='[462,\"XYZ\",72,302.41,null]' href=\"#pf1ce\"><div class=\"d m1\" style=\"border-style:none;position:absolute;left:256.311356px;bottom:280.820750px;width:15.751000px;height:9.592000px;background-color:rgba(255,255,255,0.000001);\"></div></a>\n",
      "<a class=\"l\" data-dest-detail='[462,\"XYZ\",72,254.57,null]' href=\"#pf1ce\"><div class=\"d m1\" style=\"border-style:none;position:absolute;left:321.852654px;bottom:248.302110px;width:15.751000px;height:9.592000px;background-color:rgba(255,255,255,0.000001);\"></div></a>\n",
      "<a class=\"l\" data-dest-detail='[462,\"XYZ\",72,225.69,null]' href=\"#pf1ce\"><div class=\"d m1\" style=\"border-style:none;position:absolute;left:276.107405px;bottom:183.264830px;width:15.751000px;height:9.592000px;background-color:rgba(255,255,255,0.000001);\"></div></a>\n",
      "<a class=\"l\" data-dest-detail='[462,\"XYZ\",72,254.57,null]' href=\"#pf1ce\"><div class=\"d m1\" style=\"border-style:none;position:absolute;left:566.769413px;bottom:183.264830px;width:15.751000px;height:9.592000px;background-color:rgba(255,255,255,0.000001);\"></div></a>\n",
      "<a class=\"l\" data-dest-detail='[462,\"XYZ\",72,177.78,null]' href=\"#pf1ce\"><div class=\"d m1\" style=\"border-style:none;position:absolute;left:817.799758px;bottom:745.243489px;width:15.751000px;height:9.592000px;background-color:rgba(255,255,255,0.000001);\"></div></a>\n",
      "<a class=\"l\" data-dest-detail='[462,\"XYZ\",72,130,null]' href=\"#pf1ce\"><div class=\"d m1\" style=\"border-style:none;position:absolute;left:856.733020px;bottom:745.243489px;width:15.751000px;height:9.592000px;background-color:rgba(255,255,255,0.000001);\"></div></a>\n",
      "<a class=\"l\" data-dest-detail='[463,\"XYZ\",72,740.93,null]' href=\"#pf1cf\"><div class=\"d m1\" style=\"border-style:none;position:absolute;left:197.155436px;bottom:712.724849px;width:15.750000px;height:9.592000px;background-color:rgba(255,255,255,0.000001);\"></div></a>\n",
      "<a class=\"l\" data-dest-detail='[463,\"XYZ\",72,704.52,null]' href=\"#pf1cf\"><div class=\"d m1\" style=\"border-style:none;position:absolute;left:748.035372px;bottom:626.288295px;width:15.751000px;height:9.593000px;background-color:rgba(255,255,255,0.000001);\"></div></a>\n",
      "<a class=\"l\" data-dest-detail='[463,\"XYZ\",72,657.35,null]' href=\"#pf1cf\"><div class=\"d m1\" style=\"border-style:none;position:absolute;left:362.714259px;bottom:436.951162px;width:15.751000px;height:9.592000px;background-color:rgba(255,255,255,0.000001);\"></div></a>\n",
      "<a class=\"l\" data-dest-detail='[463,\"XYZ\",72,610.24,null]' href=\"#pf1cf\"><div class=\"d m1\" style=\"border-style:none;position:absolute;left:829.557318px;bottom:1123.143663px;width:15.751000px;height:9.593000px;background-color:rgba(255,255,255,0.000001);\"></div></a>\n",
      "<a class=\"l\" data-dest-detail='[394,\"XYZ\",96.76,169.13,null]' href=\"#pf18a\"><div class=\"d m1\" style=\"border-style:none;position:absolute;left:256.311356px;bottom:457.039645px;width:18.376000px;height:9.593000px;background-color:rgba(255,255,255,0.000001);\"></div></a>\n",
      "<a class=\"l\" data-dest-detail='[395,\"XYZ\",234.14,431.55,null]' href=\"#pf18b\"><div class=\"d m1\" style=\"border-style:none;position:absolute;left:336.078699px;bottom:461.113076px;width:18.376000px;height:7.225000px;background-color:rgba(255,255,255,0.000001);\"></div></a>\n",
      "<a class=\"l\" data-dest-detail='[463,\"XYZ\",72,563.13,null]' href=\"#pf1cf\"><div class=\"d m1\" style=\"border-style:none;position:absolute;left:443.384706px;bottom:424.521005px;width:15.751000px;height:7.556000px;background-color:rgba(255,255,255,0.000001);\"></div></a>\n",
      "<a class=\"l\" data-dest-detail='[458,\"XYZ\",72,362.78,null]' href=\"#pf1ca\"><div class=\"d m1\" style=\"border-style:none;position:absolute;left:480.252009px;bottom:424.521005px;width:15.751000px;height:7.556000px;background-color:rgba(255,255,255,0.000001);\"></div></a>\n",
      "<a class=\"l\" data-dest-detail='[463,\"XYZ\",72,516.03,null]' href=\"#pf1cf\"><div class=\"d m1\" style=\"border-style:none;position:absolute;left:238.247547px;bottom:1181.707835px;width:15.751000px;height:7.555000px;background-color:rgba(255,255,255,0.000001);\"></div></a>\n",
      "<a class=\"l\" data-dest-detail='[463,\"XYZ\",72,516.03,null]' href=\"#pf1cf\"><div class=\"d m1\" style=\"border-style:none;position:absolute;left:811.758420px;bottom:545.199839px;width:15.751000px;height:7.555000px;background-color:rgba(255,255,255,0.000001);\"></div></a>\n",
      "<a class=\"l\" data-dest-detail='[463,\"XYZ\",72,516.03,null]' href=\"#pf1cf\"><div class=\"d m1\" style=\"border-style:none;position:absolute;left:202.121650px;bottom:381.393899px;width:15.751000px;height:7.556000px;background-color:rgba(255,255,255,0.000001);\"></div></a>\n",
      "<a class=\"l\" data-dest-detail='[463,\"XYZ\",72,488.3,null]' href=\"#pf1cf\"><div class=\"d m1\" style=\"border-style:none;position:absolute;left:333.863083px;bottom:248.302110px;width:15.751000px;height:7.555000px;background-color:rgba(255,255,255,0.000001);\"></div></a>\n",
      "<a class=\"l\" data-dest-detail='[463,\"XYZ\",72,422.28,null]' href=\"#pf1cf\"><div class=\"d m1\" style=\"border-style:none;position:absolute;left:373.874909px;bottom:756.282005px;width:15.751000px;height:7.555000px;background-color:rgba(255,255,255,0.000001);\"></div></a>\n",
      "<a class=\"l\" data-dest-detail='[463,\"XYZ\",72,374.71,null]' href=\"#pf1cf\"><div class=\"d m1\" style=\"border-style:none;position:absolute;left:362.215401px;bottom:470.928531px;width:15.751000px;height:7.556000px;background-color:rgba(255,255,255,0.000001);\"></div></a>\n",
      "<a class=\"l\" data-dest-detail='[463,\"XYZ\",72,327.6,null]' href=\"#pf1cf\"><div class=\"d m1\" style=\"border-style:none;position:absolute;left:343.052385px;bottom:215.783470px;width:15.751000px;height:7.555000px;background-color:rgba(255,255,255,0.000001);\"></div></a>\n",
      "<a class=\"l\" data-dest-detail='[463,\"XYZ\",72,261.65,null]' href=\"#pf1cf\"><div class=\"d m1\" style=\"border-style:none;position:absolute;left:794.537508px;bottom:410.439457px;width:15.751000px;height:9.592000px;background-color:rgba(255,255,255,0.000001);\"></div></a>\n",
      "<a class=\"l\" data-dest-detail='[463,\"XYZ\",72,196.05,null]' href=\"#pf1cf\"><div class=\"d m1\" style=\"border-style:none;position:absolute;left:379.754549px;bottom:183.264830px;width:15.751000px;height:7.555000px;background-color:rgba(255,255,255,0.000001);\"></div></a>\n",
      "<a class=\"l\" data-dest-detail='[463,\"XYZ\",72,148.47,null]' href=\"#pf1cf\"><div class=\"d m1\" style=\"border-style:none;position:absolute;left:716.836124px;bottom:150.746190px;width:15.751000px;height:9.592000px;background-color:rgba(255,255,255,0.000001);\"></div></a>\n",
      "<a class=\"l\" data-dest-detail='[400,\"XYZ\",88.72,679.49,null]' href=\"#pf190\"><div class=\"d m1\" style=\"border-style:none;position:absolute;left:539.383846px;bottom:1007.126569px;width:23.626000px;height:9.592000px;background-color:rgba(255,255,255,0.000001);\"></div></a>\n",
      "<a class=\"l\" data-dest-detail='[464,\"XYZ\",72,740.93,null]' href=\"#pf1d0\"><div class=\"d m1\" style=\"border-style:none;position:absolute;left:306.248730px;bottom:908.978901px;width:15.751000px;height:7.555000px;background-color:rgba(255,255,255,0.000001);\"></div></a>\n",
      "<a class=\"l\" data-dest-detail='[464,\"XYZ\",72,705.54,null]' href=\"#pf1d0\"><div class=\"d m1\" style=\"border-style:none;position:absolute;left:165.995753px;bottom:471.552963px;width:15.751000px;height:9.592000px;background-color:rgba(255,255,255,0.000001);\"></div></a>\n",
      "<a class=\"l\" data-dest-detail='[394,\"XYZ\",220.75,341.84,null]' href=\"#pf18a\"><div class=\"d m1\" style=\"border-style:none;position:absolute;left:700.411665px;bottom:442.516006px;width:18.376000px;height:7.224000px;background-color:rgba(255,255,255,0.000001);\"></div></a>\n",
      "<a class=\"l\" data-dest-detail='[400,\"XYZ\",134.42,134.89,null]' href=\"#pf190\"><div class=\"d m1\" style=\"border-style:none;position:absolute;left:312.054401px;bottom:1082.892729px;width:23.626000px;height:7.224000px;background-color:rgba(255,255,255,0.000001);\"></div></a>\n",
      "<a class=\"l\" data-dest-detail='[464,\"XYZ\",72,679.98,null]' href=\"#pf1d0\"><div class=\"d m1\" style=\"border-style:none;position:absolute;left:673.841473px;bottom:184.422524px;width:15.751000px;height:9.592000px;background-color:rgba(255,255,255,0.000001);\"></div></a>\n",
      "<a class=\"l\" data-dest-detail='[464,\"XYZ\",72,634.63,null]' href=\"#pf1d0\"><div class=\"d m1\" style=\"border-style:none;position:absolute;left:710.708776px;bottom:184.422524px;width:15.751000px;height:9.592000px;background-color:rgba(255,255,255,0.000001);\"></div></a>\n",
      "<a class=\"l\" data-dest-detail='[464,\"XYZ\",72,589.63,null]' href=\"#pf1d0\"><div class=\"d m1\" style=\"border-style:none;position:absolute;left:747.574358px;bottom:184.422524px;width:15.751000px;height:9.592000px;background-color:rgba(255,255,255,0.000001);\"></div></a>\n",
      "<a class=\"l\" data-dest-detail='[395,\"XYZ\",169.36,558.54,null]' href=\"#pf18b\"><div class=\"d m1\" style=\"border-style:none;position:absolute;left:744.472840px;bottom:150.746190px;width:18.376000px;height:9.592000px;background-color:rgba(255,255,255,0.000001);\"></div></a>\n",
      "<a class=\"l\" data-dest-detail='[464,\"XYZ\",72,679.98,null]' href=\"#pf1d0\"><div class=\"d m1\" style=\"border-style:none;position:absolute;left:701.251122px;bottom:1025.773525px;width:15.751000px;height:9.593000px;background-color:rgba(255,255,255,0.000001);\"></div></a>\n",
      "<a class=\"l\" data-dest-detail='[398,\"XYZ\",95.21,538,null]' href=\"#pf18e\"><div class=\"d m1\" style=\"border-style:none;position:absolute;left:368.734955px;bottom:960.736245px;width:23.626000px;height:9.593000px;background-color:rgba(255,255,255,0.000001);\"></div></a>\n",
      "<a class=\"l\" data-dest-detail='[401,\"XYZ\",235.7,500.21,null]' href=\"#pf191\"><div class=\"d m1\" style=\"border-style:none;position:absolute;left:353.610966px;bottom:750.338718px;width:23.627000px;height:9.593000px;background-color:rgba(255,255,255,0.000001);\"></div></a>\n",
      "<a class=\"l\" data-dest-detail='[394,\"XYZ\",96.76,169.13,null]' href=\"#pf18a\"><div class=\"d m1\" style=\"border-style:none;position:absolute;left:256.311356px;bottom:522.708238px;width:18.376000px;height:9.592000px;background-color:rgba(255,255,255,0.000001);\"></div></a>\n",
      "<a class=\"l\" data-dest-detail='[464,\"XYZ\",72,544.69,null]' href=\"#pf1d0\"><div class=\"d m1\" style=\"border-style:none;position:absolute;left:655.242682px;bottom:1253.219944px;width:15.751000px;height:9.592000px;background-color:rgba(255,255,255,0.000001);\"></div></a>\n",
      "<a class=\"l\" data-dest-detail='[464,\"XYZ\",72,483.62,null]' href=\"#pf1d0\"><div class=\"d m1\" style=\"border-style:none;position:absolute;left:691.618008px;bottom:1253.219944px;width:15.751000px;height:9.592000px;background-color:rgba(255,255,255,0.000001);\"></div></a>\n",
      "<a class=\"l\" data-dest-detail='[464,\"XYZ\",72,417.07,null]' href=\"#pf1d0\"><div class=\"d m1\" style=\"border-style:none;position:absolute;left:820.357694px;bottom:1253.219944px;width:15.750000px;height:9.592000px;background-color:rgba(255,255,255,0.000001);\"></div></a>\n",
      "<a class=\"l\" data-dest-detail='[464,\"XYZ\",72,372.13,null]' href=\"#pf1d0\"><div class=\"d m1\" style=\"border-style:none;position:absolute;left:856.733020px;bottom:1253.219944px;width:15.751000px;height:9.592000px;background-color:rgba(255,255,255,0.000001);\"></div></a>\n",
      "<a class=\"l\" data-dest-detail='[464,\"XYZ\",72,327.2,null]' href=\"#pf1d0\"><div class=\"d m1\" style=\"border-style:none;position:absolute;left:204.770757px;bottom:1220.701304px;width:15.751000px;height:9.592000px;background-color:rgba(255,255,255,0.000001);\"></div></a>\n",
      "<a class=\"l\" data-dest-detail='[464,\"XYZ\",72,282.2,null]' href=\"#pf1d0\"><div class=\"d m1\" style=\"border-style:none;position:absolute;left:375.364602px;bottom:1220.701304px;width:15.751000px;height:9.592000px;background-color:rgba(255,255,255,0.000001);\"></div></a>\n",
      "<a class=\"l\" data-dest-detail='[464,\"XYZ\",72,237.26,null]' href=\"#pf1d0\"><div class=\"d m1\" style=\"border-style:none;position:absolute;left:413.303588px;bottom:1220.701304px;width:15.751000px;height:7.555000px;background-color:rgba(255,255,255,0.000001);\"></div></a>\n",
      "<a class=\"l\" data-dest-detail='[464,\"XYZ\",72,173.89,null]' href=\"#pf1d0\"><div class=\"d m1\" style=\"border-style:none;position:absolute;left:546.004892px;bottom:1220.701304px;width:15.751000px;height:7.555000px;background-color:rgba(255,255,255,0.000001);\"></div></a>\n",
      "<a class=\"l\" data-dest-detail='[464,\"XYZ\",72,128.48,null]' href=\"#pf1d0\"><div class=\"d m1\" style=\"border-style:none;position:absolute;left:583.943879px;bottom:1220.701304px;width:15.751000px;height:7.555000px;background-color:rgba(255,255,255,0.000001);\"></div></a>\n",
      "<a class=\"l\" data-dest-detail='[465,\"XYZ\",72,740.93,null]' href=\"#pf1d1\"><div class=\"d m1\" style=\"border-style:none;position:absolute;left:621.884585px;bottom:1220.701304px;width:15.751000px;height:7.555000px;background-color:rgba(255,255,255,0.000001);\"></div></a>\n",
      "<a class=\"l\" data-dest-detail='[465,\"XYZ\",72,687.11,null]' href=\"#pf1d1\"><div class=\"d m1\" style=\"border-style:none;position:absolute;left:147.931945px;bottom:1188.182664px;width:15.751000px;height:7.555000px;background-color:rgba(255,255,255,0.000001);\"></div></a>\n",
      "<a class=\"l\" data-dest-detail='[465,\"XYZ\",72,623.27,null]' href=\"#pf1d1\"><div class=\"d m1\" style=\"border-style:none;position:absolute;left:534.097675px;bottom:1087.193227px;width:15.751000px;height:7.555000px;background-color:rgba(255,255,255,0.000001);\"></div></a>\n",
      "<a class=\"l\" data-dest-detail='[465,\"XYZ\",72,559.01,null]' href=\"#pf1d1\"><div class=\"d m1\" style=\"border-style:none;position:absolute;left:571.503400px;bottom:1087.193227px;width:15.751000px;height:9.592000px;background-color:rgba(255,255,255,0.000001);\"></div></a>\n",
      "<a class=\"l\" data-dest-detail='[465,\"XYZ\",72,514.01,null]' href=\"#pf1d1\"><div class=\"d m1\" style=\"border-style:none;position:absolute;left:667.633275px;bottom:957.116947px;width:15.751000px;height:7.555000px;background-color:rgba(255,255,255,0.000001);\"></div></a>\n",
      "<a class=\"l\" data-dest-detail='[465,\"XYZ\",72,488.45,null]' href=\"#pf1d1\"><div class=\"d m1\" style=\"border-style:none;position:absolute;left:794.599436px;bottom:736.578847px;width:15.751000px;height:9.592000px;background-color:rgba(255,255,255,0.000001);\"></div></a>\n",
      "<a class=\"l\" data-dest-detail='[465,\"XYZ\",72,461.95,null]' href=\"#pf1d1\"><div class=\"d m1\" style=\"border-style:none;position:absolute;left:405.450880px;bottom:573.737938px;width:15.751000px;height:7.555000px;background-color:rgba(255,255,255,0.000001);\"></div></a>\n",
      "<a class=\"l\" data-dest-detail='[465,\"XYZ\",72,417.48,null]' href=\"#pf1d1\"><div class=\"d m1\" style=\"border-style:none;position:absolute;left:442.760274px;bottom:573.737938px;width:15.751000px;height:7.555000px;background-color:rgba(255,255,255,0.000001);\"></div></a>\n",
      "<a class=\"l\" data-dest-detail='[465,\"XYZ\",72,372.54,null]' href=\"#pf1d1\"><div class=\"d m1\" style=\"border-style:none;position:absolute;left:810.918963px;bottom:475.934310px;width:15.751000px;height:7.555000px;background-color:rgba(255,255,255,0.000001);\"></div></a>\n",
      "<a class=\"l\" data-dest-detail='[465,\"XYZ\",72,327.2,null]' href=\"#pf1d1\"><div class=\"d m1\" style=\"border-style:none;position:absolute;left:451.827443px;bottom:410.897030px;width:15.751000px;height:7.555000px;background-color:rgba(255,255,255,0.000001);\"></div></a>\n",
      "<a class=\"l\" data-dest-detail='[465,\"XYZ\",72,282.26,null]' href=\"#pf1d1\"><div class=\"d m1\" style=\"border-style:none;position:absolute;left:489.773310px;bottom:410.897030px;width:15.751000px;height:7.555000px;background-color:rgba(255,255,255,0.000001);\"></div></a>\n",
      "<a class=\"l\" data-dest-detail='[465,\"XYZ\",72,237.32,null]' href=\"#pf1d1\"><div class=\"d m1\" style=\"border-style:none;position:absolute;left:129.869856px;bottom:313.339390px;width:15.751000px;height:7.555000px;background-color:rgba(255,255,255,0.000001);\"></div></a>\n",
      "<a class=\"l\" data-dest-detail='[465,\"XYZ\",72,173.89,null]' href=\"#pf1d1\"><div class=\"d m1\" style=\"border-style:none;position:absolute;left:147.931945px;bottom:248.302110px;width:15.751000px;height:7.555000px;background-color:rgba(255,255,255,0.000001);\"></div></a>\n",
      "<a class=\"l\" data-dest-detail='[465,\"XYZ\",72,128.54,null]' href=\"#pf1d1\"><div class=\"d m1\" style=\"border-style:none;position:absolute;left:444.239645px;bottom:215.783470px;width:15.751000px;height:9.592000px;background-color:rgba(255,255,255,0.000001);\"></div></a>\n",
      "<a class=\"l\" data-dest-detail='[466,\"XYZ\",72,740.93,null]' href=\"#pf1d2\"><div class=\"d m1\" style=\"border-style:none;position:absolute;left:568.333074px;bottom:150.746190px;width:15.751000px;height:7.555000px;background-color:rgba(255,255,255,0.000001);\"></div></a>\n",
      "<a class=\"l\" data-dest-detail='[466,\"XYZ\",72,704.45,null]' href=\"#pf1d2\"><div class=\"d m1\" style=\"border-style:none;position:absolute;left:391.377933px;bottom:1253.219944px;width:15.751000px;height:9.592000px;background-color:rgba(255,255,255,0.000001);\"></div></a>\n",
      "<a class=\"l\" data-dest-detail='[466,\"XYZ\",72,657.35,null]' href=\"#pf1d2\"><div class=\"d m1\" style=\"border-style:none;position:absolute;left:586.462250px;bottom:831.028088px;width:15.751000px;height:7.556000px;background-color:rgba(255,255,255,0.000001);\"></div></a>\n",
      "<a class=\"l\" data-dest-detail='[405,\"XYZ\",255.51,439.95,null]' href=\"#pf195\"><div class=\"d m1\" style=\"border-style:none;position:absolute;left:817.042871px;bottom:640.861820px;width:23.626000px;height:9.592000px;background-color:rgba(255,255,255,0.000001);\"></div></a>\n",
      "<a class=\"l\" data-dest-detail='[405,\"XYZ\",255.51,439.95,null]' href=\"#pf195\"><div class=\"d m1\" style=\"border-style:none;position:absolute;left:642.683510px;bottom:608.343180px;width:23.627000px;height:9.592000px;background-color:rgba(255,255,255,0.000001);\"></div></a>\n",
      "<a class=\"l\" data-dest-detail='[466,\"XYZ\",72,613.01,null]' href=\"#pf1d2\"><div class=\"d m1\" style=\"border-style:none;position:absolute;left:251.073350px;bottom:416.171160px;width:15.751000px;height:7.555000px;background-color:rgba(255,255,255,0.000001);\"></div></a>\n",
      "<a class=\"l\" data-dest-detail='[466,\"XYZ\",72,613.01,null]' href=\"#pf1d2\"><div class=\"d m1\" style=\"border-style:none;position:absolute;left:238.956269px;bottom:286.094880px;width:15.751000px;height:7.555000px;background-color:rgba(255,255,255,0.000001);\"></div></a>\n",
      "<a class=\"l\" data-dest-detail='[466,\"XYZ\",72,563.13,null]' href=\"#pf1d2\"><div class=\"d m1\" style=\"border-style:none;position:absolute;left:496.886332px;bottom:286.094880px;width:15.751000px;height:7.555000px;background-color:rgba(255,255,255,0.000001);\"></div></a>\n",
      "<a class=\"l\" data-dest-detail='[466,\"XYZ\",72,516.03,null]' href=\"#pf1d2\"><div class=\"d m1\" style=\"border-style:none;position:absolute;left:664.313291px;bottom:253.576240px;width:15.751000px;height:7.555000px;background-color:rgba(255,255,255,0.000001);\"></div></a>\n",
      "<a class=\"l\" href=\"http://www.cmte.utoronto.ca/research/dea.shtml\"><div class=\"d m1\" style=\"border-style:none;position:absolute;left:219.211826px;bottom:174.510738px;width:395.843000px;height:7.483000px;background-color:rgba(255,255,255,0.000001);\"></div></a>\n",
      "<a class=\"l\" href=\"http://www.cmte.utoronto.ca/research/dea.shtml\"><div class=\"d m1\" style=\"border-style:none;position:absolute;left:123.854321px;bottom:151.296654px;width:190.067000px;height:7.483000px;background-color:rgba(255,255,255,0.000001);\"></div></a>\n",
      "<a class=\"l\" data-dest-detail='[466,\"XYZ\",72,450.01,null]' href=\"#pf1d2\"><div class=\"d m1\" style=\"border-style:none;position:absolute;left:296.121919px;bottom:1253.219944px;width:15.751000px;height:7.555000px;background-color:rgba(255,255,255,0.000001);\"></div></a>\n",
      "<a class=\"l\" data-dest-detail='[466,\"XYZ\",72,402.97,null]' href=\"#pf1d2\"><div class=\"d m1\" style=\"border-style:none;position:absolute;left:244.299207px;bottom:1180.844295px;width:15.751000px;height:7.555000px;background-color:rgba(255,255,255,0.000001);\"></div></a>\n",
      "<a class=\"l\" data-dest-detail='[466,\"XYZ\",72,402.97,null]' href=\"#pf1d2\"><div class=\"d m1\" style=\"border-style:none;position:absolute;left:514.105523px;bottom:1083.288375px;width:15.751000px;height:7.555000px;background-color:rgba(255,255,255,0.000001);\"></div></a>\n",
      "<a class=\"l\" data-dest-detail='[466,\"XYZ\",72,356.27,null]' href=\"#pf1d2\"><div class=\"d m1\" style=\"border-style:none;position:absolute;left:528.343610px;bottom:978.392367px;width:15.751000px;height:7.555000px;background-color:rgba(255,255,255,0.000001);\"></div></a>\n",
      "<a class=\"l\" data-dest-detail='[466,\"XYZ\",72,308.76,null]' href=\"#pf1d2\"><div class=\"d m1\" style=\"border-style:none;position:absolute;left:424.065153px;bottom:840.979438px;width:15.751000px;height:9.592000px;background-color:rgba(255,255,255,0.000001);\"></div></a>\n",
      "<a class=\"l\" data-dest-detail='[466,\"XYZ\",72,261.59,null]' href=\"#pf1d2\"><div class=\"d m1\" style=\"border-style:none;position:absolute;left:399.244403px;bottom:645.865878px;width:15.751000px;height:7.555000px;background-color:rgba(255,255,255,0.000001);\"></div></a>\n",
      "<a class=\"l\" data-dest-detail='[466,\"XYZ\",72,195.58,null]' href=\"#pf1d2\"><div class=\"d m1\" style=\"border-style:none;position:absolute;left:830.426018px;bottom:580.828598px;width:15.751000px;height:9.592000px;background-color:rgba(255,255,255,0.000001);\"></div></a>\n",
      "<a class=\"l\" data-dest-detail='[466,\"XYZ\",72,148.47,null]' href=\"#pf1d2\"><div class=\"d m1\" style=\"border-style:none;position:absolute;left:147.931945px;bottom:515.791318px;width:15.751000px;height:7.555000px;background-color:rgba(255,255,255,0.000001);\"></div></a>\n",
      "<a class=\"l\" data-dest-detail='[467,\"XYZ\",72,740.93,null]' href=\"#pf1d3\"><div class=\"d m1\" style=\"border-style:none;position:absolute;left:513.782126px;bottom:483.272678px;width:15.751000px;height:7.555000px;background-color:rgba(255,255,255,0.000001);\"></div></a>\n",
      "<a class=\"l\" data-dest-detail='[467,\"XYZ\",72,740.93,null]' href=\"#pf1d3\"><div class=\"d m1\" style=\"border-style:none;position:absolute;left:649.462814px;bottom:353.196398px;width:15.751000px;height:7.556000px;background-color:rgba(255,255,255,0.000001);\"></div></a>\n",
      "<a class=\"l\" data-dest-detail='[407,\"XYZ\",271.19,617.58,null]' href=\"#pf197\"><div class=\"d m1\" style=\"border-style:none;position:absolute;left:287.295579px;bottom:324.751189px;width:18.377000px;height:7.225000px;background-color:rgba(255,255,255,0.000001);\"></div></a>\n",
      "<a class=\"l\" data-dest-detail='[467,\"XYZ\",72,703.67,null]' href=\"#pf1d3\"><div class=\"d m1\" style=\"border-style:none;position:absolute;left:540.467572px;bottom:150.746190px;width:15.751000px;height:7.555000px;background-color:rgba(255,255,255,0.000001);\"></div></a>\n",
      "<a class=\"l\" data-dest-detail='[467,\"XYZ\",72,740.93,null]' href=\"#pf1d3\"><div class=\"d m1\" style=\"border-style:none;position:absolute;left:577.386480px;bottom:150.746190px;width:15.751000px;height:7.555000px;background-color:rgba(255,255,255,0.000001);\"></div></a>\n",
      "<a class=\"l\" data-dest-detail='[467,\"XYZ\",72,703.67,null]' href=\"#pf1d3\"><div class=\"d m1\" style=\"border-style:none;position:absolute;left:184.059562px;bottom:970.058003px;width:15.751000px;height:7.555000px;background-color:rgba(255,255,255,0.000001);\"></div></a>\n",
      "<a class=\"l\" data-dest-detail='[467,\"XYZ\",72,740.93,null]' href=\"#pf1d3\"><div class=\"d m1\" style=\"border-style:none;position:absolute;left:620.573794px;bottom:970.058003px;width:15.751000px;height:7.555000px;background-color:rgba(255,255,255,0.000001);\"></div></a>\n",
      "<a class=\"l\" data-dest-detail='[467,\"XYZ\",72,617.65,null]' href=\"#pf1d3\"><div class=\"d m1\" style=\"border-style:none;position:absolute;left:284.851176px;bottom:903.838946px;width:15.751000px;height:7.556000px;background-color:rgba(255,255,255,0.000001);\"></div></a>\n",
      "<a class=\"l\" data-dest-detail='[464,\"XYZ\",72,327.2,null]' href=\"#pf1d0\"><div class=\"d m1\" style=\"border-style:none;position:absolute;left:856.733020px;bottom:837.619890px;width:15.751000px;height:9.593000px;background-color:rgba(255,255,255,0.000001);\"></div></a>\n",
      "<a class=\"l\" data-dest-detail='[467,\"XYZ\",72,568.49,null]' href=\"#pf1d3\"><div class=\"d m1\" style=\"border-style:none;position:absolute;left:210.249590px;bottom:805.101250px;width:15.751000px;height:7.556000px;background-color:rgba(255,255,255,0.000001);\"></div></a>\n",
      "<a class=\"l\" data-dest-detail='[464,\"XYZ\",72,282.2,null]' href=\"#pf1d0\"><div class=\"d m1\" style=\"border-style:none;position:absolute;left:848.964602px;bottom:475.934310px;width:15.751000px;height:9.592000px;background-color:rgba(255,255,255,0.000001);\"></div></a>\n",
      "<a class=\"l\" data-dest-detail='[467,\"XYZ\",72,519.81,null]' href=\"#pf1d3\"><div class=\"d m1\" style=\"border-style:none;position:absolute;left:503.139255px;bottom:443.415670px;width:15.751000px;height:7.555000px;background-color:rgba(255,255,255,0.000001);\"></div></a>\n",
      "<a class=\"l\" data-dest-detail='[464,\"XYZ\",72,282.2,null]' href=\"#pf1d0\"><div class=\"d m1\" style=\"border-style:none;position:absolute;left:234.635130px;bottom:410.897030px;width:15.751000px;height:9.592000px;background-color:rgba(255,255,255,0.000001);\"></div></a>\n",
      "<a class=\"l\" data-dest-detail='[467,\"XYZ\",72,471.13,null]' href=\"#pf1d3\"><div class=\"d m1\" style=\"border-style:none;position:absolute;left:273.879747px;bottom:410.897030px;width:15.751000px;height:7.555000px;background-color:rgba(255,255,255,0.000001);\"></div></a>\n",
      "<a class=\"l\" data-dest-detail='[467,\"XYZ\",72,422.51,null]' href=\"#pf1d3\"><div class=\"d m1\" style=\"border-style:none;position:absolute;left:301.420132px;bottom:378.376670px;width:15.751000px;height:9.593000px;background-color:rgba(255,255,255,0.000001);\"></div></a>\n",
      "<a class=\"l\" data-dest-detail='[467,\"XYZ\",72,373.76,null]' href=\"#pf1d3\"><div class=\"d m1\" style=\"border-style:none;position:absolute;left:523.322349px;bottom:378.376670px;width:15.751000px;height:7.556000px;background-color:rgba(255,255,255,0.000001);\"></div></a>\n",
      "<a class=\"l\" data-dest-detail='[467,\"XYZ\",72,325.08,null]' href=\"#pf1d3\"><div class=\"d m1\" style=\"border-style:none;position:absolute;left:264.385970px;bottom:345.858030px;width:15.751000px;height:9.593000px;background-color:rgba(255,255,255,0.000001);\"></div></a>\n",
      "<a class=\"l\" data-dest-detail='[467,\"XYZ\",72,276.46,null]' href=\"#pf1d3\"><div class=\"d m1\" style=\"border-style:none;position:absolute;left:375.326757px;bottom:313.339390px;width:15.751000px;height:7.555000px;background-color:rgba(255,255,255,0.000001);\"></div></a>\n",
      "<a class=\"l\" data-dest-detail='[467,\"XYZ\",72,227.72,null]' href=\"#pf1d3\"><div class=\"d m1\" style=\"border-style:none;position:absolute;left:382.078538px;bottom:280.820750px;width:15.751000px;height:7.555000px;background-color:rgba(255,255,255,0.000001);\"></div></a>\n",
      "<a class=\"l\" data-dest-detail='[467,\"XYZ\",72,179.1,null]' href=\"#pf1d3\"><div class=\"d m1\" style=\"border-style:none;position:absolute;left:650.137132px;bottom:215.783470px;width:15.751000px;height:7.555000px;background-color:rgba(255,255,255,0.000001);\"></div></a>\n",
      "<a class=\"l\" data-dest-detail='[467,\"XYZ\",72,130.42,null]' href=\"#pf1d3\"><div class=\"d m1\" style=\"border-style:none;position:absolute;left:793.083940px;bottom:215.783470px;width:15.750000px;height:7.555000px;background-color:rgba(255,255,255,0.000001);\"></div></a>\n",
      "<a class=\"l\" data-dest-detail='[468,\"XYZ\",72,740.93,null]' href=\"#pf1d4\"><div class=\"d m1\" style=\"border-style:none;position:absolute;left:682.826072px;bottom:1253.219944px;width:15.751000px;height:7.555000px;background-color:rgba(255,255,255,0.000001);\"></div></a>\n",
      "<a class=\"l\" data-dest-detail='[468,\"XYZ\",72,689.61,null]' href=\"#pf1d4\"><div class=\"d m1\" style=\"border-style:none;position:absolute;left:720.128585px;bottom:1253.219944px;width:15.751000px;height:7.555000px;background-color:rgba(255,255,255,0.000001);\"></div></a>\n",
      "<a class=\"l\" data-dest-detail='[468,\"XYZ\",72,626.19,null]' href=\"#pf1d4\"><div class=\"d m1\" style=\"border-style:none;position:absolute;left:166.068002px;bottom:1220.701304px;width:15.751000px;height:7.555000px;background-color:rgba(255,255,255,0.000001);\"></div></a>\n",
      "<a class=\"l\" data-dest-detail='[467,\"XYZ\",72,373.76,null]' href=\"#pf1d3\"><div class=\"d m1\" style=\"border-style:none;position:absolute;left:350.187770px;bottom:1220.701304px;width:15.751000px;height:7.555000px;background-color:rgba(255,255,255,0.000001);\"></div></a>\n",
      "<a class=\"l\" data-dest-detail='[468,\"XYZ\",72,578.91,null]' href=\"#pf1d4\"><div class=\"d m1\" style=\"border-style:none;position:absolute;left:794.652762px;bottom:1220.701304px;width:15.750000px;height:9.592000px;background-color:rgba(255,255,255,0.000001);\"></div></a>\n",
      "<a class=\"l\" data-dest-detail='[468,\"XYZ\",72,626.19,null]' href=\"#pf1d4\"><div class=\"d m1\" style=\"border-style:none;position:absolute;left:339.498455px;bottom:1018.538368px;width:15.751000px;height:7.555000px;background-color:rgba(255,255,255,0.000001);\"></div></a>\n",
      "<a class=\"l\" data-dest-detail='[467,\"XYZ\",72,276.46,null]' href=\"#pf1d3\"><div class=\"d m1\" style=\"border-style:none;position:absolute;left:637.944362px;bottom:294.396560px;width:15.751000px;height:7.556000px;background-color:rgba(255,255,255,0.000001);\"></div></a>\n",
      "<a class=\"l\" data-dest-detail='[467,\"XYZ\",72,276.46,null]' href=\"#pf1d3\"><div class=\"d m1\" style=\"border-style:none;position:absolute;left:452.321140px;bottom:1155.664024px;width:15.751000px;height:7.555000px;background-color:rgba(255,255,255,0.000001);\"></div></a>\n",
      "<a class=\"l\" data-dest-detail='[468,\"XYZ\",72,515.55,null]' href=\"#pf1d4\"><div class=\"d m1\" style=\"border-style:none;position:absolute;left:831.124419px;bottom:1090.626744px;width:15.751000px;height:7.555000px;background-color:rgba(255,255,255,0.000001);\"></div></a>\n",
      "<a class=\"l\" data-dest-detail='[468,\"XYZ\",72,433.23,null]' href=\"#pf1d4\"><div class=\"d m1\" style=\"border-style:none;position:absolute;left:868.528424px;bottom:1090.626744px;width:15.751000px;height:9.592000px;background-color:rgba(255,255,255,0.000001);\"></div></a>\n",
      "<a class=\"l\" data-dest-detail='[468,\"XYZ\",72,370.22,null]' href=\"#pf1d4\"><div class=\"d m1\" style=\"border-style:none;position:absolute;left:123.854321px;bottom:1058.106384px;width:15.751000px;height:7.556000px;background-color:rgba(255,255,255,0.000001);\"></div></a>\n",
      "<a class=\"l\" data-dest-detail='[468,\"XYZ\",72,306.8,null]' href=\"#pf1d4\"><div class=\"d m1\" style=\"border-style:none;position:absolute;left:775.613600px;bottom:925.164252px;width:15.751000px;height:7.555000px;background-color:rgba(255,255,255,0.000001);\"></div></a>\n",
      "<a class=\"l\" data-dest-detail='[467,\"XYZ\",72,373.76,null]' href=\"#pf1d3\"><div class=\"d m1\" style=\"border-style:none;position:absolute;left:467.116570px;bottom:860.126972px;width:15.751000px;height:7.555000px;background-color:rgba(255,255,255,0.000001);\"></div></a>\n",
      "<a class=\"l\" data-dest-detail='[468,\"XYZ\",72,261.81,null]' href=\"#pf1d4\"><div class=\"d m1\" style=\"border-style:none;position:absolute;left:428.444779px;bottom:447.162263px;width:15.751000px;height:7.555000px;background-color:rgba(255,255,255,0.000001);\"></div></a>\n",
      "<a class=\"l\" data-dest-detail='[468,\"XYZ\",72,217.36,null]' href=\"#pf1d4\"><div class=\"d m1\" style=\"border-style:none;position:absolute;left:292.437253px;bottom:1220.701304px;width:15.751000px;height:7.555000px;background-color:rgba(255,255,255,0.000001);\"></div></a>\n",
      "<a class=\"l\" data-dest-detail='[467,\"XYZ\",72,519.81,null]' href=\"#pf1d3\"><div class=\"d m1\" style=\"border-style:none;position:absolute;left:329.304556px;bottom:1220.701304px;width:15.751000px;height:7.555000px;background-color:rgba(255,255,255,0.000001);\"></div></a>\n",
      "<a class=\"l\" data-dest-detail='[468,\"XYZ\",72,172.78,null]' href=\"#pf1d4\"><div class=\"d m1\" style=\"border-style:none;position:absolute;left:366.171859px;bottom:1220.701304px;width:15.751000px;height:7.555000px;background-color:rgba(255,255,255,0.000001);\"></div></a>\n",
      "<a class=\"l\" data-dest-detail='[468,\"XYZ\",72,128.27,null]' href=\"#pf1d4\"><div class=\"d m1\" style=\"border-style:none;position:absolute;left:403.037441px;bottom:1220.701304px;width:15.751000px;height:7.555000px;background-color:rgba(255,255,255,0.000001);\"></div></a>\n",
      "<a class=\"l\" data-dest-detail='[469,\"XYZ\",72,740.93,null]' href=\"#pf1d5\"><div class=\"d m1\" style=\"border-style:none;position:absolute;left:439.904744px;bottom:1220.701304px;width:15.751000px;height:7.555000px;background-color:rgba(255,255,255,0.000001);\"></div></a>\n",
      "<a class=\"l\" data-dest-detail='[469,\"XYZ\",72,704.81,null]' href=\"#pf1d5\"><div class=\"d m1\" style=\"border-style:none;position:absolute;left:165.995753px;bottom:1184.983094px;width:15.751000px;height:9.592000px;background-color:rgba(255,255,255,0.000001);\"></div></a>\n",
      "<a class=\"l\" data-dest-detail='[469,\"XYZ\",72,677.8,null]' href=\"#pf1d5\"><div class=\"d m1\" style=\"border-style:none;position:absolute;left:392.162344px;bottom:961.629028px;width:15.751000px;height:7.555000px;background-color:rgba(255,255,255,0.000001);\"></div></a>\n",
      "<a class=\"l\" data-dest-detail='[469,\"XYZ\",72,677.8,null]' href=\"#pf1d5\"><div class=\"d m1\" style=\"border-style:none;position:absolute;left:426.076065px;bottom:293.118452px;width:15.751000px;height:7.555000px;background-color:rgba(255,255,255,0.000001);\"></div></a>\n",
      "<a class=\"l\" data-dest-detail='[469,\"XYZ\",72,630.93,null]' href=\"#pf1d5\"><div class=\"d m1\" style=\"border-style:none;position:absolute;left:312.035479px;bottom:1197.877705px;width:15.751000px;height:9.593000px;background-color:rgba(255,255,255,0.000001);\"></div></a>\n",
      "<a class=\"l\" data-dest-detail='[411,\"XYZ\",206.74,622.68,null]' href=\"#pf19b\"><div class=\"d m1\" style=\"border-style:none;position:absolute;left:256.311356px;bottom:900.334901px;width:23.627000px;height:9.592000px;background-color:rgba(255,255,255,0.000001);\"></div></a>\n",
      "<a class=\"l\" data-dest-detail='[469,\"XYZ\",72,584.54,null]' href=\"#pf1d5\"><div class=\"d m1\" style=\"border-style:none;position:absolute;left:489.615052px;bottom:900.334901px;width:15.751000px;height:7.555000px;background-color:rgba(255,255,255,0.000001);\"></div></a>\n",
      "<a class=\"l\" data-dest-detail='[469,\"XYZ\",72,584.54,null]' href=\"#pf1d5\"><div class=\"d m1\" style=\"border-style:none;position:absolute;left:165.995753px;bottom:574.685768px;width:15.751000px;height:7.555000px;background-color:rgba(255,255,255,0.000001);\"></div></a>\n",
      "<a class=\"l\" data-dest-detail='[469,\"XYZ\",72,538.15,null]' href=\"#pf1d5\"><div class=\"d m1\" style=\"border-style:none;position:absolute;left:229.278430px;bottom:792.084505px;width:15.751000px;height:7.555000px;background-color:rgba(255,255,255,0.000001);\"></div></a>\n",
      "<a class=\"l\" data-dest-detail='[469,\"XYZ\",72,473.33,null]' href=\"#pf1d5\"><div class=\"d m1\" style=\"border-style:none;position:absolute;left:337.054052px;bottom:759.565865px;width:15.751000px;height:7.555000px;background-color:rgba(255,255,255,0.000001);\"></div></a>\n",
      "<a class=\"l\" data-dest-detail='[462,\"XYZ\",72,177.78,null]' href=\"#pf1ce\"><div class=\"d m1\" style=\"border-style:none;position:absolute;left:443.462115px;bottom:998.339793px;width:15.751000px;height:9.592000px;background-color:rgba(255,255,255,0.000001);\"></div></a>\n",
      "<a class=\"l\" data-dest-detail='[462,\"XYZ\",72,130,null]' href=\"#pf1ce\"><div class=\"d m1\" style=\"border-style:none;position:absolute;left:479.746271px;bottom:998.339793px;width:15.751000px;height:9.592000px;background-color:rgba(255,255,255,0.000001);\"></div></a>\n",
      "<a class=\"l\" data-dest-detail='[469,\"XYZ\",72,426.46,null]' href=\"#pf1d5\"><div class=\"d m1\" style=\"border-style:none;position:absolute;left:203.318909px;bottom:900.782153px;width:15.751000px;height:7.556000px;background-color:rgba(255,255,255,0.000001);\"></div></a>\n",
      "<a class=\"l\" data-dest-detail='[469,\"XYZ\",72,361.64,null]' href=\"#pf1d5\"><div class=\"d m1\" style=\"border-style:none;position:absolute;left:334.232926px;bottom:900.782153px;width:15.751000px;height:7.556000px;background-color:rgba(255,255,255,0.000001);\"></div></a>\n",
      "<a class=\"l\" data-dest-detail='[469,\"XYZ\",72,314.77,null]' href=\"#pf1d5\"><div class=\"d m1\" style=\"border-style:none;position:absolute;left:184.059562px;bottom:868.263513px;width:15.751000px;height:7.555000px;background-color:rgba(255,255,255,0.000001);\"></div></a>\n",
      "<a class=\"l\" data-dest-detail='[413,\"XYZ\",184.65,135.82,null]' href=\"#pf19d\"><div class=\"d m1\" style=\"border-style:none;position:absolute;left:778.212821px;bottom:598.648139px;width:18.376000px;height:7.461000px;background-color:rgba(255,255,255,0.000001);\"></div></a>\n",
      "<a class=\"l\" href=\"http://www.math.zju.edu.cn/ligangliu/Courses/MathematicalModeling_2005-2006/Syllabus/chapter_12.pdf\"><div class=\"d m1\" style=\"border-style:none;position:absolute;left:147.082166px;bottom:153.632684px;width:75.019000px;height:6.939000px;background-color:rgba(255,255,255,0.000001);\"></div></a>\n",
      "<a class=\"l\" data-dest-detail='[413,\"XYZ\",184.65,135.82,null]' href=\"#pf19d\"><div class=\"d m1\" style=\"border-style:none;position:absolute;left:412.402204px;bottom:1052.187179px;width:18.376000px;height:7.555000px;background-color:rgba(255,255,255,0.000001);\"></div></a>\n",
      "<a class=\"l\" data-dest-detail='[469,\"XYZ\",72,268.86,null]' href=\"#pf1d5\"><div class=\"d m1\" style=\"border-style:none;position:absolute;left:184.862895px;bottom:183.264830px;width:15.751000px;height:7.555000px;background-color:rgba(255,255,255,0.000001);\"></div></a>\n",
      "<a class=\"l\" data-dest-detail='[469,\"XYZ\",72,222.05,null]' href=\"#pf1d5\"><div class=\"d m1\" style=\"border-style:none;position:absolute;left:798.893052px;bottom:660.810966px;width:15.751000px;height:9.592000px;background-color:rgba(255,255,255,0.000001);\"></div></a>\n",
      "<a class=\"l\" data-dest-detail='[415,\"XYZ\",293.68,264.03,null]' href=\"#pf19f\"><div class=\"d m1\" style=\"border-style:none;position:absolute;left:452.193845px;bottom:472.376939px;width:18.376000px;height:7.556000px;background-color:rgba(255,255,255,0.000001);\"></div></a>\n",
      "<a class=\"l\" data-dest-detail='[415,\"XYZ\",293.68,264.03,null]' href=\"#pf19f\"><div class=\"d m1\" style=\"border-style:none;position:absolute;left:538.024889px;bottom:1149.952963px;width:18.376000px;height:7.555000px;background-color:rgba(255,255,255,0.000001);\"></div></a>\n",
      "<a class=\"l\" data-dest-detail='[469,\"XYZ\",72,175.6,null]' href=\"#pf1d5\"><div class=\"d m1\" style=\"border-style:none;position:absolute;left:743.375353px;bottom:772.269534px;width:15.751000px;height:7.555000px;background-color:rgba(255,255,255,0.000001);\"></div></a>\n",
      "<a class=\"l\" data-dest-detail='[469,\"XYZ\",72,148.58,null]' href=\"#pf1d5\"><div class=\"d m1\" style=\"border-style:none;position:absolute;left:165.995753px;bottom:379.427711px;width:15.751000px;height:9.592000px;background-color:rgba(255,255,255,0.000001);\"></div></a>\n",
      "<a class=\"l\" data-dest-detail='[470,\"XYZ\",72,740.93,null]' href=\"#pf1d6\"><div class=\"d m1\" style=\"border-style:none;position:absolute;left:236.862787px;bottom:898.944981px;width:15.751000px;height:7.555000px;background-color:rgba(255,255,255,0.000001);\"></div></a>\n",
      "<a class=\"l\" data-dest-detail='[470,\"XYZ\",72,667.31,null]' href=\"#pf1d6\"><div class=\"d m1\" style=\"border-style:none;position:absolute;left:302.457412px;bottom:998.339793px;width:15.751000px;height:9.592000px;background-color:rgba(255,255,255,0.000001);\"></div></a>\n",
      "<a class=\"l\" data-dest-detail='[463,\"XYZ\",72,740.93,null]' href=\"#pf1cf\"><div class=\"d m1\" style=\"border-style:none;position:absolute;left:495.518774px;bottom:965.821153px;width:15.751000px;height:9.592000px;background-color:rgba(255,255,255,0.000001);\"></div></a>\n",
      "<a class=\"l\" data-dest-detail='[470,\"XYZ\",72,621.59,null]' href=\"#pf1d6\"><div class=\"d m1\" style=\"border-style:none;position:absolute;left:338.801774px;bottom:933.302513px;width:15.751000px;height:9.592000px;background-color:rgba(255,255,255,0.000001);\"></div></a>\n",
      "<a class=\"l\" data-dest-detail='[463,\"XYZ\",72,740.93,null]' href=\"#pf1cf\"><div class=\"d m1\" style=\"border-style:none;position:absolute;left:135.955920px;bottom:900.782153px;width:15.751000px;height:9.593000px;background-color:rgba(255,255,255,0.000001);\"></div></a>\n",
      "<a class=\"l\" data-dest-detail='[470,\"XYZ\",72,594.66,null]' href=\"#pf1d6\"><div class=\"d m1\" style=\"border-style:none;position:absolute;left:656.207714px;bottom:835.744873px;width:15.751000px;height:9.593000px;background-color:rgba(255,255,255,0.000001);\"></div></a>\n",
      "<a class=\"l\" data-dest-detail='[470,\"XYZ\",72,548.88,null]' href=\"#pf1d6\"><div class=\"d m1\" style=\"border-style:none;position:absolute;left:693.952318px;bottom:835.744873px;width:15.751000px;height:9.593000px;background-color:rgba(255,255,255,0.000001);\"></div></a>\n",
      "<a class=\"l\" data-dest-detail='[470,\"XYZ\",72,503.16,null]' href=\"#pf1d6\"><div class=\"d m1\" style=\"border-style:none;position:absolute;left:148.131488px;bottom:803.226233px;width:15.751000px;height:9.592000px;background-color:rgba(255,255,255,0.000001);\"></div></a>\n",
      "<a class=\"l\" data-dest-detail='[470,\"XYZ\",72,457.32,null]' href=\"#pf1d6\"><div class=\"d m1\" style=\"border-style:none;position:absolute;left:338.947991px;bottom:965.821153px;width:15.751000px;height:9.592000px;background-color:rgba(255,255,255,0.000001);\"></div></a>\n",
      "<a class=\"l\" data-dest-detail='[470,\"XYZ\",72,411.54,null]' href=\"#pf1d6\"><div class=\"d m1\" style=\"border-style:none;position:absolute;left:375.123774px;bottom:965.821153px;width:15.751000px;height:9.592000px;background-color:rgba(255,255,255,0.000001);\"></div></a>\n",
      "<a class=\"l\" data-dest-detail='[470,\"XYZ\",72,365.77,null]' href=\"#pf1d6\"><div class=\"d m1\" style=\"border-style:none;position:absolute;left:411.297836px;bottom:965.821153px;width:15.751000px;height:9.592000px;background-color:rgba(255,255,255,0.000001);\"></div></a>\n",
      "<a class=\"l\" data-dest-detail='[470,\"XYZ\",72,301.56,null]' href=\"#pf1d6\"><div class=\"d m1\" style=\"border-style:none;position:absolute;left:447.471899px;bottom:965.821153px;width:15.751000px;height:9.592000px;background-color:rgba(255,255,255,0.000001);\"></div></a>\n",
      "<a class=\"l\" data-dest-detail='[470,\"XYZ\",72,255.3,null]' href=\"#pf1d6\"><div class=\"d m1\" style=\"border-style:none;position:absolute;left:446.026932px;bottom:868.263513px;width:15.750000px;height:9.593000px;background-color:rgba(255,255,255,0.000001);\"></div></a>\n",
      "<a class=\"l\" data-dest-detail='[470,\"XYZ\",72,411.54,null]' href=\"#pf1d6\"><div class=\"d m1\" style=\"border-style:none;position:absolute;left:586.541379px;bottom:774.461067px;width:15.751000px;height:9.592000px;background-color:rgba(255,255,255,0.000001);\"></div></a>\n",
      "<a class=\"l\" data-dest-detail='[470,\"XYZ\",72,621.59,null]' href=\"#pf1d6\"><div class=\"d m1\" style=\"border-style:none;position:absolute;left:533.616019px;bottom:998.339793px;width:15.751000px;height:9.592000px;background-color:rgba(255,255,255,0.000001);\"></div></a>\n"
     ]
    }
   ],
   "source": [
    "links = soup.find_all('a') #, 'data-dest-detail'\n",
    "for link in links:\n",
    "    print(link)"
   ]
  },
  {
   "cell_type": "code",
   "execution_count": null,
   "metadata": {
    "collapsed": true
   },
   "outputs": [],
   "source": []
  }
 ],
 "metadata": {
  "kernelspec": {
   "display_name": "Python 3",
   "language": "python",
   "name": "python3"
  },
  "language_info": {
   "codemirror_mode": {
    "name": "ipython",
    "version": 3
   },
   "file_extension": ".py",
   "mimetype": "text/x-python",
   "name": "python",
   "nbconvert_exporter": "python",
   "pygments_lexer": "ipython3",
   "version": "3.5.4"
  }
 },
 "nbformat": 4,
 "nbformat_minor": 2
}
