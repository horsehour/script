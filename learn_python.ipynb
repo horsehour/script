{
 "cells": [
  {
   "cell_type": "markdown",
   "metadata": {
    "collapsed": true
   },
   "source": [
    "#### 1. Basic - initial value, conversion between different types - upcast or downcast\n",
    "- 1.1 int, float, double, boolean\n",
    "- 1.2 char, string - slice, substring, index, trim, conversion between numeric value and string\n",
    "- 1.3 print and string format\n",
    "- 1.4 operators, enum\n",
    "- 1.5 math\n",
    "\n",
    "#### 2. for, while, do, if-else, continue, break - range, xrange\n",
    "\n",
    "#### 3. Data Structures:\n",
    "* initialize, length, assign value, add, delete, insert, visit, index, slice, compare (ref, empty), sort\n",
    "- 3.1 containers - list, map/dictionary, set, tuple, triple -- in or not in\n",
    "- 3.2 iterator - range, xrange, linespace\n",
    "\n",
    "#### 4. I/O and sys:\n",
    "- 4.1 File - I/O, append, buffer, lines, with block\n",
    "- 4.2 directory - list files, file names, delte/create file, exists, create new directory\n",
    "- 4.3 wilder chars, regular expression, zip, mapreduce\n",
    "\n",
    "#### 5. Object Oriented programming:\n",
    "- 5.1 function - lambda, arguments, return types, comments\n",
    "- 5.2 class - abstract class & interface/protocol, class attribute & instance attribute, toString, compare\n",
    "- 5.3 hashable, tostring, compare, iterable/iterator, try-exception-raise\n",
    "- 5.4 object serialization or deserialization\n",
    "- 5.5 module & packages & naming conventions\n",
    "- 5.6 import & requirements\n",
    "\n",
    "#### 6. Advanced:\n",
    "- 6.1 Mathematics\n",
    " - 6.1.1 matrix\n",
    " - 6.1.2 optimization\n",
    " - 6.1.3 statistics - random numbers generator, sampling, distribution\n",
    " - 6.1.4 numpy, pandas\n",
    "\n",
    "- 6.2 Machine Learning\n",
    " - 6.2.1 classification, clustering, recommendation, ranking\n",
    " - 6.2.2 reinforcement learning\n",
    " - 6.2.3 deep learning\n",
    " - 6.2.4 hyperparameter tuning - bayesian optimization\n",
    " - 6.2.5 scipy, sigopt\n",
    "\n",
    "- 6.3 Chart Plot\n",
    " - 6.3.1 scatter plot, histogram, lines - axis, legend, title, coloring, tick and grid\n",
    " - 6.3.2 matplotlib, pandas\n",
    "\n",
    "- 6.4 Jupyter Notebook\n",
    " - 6.4.1 Markdown Syntax\n",
    " - 6.4.2 Embeded Language: python, java, c/c++\n",
    " - 6.4.3 LaTex\n",
    " - 6.4.4 Magics"
   ]
  },
  {
   "cell_type": "markdown",
   "metadata": {},
   "source": [
    "** import packages **"
   ]
  },
  {
   "cell_type": "code",
   "execution_count": 16,
   "metadata": {
    "collapsed": true
   },
   "outputs": [],
   "source": [
    "import os\n",
    "import sys\n",
    "import pickle\n",
    "\n",
    "import pandas as pd\n",
    "import numpy as np\n",
    "import matplotlib.pyplot as plt\n",
    "\n",
    "import tensorflow as tf\n",
    "\n",
    "%matplotlib inline"
   ]
  },
  {
   "cell_type": "code",
   "execution_count": 29,
   "metadata": {
    "collapsed": false
   },
   "outputs": [
    {
     "name": "stdout",
     "output_type": "stream",
     "text": [
      "01234\n"
     ]
    },
    {
     "data": {
      "text/plain": [
       "tuple"
      ]
     },
     "execution_count": 29,
     "metadata": {},
     "output_type": "execute_result"
    }
   ],
   "source": [
    "## string concat\n",
    "s = \"\"\n",
    "for i in range(5):\n",
    "    s += str(i) ## int -> string\n",
    "\n",
    "print(s) ## print will auto-append a new line char '\\n'\n",
    "\n",
    "## tuple\n",
    "a = s[0], s[-5], s[-2]\n",
    "type(a) ## gives the type of a variable"
   ]
  },
  {
   "cell_type": "code",
   "execution_count": 33,
   "metadata": {
    "collapsed": false
   },
   "outputs": [
    {
     "data": {
      "text/plain": [
       "4"
      ]
     },
     "execution_count": 33,
     "metadata": {},
     "output_type": "execute_result"
    }
   ],
   "source": [
    "int(a[2]) + 1 ## string -> int"
   ]
  },
  {
   "cell_type": "markdown",
   "metadata": {},
   "source": [
    "*** How to create empty {list, tuple, dict, string}? ***"
   ]
  },
  {
   "cell_type": "code",
   "execution_count": 43,
   "metadata": {
    "collapsed": false
   },
   "outputs": [
    {
     "name": "stdout",
     "output_type": "stream",
     "text": [
      "<class 'list'>\n",
      "<class 'tuple'>\n",
      "<class 'dict'>\n",
      "<class 'int'>\n",
      "<class 'float'>\n",
      "<class 'str'>\n",
      "<class 'bool'>\n"
     ]
    }
   ],
   "source": [
    "b = ([], (), {}, 0, 0.2, '', True)\n",
    "for i in range(len(b)):\n",
    "    print(type(b[i]))"
   ]
  },
  {
   "cell_type": "markdown",
   "metadata": {},
   "source": [
    "*** how to evaluate whether a list, tuple or dict, string is empty? ***"
   ]
  },
  {
   "cell_type": "code",
   "execution_count": 55,
   "metadata": {
    "collapsed": false
   },
   "outputs": [
    {
     "name": "stdout",
     "output_type": "stream",
     "text": [
      "[] is empty.\n",
      "() is empty.\n",
      "{} is empty.\n",
      "0 is empty.\n",
      "0.2 is not empty.\n",
      " is empty.\n",
      "True is not empty.\n"
     ]
    }
   ],
   "source": [
    "for i in range(len(b)):\n",
    "    if not b[i]: ## special way to know whether it's empty\n",
    "        print(str(b[i]) + \" is empty.\")\n",
    "    else:\n",
    "        print(str(b[i]) + \" is not empty.\")"
   ]
  },
  {
   "cell_type": "markdown",
   "metadata": {},
   "source": [
    "** Useful numpy.linespace to generate a sequence with a fixed width **"
   ]
  },
  {
   "cell_type": "code",
   "execution_count": 5,
   "metadata": {
    "collapsed": false
   },
   "outputs": [
    {
     "name": "stdout",
     "output_type": "stream",
     "text": [
      "10\n",
      "20\n",
      "30\n",
      "40\n",
      "50\n",
      "60\n",
      "70\n",
      "80\n",
      "90\n",
      "100\n"
     ]
    },
    {
     "data": {
      "text/plain": [
       "numpy.ndarray"
      ]
     },
     "execution_count": 5,
     "metadata": {},
     "output_type": "execute_result"
    }
   ],
   "source": [
    "# np.linspace(start, stop, num=50, endpoint=True, retstep=False, dtype=None)[source]\n",
    "x = np.linspace(10, 100, num=10, endpoint=True)\n",
    "for i in x:\n",
    "    print(int(i))\n",
    "type(x)"
   ]
  },
  {
   "cell_type": "markdown",
   "metadata": {},
   "source": [
    "** [Hashable in Python](http://stackoverflow.com/questions/14535730/what-do-you-mean-by-hashable-in-python) **\n",
    "> All of Python’s immutable built-in objects are hashable, while no mutable containers \n",
    "> (such as *lists* or *dictionaries*) are. Objects which are instances of user-defined \n",
    "> classes are hashable by default; they all compare unequal, and their hash value is their id()."
   ]
  },
  {
   "cell_type": "code",
   "execution_count": 12,
   "metadata": {
    "collapsed": false
   },
   "outputs": [
    {
     "name": "stdout",
     "output_type": "stream",
     "text": [
      "False\n"
     ]
    }
   ],
   "source": [
    "s1 = \"it's great\"\n",
    "s2 = \"it's great\"  ## s2 = s1\n",
    "print(hash(s1) == hash(s2))"
   ]
  },
  {
   "cell_type": "code",
   "execution_count": 13,
   "metadata": {
    "collapsed": false
   },
   "outputs": [
    {
     "data": {
      "text/plain": [
       "{'i': 433611154635708497, 'u': 3049833569042992159}"
      ]
     },
     "execution_count": 13,
     "metadata": {},
     "output_type": "execute_result"
    }
   ],
   "source": [
    "t = {'i':hash('i'), 'u':hash('u')}\n",
    "t"
   ]
  },
  {
   "cell_type": "code",
   "execution_count": 27,
   "metadata": {
    "collapsed": false
   },
   "outputs": [
    {
     "name": "stdout",
     "output_type": "stream",
     "text": [
      "i 433611154635708497\n",
      "u 3049833569042992159\n"
     ]
    }
   ],
   "source": [
    "for k,v in t.items():\n",
    "    print(k, v)"
   ]
  },
  {
   "cell_type": "code",
   "execution_count": 40,
   "metadata": {
    "collapsed": false
   },
   "outputs": [
    {
     "data": {
      "text/plain": [
       "[9, True]"
      ]
     },
     "execution_count": 40,
     "metadata": {},
     "output_type": "execute_result"
    }
   ],
   "source": [
    "l = [1, 9, '2', True]\n",
    "l[1:4:2]"
   ]
  },
  {
   "cell_type": "code",
   "execution_count": 46,
   "metadata": {
    "collapsed": false
   },
   "outputs": [
    {
     "data": {
      "text/plain": [
       "[1, 9, '2', True]"
      ]
     },
     "execution_count": 46,
     "metadata": {},
     "output_type": "execute_result"
    }
   ],
   "source": [
    "l.reverse()\n",
    "l"
   ]
  },
  {
   "cell_type": "code",
   "execution_count": 48,
   "metadata": {
    "collapsed": false
   },
   "outputs": [
    {
     "data": {
      "text/plain": [
       "[9, 2, 0]"
      ]
     },
     "execution_count": 48,
     "metadata": {},
     "output_type": "execute_result"
    }
   ],
   "source": [
    "b = [2, 9, 0]\n",
    "b.sort()\n",
    "b.reverse()\n",
    "b"
   ]
  },
  {
   "cell_type": "code",
   "execution_count": 57,
   "metadata": {
    "collapsed": false
   },
   "outputs": [
    {
     "name": "stdout",
     "output_type": "stream",
     "text": [
      "True False -1 5 2 [\"it's\", 'great']\n"
     ]
    }
   ],
   "source": [
    "print('it' in s1, 'we' in s1, s1.find('he'), s1.rfind('g'), s1.count('t'), s1.split(' '))"
   ]
  },
  {
   "cell_type": "code",
   "execution_count": 60,
   "metadata": {
    "collapsed": false
   },
   "outputs": [
    {
     "name": "stdout",
     "output_type": "stream",
     "text": [
      "before:  welcome to python\n",
      "after:welcome to python\n"
     ]
    }
   ],
   "source": [
    "s3 = \"  welcome to python\"\n",
    "## trim() function\n",
    "print(\"before:\" + s3)\n",
    "print(\"after:\" + s3.strip())"
   ]
  },
  {
   "cell_type": "code",
   "execution_count": 61,
   "metadata": {
    "collapsed": false
   },
   "outputs": [
    {
     "name": "stdout",
     "output_type": "stream",
     "text": [
      "eggs and spam\n"
     ]
    }
   ],
   "source": [
    "print('{1} and {0}'.format('spam', 'eggs'))"
   ]
  },
  {
   "cell_type": "code",
   "execution_count": 63,
   "metadata": {
    "collapsed": false
   },
   "outputs": [
    {
     "name": "stdout",
     "output_type": "stream",
     "text": [
      "10\n",
      "0,c0\n",
      "1,c1\n",
      "2,c2\n",
      "3,c3\n",
      "4,c4\n",
      "5,c5\n",
      "6,c6\n",
      "7,c7\n",
      "8,c8\n",
      "9,c9\n",
      "10,10,10\n",
      "1,7,9,4,2,1,0,6,5,8,3\n",
      "1,5,2,7,1,4,9,3,8,0,6\n",
      "1,5,2,7,8,6,0,3,4,9,1\n",
      "1,9,7,6,2,5,8,4,1,0,3\n",
      "1,3,8,4,2,6,5,9,7,0,1\n",
      "1,0,4,3,5,7,2,8,6,9,1\n",
      "1,9,7,5,0,2,4,1,6,8,3\n",
      "1,3,2,6,1,5,7,4,8,9,0\n",
      "1,7,0,3,9,6,4,2,1,5,8\n",
      "1,5,4,8,7,9,2,1,3,6,0\n"
     ]
    }
   ],
   "source": [
    "source = \"/Users/chjiang/GitHub/csc/soc-3-hardcase/m10n10-1.csv\"\n",
    "with open(source, 'r') as f:\n",
    "    for line in f:\n",
    "        print(line, end = \"\") ## without newline"
   ]
  },
  {
   "cell_type": "markdown",
   "metadata": {},
   "source": [
    "** Reading lines and skip some of them **"
   ]
  },
  {
   "cell_type": "code",
   "execution_count": 69,
   "metadata": {
    "collapsed": false
   },
   "outputs": [
    {
     "name": "stdout",
     "output_type": "stream",
     "text": [
      "1,7,9,4,2,1,0,6,5,8,3\n",
      "1,5,2,7,1,4,9,3,8,0,6\n",
      "1,5,2,7,8,6,0,3,4,9,1\n",
      "1,9,7,6,2,5,8,4,1,0,3\n",
      "1,3,8,4,2,6,5,9,7,0,1\n",
      "1,0,4,3,5,7,2,8,6,9,1\n",
      "1,9,7,5,0,2,4,1,6,8,3\n",
      "1,3,2,6,1,5,7,4,8,9,0\n",
      "1,7,0,3,9,6,4,2,1,5,8\n",
      "1,5,4,8,7,9,2,1,3,6,0\n"
     ]
    }
   ],
   "source": [
    "with open(source, 'r') as f:\n",
    "    m = int(f.readline())\n",
    "    for _ in range(m + 1):\n",
    "        next(f)          ## skip lines, f is an iterator\n",
    "    for line in f:\n",
    "        print(line, end = \"\") ## without newline"
   ]
  },
  {
   "cell_type": "code",
   "execution_count": 83,
   "metadata": {
    "collapsed": false
   },
   "outputs": [],
   "source": [
    "profile = {}\n",
    "with open(source, 'r') as f:\n",
    "    m = int(f.readline())\n",
    "    for _ in range(m + 1):\n",
    "        next(f)          ## skip lines, f is an iterator\n",
    "    for line in f:\n",
    "        fields = [int(c) for c in line.split(\",\")]\n",
    "        pref = tuple(fields[1:]) ## change list to tuple such that it's hashable\n",
    "        profile[pref] = fields[0] ## add item to dict"
   ]
  },
  {
   "cell_type": "code",
   "execution_count": 84,
   "metadata": {
    "collapsed": false
   },
   "outputs": [
    {
     "data": {
      "text/plain": [
       "{(0, 4, 3, 5, 7, 2, 8, 6, 9, 1): 1,\n",
       " (3, 2, 6, 1, 5, 7, 4, 8, 9, 0): 1,\n",
       " (3, 8, 4, 2, 6, 5, 9, 7, 0, 1): 1,\n",
       " (5, 2, 7, 1, 4, 9, 3, 8, 0, 6): 1,\n",
       " (5, 2, 7, 8, 6, 0, 3, 4, 9, 1): 1,\n",
       " (5, 4, 8, 7, 9, 2, 1, 3, 6, 0): 1,\n",
       " (7, 0, 3, 9, 6, 4, 2, 1, 5, 8): 1,\n",
       " (7, 9, 4, 2, 1, 0, 6, 5, 8, 3): 1,\n",
       " (9, 7, 5, 0, 2, 4, 1, 6, 8, 3): 1,\n",
       " (9, 7, 6, 2, 5, 8, 4, 1, 0, 3): 1}"
      ]
     },
     "execution_count": 84,
     "metadata": {},
     "output_type": "execute_result"
    }
   ],
   "source": [
    "profile"
   ]
  },
  {
   "cell_type": "code",
   "execution_count": 85,
   "metadata": {
    "collapsed": false
   },
   "outputs": [
    {
     "data": {
      "text/plain": [
       "((0, 4, 3, 5, 7, 2, 8, 6, 9, 1), 1)"
      ]
     },
     "execution_count": 85,
     "metadata": {},
     "output_type": "execute_result"
    }
   ],
   "source": [
    "next(iter(profile.items())) ## iteratively get access to all items"
   ]
  },
  {
   "cell_type": "code",
   "execution_count": 86,
   "metadata": {
    "collapsed": false
   },
   "outputs": [
    {
     "data": {
      "text/plain": [
       "{(0, 4, 3, 5, 7, 2, 8, 6, 9, 1): 1,\n",
       " (3, 2, 6, 1, 5, 7, 4, 8, 9, 0): 1,\n",
       " (3, 8, 4, 2, 6, 5, 9, 7, 0, 1): 1,\n",
       " (5, 2, 7, 1, 4, 9, 3, 8, 0, 6): 1,\n",
       " (5, 2, 7, 8, 6, 0, 3, 4, 9, 1): 1,\n",
       " (5, 4, 8, 7, 9, 2, 1, 3, 6, 0): 1,\n",
       " (7, 0, 3, 9, 6, 4, 2, 1, 5, 8): 1,\n",
       " (7, 9, 4, 2, 1, 0, 6, 5, 8, 3): 1,\n",
       " (9, 7, 5, 0, 2, 4, 1, 6, 8, 3): 1,\n",
       " (9, 7, 6, 2, 5, 8, 4, 1, 0, 3): 1}"
      ]
     },
     "execution_count": 86,
     "metadata": {},
     "output_type": "execute_result"
    }
   ],
   "source": [
    "profile"
   ]
  },
  {
   "cell_type": "code",
   "execution_count": 98,
   "metadata": {
    "collapsed": false
   },
   "outputs": [],
   "source": [
    "a, b, c = \"123\"; d, e, f = [2, 'w', True]"
   ]
  },
  {
   "cell_type": "code",
   "execution_count": 99,
   "metadata": {
    "collapsed": false
   },
   "outputs": [
    {
     "data": {
      "text/plain": [
       "('3', 'w')"
      ]
     },
     "execution_count": 99,
     "metadata": {},
     "output_type": "execute_result"
    }
   ],
   "source": [
    "c, e"
   ]
  },
  {
   "cell_type": "code",
   "execution_count": 102,
   "metadata": {
    "collapsed": false
   },
   "outputs": [
    {
     "name": "stdout",
     "output_type": "stream",
     "text": [
      "[2, 1, 9, 43]\n"
     ]
    }
   ],
   "source": [
    "ll = [2,1,9]\n",
    "ll.append(43)\n",
    "print(ll)"
   ]
  },
  {
   "cell_type": "markdown",
   "metadata": {},
   "source": [
    "1. list all files under given directory, get files' names using os.path\n",
    "```python\n",
    "import glob\n",
    "import os\n",
    "\n",
    "source = \"/Users/chjiang/GitHub/*\"\n",
    "for file in glob.glob(source):\n",
    "    print(os.path.basename(file)) ## glob.glob: absolute path of files -> os.path.basename: file name\n",
    "```\n",
    "\n",
    "2. directory of current python file, its name and its parent\n",
    "```python\n",
    "import os\n",
    "\n",
    "# file name\n",
    "print(os.path.basename(__file__))\n",
    "# absolute path\n",
    "path = os.path.abspath(__file__) \n",
    "print(path)\n",
    "# directory name of ABSOLUTE PATH\n",
    "print(os.path.dirname(path))\n",
    "```"
   ]
  },
  {
   "cell_type": "markdown",
   "metadata": {},
   "source": [
    "** write string to file, read lines from file, remove file **"
   ]
  },
  {
   "cell_type": "code",
   "execution_count": 112,
   "metadata": {
    "collapsed": false
   },
   "outputs": [
    {
     "name": "stdout",
     "output_type": "stream",
     "text": [
      "hello\n",
      "what?\n"
     ]
    }
   ],
   "source": [
    "source = \"/Users/chjiang/GitHub/csc/temp.txt\"\n",
    "with open(source, \"w+\") as file:\n",
    "    file.write(\"hello\\n\")\n",
    "    file.write(\"what?\\n\")\n",
    "\n",
    "with open(source, \"r\") as file:\n",
    "    for line in file:\n",
    "        print(line, end = \"\")\n",
    "\n",
    "if os.path.exists(source):\n",
    "#    print(os.remove(source))\n",
    "    os.rename(source, source + \"-2\")"
   ]
  },
  {
   "cell_type": "code",
   "execution_count": 115,
   "metadata": {
    "collapsed": false
   },
   "outputs": [
    {
     "data": {
      "text/plain": [
       "5"
      ]
     },
     "execution_count": 115,
     "metadata": {},
     "output_type": "execute_result"
    }
   ],
   "source": [
    "a = [1, 4, 9, 0, 9]\n",
    "len(a)"
   ]
  },
  {
   "cell_type": "markdown",
   "metadata": {},
   "source": [
    "** Tranform a list to a set **"
   ]
  },
  {
   "cell_type": "code",
   "execution_count": 118,
   "metadata": {
    "collapsed": false
   },
   "outputs": [
    {
     "data": {
      "text/plain": [
       "{0, 1, 4, 9}"
      ]
     },
     "execution_count": 118,
     "metadata": {},
     "output_type": "execute_result"
    }
   ],
   "source": [
    "set(a) ## sorted set"
   ]
  },
  {
   "cell_type": "code",
   "execution_count": 123,
   "metadata": {
    "collapsed": false
   },
   "outputs": [
    {
     "data": {
      "text/plain": [
       "True"
      ]
     },
     "execution_count": 123,
     "metadata": {},
     "output_type": "execute_result"
    }
   ],
   "source": [
    "len(a) == 5 and len(set(a)) == 4"
   ]
  },
  {
   "cell_type": "markdown",
   "metadata": {
    "collapsed": true
   },
   "source": [
    "*** Set operations ***"
   ]
  },
  {
   "cell_type": "code",
   "execution_count": 10,
   "metadata": {
    "collapsed": true
   },
   "outputs": [],
   "source": [
    "s1 = set(['a', 'c', 'd', 'b']) # list -> set\n",
    "s2 = set(('b', 'c', 'e', 'b')) # tuple -> set\n",
    "s3 = set(['b', 'c'])\n",
    "s4 = set(('b', 'c', 'e'))"
   ]
  },
  {
   "cell_type": "code",
   "execution_count": 12,
   "metadata": {
    "collapsed": false
   },
   "outputs": [
    {
     "data": {
      "text/plain": [
       "({'a', 'b', 'c', 'd', 'e'},\n",
       " {'b', 'c'},\n",
       " {'a', 'd'},\n",
       " {'a', 'd', 'e'},\n",
       " True,\n",
       " True,\n",
       " False,\n",
       " True)"
      ]
     },
     "execution_count": 12,
     "metadata": {},
     "output_type": "execute_result"
    }
   ],
   "source": [
    "# union, intersection, difference, symmetric difference, subset, equal, true subset\n",
    "(s1 | s2, s1 & s2, s1 - s2, s1 ^ s2, s3 <= s1, s4 == s2, s4 < s2, s4 <= s2) "
   ]
  },
  {
   "cell_type": "code",
   "execution_count": 13,
   "metadata": {
    "collapsed": false
   },
   "outputs": [
    {
     "name": "stdout",
     "output_type": "stream",
     "text": [
      "({'c', 'a', 'e', 'd', 'b'}, {'b', 'c'}, {'a', 'd'}, {'e', 'd', 'a'})\n",
      "(True, False, True)\n"
     ]
    }
   ],
   "source": [
    "# equivalent functions\n",
    "print((s1.union(s2), s1.intersection(s2), s1.difference(s2), s1.symmetric_difference(s2)))\n",
    "print((s3.issubset(s1), s4.isdisjoint(s2), s4.issubset(s2)))"
   ]
  },
  {
   "cell_type": "code",
   "execution_count": 15,
   "metadata": {
    "collapsed": false
   },
   "outputs": [
    {
     "data": {
      "text/plain": [
       "(True, False)"
      ]
     },
     "execution_count": 15,
     "metadata": {},
     "output_type": "execute_result"
    }
   ],
   "source": [
    "## membership\n",
    "'a' in s1, 'ag' in s2"
   ]
  },
  {
   "cell_type": "markdown",
   "metadata": {},
   "source": [
    "*** Priority Queue ***"
   ]
  },
  {
   "cell_type": "code",
   "execution_count": 16,
   "metadata": {
    "collapsed": true
   },
   "outputs": [],
   "source": [
    "from queue import PriorityQueue"
   ]
  },
  {
   "cell_type": "code",
   "execution_count": 40,
   "metadata": {
    "collapsed": false
   },
   "outputs": [
    {
     "name": "stdout",
     "output_type": "stream",
     "text": [
      "False True 2\n"
     ]
    }
   ],
   "source": [
    " # if maxsize=0, the priority queue will be infinity\n",
    "q1 = PriorityQueue(maxsize=2)\n",
    "q1.put((1, \"a\"))\n",
    "q1.put((0, \"b\"))\n",
    "print(q1.empty(), q1.full(), q1.maxsize)"
   ]
  },
  {
   "cell_type": "code",
   "execution_count": 57,
   "metadata": {
    "collapsed": false
   },
   "outputs": [
    {
     "name": "stdout",
     "output_type": "stream",
     "text": [
      "False False 0\n"
     ]
    }
   ],
   "source": [
    "# add elements into quque\n",
    "q2 = PriorityQueue()\n",
    "q2.put((1, \"a\"))\n",
    "q2.put((0, \"b\"))\n",
    "q2.put((9, 'e'))\n",
    "q2.put((-1, 'e'))\n",
    "print(q2.empty(), q2.full(), q2.maxsize)"
   ]
  },
  {
   "cell_type": "code",
   "execution_count": 58,
   "metadata": {
    "collapsed": false
   },
   "outputs": [
    {
     "name": "stdout",
     "output_type": "stream",
     "text": [
      "(-1, 'e')\n",
      "(0, 'b')\n",
      "(1, 'a')\n",
      "(9, 'e')\n"
     ]
    }
   ],
   "source": [
    "# gets acess to elements in queue, it also remove elements from queue\n",
    "while not q2.empty():\n",
    "    print(q2.get())"
   ]
  },
  {
   "cell_type": "code",
   "execution_count": 64,
   "metadata": {
    "collapsed": true
   },
   "outputs": [],
   "source": [
    "class State(object):\n",
    "    def __init__(self, val):\n",
    "        self.val = val\n",
    "    \n",
    "    def __lt__(self, other):\n",
    "        return self.val[0] < other.val[0]\n",
    "    \n",
    "    def __str__(self):\n",
    "        return self.val.__str__()"
   ]
  },
  {
   "cell_type": "code",
   "execution_count": 77,
   "metadata": {
    "collapsed": false
   },
   "outputs": [
    {
     "name": "stdout",
     "output_type": "stream",
     "text": [
      "Before state3: [19, 100]\n",
      "peel:[0, 2, 4]\n",
      "After state3: [100, 100]\n",
      "peel:[100, 100]\n"
     ]
    }
   ],
   "source": [
    "val1 = [0, 2, 4]\n",
    "state1 = State(val1)\n",
    "val2 = [90, 110]\n",
    "state2 = State(val2)\n",
    "val3 = [19, 100]\n",
    "state3 = State(val3)\n",
    "\n",
    "print(\"Before state3: \" + str(state3))\n",
    "\n",
    "q = PriorityQueue()\n",
    "q.put(state1)\n",
    "q.put(state2)\n",
    "q.put(state3)\n",
    "\n",
    "print(\"peel:\" + str(q.get()))\n",
    "\n",
    "val3[0] = 100\n",
    "## the change affects the state, but does not changes the priority queue\n",
    "print(\"After state3: \" + str(state3))\n",
    "\n",
    "print(\"peel:\" + str(q.get()))"
   ]
  },
  {
   "cell_type": "code",
   "execution_count": 78,
   "metadata": {
    "collapsed": true
   },
   "outputs": [],
   "source": [
    "v = [0, 9, 0, 9, 2, 91, 2]"
   ]
  },
  {
   "cell_type": "code",
   "execution_count": 82,
   "metadata": {
    "collapsed": false
   },
   "outputs": [
    {
     "data": {
      "text/plain": [
       "6"
      ]
     },
     "execution_count": 82,
     "metadata": {},
     "output_type": "execute_result"
    }
   ],
   "source": [
    "v.index(2, 5)"
   ]
  },
  {
   "cell_type": "markdown",
   "metadata": {},
   "source": [
    "*** Timing *** It's an example to compute the $\\pi$ value from a series approximation:\n",
    "$\\pi = \\sqrt{12} \\sum\\limits_{i=0}^\\infty \\frac{1}{(2 i + 1) 3^i}$"
   ]
  },
  {
   "cell_type": "code",
   "execution_count": 105,
   "metadata": {
    "collapsed": false
   },
   "outputs": [
    {
     "name": "stdout",
     "output_type": "stream",
     "text": [
      "PI =  3.141592653589794\n",
      "Elapsed: 0.11220011999830604s\n"
     ]
    },
    {
     "data": {
      "image/png": "[encoded data removed]",
      "text/plain": [
       "<matplotlib.figure.Figure at 0x1075c66a0>"
      ]
     },
     "metadata": {},
     "output_type": "display_data"
    }
   ],
   "source": [
    "import time\n",
    "import math\n",
    "import numpy as np\n",
    "import matplotlib.pyplot as plt\n",
    "%matplotlib inline\n",
    "\n",
    "def compute_pi(max_i):\n",
    "    diff = []\n",
    "    value = 0.0\n",
    "    sgn = -1\n",
    "    fact = 1.0\n",
    "    for i in range(max_i):\n",
    "        sgn *= -1\n",
    "        value += sgn * fact / (2 * i + 1)\n",
    "        fact /= 3.0\n",
    "        diff.append(2 * math.sqrt(3) * value - math.pi)\n",
    "    plt.plot(np.array(range(max_i)), np.array(diff))\n",
    "    return 2 * math.sqrt(3) * value\n",
    "\n",
    "begin = time.perf_counter()\n",
    "max_i = 100\n",
    "pi = compute_pi(max_i)\n",
    "end = time.perf_counter()\n",
    "print(\"PI = \", str(pi))\n",
    "print(\"Elapsed: \" + str((end - begin)) + \"s\")"
   ]
  },
  {
   "cell_type": "markdown",
   "metadata": {},
   "source": [
    "*** argmin, argmax, get_rank ***"
   ]
  },
  {
   "cell_type": "code",
   "execution_count": 150,
   "metadata": {
    "collapsed": false
   },
   "outputs": [],
   "source": [
    "def argmax(x):\n",
    "    \"\"\"\n",
    "    retrieval all positions with element = max value in x\n",
    "    :param x: list or tuple\n",
    "    :return: all positions with element = max element in x\n",
    "    \"\"\"\n",
    "    max_v = max(x)\n",
    "    ret = []\n",
    "    for i in range(len(x)):\n",
    "        if x[i] == max_v:\n",
    "            ret.append(i)\n",
    "    return ret\n",
    "\n",
    "def argmin(x):\n",
    "    \"\"\"\n",
    "    retrieval all positions with element = min value in x\n",
    "    :param x: list or tuple\n",
    "    :return: all positions with element = min element in x\n",
    "    \"\"\"\n",
    "    min_v = min(x)\n",
    "    ret = []\n",
    "    for i in range(len(x)):\n",
    "        if x[i] == min_v:\n",
    "            ret.append(i)\n",
    "    return ret\n",
    "\n",
    "def get_rank(x, ascend=True):\n",
    "    \"\"\"\n",
    "    ranking positions of elements in x in ascending or descending order\n",
    "    :param x: list or tuple\n",
    "    :param ascend: boolean\n",
    "    :return: ranking positions of elements in x\n",
    "    \"\"\"\n",
    "    inv = 1\n",
    "    if not ascend:\n",
    "        inv = -1\n",
    "\n",
    "    return sorted(range(len(x)), key=lambda i : inv * x[i])"
   ]
  },
  {
   "cell_type": "code",
   "execution_count": 151,
   "metadata": {
    "collapsed": false
   },
   "outputs": [
    {
     "data": {
      "text/plain": [
       "[0, 4, 1, 5, 2, 3]"
      ]
     },
     "execution_count": 151,
     "metadata": {},
     "output_type": "execute_result"
    }
   ],
   "source": [
    "x = [1,2,4,4,1,3]\n",
    "get_rank(x)"
   ]
  },
  {
   "cell_type": "code",
   "execution_count": 152,
   "metadata": {
    "collapsed": false
   },
   "outputs": [
    {
     "data": {
      "text/plain": [
       "[0, 4]"
      ]
     },
     "execution_count": 152,
     "metadata": {},
     "output_type": "execute_result"
    }
   ],
   "source": [
    "argmin(x)"
   ]
  },
  {
   "cell_type": "code",
   "execution_count": 153,
   "metadata": {
    "collapsed": false
   },
   "outputs": [
    {
     "data": {
      "text/plain": [
       "[2, 3]"
      ]
     },
     "execution_count": 153,
     "metadata": {},
     "output_type": "execute_result"
    }
   ],
   "source": [
    "argmax(x)"
   ]
  },
  {
   "cell_type": "markdown",
   "metadata": {},
   "source": [
    "*** __init__ method is used when the class is called to initialize the instance, while the __call__ method is called when the instance is called ***"
   ]
  },
  {
   "cell_type": "code",
   "execution_count": 218,
   "metadata": {
    "collapsed": false
   },
   "outputs": [],
   "source": [
    "class CLS(object):\n",
    "    def __init__(self, a, b):\n",
    "        self.a = a\n",
    "        self.b = b\n",
    "\n",
    "    def __call__(self, a, b):\n",
    "        self.a = a\n",
    "        self.b = b\n",
    "        print((a,b))"
   ]
  },
  {
   "cell_type": "code",
   "execution_count": 222,
   "metadata": {
    "collapsed": false
   },
   "outputs": [
    {
     "name": "stdout",
     "output_type": "stream",
     "text": [
      "(6, 7)\n"
     ]
    }
   ],
   "source": [
    "cls = CLS(2, 1) # initialize a CLS instance\n",
    "cls(6, 7) # call instance with parameters"
   ]
  },
  {
   "cell_type": "markdown",
   "metadata": {},
   "source": [
    "*** difference between python2 and python3 in division operation between two integers ***\n",
    "```python\n",
    "a = 1\n",
    "b = 2\n",
    "\n",
    "a/b = 0   # python2\n",
    "a/b = 0.5 # python3\n",
    "```\n",
    "\n",
    "To avoid possible issue, just multiply the numerator (number above the line in a fraction) by 1.0, with no\n",
    "need to change the denominator (number below the line in a fraction), i.e.\n",
    "\n",
    "```python\n",
    "a * 1.0 / b = 0.5 # works for both python2 and python3\n",
    "```"
   ]
  },
  {
   "cell_type": "markdown",
   "metadata": {},
   "source": [
    "*** Different ways to remove an item from a list ***"
   ]
  },
  {
   "cell_type": "code",
   "execution_count": 168,
   "metadata": {
    "collapsed": true
   },
   "outputs": [],
   "source": [
    "lst = [8, 29, -1, 0, 89]"
   ]
  },
  {
   "cell_type": "code",
   "execution_count": 169,
   "metadata": {
    "collapsed": false
   },
   "outputs": [
    {
     "name": "stdout",
     "output_type": "stream",
     "text": [
      "rmv 0:[8, 29, -1, 89]\n",
      "pop:[8, 29, -1]\n",
      "pop(1): [8, -1]\n",
      "del lst[0]: [-1]\n"
     ]
    }
   ],
   "source": [
    "lst.remove(0) # remove 0 from lst\n",
    "print(\"rmv 0:\" + str(lst))\n",
    "\n",
    "lst.pop() # remove from lst the last element\n",
    "print(\"pop:\" + str(lst))\n",
    "\n",
    "lst.pop(1) # remove from lst the element with the index\n",
    "print(\"pop(1): \" + str(lst))\n",
    "\n",
    "del lst[0] # remove from lst the first element\n",
    "print(\"del lst[0]: \" + str(lst))"
   ]
  },
  {
   "cell_type": "markdown",
   "metadata": {
    "collapsed": true
   },
   "source": [
    "** With ** block is used to close some stream to release the assigned resource, \n",
    "e.g. file stream when open a file, or Tensorflow Session, the stream will be \n",
    "closed automatically at the end of the **with** block.\n",
    "\n",
    "```python\n",
    "with open('stv.csv', 'w+') as file:\n",
    "    file.write('stv is a popular voting rule.')\n",
    "    \n",
    "import Tensorflow as tf\n",
    "\n",
    "x = tf.constant([[3., 3.]])\n",
    "y = tf.constant([[2.],[2.]])\n",
    "product = tf.matmul(x, y)\n",
    "\n",
    "with tf.Session() as sess:\n",
    "    result = sess.run([product])\n",
    "    print(result)\n",
    "```"
   ]
  },
  {
   "cell_type": "markdown",
   "metadata": {
    "collapsed": true
   },
   "source": [
    "*** Difference between list append and extend ***"
   ]
  },
  {
   "cell_type": "code",
   "execution_count": 191,
   "metadata": {
    "collapsed": false
   },
   "outputs": [
    {
     "name": "stdout",
     "output_type": "stream",
     "text": [
      "[1, 2, 4, [5, 0]]\n",
      "[1, 2, 4, [5, 0], 8, 9]\n"
     ]
    }
   ],
   "source": [
    "a = [1, 2, 4]\n",
    "a.append([5, 0])\n",
    "print(a)\n",
    "\n",
    "a.extend([8, 9])\n",
    "print(a)"
   ]
  },
  {
   "cell_type": "markdown",
   "metadata": {},
   "source": [
    "*** Evaluate whether a key exists in dict using in ***"
   ]
  },
  {
   "cell_type": "code",
   "execution_count": 195,
   "metadata": {
    "collapsed": false
   },
   "outputs": [
    {
     "data": {
      "text/plain": [
       "False"
      ]
     },
     "execution_count": 195,
     "metadata": {},
     "output_type": "execute_result"
    }
   ],
   "source": [
    "d = {(2, 4, 5) : 1, (2, 5) : 2}\n",
    "(2, 5, 3) in d"
   ]
  },
  {
   "cell_type": "markdown",
   "metadata": {},
   "source": [
    "*** Merging of two dict ***"
   ]
  },
  {
   "cell_type": "code",
   "execution_count": 198,
   "metadata": {
    "collapsed": false
   },
   "outputs": [
    {
     "data": {
      "text/plain": [
       "{(1, 3): 2, (2, 4, 5): 1, (2, 5): 2}"
      ]
     },
     "execution_count": 198,
     "metadata": {},
     "output_type": "execute_result"
    }
   ],
   "source": [
    "e = {(1, 3) : 2}\n",
    "d.update(e)\n",
    "d"
   ]
  },
  {
   "cell_type": "code",
   "execution_count": 200,
   "metadata": {
    "collapsed": false
   },
   "outputs": [
    {
     "data": {
      "text/plain": [
       "{(1, 3): 2, (2, 4, 5): 1, (2, 5): 2}"
      ]
     },
     "execution_count": 200,
     "metadata": {},
     "output_type": "execute_result"
    }
   ],
   "source": [
    "e = {(1, 2) : 4}\n",
    "d"
   ]
  },
  {
   "cell_type": "code",
   "execution_count": 211,
   "metadata": {
    "collapsed": false
   },
   "outputs": [
    {
     "data": {
      "text/plain": [
       "False"
      ]
     },
     "execution_count": 211,
     "metadata": {},
     "output_type": "execute_result"
    }
   ],
   "source": [
    "a = {}\n",
    "'a' in a"
   ]
  },
  {
   "cell_type": "markdown",
   "metadata": {
    "collapsed": true
   },
   "source": [
    "***module import and __init__.py ***\n",
    "__init__.py file is trying to direct the Python importer to a module under a directory.\n",
    "If you want to include the module under certain directory, you have to give an __init__.py\n",
    "file, even the file is empty, otherwise, the module under the directory may fail to import."
   ]
  },
  {
   "cell_type": "code",
   "execution_count": 3,
   "metadata": {
    "collapsed": false
   },
   "outputs": [],
   "source": [
    "source = \"/users/chjiang/github/csc/temp.txt\"\n",
    "with open(source, \"w+\") as output:\n",
    "    output.write(\"lhel\" + \"\\n\")\n",
    "    output.write(\"lskdf\" + \"\\n\")"
   ]
  },
  {
   "cell_type": "code",
   "execution_count": 4,
   "metadata": {
    "collapsed": false
   },
   "outputs": [
    {
     "data": {
      "text/plain": [
       "{1, 2}"
      ]
     },
     "execution_count": 4,
     "metadata": {},
     "output_type": "execute_result"
    }
   ],
   "source": [
    "s = set()\n",
    "s.add(1)\n",
    "s.add(2)\n",
    "s"
   ]
  },
  {
   "cell_type": "code",
   "execution_count": 5,
   "metadata": {
    "collapsed": false
   },
   "outputs": [
    {
     "data": {
      "text/plain": [
       "set"
      ]
     },
     "execution_count": 5,
     "metadata": {},
     "output_type": "execute_result"
    }
   ],
   "source": [
    "type(s)"
   ]
  },
  {
   "cell_type": "code",
   "execution_count": 6,
   "metadata": {
    "collapsed": false
   },
   "outputs": [
    {
     "data": {
      "text/plain": [
       "[1, 2]"
      ]
     },
     "execution_count": 6,
     "metadata": {},
     "output_type": "execute_result"
    }
   ],
   "source": [
    "sorted(s)"
   ]
  },
  {
   "cell_type": "markdown",
   "metadata": {},
   "source": [
    "*** shell basic: kill background process nohup ***\n",
    "- search the PID of the last process executed\n",
    "    echo $!\n",
    "- kill the process using the pid\n",
    "    kill -9 pid"
   ]
  },
  {
   "cell_type": "markdown",
   "metadata": {},
   "source": [
    "*** serialization and deserialization using pickle ***\n",
    "- export/import serialized object to/from file\n",
    " - pickle.dump(obj, file)\n",
    " - pickle.load(file)\n",
    "- serialized/deserialized an object\n",
    " - bt = pickle.dumps(obj)\n",
    " - obj = pickle.loads(bt)\n",
    "- If a pickle file contains multiple appended object, we can load them repeatedly until there is a EOF error:\n",
    "\n",
    "```python\n",
    "import pickle\n",
    "objs = []\n",
    "while 1:\n",
    "    try:\n",
    "        objs.append(pickle.load(f))\n",
    "    except EOFError:\n",
    "        break\n",
    "```"
   ]
  },
  {
   "cell_type": "code",
   "execution_count": 7,
   "metadata": {
    "collapsed": true
   },
   "outputs": [],
   "source": [
    "import pickle"
   ]
  },
  {
   "cell_type": "code",
   "execution_count": 40,
   "metadata": {
    "collapsed": false
   },
   "outputs": [],
   "source": [
    "file = \"/users/chjiang/github/csc/temp.pkl\"\n",
    "profile = {\"C\" : 100, \"D\" : 90}\n",
    "pickle.dump(profile, open(file, \"wb\")) # write in binary"
   ]
  },
  {
   "cell_type": "code",
   "execution_count": 37,
   "metadata": {
    "collapsed": false
   },
   "outputs": [],
   "source": [
    "prof = pickle.load(open(file, \"rb\"))"
   ]
  },
  {
   "cell_type": "code",
   "execution_count": 13,
   "metadata": {
    "collapsed": false
   },
   "outputs": [
    {
     "name": "stdout",
     "output_type": "stream",
     "text": [
      "{'a': 100, 'b': 90}\n"
     ]
    }
   ],
   "source": [
    "print(prof)"
   ]
  },
  {
   "cell_type": "code",
   "execution_count": 23,
   "metadata": {
    "collapsed": true
   },
   "outputs": [],
   "source": [
    "#*** record log using logging ***\n",
    "\n",
    "import logging\n",
    "\n",
    "# create logger with name `HoRseHouR`\n",
    "logger = logging.getLogger('HoRseHouR')\n",
    "logger.setLevel(logging.DEBUG)\n",
    "\n",
    "# create file handler which logs even debug messages\n",
    "file = \"/users/chjiang/github/csc/temp.log\"\n",
    "fh = logging.FileHandler(file)\n",
    "fh.setLevel(logging.DEBUG)\n",
    "\n",
    "# create formatter\n",
    "formatter = logging.Formatter('%(asctime)s - %(name)s - %(levelname)s - %(message)s')\n",
    "# add the formmatter to the handlers\n",
    "fh.setFormatter(formatter)\n",
    "# add the handlers to the logger\n",
    "logger.addHandler(fh)\n",
    "\n",
    "# add information to the logger\n",
    "logger.info(\"I am riding and running\")\n",
    "logger.info(\"Look man, he fell off the horse. How hilarious! ;-)\")"
   ]
  },
  {
   "cell_type": "code",
   "execution_count": null,
   "metadata": {
    "collapsed": true
   },
   "outputs": [],
   "source": [
    "# open file and write its name and all lines\n",
    "with open(file, \"r\") as output:\n",
    "    print(output.name)\n",
    "    print(output.readline())\n",
    "    print(output.readline())\n",
    "    print(output.readline())"
   ]
  },
  {
   "cell_type": "code",
   "execution_count": 41,
   "metadata": {
    "collapsed": false
   },
   "outputs": [
    {
     "data": {
      "text/plain": [
       "True"
      ]
     },
     "execution_count": 41,
     "metadata": {},
     "output_type": "execute_result"
    }
   ],
   "source": [
    "# delete file\n",
    "import os\n",
    "file = \"/users/chjiang/github/csc/temp.pkl\"\n",
    "os.path.exists(file)\n",
    "# os.remove(file)"
   ]
  },
  {
   "cell_type": "code",
   "execution_count": 27,
   "metadata": {
    "collapsed": false
   },
   "outputs": [
    {
     "data": {
      "text/plain": [
       "'temp.log'"
      ]
     },
     "execution_count": 27,
     "metadata": {},
     "output_type": "execute_result"
    }
   ],
   "source": [
    "# basename\n",
    "os.path.basename(file)"
   ]
  },
  {
   "cell_type": "code",
   "execution_count": 42,
   "metadata": {
    "collapsed": true
   },
   "outputs": [],
   "source": [
    "import random"
   ]
  },
  {
   "cell_type": "code",
   "execution_count": 65,
   "metadata": {
    "collapsed": false
   },
   "outputs": [
    {
     "data": {
      "text/plain": [
       "[20, 4, 3, 1]"
      ]
     },
     "execution_count": 65,
     "metadata": {},
     "output_type": "execute_result"
    }
   ],
   "source": [
    "# random sample without replacement, shuffle\n",
    "import random\n",
    "a = [1, 3, 4, 20]\n",
    "random.sample(a, 2)\n",
    "random.shuffle(a)\n",
    "a"
   ]
  },
  {
   "cell_type": "code",
   "execution_count": 37,
   "metadata": {
    "collapsed": false
   },
   "outputs": [
    {
     "data": {
      "text/plain": [
       "False"
      ]
     },
     "execution_count": 37,
     "metadata": {},
     "output_type": "execute_result"
    }
   ],
   "source": [
    "a = [1, 23, 4]\n",
    "b = [1, 3, 4]\n",
    "a == b"
   ]
  },
  {
   "cell_type": "code",
   "execution_count": 24,
   "metadata": {
    "collapsed": false
   },
   "outputs": [],
   "source": [
    "c = np.array(a) + np.array(b)"
   ]
  },
  {
   "cell_type": "code",
   "execution_count": 26,
   "metadata": {
    "collapsed": false
   },
   "outputs": [
    {
     "data": {
      "text/plain": [
       "[1.0, 13.0, 4.0]"
      ]
     },
     "execution_count": 26,
     "metadata": {},
     "output_type": "execute_result"
    }
   ],
   "source": [
    "[sum(x)/2 for x in zip(a,b)]"
   ]
  },
  {
   "cell_type": "code",
   "execution_count": 29,
   "metadata": {
    "collapsed": false
   },
   "outputs": [
    {
     "data": {
      "text/plain": [
       "<zip at 0x1073181c8>"
      ]
     },
     "execution_count": 29,
     "metadata": {},
     "output_type": "execute_result"
    }
   ],
   "source": [
    "zip(a,b)"
   ]
  },
  {
   "cell_type": "code",
   "execution_count": 38,
   "metadata": {
    "collapsed": false
   },
   "outputs": [],
   "source": [
    "a[1:3] = b"
   ]
  },
  {
   "cell_type": "code",
   "execution_count": 39,
   "metadata": {
    "collapsed": false
   },
   "outputs": [
    {
     "data": {
      "text/plain": [
       "[1, 1, 3, 4]"
      ]
     },
     "execution_count": 39,
     "metadata": {},
     "output_type": "execute_result"
    }
   ],
   "source": [
    "a"
   ]
  },
  {
   "cell_type": "code",
   "execution_count": 43,
   "metadata": {
    "collapsed": false
   },
   "outputs": [],
   "source": [
    "b = [5,6]\n",
    "a.extend([1,2,1,4])"
   ]
  },
  {
   "cell_type": "code",
   "execution_count": 44,
   "metadata": {
    "collapsed": false
   },
   "outputs": [
    {
     "data": {
      "text/plain": [
       "4"
      ]
     },
     "execution_count": 44,
     "metadata": {},
     "output_type": "execute_result"
    }
   ],
   "source": [
    "sum([e == 1 for e in a])"
   ]
  },
  {
   "cell_type": "code",
   "execution_count": 47,
   "metadata": {
    "collapsed": true
   },
   "outputs": [],
   "source": [
    "def onehot(x, k=10):\n",
    "    \"\"\"\n",
    "    Encode input elements with a one-hot vector\n",
    "\n",
    "    :param x: nonnegative input elements\n",
    "    :param int k: length of the code\n",
    "    :return: onehot code of length k\n",
    "    :rtype: list\n",
    "    \"\"\"\n",
    "    code = [0] * k\n",
    "    for i in x:\n",
    "        code[i] = 1\n",
    "    return code\n"
   ]
  },
  {
   "cell_type": "code",
   "execution_count": 48,
   "metadata": {
    "collapsed": false
   },
   "outputs": [
    {
     "data": {
      "text/plain": [
       "[1, 1, 0, 0, 1, 1, 0, 0, 0, 0]"
      ]
     },
     "execution_count": 48,
     "metadata": {},
     "output_type": "execute_result"
    }
   ],
   "source": [
    "x = [0, 1, 4, 5]\n",
    "onehot(x)"
   ]
  },
  {
   "cell_type": "code",
   "execution_count": 57,
   "metadata": {
    "collapsed": false
   },
   "outputs": [
    {
     "data": {
      "text/plain": [
       "{1: 4}"
      ]
     },
     "execution_count": 57,
     "metadata": {},
     "output_type": "execute_result"
    }
   ],
   "source": [
    "a = {1:2, 1:4}\n",
    "a"
   ]
  },
  {
   "cell_type": "code",
   "execution_count": 114,
   "metadata": {
    "collapsed": false
   },
   "outputs": [
    {
     "name": "stdout",
     "output_type": "stream",
     "text": [
      "[1] [0, 1, 4, 5]                   [0, 1, 4, 5] [0, 9]    \n",
      "[1] [0, 1, 4, 5, 2]                [0, 1, 4, 5] [1, 9]    \n"
     ]
    }
   ],
   "source": [
    "print(\"{0:>2} {1:<30} {2:<2} {3:<10}\".format(str([1]), str(x), str(x), str([0,9])))\n",
    "print(\"{0:>2} {1:<30} {2:<2} {3:<10}\".format(str([1]), str(x+[2]), str(x), str([1,9])))"
   ]
  },
  {
   "cell_type": "code",
   "execution_count": 123,
   "metadata": {
    "collapsed": false
   },
   "outputs": [
    {
     "data": {
      "text/plain": [
       "True"
      ]
     },
     "execution_count": 123,
     "metadata": {},
     "output_type": "execute_result"
    }
   ],
   "source": [
    "import sys\n",
    "-sys.float_info.min < 0"
   ]
  },
  {
   "cell_type": "code",
   "execution_count": 129,
   "metadata": {
    "collapsed": false
   },
   "outputs": [
    {
     "data": {
      "text/plain": [
       "True"
      ]
     },
     "execution_count": 129,
     "metadata": {},
     "output_type": "execute_result"
    }
   ],
   "source": [
    "# minimum float\n",
    "-float('inf') < -sys.float_info.max"
   ]
  },
  {
   "cell_type": "code",
   "execution_count": 118,
   "metadata": {
    "collapsed": true
   },
   "outputs": [],
   "source": [
    "a, b, c = 1, 2, 0"
   ]
  },
  {
   "cell_type": "code",
   "execution_count": 131,
   "metadata": {
    "collapsed": false
   },
   "outputs": [
    {
     "data": {
      "text/plain": [
       "False"
      ]
     },
     "execution_count": 131,
     "metadata": {},
     "output_type": "execute_result"
    }
   ],
   "source": [
    "not 2"
   ]
  },
  {
   "cell_type": "markdown",
   "metadata": {},
   "source": [
    "Tricks:\n",
    "\n",
    "1. pycharm indention - TAB (right) & SHIFT + TAB (left)\n",
    "\n",
    "2. r\"\\n\" will recognize it as two characters: backslash and n\n",
    "```python\n",
    "print(r\"\\n\")\n",
    "```"
   ]
  },
  {
   "cell_type": "code",
   "execution_count": 133,
   "metadata": {
    "collapsed": false
   },
   "outputs": [
    {
     "data": {
      "text/plain": [
       "0.22941573387056174"
      ]
     },
     "execution_count": 133,
     "metadata": {},
     "output_type": "execute_result"
    }
   ],
   "source": [
    "1.0/np.sqrt(19)"
   ]
  },
  {
   "cell_type": "markdown",
   "metadata": {
    "collapsed": false
   },
   "source": [
    "*** Learning Django ***\n",
    "0. version\n",
    "\n",
    " 0.1. python\n",
    "\n",
    "    ```python\n",
    "    print(django.get_version())\n",
    "    ```\n",
    " 0.2 command line\n",
    "    ```bash\n",
    "    python3 -m django --version\n",
    "    ```\n",
    "\n",
    "1. structure: all applications must be created following some specific Django conventions. Django has many utilities to create related directories and files automatically, such that we can focus on the core code.\n",
    "\n",
    "    1.1 djsite: a project container\n",
    "        \n",
    "    1.2 manage.py: a command line utility to interact with djsite\n",
    "        \n",
    "    1.3 djsite/settings.py: configuration file\n",
    "        \n",
    "        -- set up a database\n",
    "        \n",
    "    1.4 djsite/urls.py: the URL declarations for djsite\n",
    "        \n",
    "    1.5 djsite/wsgi.py: defines an entry-point for WSGI-compatible web servers to serve djsite\n",
    "        \n",
    "    1.6 djapp/models.py: creates models for application\n",
    "        \n",
    "    1.7 djapp/views.py: \n",
    "   \n",
    "    1.8 djapp/urls.py: add a url in urls.py for each djapp and connect it to djsite/urls.py with an include clause\n",
    "    \n",
    "    1.9 djapp/admin.py: interface to register and manage models\n",
    "    \n",
    "    1.10 djapp/templates\n",
    "    \n",
    "    1.11 djapp/migrations: propagate changes made to the models (adding a field, deleting a model) into the database\n",
    "\n",
    "2. utilities\n",
    "\n",
    "    2.1 create a Django project\n",
    "    ```bash\n",
    "    django-admin startproject djsite\n",
    "    ```\n",
    "\n",
    "    2.2 start the `Development` server\n",
    "    ```bash\n",
    "    python3 manage.py runserver\n",
    "    ```\n",
    "    2.3 create a new application\n",
    "    ```bash\n",
    "    python3 manage.py startapp djapp\n",
    "    ```\n"
   ]
  },
  {
   "cell_type": "markdown",
   "metadata": {
    "collapsed": false
   },
   "source": [
    "#### bash basics\n",
    "\n",
    "- change directory: *** cd dir *** and *** cd ~ *** to get access to root\n",
    "\n",
    "- show current dir: *** pwd *** print current working dir\n",
    "\n",
    "- list all files: *** ls -alh ***\n",
    "\n",
    "- create new file: *** echo \"hello\" >> 1.txt *** or *** vim 1.txt ***\n",
    "\n",
    "- create dir: *** mkdir dir ***\n",
    "\n",
    "- copy file: *** cp a.txt b.txt ***\n",
    "\n",
    "- copy dir: *** cp -R dir1 dir2 *** or *** cp -n a b *** without overwritten\n",
    " \n",
    "- count number of files or lines or words:\n",
    "\n",
    " - *** find dir -type f | wc -l *** words (or lines) count\n",
    " \n",
    " - *** ls -l | wc -l a.txt *** number of lines or words, or size of the file\n",
    "\n",
    "- remove files: *** rm file.txt ***\n",
    "\n",
    "- remove directory: *** rm -r folder ***\n",
    "\n",
    "- rename or move: *** mv -f ./f1 ~/home/f2 ***\n",
    "\n",
    " - when moving lots of files\n",
    "\n",
    "```bash\n",
    "find . -name \"*txt\" -exec mv {} /new/place \\;\n",
    "```\n",
    "- open file with app: *** open a.log -a ultraedit ***\n",
    "\n",
    "- zip and unzip\n",
    " \n",
    " - zip: *** zip -r data.zip data/ *** \n",
    " \n",
    " - update: *** zip -r data.zip data2/1.txt ***\n",
    " \n",
    " - unzip: *** unzip data.zip ***\n",
    "\n",
    "- grep: searching and matching a regular expression, e.g. *** grep core *.txt *** searching from all txt files \"core\"\n",
    "\n",
    "- concateenata and print files\n",
    "\n",
    " - *** cat 1.txt *** all\n",
    " \n",
    " - *** tail -n 1.txt *** last n lines\n",
    " \n",
    " - *** head -n 1.txt *** first n lines\n",
    "\n",
    "- list all current processes: *** ps ***\n",
    " \n",
    " - e.g. *** ps aux | grep `z` *** searching the Zombie processes\n",
    " \n",
    " - e.g. *** ps -ef | grep java *** searching all processes with name `java`\n",
    "\n",
    "- kill processes\n",
    "\n",
    " -  *** kill pid *** (by pid)\n",
    " \n",
    " - *** pkill -9 -u `id -u username` *** (by username)\n",
    "\n",
    "- check CPU usage: *** top ***\n",
    "\n",
    "- head meta for bash: *** #!/bin/bash ***\n",
    "\n",
    "- download webpages or files: *** curl -O http://www.horsehour.com/ home.html ***\n",
    "\n",
    "- free disk and used disk: *** df -H, du -hs ***\n",
    "\n",
    "- pipe: *** | *** piping and redirection, *** >> *** concatentate or overwrite \n",
    " \n",
    " - e.g. *** du -hs * | sort *** total Disk Usage of the directory in a Human reabible Summary mode\n",
    " \n",
    " - e.g. *** head -5 1.txt >> 2.txt *** append the first 5 lines of `1.txt` to `2.txt`\n",
    " \n",
    " - e.g. *** tail -n +2 -q a.txt >> b.txt ***  append from 2nd line to the end of file `a.txt` to `b.txt`\n",
    " \n",
    " - e.g. *** cat 1.txt 2.txt > 3.txt *** merge files `1.txt` and `2.txt` and output to file `3.txt` \n",
    "\n",
    "- vpn, ssh and scp\n",
    "\n",
    " - vpn connection: *** connect vpn.net.rpi.edu ***\n",
    " \n",
    " - ssh login a remote server: *** ssh username@host ***\n",
    " \n",
    "  - e.g. *** ssh jiang@blog.cs.rpi.edu ***\n",
    " \n",
    " - copy from remote to local: *** scp username@host:/src/1.py local/ ***\n",
    " \n",
    " - copy from local to remote: *** scp local/*.java username@host:/src/ ***\n",
    " \n",
    "  - e.g. *** scp 1.pdf jiang@sr.cs.rpi.edu:/home/ ***\n",
    "\n",
    "- nohup: Close a terminal without killing a running process, or move running processes to background. If standard output is the terminal, it will be redirected to `nohup.out`.\n",
    "\n",
    " - e.g. *** nohup java -jar horse.jar & ***\n",
    " \n",
    " - e.g. *** nohup sh run.sh & ***\n",
    " \n",
    " - e.g. *** nohup python3 stv.py & ***\n",
    " \n",
    " - detect the process: *** echo $! ***\n",
    " \n",
    "\n",
    "------------------------- Activate Auto-complete on Terminal ----------------------------------------\n",
    "\n",
    "1. check the current shell supported ```shell echo $SHELL ```\n",
    "\n",
    "2. if the supported shell is ***/bin/sh *** the smart auto-complete may be locked up, change the shell\n",
    "\n",
    "3. check the existence of `.bashrc`\n",
    "\n",
    "```bash\n",
    "chsh -s /bin/bash username\n",
    "chsh usermod -s /bin/bash username\n",
    "```\n",
    "\n",
    "----------------------- compile source code and execute code ----------------------------------------\n",
    "\n",
    " - C/C++: *** gcc -Wall -Werror main.c *** (compile) *** ./a.out *** (run)\n",
    " \n",
    " - GDB: All program to be debugged in gdb must be compiled by gcc with the -g option.\n",
    " \n",
    " - MPI: *** mpicc mpi.c *** (compile) *** mpiexec -n 5 ./a.out *** (run)\n",
    " \n",
    " - Java: *** javac main.java *** (compile) *** java main *** (run) or *** java -jar main.jar *** (exe jar)\n",
    " \n",
    " - Python: *** python stv.py *** (python2), *** python3 stv.py *** (python3)\n",
    " \n",
    " - Latex: *** pdflatex report.tex ***\n",
    " \n",
    "----------------------- Git --------------------\n",
    "\n",
    "1. Steps to create a new repository\n",
    "\n",
    "- 1.1. Github manually create a new repo with name, e.g. `drl`\n",
    "\n",
    "- 1.2. *** git clone https://github.com/horseour/drl.git *** clone the github project to local\n",
    "\n",
    " - git add *\n",
    " \n",
    " - git commit -a\n",
    " \n",
    " - git push -u origin master\n",
    "\n",
    "\n",
    "2. Create, delete a branch, and navigate between branches\n",
    "\n",
    " - 2.1: *** git branch bname *** create a new branch\n",
    "\n",
    " - 2.2: *** git branch -a *** list all branches (including all remote ones)\n",
    "\n",
    " - 2.3: *** git branch -d/-D bname *** delete an obsolete branch in safe mode/forcefully\n",
    "\n",
    " - 2.4: *** git push origin :bname *** delete a branch on remote server\n",
    "\n",
    " - 2.5: *** git branch -m newname *** rename current branch\n",
    "\n",
    " - 2.6: *** git checkout bname (or master) *** switch current branch and update the working directory to match\n",
    "\n",
    "3. Merge branches to master\n",
    "\n",
    " - 3.1: *** git merge branch1 branch2 *** merge branch1 and branch2 into CURRENT branch\n",
    "        \n",
    " - 3.2: *** git pull origin rep1 rep2 *** pulls in changes from the remote `rep1` and `rep2` branches\n",
    " \n",
    "\n",
    "----------------------- PipPy --------------------\n",
    "\n",
    "PipPy is a package manager used to install and manage software package in python.\n",
    "\n",
    "- pip install pkgname\n",
    "\n",
    "- pip install -r requirements.txt\n",
    "\n",
    "- pip install pkgname --upgrade\n",
    "\n",
    "- pip install pkgname -U\n",
    "\n",
    "- pip install git+https://github.com/horsehour.git\n",
    "\n",
    "- pip uninstall pkgname\n",
    "\n",
    "----------------------- Project Building --------------------\n",
    "\n",
    "1. Ant - `build.xml` default filename of build used by Ant. When you run `ant` without parameter, it will use the file to figure out what to do.\n",
    "\n",
    "2. Maven - `pom.xml` is the default filename to describe a maven project so that when you run `mvn compile`, it will use the file to build the project.\n",
    "\n",
    "3. Eclipse can import a project based on an Ant build file or a pom file, and create the appropriate `.project` and `.classpth`.\n",
    "\n",
    "4. UltraEdit: a word file (`.uew`) is a plain text configuration file that UE uses to highlight keywords in source code files. It also supports other features like code folding, brace matching, function listing and more."
   ]
  },
  {
   "cell_type": "code",
   "execution_count": 90,
   "metadata": {
    "collapsed": false,
    "scrolled": true
   },
   "outputs": [
    {
     "data": {
      "text/plain": [
       "str"
      ]
     },
     "execution_count": 90,
     "metadata": {},
     "output_type": "execute_result"
    }
   ],
   "source": [
    "import datetime\n",
    "type(datetime.datetime.now().strftime(\"%H:%M:%S.%f\"))"
   ]
  },
  {
   "cell_type": "code",
   "execution_count": null,
   "metadata": {
    "collapsed": true
   },
   "outputs": [],
   "source": [
    "%%bash\n",
    "cd ~/GitHub/"
   ]
  },
  {
   "cell_type": "code",
   "execution_count": 234,
   "metadata": {
    "collapsed": true
   },
   "outputs": [],
   "source": [
    "name = \"jiang.chunheng\""
   ]
  },
  {
   "cell_type": "code",
   "execution_count": 235,
   "metadata": {
    "collapsed": false
   },
   "outputs": [
    {
     "data": {
      "text/plain": [
       "'Jiang.Chunheng'"
      ]
     },
     "execution_count": 235,
     "metadata": {},
     "output_type": "execute_result"
    }
   ],
   "source": [
    "name.title()"
   ]
  },
  {
   "cell_type": "code",
   "execution_count": 283,
   "metadata": {
    "collapsed": false
   },
   "outputs": [],
   "source": [
    "import pandas as pd\n",
    "import matplotlib.pyplot as plt\n",
    "\n",
    "import tensorflow as tf\n",
    "from keras import backend as K\n",
    "from keras.models import Model\n",
    "from keras.optimizers import Adam\n",
    "from keras.layers import Dense, Input\n",
    "\n",
    "class Classifier(object):\n",
    "    def __init__(self):\n",
    "        self.lrc = 1E-3\n",
    "\n",
    "        self.ni = 4\n",
    "        self.no = 3\n",
    "\n",
    "        self.sess = tf.Session()\n",
    "        K.set_session(self.sess)\n",
    "\n",
    "        self.model = self.build()\n",
    "        self.sess.run(tf.global_variables_initializer())\n",
    "\n",
    "    def build(self):\n",
    "        state = Input(shape=[self.ni])\n",
    "        num_hidden = 200\n",
    "        h = Dense(num_hidden, activation='relu', kernel_initializer='random_uniform')(state)\n",
    "        h = Dense(num_hidden, activation='relu', kernel_initializer='random_uniform')(h)\n",
    "        h = Dense(num_hidden, activation='relu', kernel_initializer='random_uniform')(h)\n",
    "        o = Dense(self.no, activation='softmax', kernel_initializer='random_uniform')(h)\n",
    "        model = Model(inputs=state, outputs=o)\n",
    "        from keras import losses\n",
    "        model.compile(loss=losses.categorical_crossentropy, optimizer=Adam(self.lrc))\n",
    "        return model\n",
    "\n",
    "    def train(self, file, niter):\n",
    "        header = \"sepal_length,sepal_width,petal_length,petal_width,species\".split(\",\")\n",
    "        df = pd.read_csv(file, sep=\",\", names=header)\n",
    "        species = df[\"species\"][1:]\n",
    "        # one hot encoding\n",
    "        y = pd.get_dummies(species)\n",
    "        x = df.drop(labels=\"species\", axis=1)[1:]\n",
    "        # Pandas.DataFrame could be used as Numpy.ndarray\n",
    "        outcomes = np.zeros([niter, 2])\n",
    "        for i in range(niter):\n",
    "            loss = self.model.train_on_batch(x, y)\n",
    "            outcomes[i] = [i, loss]\n",
    "        records = pd.DataFrame(data=outcomes, columns=[\"iter\", \"loss\"])\n",
    "        plt.plot(records[\"iter\"],records[\"loss\"])\n",
    "        plt.show()\n",
    "        return self.model"
   ]
  },
  {
   "cell_type": "code",
   "execution_count": 282,
   "metadata": {
    "collapsed": false,
    "scrolled": false
   },
   "outputs": [
    {
     "data": {
      "image/png": "[encoded data removed]",
      "text/plain": [
       "<matplotlib.figure.Figure at 0x11f52de48>"
      ]
     },
     "metadata": {},
     "output_type": "display_data"
    },
    {
     "data": {
      "text/plain": [
       "<keras.engine.training.Model at 0x11e3902e8>"
      ]
     },
     "execution_count": 282,
     "metadata": {},
     "output_type": "execute_result"
    }
   ],
   "source": [
    "url=\"https://raw.githubusercontent.com/uiuc-cse/data-fa14/gh-pages/data/iris.csv\"\n",
    "cls = Classifier()\n",
    "cls.train(url, 100)"
   ]
  },
  {
   "cell_type": "code",
   "execution_count": 29,
   "metadata": {
    "collapsed": false
   },
   "outputs": [],
   "source": [
    "source = \"/users/chjiang/github/stv/m10.valpred.10000.csv\"\n",
    "df = pd.read_csv(source, sep=\"\\t\", header=None)\n",
    "nr, nc = df.shape\n",
    "rewards = df.iloc[:,-1]"
   ]
  },
  {
   "cell_type": "code",
   "execution_count": 30,
   "metadata": {
    "collapsed": false
   },
   "outputs": [
    {
     "data": {
      "text/plain": [
       "0.5288562255537982"
      ]
     },
     "execution_count": 30,
     "metadata": {},
     "output_type": "execute_result"
    }
   ],
   "source": [
    "sum([1 for a in list(rewards == 0) if a])/rewards.shape[0]"
   ]
  },
  {
   "cell_type": "code",
   "execution_count": 415,
   "metadata": {
    "collapsed": false
   },
   "outputs": [
    {
     "data": {
      "text/html": [
       "<div>\n",
       "<style>\n",
       "    .dataframe thead tr:only-child th {\n",
       "        text-align: right;\n",
       "    }\n",
       "\n",
       "    .dataframe thead th {\n",
       "        text-align: left;\n",
       "    }\n",
       "\n",
       "    .dataframe tbody tr th {\n",
       "        vertical-align: top;\n",
       "    }\n",
       "</style>\n",
       "<table border=\"1\" class=\"dataframe\">\n",
       "  <thead>\n",
       "    <tr style=\"text-align: right;\">\n",
       "      <th></th>\n",
       "      <th>176</th>\n",
       "      <th>177</th>\n",
       "      <th>178</th>\n",
       "      <th>179</th>\n",
       "      <th>180</th>\n",
       "      <th>181</th>\n",
       "      <th>182</th>\n",
       "      <th>183</th>\n",
       "      <th>184</th>\n",
       "      <th>185</th>\n",
       "    </tr>\n",
       "  </thead>\n",
       "  <tbody>\n",
       "    <tr>\n",
       "      <th>count</th>\n",
       "      <td>230472.00000</td>\n",
       "      <td>230472.000000</td>\n",
       "      <td>230472.000000</td>\n",
       "      <td>230472.000000</td>\n",
       "      <td>230472.000000</td>\n",
       "      <td>230472.000000</td>\n",
       "      <td>230472.000000</td>\n",
       "      <td>230472.000000</td>\n",
       "      <td>230472.000000</td>\n",
       "      <td>230472.000000</td>\n",
       "    </tr>\n",
       "    <tr>\n",
       "      <th>mean</th>\n",
       "      <td>0.14804</td>\n",
       "      <td>0.142330</td>\n",
       "      <td>0.145250</td>\n",
       "      <td>0.145358</td>\n",
       "      <td>0.142542</td>\n",
       "      <td>0.148860</td>\n",
       "      <td>0.142347</td>\n",
       "      <td>0.143293</td>\n",
       "      <td>0.152956</td>\n",
       "      <td>0.144833</td>\n",
       "    </tr>\n",
       "    <tr>\n",
       "      <th>std</th>\n",
       "      <td>0.35514</td>\n",
       "      <td>0.349389</td>\n",
       "      <td>0.352353</td>\n",
       "      <td>0.352462</td>\n",
       "      <td>0.349606</td>\n",
       "      <td>0.355951</td>\n",
       "      <td>0.349406</td>\n",
       "      <td>0.350372</td>\n",
       "      <td>0.359946</td>\n",
       "      <td>0.351933</td>\n",
       "    </tr>\n",
       "    <tr>\n",
       "      <th>min</th>\n",
       "      <td>0.00000</td>\n",
       "      <td>0.000000</td>\n",
       "      <td>0.000000</td>\n",
       "      <td>0.000000</td>\n",
       "      <td>0.000000</td>\n",
       "      <td>0.000000</td>\n",
       "      <td>0.000000</td>\n",
       "      <td>0.000000</td>\n",
       "      <td>0.000000</td>\n",
       "      <td>0.000000</td>\n",
       "    </tr>\n",
       "    <tr>\n",
       "      <th>25%</th>\n",
       "      <td>0.00000</td>\n",
       "      <td>0.000000</td>\n",
       "      <td>0.000000</td>\n",
       "      <td>0.000000</td>\n",
       "      <td>0.000000</td>\n",
       "      <td>0.000000</td>\n",
       "      <td>0.000000</td>\n",
       "      <td>0.000000</td>\n",
       "      <td>0.000000</td>\n",
       "      <td>0.000000</td>\n",
       "    </tr>\n",
       "    <tr>\n",
       "      <th>50%</th>\n",
       "      <td>0.00000</td>\n",
       "      <td>0.000000</td>\n",
       "      <td>0.000000</td>\n",
       "      <td>0.000000</td>\n",
       "      <td>0.000000</td>\n",
       "      <td>0.000000</td>\n",
       "      <td>0.000000</td>\n",
       "      <td>0.000000</td>\n",
       "      <td>0.000000</td>\n",
       "      <td>0.000000</td>\n",
       "    </tr>\n",
       "    <tr>\n",
       "      <th>75%</th>\n",
       "      <td>0.00000</td>\n",
       "      <td>0.000000</td>\n",
       "      <td>0.000000</td>\n",
       "      <td>0.000000</td>\n",
       "      <td>0.000000</td>\n",
       "      <td>0.000000</td>\n",
       "      <td>0.000000</td>\n",
       "      <td>0.000000</td>\n",
       "      <td>0.000000</td>\n",
       "      <td>0.000000</td>\n",
       "    </tr>\n",
       "    <tr>\n",
       "      <th>max</th>\n",
       "      <td>1.00000</td>\n",
       "      <td>1.000000</td>\n",
       "      <td>1.000000</td>\n",
       "      <td>1.000000</td>\n",
       "      <td>1.000000</td>\n",
       "      <td>1.000000</td>\n",
       "      <td>1.000000</td>\n",
       "      <td>1.000000</td>\n",
       "      <td>1.000000</td>\n",
       "      <td>1.000000</td>\n",
       "    </tr>\n",
       "  </tbody>\n",
       "</table>\n",
       "</div>"
      ],
      "text/plain": [
       "                176            177            178            179  \\\n",
       "count  230472.00000  230472.000000  230472.000000  230472.000000   \n",
       "mean        0.14804       0.142330       0.145250       0.145358   \n",
       "std         0.35514       0.349389       0.352353       0.352462   \n",
       "min         0.00000       0.000000       0.000000       0.000000   \n",
       "25%         0.00000       0.000000       0.000000       0.000000   \n",
       "50%         0.00000       0.000000       0.000000       0.000000   \n",
       "75%         0.00000       0.000000       0.000000       0.000000   \n",
       "max         1.00000       1.000000       1.000000       1.000000   \n",
       "\n",
       "                 180            181            182            183  \\\n",
       "count  230472.000000  230472.000000  230472.000000  230472.000000   \n",
       "mean        0.142542       0.148860       0.142347       0.143293   \n",
       "std         0.349606       0.355951       0.349406       0.350372   \n",
       "min         0.000000       0.000000       0.000000       0.000000   \n",
       "25%         0.000000       0.000000       0.000000       0.000000   \n",
       "50%         0.000000       0.000000       0.000000       0.000000   \n",
       "75%         0.000000       0.000000       0.000000       0.000000   \n",
       "max         1.000000       1.000000       1.000000       1.000000   \n",
       "\n",
       "                 184            185  \n",
       "count  230472.000000  230472.000000  \n",
       "mean        0.152956       0.144833  \n",
       "std         0.359946       0.351933  \n",
       "min         0.000000       0.000000  \n",
       "25%         0.000000       0.000000  \n",
       "50%         0.000000       0.000000  \n",
       "75%         0.000000       0.000000  \n",
       "max         1.000000       1.000000  "
      ]
     },
     "execution_count": 415,
     "metadata": {},
     "output_type": "execute_result"
    }
   ],
   "source": [
    "source = \"/users/chjiang/github/stv/m10.winpred.csv\"\n",
    "df = pd.read_csv(source, sep=\"\\t\", header=None)\n",
    "nr, nc = df.shape\n",
    "winners = df.iloc[:,-10:]"
   ]
  },
  {
   "cell_type": "code",
   "execution_count": 420,
   "metadata": {
    "collapsed": false
   },
   "outputs": [
    {
     "name": "stdout",
     "output_type": "stream",
     "text": [
      "0.0    196353\n",
      "1.0     34119\n",
      "Name: 176, dtype: int64\n",
      "0.0    197669\n",
      "1.0     32803\n",
      "Name: 177, dtype: int64\n",
      "0.0    196996\n",
      "1.0     33476\n",
      "Name: 178, dtype: int64\n",
      "0.0    196971\n",
      "1.0     33501\n",
      "Name: 179, dtype: int64\n",
      "0.0    197620\n",
      "1.0     32852\n",
      "Name: 180, dtype: int64\n",
      "0.0    196164\n",
      "1.0     34308\n",
      "Name: 181, dtype: int64\n",
      "0.0    197665\n",
      "1.0     32807\n",
      "Name: 182, dtype: int64\n",
      "0.0    197447\n",
      "1.0     33025\n",
      "Name: 183, dtype: int64\n",
      "0.0    195220\n",
      "1.0     35252\n",
      "Name: 184, dtype: int64\n",
      "0.0    197092\n",
      "1.0     33380\n",
      "Name: 185, dtype: int64\n"
     ]
    }
   ],
   "source": [
    "for _ in range(10):\n",
    "    print(winners.iloc[:,_].value_counts())"
   ]
  },
  {
   "cell_type": "code",
   "execution_count": 429,
   "metadata": {
    "collapsed": true
   },
   "outputs": [],
   "source": [
    "source = \"/users/chjiang/github/stv/m10.blend.txt\"\n",
    "df = pd.read_csv(source, sep=\"\\t\", header=None)\n",
    "nr, nc = df.shape\n",
    "perf = df.iloc[:,-1]"
   ]
  },
  {
   "cell_type": "code",
   "execution_count": 433,
   "metadata": {
    "collapsed": false
   },
   "outputs": [
    {
     "data": {
      "text/plain": [
       "-0.69079999999999997"
      ]
     },
     "execution_count": 433,
     "metadata": {},
     "output_type": "execute_result"
    }
   ],
   "source": [
    "perf.mean()"
   ]
  },
  {
   "cell_type": "code",
   "execution_count": 7,
   "metadata": {
    "collapsed": false
   },
   "outputs": [
    {
     "name": "stdout",
     "output_type": "stream",
     "text": [
      "3M10N10-23.\n"
     ]
    }
   ],
   "source": [
    "dataset = \"soc-3-stv\"\n",
    "name = \"M10N10-23.csv\"\n",
    "name = name.strip(\"csv\")\n",
    "\n",
    "tag = str(dataset).strip(\"soc|stv|-\")\n",
    "print(tag + name)"
   ]
  },
  {
   "cell_type": "code",
   "execution_count": 34,
   "metadata": {
    "collapsed": true
   },
   "outputs": [],
   "source": [
    "source = \"/users/chjiang/github/stv/m10.blend.txt\"\n",
    "df = pd.read_csv(source, sep=\"\\t\", header=None)\n",
    "nr, nc = df.shape\n",
    "perf = df.iloc[:,-1]"
   ]
  },
  {
   "cell_type": "code",
   "execution_count": 35,
   "metadata": {
    "collapsed": false
   },
   "outputs": [
    {
     "data": {
      "text/plain": [
       "4.7270000000000003"
      ]
     },
     "execution_count": 35,
     "metadata": {},
     "output_type": "execute_result"
    }
   ],
   "source": [
    "perf.mean()"
   ]
  },
  {
   "cell_type": "code",
   "execution_count": 40,
   "metadata": {
    "collapsed": false
   },
   "outputs": [],
   "source": [
    "source = \"/users/chjiang/github/stv/m10.blend.soc-3.txt\"\n",
    "df = pd.read_csv(source, sep=\"\\t\", header=None)\n",
    "nr, nc = df.shape\n",
    "perf = df.iloc[:,-1]"
   ]
  },
  {
   "cell_type": "code",
   "execution_count": 46,
   "metadata": {
    "collapsed": false
   },
   "outputs": [
    {
     "data": {
      "text/plain": [
       "1.1205555555555555"
      ]
     },
     "execution_count": 46,
     "metadata": {},
     "output_type": "execute_result"
    }
   ],
   "source": [
    "sum(perf)/9000"
   ]
  },
  {
   "cell_type": "code",
   "execution_count": 57,
   "metadata": {
    "collapsed": false
   },
   "outputs": [],
   "source": [
    "file1 = \"/users/chjiang/github/stv/M20N20-7000.sampling.txt\"\n",
    "sampling = pd.read_csv(file1, names=[\"name\", \"winners\", \"freq\"], sep=\"\\t\")\n",
    "import ast\n",
    "a = sampling[\"freq\"]"
   ]
  },
  {
   "cell_type": "code",
   "execution_count": 80,
   "metadata": {
    "collapsed": true
   },
   "outputs": [],
   "source": [
    "source = \"/users/chjiang/github/stv/m20.blend.txt\"\n",
    "df = pd.read_csv(source, sep=\"\\t\", header=None)\n",
    "nr, nc = df.shape\n",
    "perf = df.iloc[:2000,-1]"
   ]
  },
  {
   "cell_type": "code",
   "execution_count": 81,
   "metadata": {
    "collapsed": false
   },
   "outputs": [
    {
     "data": {
      "text/plain": [
       "25759"
      ]
     },
     "execution_count": 81,
     "metadata": {},
     "output_type": "execute_result"
    }
   ],
   "source": [
    "sum(perf) # 20% for top 2000, 45% for top 1000 training profiles"
   ]
  },
  {
   "cell_type": "code",
   "execution_count": 106,
   "metadata": {
    "collapsed": false
   },
   "outputs": [
    {
     "data": {
      "image/png": "[encoded data removed]",
      "text/plain": [
       "<matplotlib.figure.Figure at 0x111bdd2e8>"
      ]
     },
     "metadata": {},
     "output_type": "display_data"
    }
   ],
   "source": [
    "source = \"/users/chjiang/github/stv/training.loss.txt\"\n",
    "df = pd.read_csv(source, sep=\"\\t\", header=None)\n",
    "nr, nc = df.shape\n",
    "df = df.reset_index().dropna()\n",
    "plt.plot(df.index, df[1])\n",
    "plt.plot(df.index, df[2])\n",
    "plt.show()"
   ]
  },
  {
   "cell_type": "code",
   "execution_count": 219,
   "metadata": {
    "collapsed": false
   },
   "outputs": [],
   "source": [
    "source = \"/users/chjiang/github/stv/m20n20.100k.winpred.rf.txt\"\n",
    "preds = pd.read_csv(source, sep=\"\\t\", header=None)"
   ]
  },
  {
   "cell_type": "code",
   "execution_count": 234,
   "metadata": {
    "collapsed": true
   },
   "outputs": [],
   "source": [
    "source = \"/users/chjiang/github/stv/m20n20.100k.winpred.csv\"\n",
    "truth = pd.read_csv(source, sep=\"\\t\", header=None)"
   ]
  },
  {
   "cell_type": "code",
   "execution_count": 261,
   "metadata": {
    "collapsed": false
   },
   "outputs": [],
   "source": [
    "names = {k:v for (k, v) in zip(range(652, 672), range(0, 20))}\n",
    "probs = truth.iloc[:,-20:].rename(columns=names)"
   ]
  },
  {
   "cell_type": "code",
   "execution_count": 271,
   "metadata": {
    "collapsed": false
   },
   "outputs": [],
   "source": [
    "deviation = (probs - preds)/0.5"
   ]
  },
  {
   "cell_type": "code",
   "execution_count": 274,
   "metadata": {
    "collapsed": false
   },
   "outputs": [],
   "source": [
    "mean_dev = np.mean(deviation)\n",
    "std_dev = np.std(deviation)"
   ]
  },
  {
   "cell_type": "code",
   "execution_count": 276,
   "metadata": {
    "collapsed": false
   },
   "outputs": [
    {
     "data": {
      "text/plain": [
       "<matplotlib.axes._subplots.AxesSubplot at 0x11412fd30>"
      ]
     },
     "execution_count": 276,
     "metadata": {},
     "output_type": "execute_result"
    },
    {
     "data": {
      "image/png": "[encoded data removed]",
      "text/plain": [
       "<matplotlib.figure.Figure at 0x1122bb048>"
      ]
     },
     "metadata": {},
     "output_type": "display_data"
    }
   ],
   "source": [
    "mean_dev.plot()"
   ]
  },
  {
   "cell_type": "code",
   "execution_count": 277,
   "metadata": {
    "collapsed": false
   },
   "outputs": [
    {
     "data": {
      "text/plain": [
       "<matplotlib.axes._subplots.AxesSubplot at 0x11441cc18>"
      ]
     },
     "execution_count": 277,
     "metadata": {},
     "output_type": "execute_result"
    },
    {
     "data": {
      "image/png": "[encoded data removed]",
      "text/plain": [
       "<matplotlib.figure.Figure at 0x111eb7128>"
      ]
     },
     "metadata": {},
     "output_type": "display_data"
    }
   ],
   "source": [
    "std_dev.plot()"
   ]
  },
  {
   "cell_type": "code",
   "execution_count": 300,
   "metadata": {
    "collapsed": true
   },
   "outputs": [],
   "source": [
    "bin_probs = np.sign(probs)"
   ]
  },
  {
   "cell_type": "code",
   "execution_count": 308,
   "metadata": {
    "collapsed": false
   },
   "outputs": [],
   "source": [
    "# the cumulative probability of these co-winners in prediction, the higher the better\n",
    "cumul_prob = (bin_probs * preds).sum(axis=1)"
   ]
  },
  {
   "cell_type": "code",
   "execution_count": 309,
   "metadata": {
    "collapsed": false
   },
   "outputs": [
    {
     "data": {
      "text/plain": [
       "count    100000.000000\n",
       "mean          0.561829\n",
       "std           0.135322\n",
       "min           0.016577\n",
       "25%           0.480353\n",
       "50%           0.575760\n",
       "75%           0.656859\n",
       "max           0.957082\n",
       "dtype: float64"
      ]
     },
     "execution_count": 309,
     "metadata": {},
     "output_type": "execute_result"
    }
   ],
   "source": [
    "cumul_prob.describe()"
   ]
  },
  {
   "cell_type": "code",
   "execution_count": 13,
   "metadata": {
    "collapsed": true
   },
   "outputs": [],
   "source": [
    "file = '/users/chjiang/github/stv/nn.params'\n",
    "df = pd.read_csv(file, sep='\\t')"
   ]
  },
  {
   "cell_type": "code",
   "execution_count": 20,
   "metadata": {
    "collapsed": false
   },
   "outputs": [
    {
     "data": {
      "image/png": "[encoded data removed]",
      "text/plain": [
       "<matplotlib.figure.Figure at 0x11082f4a8>"
      ]
     },
     "metadata": {},
     "output_type": "display_data"
    }
   ],
   "source": [
    "parameters = ['dropout1', 'dropout2', 'dense', 'activation']\n",
    "cols = len(parameters)\n",
    "\n",
    "f, axes = plt.subplots(nrows=1, ncols=cols, figsize=(15, 5))\n",
    "cmap = plt.get_cmap('jet')\n",
    "for i, param in enumerate(parameters):\n",
    "    if 'activation' in param:\n",
    "        xs = np.array(range(df.shape[0]))\n",
    "        plt.xticks(xs, df[param])\n",
    "    else:\n",
    "        xs = df[param]\n",
    "    ys = df['loss']\n",
    "\n",
    "    axes[i].scatter(xs, ys, s=20, linewidth=0.01, alpha=0.75, c=cmap(float(i) / len(parameters)))\n",
    "    axes[i].set_title(param)\n",
    "plt.show()"
   ]
  },
  {
   "cell_type": "code",
   "execution_count": null,
   "metadata": {
    "collapsed": true
   },
   "outputs": [],
   "source": []
  }
 ],
 "metadata": {
  "kernelspec": {
   "display_name": "Python 3",
   "language": "python",
   "name": "python3"
  },
  "language_info": {
   "codemirror_mode": {
    "name": "ipython",
    "version": 3
   },
   "file_extension": ".py",
   "mimetype": "text/x-python",
   "name": "python",
   "nbconvert_exporter": "python",
   "pygments_lexer": "ipython3",
   "version": "3.5.1"
  }
 },
 "nbformat": 4,
 "nbformat_minor": 2
}
